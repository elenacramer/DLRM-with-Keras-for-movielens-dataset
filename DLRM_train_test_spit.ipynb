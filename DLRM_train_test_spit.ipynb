{
 "nbformat": 4,
 "nbformat_minor": 2,
 "metadata": {
  "language_info": {
   "name": "python",
   "codemirror_mode": {
    "name": "ipython",
    "version": 3
   },
   "version": "3.6.9-final"
  },
  "orig_nbformat": 2,
  "file_extension": ".py",
  "mimetype": "text/x-python",
  "name": "python",
  "npconvert_exporter": "python",
  "pygments_lexer": "ipython3",
  "version": 3,
  "kernelspec": {
   "name": "python36964bitkagglenewpipenv345dfe1713484c20b6863d1100cfe670",
   "display_name": "Python 3.6.9 64-bit ('kaggle_new': pipenv)"
  }
 },
 "cells": [
  {
   "cell_type": "code",
   "execution_count": 1,
   "metadata": {},
   "outputs": [],
   "source": [
    "# training a model with pre-defined (and saved) train / test datasets"
   ]
  },
  {
   "cell_type": "code",
   "execution_count": 2,
   "metadata": {},
   "outputs": [
    {
     "data": {
      "text/html": "<div>\n<style scoped>\n    .dataframe tbody tr th:only-of-type {\n        vertical-align: middle;\n    }\n\n    .dataframe tbody tr th {\n        vertical-align: top;\n    }\n\n    .dataframe thead th {\n        text-align: right;\n    }\n</style>\n<table border=\"1\" class=\"dataframe\">\n  <thead>\n    <tr style=\"text-align: right;\">\n      <th></th>\n      <th>user_id</th>\n      <th>movie_id</th>\n      <th>rating</th>\n      <th>unix_timestamp</th>\n      <th>title</th>\n      <th>genre</th>\n    </tr>\n  </thead>\n  <tbody>\n    <tr>\n      <th>0</th>\n      <td>1</td>\n      <td>1</td>\n      <td>4.0</td>\n      <td>964982703</td>\n      <td>Toy Story (1995)</td>\n      <td>Adventure|Animation|Children|Comedy|Fantasy</td>\n    </tr>\n    <tr>\n      <th>1</th>\n      <td>5</td>\n      <td>1</td>\n      <td>4.0</td>\n      <td>847434962</td>\n      <td>Toy Story (1995)</td>\n      <td>Adventure|Animation|Children|Comedy|Fantasy</td>\n    </tr>\n    <tr>\n      <th>2</th>\n      <td>7</td>\n      <td>1</td>\n      <td>4.5</td>\n      <td>1106635946</td>\n      <td>Toy Story (1995)</td>\n      <td>Adventure|Animation|Children|Comedy|Fantasy</td>\n    </tr>\n    <tr>\n      <th>3</th>\n      <td>15</td>\n      <td>1</td>\n      <td>2.5</td>\n      <td>1510577970</td>\n      <td>Toy Story (1995)</td>\n      <td>Adventure|Animation|Children|Comedy|Fantasy</td>\n    </tr>\n    <tr>\n      <th>4</th>\n      <td>17</td>\n      <td>1</td>\n      <td>4.5</td>\n      <td>1305696483</td>\n      <td>Toy Story (1995)</td>\n      <td>Adventure|Animation|Children|Comedy|Fantasy</td>\n    </tr>\n  </tbody>\n</table>\n</div>",
      "text/plain": "   user_id  movie_id  rating  unix_timestamp             title  \\\n0        1         1     4.0       964982703  Toy Story (1995)   \n1        5         1     4.0       847434962  Toy Story (1995)   \n2        7         1     4.5      1106635946  Toy Story (1995)   \n3       15         1     2.5      1510577970  Toy Story (1995)   \n4       17         1     4.5      1305696483  Toy Story (1995)   \n\n                                         genre  \n0  Adventure|Animation|Children|Comedy|Fantasy  \n1  Adventure|Animation|Children|Comedy|Fantasy  \n2  Adventure|Animation|Children|Comedy|Fantasy  \n3  Adventure|Animation|Children|Comedy|Fantasy  \n4  Adventure|Animation|Children|Comedy|Fantasy  "
     },
     "execution_count": 2,
     "metadata": {},
     "output_type": "execute_result"
    }
   ],
   "source": [
    "# reading the data ml-latest-small\n",
    "import pandas as pd\n",
    "import zipfile\n",
    "import numpy as np \n",
    "zf = zipfile.ZipFile('/home/elena/Downloads/ml-latest-small.zip')\n",
    "# reading ratings file:\n",
    "r_cols = ['user_id', 'movie_id', 'rating', 'unix_timestamp']\n",
    "ratings = pd.read_csv(zf.open('ml-latest-small/ratings.csv'), names=r_cols)\n",
    "m_cols=['movie_id', 'title', 'genre']\n",
    "movies = pd.read_csv(zf.open('ml-latest-small/movies.csv'), names=m_cols)\n",
    "# merging ratings and movies\n",
    "data=pd.merge(ratings,movies,on='movie_id')\n",
    "data.head()"
   ]
  },
  {
   "cell_type": "code",
   "execution_count": 3,
   "metadata": {},
   "outputs": [
    {
     "data": {
      "text/html": "<div>\n<style scoped>\n    .dataframe tbody tr th:only-of-type {\n        vertical-align: middle;\n    }\n\n    .dataframe tbody tr th {\n        vertical-align: top;\n    }\n\n    .dataframe thead th {\n        text-align: right;\n    }\n</style>\n<table border=\"1\" class=\"dataframe\">\n  <thead>\n    <tr style=\"text-align: right;\">\n      <th></th>\n      <th>user_id</th>\n      <th>age</th>\n      <th>sex</th>\n      <th>occupation</th>\n      <th>zip_code</th>\n      <th>movie_id</th>\n      <th>rating</th>\n      <th>unix_timestamp</th>\n      <th>title</th>\n      <th>genre</th>\n    </tr>\n  </thead>\n  <tbody>\n    <tr>\n      <th>0</th>\n      <td>1</td>\n      <td>24</td>\n      <td>M</td>\n      <td>technician</td>\n      <td>85711</td>\n      <td>1</td>\n      <td>4.0</td>\n      <td>964982703</td>\n      <td>Toy Story (1995)</td>\n      <td>Adventure|Animation|Children|Comedy|Fantasy</td>\n    </tr>\n    <tr>\n      <th>1</th>\n      <td>1</td>\n      <td>24</td>\n      <td>M</td>\n      <td>technician</td>\n      <td>85711</td>\n      <td>3</td>\n      <td>4.0</td>\n      <td>964981247</td>\n      <td>Grumpier Old Men (1995)</td>\n      <td>Comedy|Romance</td>\n    </tr>\n    <tr>\n      <th>2</th>\n      <td>1</td>\n      <td>24</td>\n      <td>M</td>\n      <td>technician</td>\n      <td>85711</td>\n      <td>6</td>\n      <td>4.0</td>\n      <td>964982224</td>\n      <td>Heat (1995)</td>\n      <td>Action|Crime|Thriller</td>\n    </tr>\n    <tr>\n      <th>3</th>\n      <td>1</td>\n      <td>24</td>\n      <td>M</td>\n      <td>technician</td>\n      <td>85711</td>\n      <td>47</td>\n      <td>5.0</td>\n      <td>964983815</td>\n      <td>Seven (a.k.a. Se7en) (1995)</td>\n      <td>Mystery|Thriller</td>\n    </tr>\n    <tr>\n      <th>4</th>\n      <td>1</td>\n      <td>24</td>\n      <td>M</td>\n      <td>technician</td>\n      <td>85711</td>\n      <td>50</td>\n      <td>5.0</td>\n      <td>964982931</td>\n      <td>Usual Suspects, The (1995)</td>\n      <td>Crime|Mystery|Thriller</td>\n    </tr>\n  </tbody>\n</table>\n</div>",
      "text/plain": "   user_id  age sex  occupation zip_code  movie_id  rating  unix_timestamp  \\\n0        1   24   M  technician    85711         1     4.0       964982703   \n1        1   24   M  technician    85711         3     4.0       964981247   \n2        1   24   M  technician    85711         6     4.0       964982224   \n3        1   24   M  technician    85711        47     5.0       964983815   \n4        1   24   M  technician    85711        50     5.0       964982931   \n\n                         title                                        genre  \n0             Toy Story (1995)  Adventure|Animation|Children|Comedy|Fantasy  \n1      Grumpier Old Men (1995)                               Comedy|Romance  \n2                  Heat (1995)                        Action|Crime|Thriller  \n3  Seven (a.k.a. Se7en) (1995)                             Mystery|Thriller  \n4   Usual Suspects, The (1995)                       Crime|Mystery|Thriller  "
     },
     "execution_count": 3,
     "metadata": {},
     "output_type": "execute_result"
    }
   ],
   "source": [
    "zz = zipfile.ZipFile('/home/elena/Downloads/ml-100k.zip')\n",
    "# reading users file:\n",
    "u_cols = ['user_id', 'age', 'sex', 'occupation', 'zip_code']\n",
    "users = pd.read_csv(zz.open('ml-100k/u.user'), sep='|', names=u_cols,encoding='latin-1')\n",
    "data=pd.merge(users,data, on='user_id')\n",
    "data.head()"
   ]
  },
  {
   "cell_type": "code",
   "execution_count": 4,
   "metadata": {},
   "outputs": [
    {
     "data": {
      "text/plain": "(9724, 610, (100836, 10))"
     },
     "execution_count": 4,
     "metadata": {},
     "output_type": "execute_result"
    }
   ],
   "source": [
    "data.movie_id.unique().shape[0], data.user_id.unique().shape[0], data.shape"
   ]
  },
  {
   "cell_type": "code",
   "execution_count": 5,
   "metadata": {},
   "outputs": [],
   "source": [
    "# splitting into train and test data\n",
    "# data was split and safed! \n",
    "train=pd.read_pickle('/home/elena/Downloads/traindata.pkl')\n",
    "test=pd.read_pickle('/home/elena/Downloads/testdata.pkl')"
   ]
  },
  {
   "cell_type": "code",
   "execution_count": 6,
   "metadata": {},
   "outputs": [
    {
     "data": {
      "text/html": "<div>\n<style scoped>\n    .dataframe tbody tr th:only-of-type {\n        vertical-align: middle;\n    }\n\n    .dataframe tbody tr th {\n        vertical-align: top;\n    }\n\n    .dataframe thead th {\n        text-align: right;\n    }\n</style>\n<table border=\"1\" class=\"dataframe\">\n  <thead>\n    <tr style=\"text-align: right;\">\n      <th></th>\n      <th>user_id</th>\n      <th>age</th>\n      <th>sex</th>\n      <th>occupation</th>\n      <th>zip_code</th>\n      <th>movie_id</th>\n      <th>rating</th>\n      <th>unix_timestamp</th>\n      <th>title</th>\n      <th>genre</th>\n    </tr>\n  </thead>\n  <tbody>\n    <tr>\n      <th>97717</th>\n      <td>606</td>\n      <td>28</td>\n      <td>M</td>\n      <td>programmer</td>\n      <td>63044</td>\n      <td>3462</td>\n      <td>4.0</td>\n      <td>1171501099</td>\n      <td>Modern Times (1936)</td>\n      <td>Comedy|Drama|Romance</td>\n    </tr>\n    <tr>\n      <th>100124</th>\n      <td>610</td>\n      <td>22</td>\n      <td>M</td>\n      <td>student</td>\n      <td>21227</td>\n      <td>8914</td>\n      <td>4.0</td>\n      <td>1493845360</td>\n      <td>Primer (2004)</td>\n      <td>Drama|Sci-Fi</td>\n    </tr>\n    <tr>\n      <th>25952</th>\n      <td>180</td>\n      <td>22</td>\n      <td>F</td>\n      <td>administrator</td>\n      <td>60202</td>\n      <td>1196</td>\n      <td>4.0</td>\n      <td>1270237862</td>\n      <td>Star Wars: Episode V - The Empire Strikes Back...</td>\n      <td>Action|Adventure|Sci-Fi</td>\n    </tr>\n    <tr>\n      <th>25871</th>\n      <td>178</td>\n      <td>26</td>\n      <td>M</td>\n      <td>other</td>\n      <td>49512</td>\n      <td>2231</td>\n      <td>4.5</td>\n      <td>1163673637</td>\n      <td>Rounders (1998)</td>\n      <td>Drama</td>\n    </tr>\n    <tr>\n      <th>97255</th>\n      <td>605</td>\n      <td>33</td>\n      <td>M</td>\n      <td>engineer</td>\n      <td>33716</td>\n      <td>1588</td>\n      <td>4.0</td>\n      <td>1277094877</td>\n      <td>George of the Jungle (1997)</td>\n      <td>Children|Comedy</td>\n    </tr>\n  </tbody>\n</table>\n</div>",
      "text/plain": "        user_id  age sex     occupation zip_code  movie_id  rating  \\\n97717       606   28   M     programmer    63044      3462     4.0   \n100124      610   22   M        student    21227      8914     4.0   \n25952       180   22   F  administrator    60202      1196     4.0   \n25871       178   26   M          other    49512      2231     4.5   \n97255       605   33   M       engineer    33716      1588     4.0   \n\n        unix_timestamp                                              title  \\\n97717       1171501099                                Modern Times (1936)   \n100124      1493845360                                      Primer (2004)   \n25952       1270237862  Star Wars: Episode V - The Empire Strikes Back...   \n25871       1163673637                                    Rounders (1998)   \n97255       1277094877                        George of the Jungle (1997)   \n\n                          genre  \n97717      Comedy|Drama|Romance  \n100124             Drama|Sci-Fi  \n25952   Action|Adventure|Sci-Fi  \n25871                     Drama  \n97255           Children|Comedy  "
     },
     "execution_count": 6,
     "metadata": {},
     "output_type": "execute_result"
    }
   ],
   "source": [
    "train.head()"
   ]
  },
  {
   "cell_type": "code",
   "execution_count": 7,
   "metadata": {},
   "outputs": [
    {
     "data": {
      "text/plain": "(193609, 610, 193609, 610)"
     },
     "execution_count": 7,
     "metadata": {},
     "output_type": "execute_result"
    }
   ],
   "source": [
    "data.movie_id.max(), data.user_id.max(), train.movie_id.max(), train.user_id.max()"
   ]
  },
  {
   "cell_type": "code",
   "execution_count": 8,
   "metadata": {},
   "outputs": [
    {
     "name": "stderr",
     "output_type": "stream",
     "text": "Using TensorFlow backend.\n"
    }
   ],
   "source": [
    "# Implementation \n",
    "from keras.layers import Input, Embedding, Concatenate, Flatten, Dense, Dot, Add, Multiply, Subtract, Average\n",
    "from keras.models import Model\n",
    "from keras.callbacks import EarlyStopping"
   ]
  },
  {
   "cell_type": "code",
   "execution_count": 12,
   "metadata": {},
   "outputs": [],
   "source": [
    "def embedding_model(hidden_units, user_embedding_dim, user_max_cat_value, movie_embedding_dim, movie_max_cat_value,merging_method):\n",
    "    # Each instance will consist of two inputs: a single user id, and a single movie id\n",
    "    user_id_input = Input(shape=(1,), name='user_id')\n",
    "    movie_id_input = Input(shape=(1,), name='movie_id')\n",
    "    # Embeddings\n",
    "    user_embedded = Embedding(user_max_cat_value+1, user_embedding_dim, \n",
    "                                       input_length=1, name='user_embedding')(user_id_input)\n",
    "    movie_embedded = Embedding(movie_max_cat_value+1, movie_embedding_dim, \n",
    "                                        input_length=1, name='movie_embedding')(movie_id_input)\n",
    "    # merging the embeddings\n",
    "    if merging_method=='concatenate':\n",
    "        merged = Concatenate()([user_embedded, movie_embedded])\n",
    "    if merging_method=='dot_product':\n",
    "        merged =Dot(name = 'dot_product', normalize = True, axes = 2)([user_embedded, movie_embedded])\n",
    "    if merging_method=='add':\n",
    "        merged =Add()([user_embedded, movie_embedded])\n",
    "    if merging_method=='substract':\n",
    "        merged=Subtract()([user_embedded, movie_embedded])\n",
    "    if merging_method=='multiply':\n",
    "        merged=Multiply()([user_embedded, movie_embedded])\n",
    "    if merging_method=='average':\n",
    "        merged=Average()([user_embedded, movie_embedded])\n",
    "    out = Flatten()(merged)\n",
    "\n",
    "    # Add one or more hidden layers\n",
    "    for n_hidden in hidden_units:\n",
    "        out = Dense(n_hidden, activation='relu')(out)\n",
    "\n",
    "    # A single output: our predicted rating\n",
    "    out = Dense(1, activation='linear', name='prediction')(out)\n",
    "    model=Model(inputs = [user_id_input, movie_id_input],outputs = out)\n",
    "    model.compile(optimizer = 'Adam',loss='MSE',metrics=['MAE'])\n",
    "    return model"
   ]
  },
  {
   "cell_type": "code",
   "execution_count": 13,
   "metadata": {},
   "outputs": [],
   "source": [
    "hidden_units = (100,50) #same as in pytorch model\n",
    "movie_embedding_dim = 50 #same as in pytorch model\n",
    "user_embedding_dim = 50  #same as in pytorch model\n",
    "user_max_cat_value = data.user_id.max()\n",
    "movie_max_cat_value=data.movie_id.max()\n",
    "# early stopping\n",
    "es=EarlyStopping(monitor='val_MAE', min_delta=0, patience=0, verbose=0, mode='min', baseline=None, restore_best_weights=False)"
   ]
  },
  {
   "cell_type": "code",
   "execution_count": 14,
   "metadata": {},
   "outputs": [
    {
     "name": "stdout",
     "output_type": "stream",
     "text": "Model: \"model_2\"\n________________________________________________________________________________________\nLayer (type)                 Output Shape       Param #   Connected to                  \n========================================================================================\nuser_id (InputLayer)         (None, 1)          0                                       \n________________________________________________________________________________________\nmovie_id (InputLayer)        (None, 1)          0                                       \n________________________________________________________________________________________\nuser_embedding (Embedding)   (None, 1, 50)      30550     user_id[0][0]                 \n________________________________________________________________________________________\nmovie_embedding (Embedding)  (None, 1, 50)      9680500   movie_id[0][0]                \n________________________________________________________________________________________\nconcatenate_2 (Concatenate)  (None, 1, 100)     0         user_embedding[0][0]          \n                                                          movie_embedding[0][0]         \n________________________________________________________________________________________\nflatten_2 (Flatten)          (None, 100)        0         concatenate_2[0][0]           \n________________________________________________________________________________________\ndense_3 (Dense)              (None, 100)        10100     flatten_2[0][0]               \n________________________________________________________________________________________\ndense_4 (Dense)              (None, 50)         5050      dense_3[0][0]                 \n________________________________________________________________________________________\nprediction (Dense)           (None, 1)          51        dense_4[0][0]                 \n========================================================================================\nTotal params: 9,726,251\nTrainable params: 9,726,251\nNon-trainable params: 0\n________________________________________________________________________________________\n"
    }
   ],
   "source": [
    "model_concatenate=embedding_model(hidden_units, user_embedding_dim, user_max_cat_value, movie_embedding_dim, movie_max_cat_value, merging_method='concatenate')\n",
    "model_concatenate.summary(line_length=88)"
   ]
  },
  {
   "cell_type": "code",
   "execution_count": 15,
   "metadata": {},
   "outputs": [
    {
     "name": "stdout",
     "output_type": "stream",
     "text": "Train on 75627 samples, validate on 25209 samples\nEpoch 1/10\n - 45s - loss: 3.1264 - MAE: 1.2937 - val_loss: 0.7854 - val_MAE: 0.6850\nEpoch 2/10\n - 44s - loss: 0.7315 - MAE: 0.6583 - val_loss: 0.7666 - val_MAE: 0.6736\nEpoch 3/10\n - 49s - loss: 0.6948 - MAE: 0.6388 - val_loss: 0.7693 - val_MAE: 0.6735\nEpoch 4/10\n - 48s - loss: 0.6777 - MAE: 0.6295 - val_loss: 0.7709 - val_MAE: 0.6740\n"
    }
   ],
   "source": [
    "trained_model_concatenate= model_concatenate.fit(x=[train.user_id, train.movie_id], y=train.rating, batch_size=500,epochs=10, verbose=2, validation_data=[[test.user_id, test.movie_id],test.rating], callbacks=[es])"
   ]
  },
  {
   "cell_type": "code",
   "execution_count": 24,
   "metadata": {},
   "outputs": [],
   "source": [
    "epochs_model_concatenate=len(trained_model_concatenate.epoch)\n",
    "MAE_model_concatenate=0.6295   # old 0.6300\n",
    "val_MAE_model_concatenate=0.6740 # old 0.6745"
   ]
  },
  {
   "cell_type": "code",
   "execution_count": 18,
   "metadata": {},
   "outputs": [
    {
     "name": "stdout",
     "output_type": "stream",
     "text": "Epoch 1/10\n75627/75627 [==============================] - 45s 596us/step - loss: 0.6668 - MAE: 0.6233\nEpoch 2/10\n75627/75627 [==============================] - 44s 587us/step - loss: 0.6570 - MAE: 0.6172\nEpoch 3/10\n75627/75627 [==============================] - 44s 588us/step - loss: 0.6443 - MAE: 0.6099\nEpoch 4/10\n75627/75627 [==============================] - 46s 604us/step - loss: 0.6226 - MAE: 0.5984\nEpoch 5/10\n75627/75627 [==============================] - 45s 593us/step - loss: 0.5971 - MAE: 0.5844\nEpoch 6/10\n75627/75627 [==============================] - 47s 621us/step - loss: 0.5674 - MAE: 0.5680\nEpoch 7/10\n75627/75627 [==============================] - 48s 637us/step - loss: 0.5360 - MAE: 0.5508\nEpoch 8/10\n75627/75627 [==============================] - 50s 667us/step - loss: 0.5028 - MAE: 0.5324\nEpoch 9/10\n75627/75627 [==============================] - 54s 709us/step - loss: 0.4693 - MAE: 0.5131\nEpoch 10/10\n75627/75627 [==============================] - 57s 756us/step - loss: 0.4386 - MAE: 0.4946\n"
    }
   ],
   "source": [
    "# using the evaluate method\n",
    "trained_model_concatenate2= model_concatenate.fit(x=[train.user_id, train.movie_id], y=train.rating, batch_size=500,epochs=10)"
   ]
  },
  {
   "cell_type": "code",
   "execution_count": 22,
   "metadata": {},
   "outputs": [
    {
     "name": "stdout",
     "output_type": "stream",
     "text": "25209/25209 [==============================] - 1s 24us/step\n"
    },
    {
     "data": {
      "text/plain": "[0.8338149585232645, 0.697068452835083]"
     },
     "execution_count": 22,
     "metadata": {},
     "output_type": "execute_result"
    }
   ],
   "source": [
    "model_concatenate.evaluate(x=[test.user_id, test.movie_id], y=test.rating)"
   ]
  },
  {
   "cell_type": "code",
   "execution_count": 23,
   "metadata": {},
   "outputs": [
    {
     "data": {
      "text/plain": "['loss', 'MAE']"
     },
     "execution_count": 23,
     "metadata": {},
     "output_type": "execute_result"
    }
   ],
   "source": [
    "model_concatenate.metrics_names"
   ]
  },
  {
   "cell_type": "code",
   "execution_count": 15,
   "metadata": {},
   "outputs": [],
   "source": [
    "model_dot=embedding_model(hidden_units, user_embedding_dim, user_max_cat_value, movie_embedding_dim, movie_max_cat_value, merging_method='dot_product')"
   ]
  },
  {
   "cell_type": "code",
   "execution_count": 26,
   "metadata": {},
   "outputs": [
    {
     "name": "stdout",
     "output_type": "stream",
     "text": "Train on 75627 samples, validate on 25209 samples\nEpoch 1/10\n - 53s - loss: 4.7529 - MAE: 1.7255 - val_loss: 1.0836 - val_MAE: 0.8252\nEpoch 2/10\n - 57s - loss: 1.0672 - MAE: 0.8238 - val_loss: 1.0869 - val_MAE: 0.8376\n"
    }
   ],
   "source": [
    "# training and using the pre-defined train and test data\n",
    "trained_model_dot= model_dot.fit(x=[train.user_id, train.movie_id], y=train.rating, batch_size=500,epochs=10, verbose=2, validation_data=[[test.user_id, test.movie_id],test.rating], callbacks=[es])"
   ]
  },
  {
   "cell_type": "code",
   "execution_count": 27,
   "metadata": {},
   "outputs": [],
   "source": [
    "epochs_model_dot=len(trained_model_dot.epoch)\n",
    "MAE_model_dot=0.8238 # old 0.8221\n",
    "val_MAE_model_dot=0.8376 # old 0.8315"
   ]
  },
  {
   "cell_type": "code",
   "execution_count": 16,
   "metadata": {},
   "outputs": [],
   "source": [
    "model_add=embedding_model(hidden_units, user_embedding_dim, user_max_cat_value, movie_embedding_dim, movie_max_cat_value, merging_method='add')"
   ]
  },
  {
   "cell_type": "code",
   "execution_count": 33,
   "metadata": {},
   "outputs": [
    {
     "name": "stdout",
     "output_type": "stream",
     "text": "Train on 75627 samples, validate on 25209 samples\nEpoch 1/10\n - 48s - loss: 2.8870 - MAE: 1.2383 - val_loss: 0.7986 - val_MAE: 0.6903\nEpoch 2/10\n - 33s - loss: 0.7317 - MAE: 0.6587 - val_loss: 0.7764 - val_MAE: 0.6785\nEpoch 3/10\n - 32s - loss: 0.6899 - MAE: 0.6363 - val_loss: 0.7743 - val_MAE: 0.6801\n"
    }
   ],
   "source": [
    "# training and using the pre-defined train and test data\n",
    "trained_model_add= model_add.fit(x=[train.user_id, train.movie_id], y=train.rating, batch_size=500,epochs=10, verbose=2, validation_data=[[test.user_id, test.movie_id],test.rating], callbacks=[es])"
   ]
  },
  {
   "cell_type": "code",
   "execution_count": 92,
   "metadata": {},
   "outputs": [],
   "source": [
    "epochs_model_add=len(trained_model_add.epoch)\n",
    "MAE_model_add=0.6619\n",
    "val_MAE_model_add=0.6759"
   ]
  },
  {
   "cell_type": "code",
   "execution_count": 17,
   "metadata": {},
   "outputs": [],
   "source": [
    "model_substract=embedding_model(hidden_units, user_embedding_dim, user_max_cat_value, movie_embedding_dim, movie_max_cat_value, merging_method='substract')"
   ]
  },
  {
   "cell_type": "code",
   "execution_count": 87,
   "metadata": {},
   "outputs": [
    {
     "name": "stdout",
     "output_type": "stream",
     "text": "Train on 75627 samples, validate on 25209 samples\nEpoch 1/10\n - 46s - loss: 3.2603 - MAE: 1.3247 - val_loss: 0.7964 - val_MAE: 0.6911\nEpoch 2/10\n - 47s - loss: 0.7318 - MAE: 0.6589 - val_loss: 0.7733 - val_MAE: 0.6768\nEpoch 3/10\n - 48s - loss: 0.6909 - MAE: 0.6370 - val_loss: 0.7731 - val_MAE: 0.6766\nEpoch 4/10\n - 48s - loss: 0.6723 - MAE: 0.6259 - val_loss: 0.7727 - val_MAE: 0.6739\nEpoch 5/10\n - 48s - loss: 0.6579 - MAE: 0.6178 - val_loss: 0.7727 - val_MAE: 0.6734\nEpoch 6/10\n - 47s - loss: 0.6429 - MAE: 0.6100 - val_loss: 0.7707 - val_MAE: 0.6730\nEpoch 7/10\n - 46s - loss: 0.6186 - MAE: 0.5960 - val_loss: 0.7775 - val_MAE: 0.6773\n"
    }
   ],
   "source": [
    "# training and using the pre-defined train and test data\n",
    "trained_model_substract= model_substract.fit(x=[train.user_id, train.movie_id], y=train.rating, batch_size=500,epochs=10, verbose=2, validation_data=[[test.user_id, test.movie_id],test.rating], callbacks=[es])"
   ]
  },
  {
   "cell_type": "code",
   "execution_count": 88,
   "metadata": {},
   "outputs": [],
   "source": [
    "epochs_model_substract=len(trained_model_substract.epoch)\n",
    "MAE_model_substract=0.6186 # old 0.6157\n",
    "val_MAE_model_substract=0.6773 # old 0.6757"
   ]
  },
  {
   "cell_type": "code",
   "execution_count": 18,
   "metadata": {},
   "outputs": [],
   "source": [
    "model_multiply=embedding_model(hidden_units, user_embedding_dim, user_max_cat_value, movie_embedding_dim, movie_max_cat_value, merging_method='multiply')"
   ]
  },
  {
   "cell_type": "code",
   "execution_count": 89,
   "metadata": {},
   "outputs": [
    {
     "name": "stdout",
     "output_type": "stream",
     "text": "Train on 75627 samples, validate on 25209 samples\nEpoch 1/10\n - 45s - loss: 4.1118 - MAE: 1.5775 - val_loss: 1.0788 - val_MAE: 0.8229\nEpoch 2/10\n - 47s - loss: 0.9389 - MAE: 0.7617 - val_loss: 0.8676 - val_MAE: 0.7251\nEpoch 3/10\n - 46s - loss: 0.4674 - MAE: 0.5177 - val_loss: 0.8758 - val_MAE: 0.7270\n"
    }
   ],
   "source": [
    "model_multiply=embedding_model(hidden_units, user_embedding_dim, user_max_cat_value, movie_embedding_dim, movie_max_cat_value, merging_method='multiply')\n",
    "# training and using the pre-defined train and test data\n",
    "history_multiply= model_multiply.fit(x=[train.user_id, train.movie_id], y=train.rating, batch_size=500,epochs=10, verbose=2, validation_data=[[test.user_id, test.movie_id],test.rating], callbacks=[es])"
   ]
  },
  {
   "cell_type": "code",
   "execution_count": 93,
   "metadata": {},
   "outputs": [],
   "source": [
    "epochs_model_multiply=len(history_multiply.epoch)\n",
    "MAE_model_mulitply=0.5177 # old 0.5231\n",
    "val_MAE_model_multiply=0.7270 # old 0.7370 # overfitting?"
   ]
  },
  {
   "cell_type": "code",
   "execution_count": 94,
   "metadata": {},
   "outputs": [
    {
     "data": {
      "image/png": "[encoded data removed]",
      "image/svg+xml": "<?xml version=\"1.0\" encoding=\"utf-8\" standalone=\"no\"?>\n<!DOCTYPE svg PUBLIC \"-//W3C//DTD SVG 1.1//EN\"\n  \"http://www.w3.org/Graphics/SVG/1.1/DTD/svg11.dtd\">\n<!-- Created with matplotlib (https://matplotlib.org/) -->\n<svg height=\"262.19625pt\" version=\"1.1\" viewBox=\"0 0 386.059375 262.19625\" width=\"386.059375pt\" xmlns=\"http://www.w3.org/2000/svg\" xmlns:xlink=\"http://www.w3.org/1999/xlink\">\n <defs>\n  <style type=\"text/css\">\n*{stroke-linecap:butt;stroke-linejoin:round;}\n  </style>\n </defs>\n <g id=\"figure_1\">\n  <g id=\"patch_1\">\n   <path d=\"M 0 262.19625 \nL 386.059375 262.19625 \nL 386.059375 0 \nL 0 0 \nz\n\" style=\"fill:none;\"/>\n  </g>\n  <g id=\"axes_1\">\n   <g id=\"patch_2\">\n    <path d=\"M 44.059375 224.64 \nL 378.859375 224.64 \nL 378.859375 7.2 \nL 44.059375 7.2 \nz\n\" style=\"fill:#ffffff;\"/>\n   </g>\n   <g id=\"patch_3\">\n    <path clip-path=\"url(#pce951b2b7c)\" d=\"M 59.277557 224.64 \nL 110.00483 224.64 \nL 110.00483 58.00226 \nL 59.277557 58.00226 \nz\n\" style=\"fill:#1f77b4;\"/>\n   </g>\n   <g id=\"patch_4\">\n    <path clip-path=\"url(#pce951b2b7c)\" d=\"M 122.686648 224.64 \nL 173.41392 224.64 \nL 173.41392 17.554286 \nL 122.686648 17.554286 \nz\n\" style=\"fill:#1f77b4;\"/>\n   </g>\n   <g id=\"patch_5\">\n    <path clip-path=\"url(#pce951b2b7c)\" d=\"M 186.095739 224.64 \nL 236.823011 224.64 \nL 236.823011 57.532509 \nL 186.095739 57.532509 \nz\n\" style=\"fill:#1f77b4;\"/>\n   </g>\n   <g id=\"patch_6\">\n    <path clip-path=\"url(#pce951b2b7c)\" d=\"M 249.50483 224.64 \nL 300.232102 224.64 \nL 300.232102 57.186377 \nL 249.50483 57.186377 \nz\n\" style=\"fill:#1f77b4;\"/>\n   </g>\n   <g id=\"patch_7\">\n    <path clip-path=\"url(#pce951b2b7c)\" d=\"M 312.91392 224.64 \nL 363.641193 224.64 \nL 363.641193 44.898698 \nL 312.91392 44.898698 \nz\n\" style=\"fill:#1f77b4;\"/>\n   </g>\n   <g id=\"matplotlib.axis_1\">\n    <g id=\"xtick_1\">\n     <g id=\"line2d_1\">\n      <defs>\n       <path d=\"M 0 0 \nL 0 3.5 \n\" id=\"mdff46336e0\" style=\"stroke:#000000;stroke-width:0.8;\"/>\n      </defs>\n      <g>\n       <use style=\"stroke:#000000;stroke-width:0.8;\" x=\"84.641193\" xlink:href=\"#mdff46336e0\" y=\"224.64\"/>\n      </g>\n     </g>\n     <g id=\"text_1\">\n      <!-- concatenate -->\n      <defs>\n       <path d=\"M 48.78125 52.59375 \nL 48.78125 44.1875 \nQ 44.96875 46.296875 41.140625 47.34375 \nQ 37.3125 48.390625 33.40625 48.390625 \nQ 24.65625 48.390625 19.8125 42.84375 \nQ 14.984375 37.3125 14.984375 27.296875 \nQ 14.984375 17.28125 19.8125 11.734375 \nQ 24.65625 6.203125 33.40625 6.203125 \nQ 37.3125 6.203125 41.140625 7.25 \nQ 44.96875 8.296875 48.78125 10.40625 \nL 48.78125 2.09375 \nQ 45.015625 0.34375 40.984375 -0.53125 \nQ 36.96875 -1.421875 32.421875 -1.421875 \nQ 20.0625 -1.421875 12.78125 6.34375 \nQ 5.515625 14.109375 5.515625 27.296875 \nQ 5.515625 40.671875 12.859375 48.328125 \nQ 20.21875 56 33.015625 56 \nQ 37.15625 56 41.109375 55.140625 \nQ 45.0625 54.296875 48.78125 52.59375 \nz\n\" id=\"DejaVuSans-99\"/>\n       <path d=\"M 30.609375 48.390625 \nQ 23.390625 48.390625 19.1875 42.75 \nQ 14.984375 37.109375 14.984375 27.296875 \nQ 14.984375 17.484375 19.15625 11.84375 \nQ 23.34375 6.203125 30.609375 6.203125 \nQ 37.796875 6.203125 41.984375 11.859375 \nQ 46.1875 17.53125 46.1875 27.296875 \nQ 46.1875 37.015625 41.984375 42.703125 \nQ 37.796875 48.390625 30.609375 48.390625 \nz\nM 30.609375 56 \nQ 42.328125 56 49.015625 48.375 \nQ 55.71875 40.765625 55.71875 27.296875 \nQ 55.71875 13.875 49.015625 6.21875 \nQ 42.328125 -1.421875 30.609375 -1.421875 \nQ 18.84375 -1.421875 12.171875 6.21875 \nQ 5.515625 13.875 5.515625 27.296875 \nQ 5.515625 40.765625 12.171875 48.375 \nQ 18.84375 56 30.609375 56 \nz\n\" id=\"DejaVuSans-111\"/>\n       <path d=\"M 54.890625 33.015625 \nL 54.890625 0 \nL 45.90625 0 \nL 45.90625 32.71875 \nQ 45.90625 40.484375 42.875 44.328125 \nQ 39.84375 48.1875 33.796875 48.1875 \nQ 26.515625 48.1875 22.3125 43.546875 \nQ 18.109375 38.921875 18.109375 30.90625 \nL 18.109375 0 \nL 9.078125 0 \nL 9.078125 54.6875 \nL 18.109375 54.6875 \nL 18.109375 46.1875 \nQ 21.34375 51.125 25.703125 53.5625 \nQ 30.078125 56 35.796875 56 \nQ 45.21875 56 50.046875 50.171875 \nQ 54.890625 44.34375 54.890625 33.015625 \nz\n\" id=\"DejaVuSans-110\"/>\n       <path d=\"M 34.28125 27.484375 \nQ 23.390625 27.484375 19.1875 25 \nQ 14.984375 22.515625 14.984375 16.5 \nQ 14.984375 11.71875 18.140625 8.90625 \nQ 21.296875 6.109375 26.703125 6.109375 \nQ 34.1875 6.109375 38.703125 11.40625 \nQ 43.21875 16.703125 43.21875 25.484375 \nL 43.21875 27.484375 \nz\nM 52.203125 31.203125 \nL 52.203125 0 \nL 43.21875 0 \nL 43.21875 8.296875 \nQ 40.140625 3.328125 35.546875 0.953125 \nQ 30.953125 -1.421875 24.3125 -1.421875 \nQ 15.921875 -1.421875 10.953125 3.296875 \nQ 6 8.015625 6 15.921875 \nQ 6 25.140625 12.171875 29.828125 \nQ 18.359375 34.515625 30.609375 34.515625 \nL 43.21875 34.515625 \nL 43.21875 35.40625 \nQ 43.21875 41.609375 39.140625 45 \nQ 35.0625 48.390625 27.6875 48.390625 \nQ 23 48.390625 18.546875 47.265625 \nQ 14.109375 46.140625 10.015625 43.890625 \nL 10.015625 52.203125 \nQ 14.9375 54.109375 19.578125 55.046875 \nQ 24.21875 56 28.609375 56 \nQ 40.484375 56 46.34375 49.84375 \nQ 52.203125 43.703125 52.203125 31.203125 \nz\n\" id=\"DejaVuSans-97\"/>\n       <path d=\"M 18.3125 70.21875 \nL 18.3125 54.6875 \nL 36.8125 54.6875 \nL 36.8125 47.703125 \nL 18.3125 47.703125 \nL 18.3125 18.015625 \nQ 18.3125 11.328125 20.140625 9.421875 \nQ 21.96875 7.515625 27.59375 7.515625 \nL 36.8125 7.515625 \nL 36.8125 0 \nL 27.59375 0 \nQ 17.1875 0 13.234375 3.875 \nQ 9.28125 7.765625 9.28125 18.015625 \nL 9.28125 47.703125 \nL 2.6875 47.703125 \nL 2.6875 54.6875 \nL 9.28125 54.6875 \nL 9.28125 70.21875 \nz\n\" id=\"DejaVuSans-116\"/>\n       <path d=\"M 56.203125 29.59375 \nL 56.203125 25.203125 \nL 14.890625 25.203125 \nQ 15.484375 15.921875 20.484375 11.0625 \nQ 25.484375 6.203125 34.421875 6.203125 \nQ 39.59375 6.203125 44.453125 7.46875 \nQ 49.3125 8.734375 54.109375 11.28125 \nL 54.109375 2.78125 \nQ 49.265625 0.734375 44.1875 -0.34375 \nQ 39.109375 -1.421875 33.890625 -1.421875 \nQ 20.796875 -1.421875 13.15625 6.1875 \nQ 5.515625 13.8125 5.515625 26.8125 \nQ 5.515625 40.234375 12.765625 48.109375 \nQ 20.015625 56 32.328125 56 \nQ 43.359375 56 49.78125 48.890625 \nQ 56.203125 41.796875 56.203125 29.59375 \nz\nM 47.21875 32.234375 \nQ 47.125 39.59375 43.09375 43.984375 \nQ 39.0625 48.390625 32.421875 48.390625 \nQ 24.90625 48.390625 20.390625 44.140625 \nQ 15.875 39.890625 15.1875 32.171875 \nz\n\" id=\"DejaVuSans-101\"/>\n      </defs>\n      <g transform=\"translate(53.544318 239.238437)scale(0.1 -0.1)\">\n       <use xlink:href=\"#DejaVuSans-99\"/>\n       <use x=\"54.980469\" xlink:href=\"#DejaVuSans-111\"/>\n       <use x=\"116.162109\" xlink:href=\"#DejaVuSans-110\"/>\n       <use x=\"179.541016\" xlink:href=\"#DejaVuSans-99\"/>\n       <use x=\"234.521484\" xlink:href=\"#DejaVuSans-97\"/>\n       <use x=\"295.800781\" xlink:href=\"#DejaVuSans-116\"/>\n       <use x=\"335.009766\" xlink:href=\"#DejaVuSans-101\"/>\n       <use x=\"396.533203\" xlink:href=\"#DejaVuSans-110\"/>\n       <use x=\"459.912109\" xlink:href=\"#DejaVuSans-97\"/>\n       <use x=\"521.191406\" xlink:href=\"#DejaVuSans-116\"/>\n       <use x=\"560.400391\" xlink:href=\"#DejaVuSans-101\"/>\n      </g>\n     </g>\n    </g>\n    <g id=\"xtick_2\">\n     <g id=\"line2d_2\">\n      <g>\n       <use style=\"stroke:#000000;stroke-width:0.8;\" x=\"148.050284\" xlink:href=\"#mdff46336e0\" y=\"224.64\"/>\n      </g>\n     </g>\n     <g id=\"text_2\">\n      <!-- dot -->\n      <defs>\n       <path d=\"M 45.40625 46.390625 \nL 45.40625 75.984375 \nL 54.390625 75.984375 \nL 54.390625 0 \nL 45.40625 0 \nL 45.40625 8.203125 \nQ 42.578125 3.328125 38.25 0.953125 \nQ 33.9375 -1.421875 27.875 -1.421875 \nQ 17.96875 -1.421875 11.734375 6.484375 \nQ 5.515625 14.40625 5.515625 27.296875 \nQ 5.515625 40.1875 11.734375 48.09375 \nQ 17.96875 56 27.875 56 \nQ 33.9375 56 38.25 53.625 \nQ 42.578125 51.265625 45.40625 46.390625 \nz\nM 14.796875 27.296875 \nQ 14.796875 17.390625 18.875 11.75 \nQ 22.953125 6.109375 30.078125 6.109375 \nQ 37.203125 6.109375 41.296875 11.75 \nQ 45.40625 17.390625 45.40625 27.296875 \nQ 45.40625 37.203125 41.296875 42.84375 \nQ 37.203125 48.484375 30.078125 48.484375 \nQ 22.953125 48.484375 18.875 42.84375 \nQ 14.796875 37.203125 14.796875 27.296875 \nz\n\" id=\"DejaVuSans-100\"/>\n      </defs>\n      <g transform=\"translate(139.856534 239.238437)scale(0.1 -0.1)\">\n       <use xlink:href=\"#DejaVuSans-100\"/>\n       <use x=\"63.476562\" xlink:href=\"#DejaVuSans-111\"/>\n       <use x=\"124.658203\" xlink:href=\"#DejaVuSans-116\"/>\n      </g>\n     </g>\n    </g>\n    <g id=\"xtick_3\">\n     <g id=\"line2d_3\">\n      <g>\n       <use style=\"stroke:#000000;stroke-width:0.8;\" x=\"211.459375\" xlink:href=\"#mdff46336e0\" y=\"224.64\"/>\n      </g>\n     </g>\n     <g id=\"text_3\">\n      <!-- add -->\n      <g transform=\"translate(202.046875 239.238437)scale(0.1 -0.1)\">\n       <use xlink:href=\"#DejaVuSans-97\"/>\n       <use x=\"61.279297\" xlink:href=\"#DejaVuSans-100\"/>\n       <use x=\"124.755859\" xlink:href=\"#DejaVuSans-100\"/>\n      </g>\n     </g>\n    </g>\n    <g id=\"xtick_4\">\n     <g id=\"line2d_4\">\n      <g>\n       <use style=\"stroke:#000000;stroke-width:0.8;\" x=\"274.868466\" xlink:href=\"#mdff46336e0\" y=\"224.64\"/>\n      </g>\n     </g>\n     <g id=\"text_4\">\n      <!-- substract -->\n      <defs>\n       <path d=\"M 44.28125 53.078125 \nL 44.28125 44.578125 \nQ 40.484375 46.53125 36.375 47.5 \nQ 32.28125 48.484375 27.875 48.484375 \nQ 21.1875 48.484375 17.84375 46.4375 \nQ 14.5 44.390625 14.5 40.28125 \nQ 14.5 37.15625 16.890625 35.375 \nQ 19.28125 33.59375 26.515625 31.984375 \nL 29.59375 31.296875 \nQ 39.15625 29.25 43.1875 25.515625 \nQ 47.21875 21.78125 47.21875 15.09375 \nQ 47.21875 7.46875 41.1875 3.015625 \nQ 35.15625 -1.421875 24.609375 -1.421875 \nQ 20.21875 -1.421875 15.453125 -0.5625 \nQ 10.6875 0.296875 5.421875 2 \nL 5.421875 11.28125 \nQ 10.40625 8.6875 15.234375 7.390625 \nQ 20.0625 6.109375 24.8125 6.109375 \nQ 31.15625 6.109375 34.5625 8.28125 \nQ 37.984375 10.453125 37.984375 14.40625 \nQ 37.984375 18.0625 35.515625 20.015625 \nQ 33.0625 21.96875 24.703125 23.78125 \nL 21.578125 24.515625 \nQ 13.234375 26.265625 9.515625 29.90625 \nQ 5.8125 33.546875 5.8125 39.890625 \nQ 5.8125 47.609375 11.28125 51.796875 \nQ 16.75 56 26.8125 56 \nQ 31.78125 56 36.171875 55.265625 \nQ 40.578125 54.546875 44.28125 53.078125 \nz\n\" id=\"DejaVuSans-115\"/>\n       <path d=\"M 8.5 21.578125 \nL 8.5 54.6875 \nL 17.484375 54.6875 \nL 17.484375 21.921875 \nQ 17.484375 14.15625 20.5 10.265625 \nQ 23.53125 6.390625 29.59375 6.390625 \nQ 36.859375 6.390625 41.078125 11.03125 \nQ 45.3125 15.671875 45.3125 23.6875 \nL 45.3125 54.6875 \nL 54.296875 54.6875 \nL 54.296875 0 \nL 45.3125 0 \nL 45.3125 8.40625 \nQ 42.046875 3.421875 37.71875 1 \nQ 33.40625 -1.421875 27.6875 -1.421875 \nQ 18.265625 -1.421875 13.375 4.4375 \nQ 8.5 10.296875 8.5 21.578125 \nz\nM 31.109375 56 \nz\n\" id=\"DejaVuSans-117\"/>\n       <path d=\"M 48.6875 27.296875 \nQ 48.6875 37.203125 44.609375 42.84375 \nQ 40.53125 48.484375 33.40625 48.484375 \nQ 26.265625 48.484375 22.1875 42.84375 \nQ 18.109375 37.203125 18.109375 27.296875 \nQ 18.109375 17.390625 22.1875 11.75 \nQ 26.265625 6.109375 33.40625 6.109375 \nQ 40.53125 6.109375 44.609375 11.75 \nQ 48.6875 17.390625 48.6875 27.296875 \nz\nM 18.109375 46.390625 \nQ 20.953125 51.265625 25.265625 53.625 \nQ 29.59375 56 35.59375 56 \nQ 45.5625 56 51.78125 48.09375 \nQ 58.015625 40.1875 58.015625 27.296875 \nQ 58.015625 14.40625 51.78125 6.484375 \nQ 45.5625 -1.421875 35.59375 -1.421875 \nQ 29.59375 -1.421875 25.265625 0.953125 \nQ 20.953125 3.328125 18.109375 8.203125 \nL 18.109375 0 \nL 9.078125 0 \nL 9.078125 75.984375 \nL 18.109375 75.984375 \nz\n\" id=\"DejaVuSans-98\"/>\n       <path d=\"M 41.109375 46.296875 \nQ 39.59375 47.171875 37.8125 47.578125 \nQ 36.03125 48 33.890625 48 \nQ 26.265625 48 22.1875 43.046875 \nQ 18.109375 38.09375 18.109375 28.8125 \nL 18.109375 0 \nL 9.078125 0 \nL 9.078125 54.6875 \nL 18.109375 54.6875 \nL 18.109375 46.1875 \nQ 20.953125 51.171875 25.484375 53.578125 \nQ 30.03125 56 36.53125 56 \nQ 37.453125 56 38.578125 55.875 \nQ 39.703125 55.765625 41.0625 55.515625 \nz\n\" id=\"DejaVuSans-114\"/>\n      </defs>\n      <g transform=\"translate(251.52706 239.238437)scale(0.1 -0.1)\">\n       <use xlink:href=\"#DejaVuSans-115\"/>\n       <use x=\"52.099609\" xlink:href=\"#DejaVuSans-117\"/>\n       <use x=\"115.478516\" xlink:href=\"#DejaVuSans-98\"/>\n       <use x=\"178.955078\" xlink:href=\"#DejaVuSans-115\"/>\n       <use x=\"231.054688\" xlink:href=\"#DejaVuSans-116\"/>\n       <use x=\"270.263672\" xlink:href=\"#DejaVuSans-114\"/>\n       <use x=\"311.376953\" xlink:href=\"#DejaVuSans-97\"/>\n       <use x=\"372.65625\" xlink:href=\"#DejaVuSans-99\"/>\n       <use x=\"427.636719\" xlink:href=\"#DejaVuSans-116\"/>\n      </g>\n     </g>\n    </g>\n    <g id=\"xtick_5\">\n     <g id=\"line2d_5\">\n      <g>\n       <use style=\"stroke:#000000;stroke-width:0.8;\" x=\"338.277557\" xlink:href=\"#mdff46336e0\" y=\"224.64\"/>\n      </g>\n     </g>\n     <g id=\"text_5\">\n      <!-- multiply -->\n      <defs>\n       <path d=\"M 52 44.1875 \nQ 55.375 50.25 60.0625 53.125 \nQ 64.75 56 71.09375 56 \nQ 79.640625 56 84.28125 50.015625 \nQ 88.921875 44.046875 88.921875 33.015625 \nL 88.921875 0 \nL 79.890625 0 \nL 79.890625 32.71875 \nQ 79.890625 40.578125 77.09375 44.375 \nQ 74.3125 48.1875 68.609375 48.1875 \nQ 61.625 48.1875 57.5625 43.546875 \nQ 53.515625 38.921875 53.515625 30.90625 \nL 53.515625 0 \nL 44.484375 0 \nL 44.484375 32.71875 \nQ 44.484375 40.625 41.703125 44.40625 \nQ 38.921875 48.1875 33.109375 48.1875 \nQ 26.21875 48.1875 22.15625 43.53125 \nQ 18.109375 38.875 18.109375 30.90625 \nL 18.109375 0 \nL 9.078125 0 \nL 9.078125 54.6875 \nL 18.109375 54.6875 \nL 18.109375 46.1875 \nQ 21.1875 51.21875 25.484375 53.609375 \nQ 29.78125 56 35.6875 56 \nQ 41.65625 56 45.828125 52.96875 \nQ 50 49.953125 52 44.1875 \nz\n\" id=\"DejaVuSans-109\"/>\n       <path d=\"M 9.421875 75.984375 \nL 18.40625 75.984375 \nL 18.40625 0 \nL 9.421875 0 \nz\n\" id=\"DejaVuSans-108\"/>\n       <path d=\"M 9.421875 54.6875 \nL 18.40625 54.6875 \nL 18.40625 0 \nL 9.421875 0 \nz\nM 9.421875 75.984375 \nL 18.40625 75.984375 \nL 18.40625 64.59375 \nL 9.421875 64.59375 \nz\n\" id=\"DejaVuSans-105\"/>\n       <path d=\"M 18.109375 8.203125 \nL 18.109375 -20.796875 \nL 9.078125 -20.796875 \nL 9.078125 54.6875 \nL 18.109375 54.6875 \nL 18.109375 46.390625 \nQ 20.953125 51.265625 25.265625 53.625 \nQ 29.59375 56 35.59375 56 \nQ 45.5625 56 51.78125 48.09375 \nQ 58.015625 40.1875 58.015625 27.296875 \nQ 58.015625 14.40625 51.78125 6.484375 \nQ 45.5625 -1.421875 35.59375 -1.421875 \nQ 29.59375 -1.421875 25.265625 0.953125 \nQ 20.953125 3.328125 18.109375 8.203125 \nz\nM 48.6875 27.296875 \nQ 48.6875 37.203125 44.609375 42.84375 \nQ 40.53125 48.484375 33.40625 48.484375 \nQ 26.265625 48.484375 22.1875 42.84375 \nQ 18.109375 37.203125 18.109375 27.296875 \nQ 18.109375 17.390625 22.1875 11.75 \nQ 26.265625 6.109375 33.40625 6.109375 \nQ 40.53125 6.109375 44.609375 11.75 \nQ 48.6875 17.390625 48.6875 27.296875 \nz\n\" id=\"DejaVuSans-112\"/>\n       <path d=\"M 32.171875 -5.078125 \nQ 28.375 -14.84375 24.75 -17.8125 \nQ 21.140625 -20.796875 15.09375 -20.796875 \nL 7.90625 -20.796875 \nL 7.90625 -13.28125 \nL 13.1875 -13.28125 \nQ 16.890625 -13.28125 18.9375 -11.515625 \nQ 21 -9.765625 23.484375 -3.21875 \nL 25.09375 0.875 \nL 2.984375 54.6875 \nL 12.5 54.6875 \nL 29.59375 11.921875 \nL 46.6875 54.6875 \nL 56.203125 54.6875 \nz\n\" id=\"DejaVuSans-121\"/>\n      </defs>\n      <g transform=\"translate(317.977557 239.238437)scale(0.1 -0.1)\">\n       <use xlink:href=\"#DejaVuSans-109\"/>\n       <use x=\"97.412109\" xlink:href=\"#DejaVuSans-117\"/>\n       <use x=\"160.791016\" xlink:href=\"#DejaVuSans-108\"/>\n       <use x=\"188.574219\" xlink:href=\"#DejaVuSans-116\"/>\n       <use x=\"227.783203\" xlink:href=\"#DejaVuSans-105\"/>\n       <use x=\"255.566406\" xlink:href=\"#DejaVuSans-112\"/>\n       <use x=\"319.042969\" xlink:href=\"#DejaVuSans-108\"/>\n       <use x=\"346.826172\" xlink:href=\"#DejaVuSans-121\"/>\n      </g>\n     </g>\n    </g>\n    <g id=\"text_6\">\n     <!-- Models -->\n     <defs>\n      <path d=\"M 9.8125 72.90625 \nL 24.515625 72.90625 \nL 43.109375 23.296875 \nL 61.8125 72.90625 \nL 76.515625 72.90625 \nL 76.515625 0 \nL 66.890625 0 \nL 66.890625 64.015625 \nL 48.09375 14.015625 \nL 38.1875 14.015625 \nL 19.390625 64.015625 \nL 19.390625 0 \nL 9.8125 0 \nz\n\" id=\"DejaVuSans-77\"/>\n     </defs>\n     <g transform=\"translate(193.841406 252.916562)scale(0.1 -0.1)\">\n      <use xlink:href=\"#DejaVuSans-77\"/>\n      <use x=\"86.279297\" xlink:href=\"#DejaVuSans-111\"/>\n      <use x=\"147.460938\" xlink:href=\"#DejaVuSans-100\"/>\n      <use x=\"210.9375\" xlink:href=\"#DejaVuSans-101\"/>\n      <use x=\"272.460938\" xlink:href=\"#DejaVuSans-108\"/>\n      <use x=\"300.244141\" xlink:href=\"#DejaVuSans-115\"/>\n     </g>\n    </g>\n   </g>\n   <g id=\"matplotlib.axis_2\">\n    <g id=\"ytick_1\">\n     <g id=\"line2d_6\">\n      <defs>\n       <path d=\"M 0 0 \nL -3.5 0 \n\" id=\"m07b16dac4f\" style=\"stroke:#000000;stroke-width:0.8;\"/>\n      </defs>\n      <g>\n       <use style=\"stroke:#000000;stroke-width:0.8;\" x=\"44.059375\" xlink:href=\"#m07b16dac4f\" y=\"224.64\"/>\n      </g>\n     </g>\n     <g id=\"text_7\">\n      <!-- 0.0 -->\n      <defs>\n       <path d=\"M 31.78125 66.40625 \nQ 24.171875 66.40625 20.328125 58.90625 \nQ 16.5 51.421875 16.5 36.375 \nQ 16.5 21.390625 20.328125 13.890625 \nQ 24.171875 6.390625 31.78125 6.390625 \nQ 39.453125 6.390625 43.28125 13.890625 \nQ 47.125 21.390625 47.125 36.375 \nQ 47.125 51.421875 43.28125 58.90625 \nQ 39.453125 66.40625 31.78125 66.40625 \nz\nM 31.78125 74.21875 \nQ 44.046875 74.21875 50.515625 64.515625 \nQ 56.984375 54.828125 56.984375 36.375 \nQ 56.984375 17.96875 50.515625 8.265625 \nQ 44.046875 -1.421875 31.78125 -1.421875 \nQ 19.53125 -1.421875 13.0625 8.265625 \nQ 6.59375 17.96875 6.59375 36.375 \nQ 6.59375 54.828125 13.0625 64.515625 \nQ 19.53125 74.21875 31.78125 74.21875 \nz\n\" id=\"DejaVuSans-48\"/>\n       <path d=\"M 10.6875 12.40625 \nL 21 12.40625 \nL 21 0 \nL 10.6875 0 \nz\n\" id=\"DejaVuSans-46\"/>\n      </defs>\n      <g transform=\"translate(21.15625 228.439219)scale(0.1 -0.1)\">\n       <use xlink:href=\"#DejaVuSans-48\"/>\n       <use x=\"63.623047\" xlink:href=\"#DejaVuSans-46\"/>\n       <use x=\"95.410156\" xlink:href=\"#DejaVuSans-48\"/>\n      </g>\n     </g>\n    </g>\n    <g id=\"ytick_2\">\n     <g id=\"line2d_7\">\n      <g>\n       <use style=\"stroke:#000000;stroke-width:0.8;\" x=\"44.059375\" xlink:href=\"#m07b16dac4f\" y=\"199.9163\"/>\n      </g>\n     </g>\n     <g id=\"text_8\">\n      <!-- 0.1 -->\n      <defs>\n       <path d=\"M 12.40625 8.296875 \nL 28.515625 8.296875 \nL 28.515625 63.921875 \nL 10.984375 60.40625 \nL 10.984375 69.390625 \nL 28.421875 72.90625 \nL 38.28125 72.90625 \nL 38.28125 8.296875 \nL 54.390625 8.296875 \nL 54.390625 0 \nL 12.40625 0 \nz\n\" id=\"DejaVuSans-49\"/>\n      </defs>\n      <g transform=\"translate(21.15625 203.715518)scale(0.1 -0.1)\">\n       <use xlink:href=\"#DejaVuSans-48\"/>\n       <use x=\"63.623047\" xlink:href=\"#DejaVuSans-46\"/>\n       <use x=\"95.410156\" xlink:href=\"#DejaVuSans-49\"/>\n      </g>\n     </g>\n    </g>\n    <g id=\"ytick_3\">\n     <g id=\"line2d_8\">\n      <g>\n       <use style=\"stroke:#000000;stroke-width:0.8;\" x=\"44.059375\" xlink:href=\"#m07b16dac4f\" y=\"175.192599\"/>\n      </g>\n     </g>\n     <g id=\"text_9\">\n      <!-- 0.2 -->\n      <defs>\n       <path d=\"M 19.1875 8.296875 \nL 53.609375 8.296875 \nL 53.609375 0 \nL 7.328125 0 \nL 7.328125 8.296875 \nQ 12.9375 14.109375 22.625 23.890625 \nQ 32.328125 33.6875 34.8125 36.53125 \nQ 39.546875 41.84375 41.421875 45.53125 \nQ 43.3125 49.21875 43.3125 52.78125 \nQ 43.3125 58.59375 39.234375 62.25 \nQ 35.15625 65.921875 28.609375 65.921875 \nQ 23.96875 65.921875 18.8125 64.3125 \nQ 13.671875 62.703125 7.8125 59.421875 \nL 7.8125 69.390625 \nQ 13.765625 71.78125 18.9375 73 \nQ 24.125 74.21875 28.421875 74.21875 \nQ 39.75 74.21875 46.484375 68.546875 \nQ 53.21875 62.890625 53.21875 53.421875 \nQ 53.21875 48.921875 51.53125 44.890625 \nQ 49.859375 40.875 45.40625 35.40625 \nQ 44.1875 33.984375 37.640625 27.21875 \nQ 31.109375 20.453125 19.1875 8.296875 \nz\n\" id=\"DejaVuSans-50\"/>\n      </defs>\n      <g transform=\"translate(21.15625 178.991818)scale(0.1 -0.1)\">\n       <use xlink:href=\"#DejaVuSans-48\"/>\n       <use x=\"63.623047\" xlink:href=\"#DejaVuSans-46\"/>\n       <use x=\"95.410156\" xlink:href=\"#DejaVuSans-50\"/>\n      </g>\n     </g>\n    </g>\n    <g id=\"ytick_4\">\n     <g id=\"line2d_9\">\n      <g>\n       <use style=\"stroke:#000000;stroke-width:0.8;\" x=\"44.059375\" xlink:href=\"#m07b16dac4f\" y=\"150.468899\"/>\n      </g>\n     </g>\n     <g id=\"text_10\">\n      <!-- 0.3 -->\n      <defs>\n       <path d=\"M 40.578125 39.3125 \nQ 47.65625 37.796875 51.625 33 \nQ 55.609375 28.21875 55.609375 21.1875 \nQ 55.609375 10.40625 48.1875 4.484375 \nQ 40.765625 -1.421875 27.09375 -1.421875 \nQ 22.515625 -1.421875 17.65625 -0.515625 \nQ 12.796875 0.390625 7.625 2.203125 \nL 7.625 11.71875 \nQ 11.71875 9.328125 16.59375 8.109375 \nQ 21.484375 6.890625 26.8125 6.890625 \nQ 36.078125 6.890625 40.9375 10.546875 \nQ 45.796875 14.203125 45.796875 21.1875 \nQ 45.796875 27.640625 41.28125 31.265625 \nQ 36.765625 34.90625 28.71875 34.90625 \nL 20.21875 34.90625 \nL 20.21875 43.015625 \nL 29.109375 43.015625 \nQ 36.375 43.015625 40.234375 45.921875 \nQ 44.09375 48.828125 44.09375 54.296875 \nQ 44.09375 59.90625 40.109375 62.90625 \nQ 36.140625 65.921875 28.71875 65.921875 \nQ 24.65625 65.921875 20.015625 65.03125 \nQ 15.375 64.15625 9.8125 62.3125 \nL 9.8125 71.09375 \nQ 15.4375 72.65625 20.34375 73.4375 \nQ 25.25 74.21875 29.59375 74.21875 \nQ 40.828125 74.21875 47.359375 69.109375 \nQ 53.90625 64.015625 53.90625 55.328125 \nQ 53.90625 49.265625 50.4375 45.09375 \nQ 46.96875 40.921875 40.578125 39.3125 \nz\n\" id=\"DejaVuSans-51\"/>\n      </defs>\n      <g transform=\"translate(21.15625 154.268118)scale(0.1 -0.1)\">\n       <use xlink:href=\"#DejaVuSans-48\"/>\n       <use x=\"63.623047\" xlink:href=\"#DejaVuSans-46\"/>\n       <use x=\"95.410156\" xlink:href=\"#DejaVuSans-51\"/>\n      </g>\n     </g>\n    </g>\n    <g id=\"ytick_5\">\n     <g id=\"line2d_10\">\n      <g>\n       <use style=\"stroke:#000000;stroke-width:0.8;\" x=\"44.059375\" xlink:href=\"#m07b16dac4f\" y=\"125.745199\"/>\n      </g>\n     </g>\n     <g id=\"text_11\">\n      <!-- 0.4 -->\n      <defs>\n       <path d=\"M 37.796875 64.3125 \nL 12.890625 25.390625 \nL 37.796875 25.390625 \nz\nM 35.203125 72.90625 \nL 47.609375 72.90625 \nL 47.609375 25.390625 \nL 58.015625 25.390625 \nL 58.015625 17.1875 \nL 47.609375 17.1875 \nL 47.609375 0 \nL 37.796875 0 \nL 37.796875 17.1875 \nL 4.890625 17.1875 \nL 4.890625 26.703125 \nz\n\" id=\"DejaVuSans-52\"/>\n      </defs>\n      <g transform=\"translate(21.15625 129.544417)scale(0.1 -0.1)\">\n       <use xlink:href=\"#DejaVuSans-48\"/>\n       <use x=\"63.623047\" xlink:href=\"#DejaVuSans-46\"/>\n       <use x=\"95.410156\" xlink:href=\"#DejaVuSans-52\"/>\n      </g>\n     </g>\n    </g>\n    <g id=\"ytick_6\">\n     <g id=\"line2d_11\">\n      <g>\n       <use style=\"stroke:#000000;stroke-width:0.8;\" x=\"44.059375\" xlink:href=\"#m07b16dac4f\" y=\"101.021498\"/>\n      </g>\n     </g>\n     <g id=\"text_12\">\n      <!-- 0.5 -->\n      <defs>\n       <path d=\"M 10.796875 72.90625 \nL 49.515625 72.90625 \nL 49.515625 64.59375 \nL 19.828125 64.59375 \nL 19.828125 46.734375 \nQ 21.96875 47.46875 24.109375 47.828125 \nQ 26.265625 48.1875 28.421875 48.1875 \nQ 40.625 48.1875 47.75 41.5 \nQ 54.890625 34.8125 54.890625 23.390625 \nQ 54.890625 11.625 47.5625 5.09375 \nQ 40.234375 -1.421875 26.90625 -1.421875 \nQ 22.3125 -1.421875 17.546875 -0.640625 \nQ 12.796875 0.140625 7.71875 1.703125 \nL 7.71875 11.625 \nQ 12.109375 9.234375 16.796875 8.0625 \nQ 21.484375 6.890625 26.703125 6.890625 \nQ 35.15625 6.890625 40.078125 11.328125 \nQ 45.015625 15.765625 45.015625 23.390625 \nQ 45.015625 31 40.078125 35.4375 \nQ 35.15625 39.890625 26.703125 39.890625 \nQ 22.75 39.890625 18.8125 39.015625 \nQ 14.890625 38.140625 10.796875 36.28125 \nz\n\" id=\"DejaVuSans-53\"/>\n      </defs>\n      <g transform=\"translate(21.15625 104.820717)scale(0.1 -0.1)\">\n       <use xlink:href=\"#DejaVuSans-48\"/>\n       <use x=\"63.623047\" xlink:href=\"#DejaVuSans-46\"/>\n       <use x=\"95.410156\" xlink:href=\"#DejaVuSans-53\"/>\n      </g>\n     </g>\n    </g>\n    <g id=\"ytick_7\">\n     <g id=\"line2d_12\">\n      <g>\n       <use style=\"stroke:#000000;stroke-width:0.8;\" x=\"44.059375\" xlink:href=\"#m07b16dac4f\" y=\"76.297798\"/>\n      </g>\n     </g>\n     <g id=\"text_13\">\n      <!-- 0.6 -->\n      <defs>\n       <path d=\"M 33.015625 40.375 \nQ 26.375 40.375 22.484375 35.828125 \nQ 18.609375 31.296875 18.609375 23.390625 \nQ 18.609375 15.53125 22.484375 10.953125 \nQ 26.375 6.390625 33.015625 6.390625 \nQ 39.65625 6.390625 43.53125 10.953125 \nQ 47.40625 15.53125 47.40625 23.390625 \nQ 47.40625 31.296875 43.53125 35.828125 \nQ 39.65625 40.375 33.015625 40.375 \nz\nM 52.59375 71.296875 \nL 52.59375 62.3125 \nQ 48.875 64.0625 45.09375 64.984375 \nQ 41.3125 65.921875 37.59375 65.921875 \nQ 27.828125 65.921875 22.671875 59.328125 \nQ 17.53125 52.734375 16.796875 39.40625 \nQ 19.671875 43.65625 24.015625 45.921875 \nQ 28.375 48.1875 33.59375 48.1875 \nQ 44.578125 48.1875 50.953125 41.515625 \nQ 57.328125 34.859375 57.328125 23.390625 \nQ 57.328125 12.15625 50.6875 5.359375 \nQ 44.046875 -1.421875 33.015625 -1.421875 \nQ 20.359375 -1.421875 13.671875 8.265625 \nQ 6.984375 17.96875 6.984375 36.375 \nQ 6.984375 53.65625 15.1875 63.9375 \nQ 23.390625 74.21875 37.203125 74.21875 \nQ 40.921875 74.21875 44.703125 73.484375 \nQ 48.484375 72.75 52.59375 71.296875 \nz\n\" id=\"DejaVuSans-54\"/>\n      </defs>\n      <g transform=\"translate(21.15625 80.097017)scale(0.1 -0.1)\">\n       <use xlink:href=\"#DejaVuSans-48\"/>\n       <use x=\"63.623047\" xlink:href=\"#DejaVuSans-46\"/>\n       <use x=\"95.410156\" xlink:href=\"#DejaVuSans-54\"/>\n      </g>\n     </g>\n    </g>\n    <g id=\"ytick_8\">\n     <g id=\"line2d_13\">\n      <g>\n       <use style=\"stroke:#000000;stroke-width:0.8;\" x=\"44.059375\" xlink:href=\"#m07b16dac4f\" y=\"51.574097\"/>\n      </g>\n     </g>\n     <g id=\"text_14\">\n      <!-- 0.7 -->\n      <defs>\n       <path d=\"M 8.203125 72.90625 \nL 55.078125 72.90625 \nL 55.078125 68.703125 \nL 28.609375 0 \nL 18.3125 0 \nL 43.21875 64.59375 \nL 8.203125 64.59375 \nz\n\" id=\"DejaVuSans-55\"/>\n      </defs>\n      <g transform=\"translate(21.15625 55.373316)scale(0.1 -0.1)\">\n       <use xlink:href=\"#DejaVuSans-48\"/>\n       <use x=\"63.623047\" xlink:href=\"#DejaVuSans-46\"/>\n       <use x=\"95.410156\" xlink:href=\"#DejaVuSans-55\"/>\n      </g>\n     </g>\n    </g>\n    <g id=\"ytick_9\">\n     <g id=\"line2d_14\">\n      <g>\n       <use style=\"stroke:#000000;stroke-width:0.8;\" x=\"44.059375\" xlink:href=\"#m07b16dac4f\" y=\"26.850397\"/>\n      </g>\n     </g>\n     <g id=\"text_15\">\n      <!-- 0.8 -->\n      <defs>\n       <path d=\"M 31.78125 34.625 \nQ 24.75 34.625 20.71875 30.859375 \nQ 16.703125 27.09375 16.703125 20.515625 \nQ 16.703125 13.921875 20.71875 10.15625 \nQ 24.75 6.390625 31.78125 6.390625 \nQ 38.8125 6.390625 42.859375 10.171875 \nQ 46.921875 13.96875 46.921875 20.515625 \nQ 46.921875 27.09375 42.890625 30.859375 \nQ 38.875 34.625 31.78125 34.625 \nz\nM 21.921875 38.8125 \nQ 15.578125 40.375 12.03125 44.71875 \nQ 8.5 49.078125 8.5 55.328125 \nQ 8.5 64.0625 14.71875 69.140625 \nQ 20.953125 74.21875 31.78125 74.21875 \nQ 42.671875 74.21875 48.875 69.140625 \nQ 55.078125 64.0625 55.078125 55.328125 \nQ 55.078125 49.078125 51.53125 44.71875 \nQ 48 40.375 41.703125 38.8125 \nQ 48.828125 37.15625 52.796875 32.3125 \nQ 56.78125 27.484375 56.78125 20.515625 \nQ 56.78125 9.90625 50.3125 4.234375 \nQ 43.84375 -1.421875 31.78125 -1.421875 \nQ 19.734375 -1.421875 13.25 4.234375 \nQ 6.78125 9.90625 6.78125 20.515625 \nQ 6.78125 27.484375 10.78125 32.3125 \nQ 14.796875 37.15625 21.921875 38.8125 \nz\nM 18.3125 54.390625 \nQ 18.3125 48.734375 21.84375 45.5625 \nQ 25.390625 42.390625 31.78125 42.390625 \nQ 38.140625 42.390625 41.71875 45.5625 \nQ 45.3125 48.734375 45.3125 54.390625 \nQ 45.3125 60.0625 41.71875 63.234375 \nQ 38.140625 66.40625 31.78125 66.40625 \nQ 25.390625 66.40625 21.84375 63.234375 \nQ 18.3125 60.0625 18.3125 54.390625 \nz\n\" id=\"DejaVuSans-56\"/>\n      </defs>\n      <g transform=\"translate(21.15625 30.649616)scale(0.1 -0.1)\">\n       <use xlink:href=\"#DejaVuSans-48\"/>\n       <use x=\"63.623047\" xlink:href=\"#DejaVuSans-46\"/>\n       <use x=\"95.410156\" xlink:href=\"#DejaVuSans-56\"/>\n      </g>\n     </g>\n    </g>\n    <g id=\"text_16\">\n     <!-- val_MAE -->\n     <defs>\n      <path d=\"M 2.984375 54.6875 \nL 12.5 54.6875 \nL 29.59375 8.796875 \nL 46.6875 54.6875 \nL 56.203125 54.6875 \nL 35.6875 0 \nL 23.484375 0 \nz\n\" id=\"DejaVuSans-118\"/>\n      <path d=\"M 50.984375 -16.609375 \nL 50.984375 -23.578125 \nL -0.984375 -23.578125 \nL -0.984375 -16.609375 \nz\n\" id=\"DejaVuSans-95\"/>\n      <path d=\"M 34.1875 63.1875 \nL 20.796875 26.90625 \nL 47.609375 26.90625 \nz\nM 28.609375 72.90625 \nL 39.796875 72.90625 \nL 67.578125 0 \nL 57.328125 0 \nL 50.6875 18.703125 \nL 17.828125 18.703125 \nL 11.1875 0 \nL 0.78125 0 \nz\n\" id=\"DejaVuSans-65\"/>\n      <path d=\"M 9.8125 72.90625 \nL 55.90625 72.90625 \nL 55.90625 64.59375 \nL 19.671875 64.59375 \nL 19.671875 43.015625 \nL 54.390625 43.015625 \nL 54.390625 34.71875 \nL 19.671875 34.71875 \nL 19.671875 8.296875 \nL 56.78125 8.296875 \nL 56.78125 0 \nL 9.8125 0 \nz\n\" id=\"DejaVuSans-69\"/>\n     </defs>\n     <g transform=\"translate(14.798438 136.72625)rotate(-90)scale(0.1 -0.1)\">\n      <use xlink:href=\"#DejaVuSans-118\"/>\n      <use x=\"59.179688\" xlink:href=\"#DejaVuSans-97\"/>\n      <use x=\"120.458984\" xlink:href=\"#DejaVuSans-108\"/>\n      <use x=\"148.242188\" xlink:href=\"#DejaVuSans-95\"/>\n      <use x=\"198.242188\" xlink:href=\"#DejaVuSans-77\"/>\n      <use x=\"284.521484\" xlink:href=\"#DejaVuSans-65\"/>\n      <use x=\"352.929688\" xlink:href=\"#DejaVuSans-69\"/>\n     </g>\n    </g>\n   </g>\n   <g id=\"patch_8\">\n    <path d=\"M 44.059375 224.64 \nL 44.059375 7.2 \n\" style=\"fill:none;stroke:#000000;stroke-linecap:square;stroke-linejoin:miter;stroke-width:0.8;\"/>\n   </g>\n   <g id=\"patch_9\">\n    <path d=\"M 378.859375 224.64 \nL 378.859375 7.2 \n\" style=\"fill:none;stroke:#000000;stroke-linecap:square;stroke-linejoin:miter;stroke-width:0.8;\"/>\n   </g>\n   <g id=\"patch_10\">\n    <path d=\"M 44.059375 224.64 \nL 378.859375 224.64 \n\" style=\"fill:none;stroke:#000000;stroke-linecap:square;stroke-linejoin:miter;stroke-width:0.8;\"/>\n   </g>\n   <g id=\"patch_11\">\n    <path d=\"M 44.059375 7.2 \nL 378.859375 7.2 \n\" style=\"fill:none;stroke:#000000;stroke-linecap:square;stroke-linejoin:miter;stroke-width:0.8;\"/>\n   </g>\n  </g>\n </g>\n <defs>\n  <clipPath id=\"pce951b2b7c\">\n   <rect height=\"217.44\" width=\"334.8\" x=\"44.059375\" y=\"7.2\"/>\n  </clipPath>\n </defs>\n</svg>\n",
      "text/plain": "<Figure size 432x288 with 1 Axes>"
     },
     "metadata": {
      "needs_background": "light"
     },
     "output_type": "display_data"
    }
   ],
   "source": [
    "# we can directly acess the mae and val_mae if we safe the model under the name history (command will be \n",
    "# history.history['MAE'])\n",
    "import matplotlib.pyplot as plt\n",
    "%matplotlib inline\n",
    "models=('concatenate', 'dot', 'add', 'substract', 'multiply')\n",
    "mae_values=(MAE_model_concatenate, MAE_model_dot, MAE_model_add, MAE_model_substract, MAE_model_mulitply)\n",
    "val_mae_values=(val_MAE_model_concatenate, val_MAE_model_dot, val_MAE_model_add, val_MAE_model_substract, val_MAE_model_multiply )\n",
    "pos=np.arange(len(models))\n",
    "plt.bar(pos,val_mae_values,align='center')\n",
    "plt.xticks(pos,models)\n",
    "plt.ylabel('val_MAE')\n",
    "plt.xlabel('Models')\n",
    "plt.show()"
   ]
  },
  {
   "cell_type": "code",
   "execution_count": 56,
   "metadata": {},
   "outputs": [],
   "source": [
    "# example prediction"
   ]
  },
  {
   "cell_type": "code",
   "execution_count": 19,
   "metadata": {},
   "outputs": [
    {
     "name": "stdout",
     "output_type": "stream",
     "text": "User #1 has rated 232 movies (avg. rating = 4.4):\n"
    },
    {
     "data": {
      "text/html": "<div>\n<style scoped>\n    .dataframe tbody tr th:only-of-type {\n        vertical-align: middle;\n    }\n\n    .dataframe tbody tr th {\n        vertical-align: top;\n    }\n\n    .dataframe thead th {\n        text-align: right;\n    }\n</style>\n<table border=\"1\" class=\"dataframe\">\n  <thead>\n    <tr style=\"text-align: right;\">\n      <th></th>\n      <th>user_id</th>\n      <th>movie_id</th>\n      <th>rating</th>\n    </tr>\n  </thead>\n  <tbody>\n    <tr>\n      <th>231</th>\n      <td>1</td>\n      <td>5060</td>\n      <td>5.0</td>\n    </tr>\n    <tr>\n      <th>185</th>\n      <td>1</td>\n      <td>2872</td>\n      <td>5.0</td>\n    </tr>\n    <tr>\n      <th>89</th>\n      <td>1</td>\n      <td>1291</td>\n      <td>5.0</td>\n    </tr>\n    <tr>\n      <th>90</th>\n      <td>1</td>\n      <td>1298</td>\n      <td>5.0</td>\n    </tr>\n    <tr>\n      <th>190</th>\n      <td>1</td>\n      <td>2948</td>\n      <td>5.0</td>\n    </tr>\n    <tr>\n      <th>...</th>\n      <td>...</td>\n      <td>...</td>\n      <td>...</td>\n    </tr>\n    <tr>\n      <th>170</th>\n      <td>1</td>\n      <td>2617</td>\n      <td>2.0</td>\n    </tr>\n    <tr>\n      <th>143</th>\n      <td>1</td>\n      <td>2253</td>\n      <td>2.0</td>\n    </tr>\n    <tr>\n      <th>148</th>\n      <td>1</td>\n      <td>2338</td>\n      <td>2.0</td>\n    </tr>\n    <tr>\n      <th>152</th>\n      <td>1</td>\n      <td>2389</td>\n      <td>2.0</td>\n    </tr>\n    <tr>\n      <th>205</th>\n      <td>1</td>\n      <td>3176</td>\n      <td>1.0</td>\n    </tr>\n  </tbody>\n</table>\n<p>232 rows × 3 columns</p>\n</div>",
      "text/plain": "     user_id  movie_id  rating\n231        1      5060     5.0\n185        1      2872     5.0\n89         1      1291     5.0\n90         1      1298     5.0\n190        1      2948     5.0\n..       ...       ...     ...\n170        1      2617     2.0\n143        1      2253     2.0\n148        1      2338     2.0\n152        1      2389     2.0\n205        1      3176     1.0\n\n[232 rows x 3 columns]"
     },
     "execution_count": 19,
     "metadata": {},
     "output_type": "execute_result"
    }
   ],
   "source": [
    "# User \n",
    "ratings_per_user = data.groupby('user_id').size()\n",
    "uid = 1\n",
    "user_ratings = data[data.user_id==uid]\n",
    "print(\"User #{} has rated {} movies (avg. rating = {:.1f}):\".format(\n",
    "    uid, len(user_ratings), user_ratings['rating'].mean(),\n",
    "))\n",
    "cols = ['user_id', 'movie_id', 'rating']\n",
    "user_ratings.sort_values(by='rating', ascending=False)[cols]"
   ]
  },
  {
   "cell_type": "code",
   "execution_count": 27,
   "metadata": {},
   "outputs": [],
   "source": [
    "# predicting for movies from the test data\n",
    "movies_from_test=test.movie_id[test.user_id==uid]  # index = movie_index rated by user uid\n",
    "# prediction \n",
    "pred_concatenate=model_concatenate.predict([[uid]*len(movies_from_test),movies_from_test])\n",
    "pred_dot=model_dot.predict([[uid]*len(movies_from_test),movies_from_test])\n",
    "pred_add=model_add.predict([[uid]*len(movies_from_test),movies_from_test])\n",
    "pred_substract=model_substract.predict([[uid]*len(movies_from_test),movies_from_test])\n",
    "pred_multiply=model_multiply.predict([[uid]*len(movies_from_test),movies_from_test])"
   ]
  },
  {
   "cell_type": "code",
   "execution_count": 28,
   "metadata": {},
   "outputs": [
    {
     "data": {
      "text/html": "<div>\n<style scoped>\n    .dataframe tbody tr th:only-of-type {\n        vertical-align: middle;\n    }\n\n    .dataframe tbody tr th {\n        vertical-align: top;\n    }\n\n    .dataframe thead th {\n        text-align: right;\n    }\n</style>\n<table border=\"1\" class=\"dataframe\">\n  <thead>\n    <tr style=\"text-align: right;\">\n      <th></th>\n      <th>movie_id</th>\n      <th>model_concatenate</th>\n      <th>model_dot</th>\n      <th>model_add</th>\n      <th>model_substract</th>\n      <th>model_multiply</th>\n    </tr>\n  </thead>\n  <tbody>\n    <tr>\n      <th>226</th>\n      <td>3740</td>\n      <td>-0.023635</td>\n      <td>-0.008658</td>\n      <td>0.004694</td>\n      <td>0.003962</td>\n      <td>-2.765493e-04</td>\n    </tr>\n    <tr>\n      <th>149</th>\n      <td>2353</td>\n      <td>-0.033549</td>\n      <td>-0.001655</td>\n      <td>-0.029532</td>\n      <td>-0.009284</td>\n      <td>4.577104e-05</td>\n    </tr>\n    <tr>\n      <th>87</th>\n      <td>1278</td>\n      <td>-0.026943</td>\n      <td>-0.005272</td>\n      <td>0.012681</td>\n      <td>0.023209</td>\n      <td>-8.226760e-04</td>\n    </tr>\n    <tr>\n      <th>35</th>\n      <td>596</td>\n      <td>-0.013073</td>\n      <td>-0.001992</td>\n      <td>-0.043989</td>\n      <td>0.003245</td>\n      <td>1.978405e-04</td>\n    </tr>\n    <tr>\n      <th>134</th>\n      <td>2115</td>\n      <td>-0.029998</td>\n      <td>-0.007503</td>\n      <td>-0.021499</td>\n      <td>0.013209</td>\n      <td>-2.856682e-04</td>\n    </tr>\n    <tr>\n      <th>164</th>\n      <td>2529</td>\n      <td>-0.028605</td>\n      <td>-0.000132</td>\n      <td>-0.012094</td>\n      <td>-0.014270</td>\n      <td>1.210474e-04</td>\n    </tr>\n    <tr>\n      <th>114</th>\n      <td>1927</td>\n      <td>-0.044232</td>\n      <td>-0.000384</td>\n      <td>-0.004304</td>\n      <td>-0.013333</td>\n      <td>3.254192e-04</td>\n    </tr>\n    <tr>\n      <th>127</th>\n      <td>2078</td>\n      <td>-0.019654</td>\n      <td>-0.006415</td>\n      <td>-0.009217</td>\n      <td>-0.022574</td>\n      <td>7.096634e-04</td>\n    </tr>\n    <tr>\n      <th>199</th>\n      <td>3034</td>\n      <td>-0.032945</td>\n      <td>-0.013905</td>\n      <td>0.029890</td>\n      <td>-0.034161</td>\n      <td>-1.000559e-04</td>\n    </tr>\n    <tr>\n      <th>186</th>\n      <td>2899</td>\n      <td>-0.038526</td>\n      <td>-0.002884</td>\n      <td>-0.016224</td>\n      <td>-0.037507</td>\n      <td>-1.016154e-04</td>\n    </tr>\n    <tr>\n      <th>97</th>\n      <td>1500</td>\n      <td>-0.053016</td>\n      <td>-0.000249</td>\n      <td>-0.004596</td>\n      <td>-0.014560</td>\n      <td>5.215205e-05</td>\n    </tr>\n    <tr>\n      <th>70</th>\n      <td>1198</td>\n      <td>-0.045890</td>\n      <td>-0.004166</td>\n      <td>-0.025505</td>\n      <td>-0.004606</td>\n      <td>-3.473617e-04</td>\n    </tr>\n    <tr>\n      <th>102</th>\n      <td>1587</td>\n      <td>-0.041609</td>\n      <td>-0.015952</td>\n      <td>-0.029703</td>\n      <td>0.001624</td>\n      <td>3.372981e-04</td>\n    </tr>\n    <tr>\n      <th>53</th>\n      <td>1029</td>\n      <td>-0.042888</td>\n      <td>-0.012262</td>\n      <td>-0.006739</td>\n      <td>0.022832</td>\n      <td>7.343124e-07</td>\n    </tr>\n    <tr>\n      <th>23</th>\n      <td>423</td>\n      <td>-0.025898</td>\n      <td>-0.002144</td>\n      <td>0.005789</td>\n      <td>0.005159</td>\n      <td>-4.442563e-04</td>\n    </tr>\n    <tr>\n      <th>161</th>\n      <td>2492</td>\n      <td>-0.032640</td>\n      <td>-0.002293</td>\n      <td>0.020384</td>\n      <td>0.008420</td>\n      <td>-2.854714e-04</td>\n    </tr>\n    <tr>\n      <th>124</th>\n      <td>2048</td>\n      <td>-0.025311</td>\n      <td>-0.032234</td>\n      <td>-0.029491</td>\n      <td>0.035863</td>\n      <td>-4.643528e-04</td>\n    </tr>\n    <tr>\n      <th>182</th>\n      <td>2797</td>\n      <td>-0.039860</td>\n      <td>-0.014409</td>\n      <td>0.020659</td>\n      <td>0.005201</td>\n      <td>-6.621543e-04</td>\n    </tr>\n    <tr>\n      <th>219</th>\n      <td>3578</td>\n      <td>-0.024249</td>\n      <td>-0.005177</td>\n      <td>-0.002376</td>\n      <td>0.014079</td>\n      <td>3.300432e-04</td>\n    </tr>\n    <tr>\n      <th>195</th>\n      <td>2991</td>\n      <td>-0.026276</td>\n      <td>-0.039867</td>\n      <td>-0.002234</td>\n      <td>0.008153</td>\n      <td>-1.759498e-04</td>\n    </tr>\n    <tr>\n      <th>101</th>\n      <td>1580</td>\n      <td>-0.026849</td>\n      <td>-0.008089</td>\n      <td>-0.011159</td>\n      <td>0.016137</td>\n      <td>-1.720846e-04</td>\n    </tr>\n    <tr>\n      <th>172</th>\n      <td>2640</td>\n      <td>-0.051371</td>\n      <td>-0.002788</td>\n      <td>-0.011392</td>\n      <td>0.007919</td>\n      <td>4.164192e-04</td>\n    </tr>\n    <tr>\n      <th>151</th>\n      <td>2387</td>\n      <td>-0.054265</td>\n      <td>-0.003584</td>\n      <td>-0.029628</td>\n      <td>-0.006251</td>\n      <td>3.398148e-04</td>\n    </tr>\n    <tr>\n      <th>115</th>\n      <td>1954</td>\n      <td>-0.048866</td>\n      <td>-0.014766</td>\n      <td>-0.015355</td>\n      <td>-0.017961</td>\n      <td>-1.187023e-05</td>\n    </tr>\n    <tr>\n      <th>158</th>\n      <td>2459</td>\n      <td>-0.054153</td>\n      <td>-0.012039</td>\n      <td>-0.028577</td>\n      <td>-0.004113</td>\n      <td>-3.285910e-06</td>\n    </tr>\n    <tr>\n      <th>135</th>\n      <td>2116</td>\n      <td>-0.044596</td>\n      <td>-0.012348</td>\n      <td>-0.016949</td>\n      <td>0.019221</td>\n      <td>-4.523392e-04</td>\n    </tr>\n    <tr>\n      <th>106</th>\n      <td>1644</td>\n      <td>-0.020950</td>\n      <td>-0.010469</td>\n      <td>-0.010619</td>\n      <td>0.000872</td>\n      <td>2.118662e-04</td>\n    </tr>\n    <tr>\n      <th>103</th>\n      <td>1617</td>\n      <td>-0.034105</td>\n      <td>-0.014326</td>\n      <td>-0.004500</td>\n      <td>0.007925</td>\n      <td>9.677489e-06</td>\n    </tr>\n    <tr>\n      <th>147</th>\n      <td>2329</td>\n      <td>-0.042908</td>\n      <td>-0.000664</td>\n      <td>0.005093</td>\n      <td>0.013420</td>\n      <td>-3.051444e-05</td>\n    </tr>\n    <tr>\n      <th>39</th>\n      <td>673</td>\n      <td>-0.036185</td>\n      <td>-0.018496</td>\n      <td>-0.017912</td>\n      <td>-0.012017</td>\n      <td>6.834169e-04</td>\n    </tr>\n    <tr>\n      <th>88</th>\n      <td>1282</td>\n      <td>-0.048585</td>\n      <td>-0.012984</td>\n      <td>-0.000333</td>\n      <td>-0.020397</td>\n      <td>5.064975e-04</td>\n    </tr>\n    <tr>\n      <th>142</th>\n      <td>2193</td>\n      <td>-0.034636</td>\n      <td>-0.006067</td>\n      <td>0.004027</td>\n      <td>-0.009970</td>\n      <td>1.659892e-04</td>\n    </tr>\n    <tr>\n      <th>194</th>\n      <td>2987</td>\n      <td>-0.023970</td>\n      <td>-0.004152</td>\n      <td>-0.008832</td>\n      <td>-0.008919</td>\n      <td>7.747413e-05</td>\n    </tr>\n    <tr>\n      <th>221</th>\n      <td>3639</td>\n      <td>-0.022126</td>\n      <td>-0.011435</td>\n      <td>0.008875</td>\n      <td>0.018755</td>\n      <td>2.306566e-06</td>\n    </tr>\n    <tr>\n      <th>8</th>\n      <td>151</td>\n      <td>-0.024133</td>\n      <td>-0.009740</td>\n      <td>0.011193</td>\n      <td>0.017239</td>\n      <td>-1.008740e-04</td>\n    </tr>\n    <tr>\n      <th>75</th>\n      <td>1214</td>\n      <td>-0.012591</td>\n      <td>-0.014909</td>\n      <td>-0.012206</td>\n      <td>-0.012041</td>\n      <td>1.968766e-04</td>\n    </tr>\n    <tr>\n      <th>179</th>\n      <td>2700</td>\n      <td>-0.034778</td>\n      <td>-0.019776</td>\n      <td>-0.058772</td>\n      <td>-0.005573</td>\n      <td>4.704785e-04</td>\n    </tr>\n    <tr>\n      <th>222</th>\n      <td>3671</td>\n      <td>-0.037442</td>\n      <td>-0.003820</td>\n      <td>-0.020029</td>\n      <td>-0.014644</td>\n      <td>2.024788e-04</td>\n    </tr>\n    <tr>\n      <th>95</th>\n      <td>1445</td>\n      <td>-0.018194</td>\n      <td>-0.000011</td>\n      <td>0.022177</td>\n      <td>0.024321</td>\n      <td>-7.372799e-04</td>\n    </tr>\n    <tr>\n      <th>128</th>\n      <td>2090</td>\n      <td>-0.020076</td>\n      <td>-0.004746</td>\n      <td>-0.012034</td>\n      <td>-0.016291</td>\n      <td>8.353388e-05</td>\n    </tr>\n    <tr>\n      <th>156</th>\n      <td>2427</td>\n      <td>-0.019252</td>\n      <td>-0.002206</td>\n      <td>-0.008410</td>\n      <td>0.013964</td>\n      <td>3.058114e-06</td>\n    </tr>\n    <tr>\n      <th>54</th>\n      <td>1030</td>\n      <td>-0.000836</td>\n      <td>-0.028127</td>\n      <td>-0.008606</td>\n      <td>-0.022841</td>\n      <td>4.748321e-04</td>\n    </tr>\n    <tr>\n      <th>110</th>\n      <td>1793</td>\n      <td>-0.044019</td>\n      <td>-0.027863</td>\n      <td>-0.005239</td>\n      <td>0.020510</td>\n      <td>5.750106e-05</td>\n    </tr>\n    <tr>\n      <th>137</th>\n      <td>2139</td>\n      <td>-0.032321</td>\n      <td>-0.004774</td>\n      <td>-0.045163</td>\n      <td>-0.018746</td>\n      <td>2.006316e-04</td>\n    </tr>\n    <tr>\n      <th>196</th>\n      <td>2993</td>\n      <td>-0.028991</td>\n      <td>-0.009514</td>\n      <td>0.001668</td>\n      <td>-0.015380</td>\n      <td>1.435998e-04</td>\n    </tr>\n    <tr>\n      <th>202</th>\n      <td>3062</td>\n      <td>-0.022134</td>\n      <td>-0.005244</td>\n      <td>-0.023487</td>\n      <td>-0.013274</td>\n      <td>1.761854e-04</td>\n    </tr>\n  </tbody>\n</table>\n</div>",
      "text/plain": "     movie_id  model_concatenate  model_dot  model_add  model_substract  \\\n226      3740          -0.023635  -0.008658   0.004694         0.003962   \n149      2353          -0.033549  -0.001655  -0.029532        -0.009284   \n87       1278          -0.026943  -0.005272   0.012681         0.023209   \n35        596          -0.013073  -0.001992  -0.043989         0.003245   \n134      2115          -0.029998  -0.007503  -0.021499         0.013209   \n164      2529          -0.028605  -0.000132  -0.012094        -0.014270   \n114      1927          -0.044232  -0.000384  -0.004304        -0.013333   \n127      2078          -0.019654  -0.006415  -0.009217        -0.022574   \n199      3034          -0.032945  -0.013905   0.029890        -0.034161   \n186      2899          -0.038526  -0.002884  -0.016224        -0.037507   \n97       1500          -0.053016  -0.000249  -0.004596        -0.014560   \n70       1198          -0.045890  -0.004166  -0.025505        -0.004606   \n102      1587          -0.041609  -0.015952  -0.029703         0.001624   \n53       1029          -0.042888  -0.012262  -0.006739         0.022832   \n23        423          -0.025898  -0.002144   0.005789         0.005159   \n161      2492          -0.032640  -0.002293   0.020384         0.008420   \n124      2048          -0.025311  -0.032234  -0.029491         0.035863   \n182      2797          -0.039860  -0.014409   0.020659         0.005201   \n219      3578          -0.024249  -0.005177  -0.002376         0.014079   \n195      2991          -0.026276  -0.039867  -0.002234         0.008153   \n101      1580          -0.026849  -0.008089  -0.011159         0.016137   \n172      2640          -0.051371  -0.002788  -0.011392         0.007919   \n151      2387          -0.054265  -0.003584  -0.029628        -0.006251   \n115      1954          -0.048866  -0.014766  -0.015355        -0.017961   \n158      2459          -0.054153  -0.012039  -0.028577        -0.004113   \n135      2116          -0.044596  -0.012348  -0.016949         0.019221   \n106      1644          -0.020950  -0.010469  -0.010619         0.000872   \n103      1617          -0.034105  -0.014326  -0.004500         0.007925   \n147      2329          -0.042908  -0.000664   0.005093         0.013420   \n39        673          -0.036185  -0.018496  -0.017912        -0.012017   \n88       1282          -0.048585  -0.012984  -0.000333        -0.020397   \n142      2193          -0.034636  -0.006067   0.004027        -0.009970   \n194      2987          -0.023970  -0.004152  -0.008832        -0.008919   \n221      3639          -0.022126  -0.011435   0.008875         0.018755   \n8         151          -0.024133  -0.009740   0.011193         0.017239   \n75       1214          -0.012591  -0.014909  -0.012206        -0.012041   \n179      2700          -0.034778  -0.019776  -0.058772        -0.005573   \n222      3671          -0.037442  -0.003820  -0.020029        -0.014644   \n95       1445          -0.018194  -0.000011   0.022177         0.024321   \n128      2090          -0.020076  -0.004746  -0.012034        -0.016291   \n156      2427          -0.019252  -0.002206  -0.008410         0.013964   \n54       1030          -0.000836  -0.028127  -0.008606        -0.022841   \n110      1793          -0.044019  -0.027863  -0.005239         0.020510   \n137      2139          -0.032321  -0.004774  -0.045163        -0.018746   \n196      2993          -0.028991  -0.009514   0.001668        -0.015380   \n202      3062          -0.022134  -0.005244  -0.023487        -0.013274   \n\n     model_multiply  \n226   -2.765493e-04  \n149    4.577104e-05  \n87    -8.226760e-04  \n35     1.978405e-04  \n134   -2.856682e-04  \n164    1.210474e-04  \n114    3.254192e-04  \n127    7.096634e-04  \n199   -1.000559e-04  \n186   -1.016154e-04  \n97     5.215205e-05  \n70    -3.473617e-04  \n102    3.372981e-04  \n53     7.343124e-07  \n23    -4.442563e-04  \n161   -2.854714e-04  \n124   -4.643528e-04  \n182   -6.621543e-04  \n219    3.300432e-04  \n195   -1.759498e-04  \n101   -1.720846e-04  \n172    4.164192e-04  \n151    3.398148e-04  \n115   -1.187023e-05  \n158   -3.285910e-06  \n135   -4.523392e-04  \n106    2.118662e-04  \n103    9.677489e-06  \n147   -3.051444e-05  \n39     6.834169e-04  \n88     5.064975e-04  \n142    1.659892e-04  \n194    7.747413e-05  \n221    2.306566e-06  \n8     -1.008740e-04  \n75     1.968766e-04  \n179    4.704785e-04  \n222    2.024788e-04  \n95    -7.372799e-04  \n128    8.353388e-05  \n156    3.058114e-06  \n54     4.748321e-04  \n110    5.750106e-05  \n137    2.006316e-04  \n196    1.435998e-04  \n202    1.761854e-04  "
     },
     "execution_count": 28,
     "metadata": {},
     "output_type": "execute_result"
    }
   ],
   "source": [
    "predictions=pd.DataFrame(movies_from_test)\n",
    "predictions.columns=['movie_id']\n",
    "predictions['model_concatenate']=pred_concatenate\n",
    "predictions['model_dot']=pred_dot\n",
    "predictions['model_add']=pred_add\n",
    "predictions['model_substract']=pred_substract\n",
    "predictions['model_multiply']=pred_multiply\n",
    "predictions"
   ]
  },
  {
   "cell_type": "code",
   "execution_count": 31,
   "metadata": {},
   "outputs": [],
   "source": [
    "top5_model_concatenate=predictions.nlargest(5,'model_concatenate').movie_id\n",
    "top5_model_dot=predictions.nlargest(5,'model_dot').movie_id\n",
    "top5_model_add=predictions.nlargest(5,'model_add').movie_id\n",
    "top5_model_substract=predictions.nlargest(5,'model_substract').movie_id\n",
    "top5_model_multiply=predictions.nlargest(5,'model_multiply').movie_id\n",
    "\n",
    "df=pd.DataFrame({'top5_model_concatenate': top5_model_concatenate.values, 'top5_model_dot':top5_model_dot.values, 'top5_model_add':  top5_model_add.values, 'top5_model_substract': top5_model_substract.values, 'top5_model_mulitply': top5_model_multiply.values})"
   ]
  },
  {
   "cell_type": "code",
   "execution_count": 32,
   "metadata": {},
   "outputs": [
    {
     "data": {
      "text/html": "<div>\n<style scoped>\n    .dataframe tbody tr th:only-of-type {\n        vertical-align: middle;\n    }\n\n    .dataframe tbody tr th {\n        vertical-align: top;\n    }\n\n    .dataframe thead th {\n        text-align: right;\n    }\n</style>\n<table border=\"1\" class=\"dataframe\">\n  <thead>\n    <tr style=\"text-align: right;\">\n      <th></th>\n      <th>top5_model_concatenate</th>\n      <th>top5_model_dot</th>\n      <th>top5_model_add</th>\n      <th>top5_model_substract</th>\n      <th>top5_model_mulitply</th>\n    </tr>\n  </thead>\n  <tbody>\n    <tr>\n      <th>0</th>\n      <td>1030</td>\n      <td>1445</td>\n      <td>3034</td>\n      <td>2048</td>\n      <td>2078</td>\n    </tr>\n    <tr>\n      <th>1</th>\n      <td>1214</td>\n      <td>2529</td>\n      <td>1445</td>\n      <td>1445</td>\n      <td>673</td>\n    </tr>\n    <tr>\n      <th>2</th>\n      <td>596</td>\n      <td>1500</td>\n      <td>2797</td>\n      <td>1278</td>\n      <td>1282</td>\n    </tr>\n    <tr>\n      <th>3</th>\n      <td>1445</td>\n      <td>1927</td>\n      <td>2492</td>\n      <td>1029</td>\n      <td>1030</td>\n    </tr>\n    <tr>\n      <th>4</th>\n      <td>2427</td>\n      <td>2329</td>\n      <td>1278</td>\n      <td>1793</td>\n      <td>2700</td>\n    </tr>\n  </tbody>\n</table>\n</div>",
      "text/plain": "   top5_model_concatenate  top5_model_dot  top5_model_add  \\\n0                    1030            1445            3034   \n1                    1214            2529            1445   \n2                     596            1500            2797   \n3                    1445            1927            2492   \n4                    2427            2329            1278   \n\n   top5_model_substract  top5_model_mulitply  \n0                  2048                 2078  \n1                  1445                  673  \n2                  1278                 1282  \n3                  1029                 1030  \n4                  1793                 2700  "
     },
     "execution_count": 32,
     "metadata": {},
     "output_type": "execute_result"
    }
   ],
   "source": [
    "df"
   ]
  },
  {
   "cell_type": "code",
   "execution_count": 33,
   "metadata": {},
   "outputs": [],
   "source": [
    "# movie 1445 is in 4 out of 5 models"
   ]
  },
  {
   "cell_type": "code",
   "execution_count": 35,
   "metadata": {},
   "outputs": [
    {
     "data": {
      "text/plain": "array([\"McHale's Navy (1997)\"], dtype=object)"
     },
     "execution_count": 35,
     "metadata": {},
     "output_type": "execute_result"
    }
   ],
   "source": [
    "movie_name=lambda movie: data.title[data.movie_id==movie]\n",
    "movie_name(1445).unique()"
   ]
  }
 ]
}