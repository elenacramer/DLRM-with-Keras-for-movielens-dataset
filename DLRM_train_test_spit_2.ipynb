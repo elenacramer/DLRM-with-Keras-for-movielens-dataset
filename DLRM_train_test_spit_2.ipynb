{
 "nbformat": 4,
 "nbformat_minor": 2,
 "metadata": {
  "language_info": {
   "name": "python",
   "codemirror_mode": {
    "name": "ipython",
    "version": 3
   },
   "version": "3.6.9-final"
  },
  "orig_nbformat": 2,
  "file_extension": ".py",
  "mimetype": "text/x-python",
  "name": "python",
  "npconvert_exporter": "python",
  "pygments_lexer": "ipython3",
  "version": 3,
  "kernelspec": {
   "name": "python36964bitkagglenewpipenv345dfe1713484c20b6863d1100cfe670",
   "display_name": "Python 3.6.9 64-bit ('kaggle_new': pipenv)"
  }
 },
 "cells": [
  {
   "cell_type": "code",
   "execution_count": 173,
   "metadata": {},
   "outputs": [],
   "source": [
    "# training a model with pre-defined (and saved) train / test datasets\n",
    "# here we repeat the steps from DLRM_train_test_split but prepare the data as was done in the pytorch model!"
   ]
  },
  {
   "cell_type": "code",
   "execution_count": null,
   "metadata": {},
   "outputs": [],
   "source": []
  },
  {
   "cell_type": "code",
   "execution_count": 174,
   "metadata": {},
   "outputs": [
    {
     "data": {
      "text/html": "<div>\n<style scoped>\n    .dataframe tbody tr th:only-of-type {\n        vertical-align: middle;\n    }\n\n    .dataframe tbody tr th {\n        vertical-align: top;\n    }\n\n    .dataframe thead th {\n        text-align: right;\n    }\n</style>\n<table border=\"1\" class=\"dataframe\">\n  <thead>\n    <tr style=\"text-align: right;\">\n      <th></th>\n      <th>user_id</th>\n      <th>movie_id</th>\n      <th>rating</th>\n      <th>unix_timestamp</th>\n      <th>title</th>\n      <th>genre</th>\n    </tr>\n  </thead>\n  <tbody>\n    <tr>\n      <th>0</th>\n      <td>1</td>\n      <td>1</td>\n      <td>4.0</td>\n      <td>964982703</td>\n      <td>Toy Story (1995)</td>\n      <td>Adventure|Animation|Children|Comedy|Fantasy</td>\n    </tr>\n    <tr>\n      <th>1</th>\n      <td>5</td>\n      <td>1</td>\n      <td>4.0</td>\n      <td>847434962</td>\n      <td>Toy Story (1995)</td>\n      <td>Adventure|Animation|Children|Comedy|Fantasy</td>\n    </tr>\n    <tr>\n      <th>2</th>\n      <td>7</td>\n      <td>1</td>\n      <td>4.5</td>\n      <td>1106635946</td>\n      <td>Toy Story (1995)</td>\n      <td>Adventure|Animation|Children|Comedy|Fantasy</td>\n    </tr>\n    <tr>\n      <th>3</th>\n      <td>15</td>\n      <td>1</td>\n      <td>2.5</td>\n      <td>1510577970</td>\n      <td>Toy Story (1995)</td>\n      <td>Adventure|Animation|Children|Comedy|Fantasy</td>\n    </tr>\n    <tr>\n      <th>4</th>\n      <td>17</td>\n      <td>1</td>\n      <td>4.5</td>\n      <td>1305696483</td>\n      <td>Toy Story (1995)</td>\n      <td>Adventure|Animation|Children|Comedy|Fantasy</td>\n    </tr>\n  </tbody>\n</table>\n</div>",
      "text/plain": "   user_id  movie_id  rating  unix_timestamp             title  \\\n0        1         1     4.0       964982703  Toy Story (1995)   \n1        5         1     4.0       847434962  Toy Story (1995)   \n2        7         1     4.5      1106635946  Toy Story (1995)   \n3       15         1     2.5      1510577970  Toy Story (1995)   \n4       17         1     4.5      1305696483  Toy Story (1995)   \n\n                                         genre  \n0  Adventure|Animation|Children|Comedy|Fantasy  \n1  Adventure|Animation|Children|Comedy|Fantasy  \n2  Adventure|Animation|Children|Comedy|Fantasy  \n3  Adventure|Animation|Children|Comedy|Fantasy  \n4  Adventure|Animation|Children|Comedy|Fantasy  "
     },
     "execution_count": 174,
     "metadata": {},
     "output_type": "execute_result"
    }
   ],
   "source": [
    "# reading the data ml-latest-small\n",
    "import pandas as pd\n",
    "import zipfile\n",
    "import numpy as np \n",
    "zf = zipfile.ZipFile('/home/elena/Downloads/ml-latest-small.zip')\n",
    "# reading ratings file:\n",
    "r_cols = ['user_id', 'movie_id', 'rating', 'unix_timestamp']\n",
    "ratings = pd.read_csv(zf.open('ml-latest-small/ratings.csv'), names=r_cols)\n",
    "m_cols=['movie_id', 'title', 'genre']\n",
    "movies = pd.read_csv(zf.open('ml-latest-small/movies.csv'), names=m_cols)\n",
    "# merging ratings and movies\n",
    "ratings=pd.merge(ratings,movies,on='movie_id')\n",
    "ratings.head()"
   ]
  },
  {
   "cell_type": "code",
   "execution_count": 175,
   "metadata": {},
   "outputs": [],
   "source": [
    "def create_dataset(ratings, top=None):\n",
    "    if top is not None:\n",
    "        ratings.groupby('user_id')['rating'].count()\n",
    "    \n",
    "    unique_users = ratings.user_id.unique()\n",
    "    older_users = ratings.user_id\n",
    "    user_to_index = {old: new for new, old in enumerate(unique_users)}\n",
    "    # index_to_user={new: old for old, new in user_to_index.items()}?\n",
    "    new_users = ratings.user_id.map(user_to_index)\n",
    "    \n",
    "    unique_movies = ratings.movie_id.unique()\n",
    "    movie_to_index = {old: new for new, old in enumerate(unique_movies)}\n",
    "    # index_to_movie{new: old for old, new in movie_to_index.items()}\n",
    "    new_movies = ratings.movie_id.map(movie_to_index)\n",
    "    \n",
    "    n_users = unique_users.shape[0]\n",
    "    n_movies = unique_movies.shape[0]\n",
    "    \n",
    "    X = pd.DataFrame({'user_id': new_users,'user_id_old': ratings.user_id, 'movie_id': new_movies, 'title': ratings.title.values})\n",
    "    y = ratings['rating'].astype(np.float32)\n",
    "    return (n_users, n_movies), (X, y), (user_to_index, movie_to_index)"
   ]
  },
  {
   "cell_type": "code",
   "execution_count": 176,
   "metadata": {},
   "outputs": [],
   "source": [
    "(n, m), (X, y), _ = create_dataset(ratings)"
   ]
  },
  {
   "cell_type": "code",
   "execution_count": 177,
   "metadata": {},
   "outputs": [],
   "source": [
    "# splitting into train and test data\n",
    "# data was split and safed! \n",
    "train=pd.read_pickle('/home/elena/Downloads/traindata.pkl')\n",
    "test=pd.read_pickle('/home/elena/Downloads/testdata.pkl')"
   ]
  },
  {
   "cell_type": "code",
   "execution_count": 178,
   "metadata": {},
   "outputs": [
    {
     "data": {
      "text/html": "<div>\n<style scoped>\n    .dataframe tbody tr th:only-of-type {\n        vertical-align: middle;\n    }\n\n    .dataframe tbody tr th {\n        vertical-align: top;\n    }\n\n    .dataframe thead th {\n        text-align: right;\n    }\n</style>\n<table border=\"1\" class=\"dataframe\">\n  <thead>\n    <tr style=\"text-align: right;\">\n      <th></th>\n      <th>user_id</th>\n      <th>age</th>\n      <th>sex</th>\n      <th>occupation</th>\n      <th>zip_code</th>\n      <th>movie_id</th>\n      <th>rating</th>\n      <th>unix_timestamp</th>\n      <th>title</th>\n      <th>genre</th>\n    </tr>\n  </thead>\n  <tbody>\n    <tr>\n      <th>97717</th>\n      <td>606</td>\n      <td>28</td>\n      <td>M</td>\n      <td>programmer</td>\n      <td>63044</td>\n      <td>3462</td>\n      <td>4.0</td>\n      <td>1171501099</td>\n      <td>Modern Times (1936)</td>\n      <td>Comedy|Drama|Romance</td>\n    </tr>\n    <tr>\n      <th>100124</th>\n      <td>610</td>\n      <td>22</td>\n      <td>M</td>\n      <td>student</td>\n      <td>21227</td>\n      <td>8914</td>\n      <td>4.0</td>\n      <td>1493845360</td>\n      <td>Primer (2004)</td>\n      <td>Drama|Sci-Fi</td>\n    </tr>\n    <tr>\n      <th>25952</th>\n      <td>180</td>\n      <td>22</td>\n      <td>F</td>\n      <td>administrator</td>\n      <td>60202</td>\n      <td>1196</td>\n      <td>4.0</td>\n      <td>1270237862</td>\n      <td>Star Wars: Episode V - The Empire Strikes Back...</td>\n      <td>Action|Adventure|Sci-Fi</td>\n    </tr>\n    <tr>\n      <th>25871</th>\n      <td>178</td>\n      <td>26</td>\n      <td>M</td>\n      <td>other</td>\n      <td>49512</td>\n      <td>2231</td>\n      <td>4.5</td>\n      <td>1163673637</td>\n      <td>Rounders (1998)</td>\n      <td>Drama</td>\n    </tr>\n    <tr>\n      <th>97255</th>\n      <td>605</td>\n      <td>33</td>\n      <td>M</td>\n      <td>engineer</td>\n      <td>33716</td>\n      <td>1588</td>\n      <td>4.0</td>\n      <td>1277094877</td>\n      <td>George of the Jungle (1997)</td>\n      <td>Children|Comedy</td>\n    </tr>\n  </tbody>\n</table>\n</div>",
      "text/plain": "        user_id  age sex     occupation zip_code  movie_id  rating  \\\n97717       606   28   M     programmer    63044      3462     4.0   \n100124      610   22   M        student    21227      8914     4.0   \n25952       180   22   F  administrator    60202      1196     4.0   \n25871       178   26   M          other    49512      2231     4.5   \n97255       605   33   M       engineer    33716      1588     4.0   \n\n        unix_timestamp                                              title  \\\n97717       1171501099                                Modern Times (1936)   \n100124      1493845360                                      Primer (2004)   \n25952       1270237862  Star Wars: Episode V - The Empire Strikes Back...   \n25871       1163673637                                    Rounders (1998)   \n97255       1277094877                        George of the Jungle (1997)   \n\n                          genre  \n97717      Comedy|Drama|Romance  \n100124             Drama|Sci-Fi  \n25952   Action|Adventure|Sci-Fi  \n25871                     Drama  \n97255           Children|Comedy  "
     },
     "execution_count": 178,
     "metadata": {},
     "output_type": "execute_result"
    }
   ],
   "source": [
    "train.head()"
   ]
  },
  {
   "cell_type": "code",
   "execution_count": 179,
   "metadata": {},
   "outputs": [],
   "source": [
    "columns=['user_id', 'movie_id', 'rating', 'title']\n",
    "train=train[columns]\n",
    "test=test[columns]"
   ]
  },
  {
   "cell_type": "code",
   "execution_count": 180,
   "metadata": {},
   "outputs": [],
   "source": [
    "(n_train, m_train), (X_train, y_train), _ = create_dataset(train)\n",
    "(n_test, m_test), (X_test, y_test), _ = create_dataset(test)"
   ]
  },
  {
   "cell_type": "code",
   "execution_count": 181,
   "metadata": {},
   "outputs": [
    {
     "data": {
      "text/html": "<div>\n<style scoped>\n    .dataframe tbody tr th:only-of-type {\n        vertical-align: middle;\n    }\n\n    .dataframe tbody tr th {\n        vertical-align: top;\n    }\n\n    .dataframe thead th {\n        text-align: right;\n    }\n</style>\n<table border=\"1\" class=\"dataframe\">\n  <thead>\n    <tr style=\"text-align: right;\">\n      <th></th>\n      <th>user_id</th>\n      <th>user_id_old</th>\n      <th>movie_id</th>\n      <th>title</th>\n    </tr>\n  </thead>\n  <tbody>\n    <tr>\n      <th>97717</th>\n      <td>0</td>\n      <td>606</td>\n      <td>0</td>\n      <td>Modern Times (1936)</td>\n    </tr>\n    <tr>\n      <th>100124</th>\n      <td>1</td>\n      <td>610</td>\n      <td>1</td>\n      <td>Primer (2004)</td>\n    </tr>\n    <tr>\n      <th>25952</th>\n      <td>2</td>\n      <td>180</td>\n      <td>2</td>\n      <td>Star Wars: Episode V - The Empire Strikes Back...</td>\n    </tr>\n    <tr>\n      <th>25871</th>\n      <td>3</td>\n      <td>178</td>\n      <td>3</td>\n      <td>Rounders (1998)</td>\n    </tr>\n    <tr>\n      <th>97255</th>\n      <td>4</td>\n      <td>605</td>\n      <td>4</td>\n      <td>George of the Jungle (1997)</td>\n    </tr>\n  </tbody>\n</table>\n</div>",
      "text/plain": "        user_id  user_id_old  movie_id  \\\n97717         0          606         0   \n100124        1          610         1   \n25952         2          180         2   \n25871         3          178         3   \n97255         4          605         4   \n\n                                                    title  \n97717                                 Modern Times (1936)  \n100124                                      Primer (2004)  \n25952   Star Wars: Episode V - The Empire Strikes Back...  \n25871                                     Rounders (1998)  \n97255                         George of the Jungle (1997)  "
     },
     "execution_count": 181,
     "metadata": {},
     "output_type": "execute_result"
    }
   ],
   "source": [
    "X_train.head()"
   ]
  },
  {
   "cell_type": "code",
   "execution_count": 182,
   "metadata": {},
   "outputs": [
    {
     "name": "stdout",
     "output_type": "stream",
     "text": "Embeddings: 610 users, 8762 movies\nDataset shape: (75627, 4)\nTarget shape: (75627,)\n"
    }
   ],
   "source": [
    "print(f'Embeddings: {n_train} users, {m_train} movies')\n",
    "print(f'Dataset shape: {X_train.shape}')\n",
    "print(f'Target shape: {y_train.shape}')"
   ]
  },
  {
   "cell_type": "code",
   "execution_count": 183,
   "metadata": {},
   "outputs": [
    {
     "name": "stdout",
     "output_type": "stream",
     "text": "Test Data: 610 users, 5672 movies\nDataset shape: (25209, 4)\nTarget shape: (25209,)\n"
    }
   ],
   "source": [
    "print(f'Test Data: {n_test} users, {m_test} movies')\n",
    "print(f'Dataset shape: {X_test.shape}')\n",
    "print(f'Target shape: {y_test.shape}')"
   ]
  },
  {
   "cell_type": "code",
   "execution_count": 184,
   "metadata": {},
   "outputs": [],
   "source": [
    "# Implementation \n",
    "from keras.layers import Input, Embedding, Concatenate, Flatten, Dense, Dot, Add, Multiply, Subtract, Average\n",
    "from keras.models import Model\n",
    "from keras.callbacks import EarlyStopping"
   ]
  },
  {
   "cell_type": "code",
   "execution_count": 185,
   "metadata": {},
   "outputs": [],
   "source": [
    "def embedding_model(hidden_units, user_embedding_dim, user_max_cat_value, movie_embedding_dim, movie_max_cat_value,merging_method):\n",
    "    # Each instance will consist of two inputs: a single user id, and a single movie id\n",
    "    user_id_input = Input(shape=(1,), name='user_id')\n",
    "    movie_id_input = Input(shape=(1,), name='movie_id')\n",
    "    # Embeddings\n",
    "    user_embedded = Embedding(user_max_cat_value+1, user_embedding_dim, \n",
    "                                       input_length=1, name='user_embedding')(user_id_input)\n",
    "    movie_embedded = Embedding(movie_max_cat_value+1, movie_embedding_dim, \n",
    "                                        input_length=1, name='movie_embedding')(movie_id_input)\n",
    "    # merging the embeddings\n",
    "    if merging_method=='concatenate':\n",
    "        merged = Concatenate()([user_embedded, movie_embedded])\n",
    "    if merging_method=='dot_product':\n",
    "        merged =Dot(name = 'dot_product', normalize = True, axes = 2)([user_embedded, movie_embedded])\n",
    "    if merging_method=='add':\n",
    "        merged =Add()([user_embedded, movie_embedded])\n",
    "    if merging_method=='substract':\n",
    "        merged=Subtract()([user_embedded, movie_embedded])\n",
    "    if merging_method=='multiply':\n",
    "        merged=Multiply()([user_embedded, movie_embedded])\n",
    "    if merging_method=='average':\n",
    "        merged=Average()([user_embedded, movie_embedded])\n",
    "    out = Flatten()(merged)\n",
    "\n",
    "    # Add one or more hidden layers\n",
    "    for n_hidden in hidden_units:\n",
    "        out = Dense(n_hidden, activation='relu')(out)\n",
    "\n",
    "    # A single output: our predicted rating\n",
    "    out = Dense(1, activation='linear', name='prediction')(out)\n",
    "    return Model(inputs = [user_id_input, movie_id_input],outputs = out)"
   ]
  },
  {
   "cell_type": "code",
   "execution_count": 186,
   "metadata": {},
   "outputs": [],
   "source": [
    "hidden_units = (100,50) #same as in pytorch model\n",
    "movie_embedding_dim = 50 #same as in pytorch model\n",
    "user_embedding_dim = 50  #same as in pytorch model\n",
    "user_max_cat_value = n\n",
    "movie_max_cat_value=m \n",
    "model_concatenate=embedding_model(hidden_units, user_embedding_dim, user_max_cat_value, movie_embedding_dim, movie_max_cat_value, merging_method='concatenate')\n",
    "# model_concatenate.summary(line_length=88)"
   ]
  },
  {
   "cell_type": "code",
   "execution_count": 187,
   "metadata": {},
   "outputs": [
    {
     "name": "stdout",
     "output_type": "stream",
     "text": "Train on 75627 samples, validate on 25209 samples\nEpoch 1/10\n - 3s - loss: 3.0598 - MAE: 1.2792 - val_loss: 1.3565 - val_MAE: 0.9282\nEpoch 2/10\n - 3s - loss: 0.7313 - MAE: 0.6582 - val_loss: 1.4151 - val_MAE: 0.9443\n"
    }
   ],
   "source": [
    "# compiling / new version\n",
    "model_concatenate.compile(optimizer = 'Adam',loss='MSE',metrics=['MAE'])\n",
    "# early stopping\n",
    "es=EarlyStopping(monitor='val_MAE', min_delta=0, patience=0, verbose=0, mode='min', baseline=None, restore_best_weights=False)\n",
    "# training and using the pre-defined train and test data\n",
    "trained_model_concatenate= model_concatenate.fit(x=[X_train.user_id, X_train.movie_id], y=y_train, batch_size=500,epochs=10, verbose=2, validation_data=[[X_test.user_id, X_test.movie_id],y_test], callbacks=[es])"
   ]
  },
  {
   "cell_type": "code",
   "execution_count": 188,
   "metadata": {},
   "outputs": [],
   "source": [
    "#  Epch 4/19 - 48s - loss: 0.6777 - MAE: 0.6295 - val_loss: 0.7709 - val_MAE: 0.6740"
   ]
  },
  {
   "cell_type": "code",
   "execution_count": 189,
   "metadata": {},
   "outputs": [],
   "source": [
    "model_dot=embedding_model(hidden_units, user_embedding_dim, user_max_cat_value, movie_embedding_dim, movie_max_cat_value, merging_method='dot_product')"
   ]
  },
  {
   "cell_type": "code",
   "execution_count": 190,
   "metadata": {},
   "outputs": [
    {
     "name": "stdout",
     "output_type": "stream",
     "text": "Train on 75627 samples, validate on 25209 samples\nEpoch 1/10\n - 3s - loss: 4.4732 - MAE: 1.6629 - val_loss: 1.0828 - val_MAE: 0.8253\nEpoch 2/10\n - 3s - loss: 1.0364 - MAE: 0.8117 - val_loss: 1.1419 - val_MAE: 0.8593\n"
    }
   ],
   "source": [
    "# compiling \n",
    "model_dot.compile(optimizer = 'Adam',loss='MSE',metrics=['MAE'])\n",
    "# early stopping\n",
    "es=EarlyStopping(monitor='val_MAE', min_delta=0, patience=0, verbose=0, mode='min', baseline=None, restore_best_weights=False)\n",
    "# training and using the pre-defined train and test data\n",
    "trained_model_dot= model_dot.fit(x=[X_train.user_id, X_train.movie_id], y=y_train, batch_size=500,epochs=10, verbose=2, validation_data=[[X_test.user_id, X_test.movie_id],y_test], callbacks=[es])"
   ]
  },
  {
   "cell_type": "code",
   "execution_count": 191,
   "metadata": {},
   "outputs": [],
   "source": [
    "# Epoch 2/10  - 57s - loss: 1.0672 - MAE: 0.8238 - val_loss: 1.0869 - val_MAE: 0.8376\n",
    "# around the same"
   ]
  },
  {
   "cell_type": "code",
   "execution_count": 192,
   "metadata": {},
   "outputs": [
    {
     "name": "stdout",
     "output_type": "stream",
     "text": "Train on 75627 samples, validate on 25209 samples\nEpoch 1/10\n - 3s - loss: 3.2245 - MAE: 1.3192 - val_loss: 1.4134 - val_MAE: 0.9504\nEpoch 2/10\n - 3s - loss: 0.7324 - MAE: 0.6590 - val_loss: 1.4445 - val_MAE: 0.9573\n"
    }
   ],
   "source": [
    "model_add=embedding_model(hidden_units, user_embedding_dim, user_max_cat_value, movie_embedding_dim, movie_max_cat_value, merging_method='add')\n",
    "# compiling \n",
    "model_add.compile(optimizer = 'Adam',loss='MSE',metrics=['MAE'])\n",
    "# early stopping\n",
    "es=EarlyStopping(monitor='val_MAE', min_delta=0, patience=0, verbose=0, mode='min', baseline=None, restore_best_weights=False)\n",
    "# training and using the pre-defined train and test data\n",
    "trained_model_add= model_add.fit(x=[X_train.user_id, X_train.movie_id], y=y_train, batch_size=500,epochs=10, verbose=2, validation_data=[[X_test.user_id, X_test.movie_id],y_test], callbacks=[es])"
   ]
  },
  {
   "cell_type": "code",
   "execution_count": 193,
   "metadata": {},
   "outputs": [],
   "source": [
    "# Epoch 3/10 - 32s - loss: 0.6899 - MAE: 0.6363 - val_loss: 0.7743 - val_MAE: 0.6801"
   ]
  },
  {
   "cell_type": "code",
   "execution_count": 194,
   "metadata": {},
   "outputs": [
    {
     "name": "stdout",
     "output_type": "stream",
     "text": "Train on 75627 samples, validate on 25209 samples\nEpoch 1/10\n - 3s - loss: 3.2837 - MAE: 1.3305 - val_loss: 1.4433 - val_MAE: 0.9620\nEpoch 2/10\n - 3s - loss: 0.7352 - MAE: 0.6599 - val_loss: 1.4790 - val_MAE: 0.9682\n"
    }
   ],
   "source": [
    "model_substract=embedding_model(hidden_units, user_embedding_dim, user_max_cat_value, movie_embedding_dim, movie_max_cat_value, merging_method='substract')\n",
    "# compiling \n",
    "model_substract.compile(optimizer = 'Adam',loss='MSE',metrics=['MAE'])\n",
    "# early stopping\n",
    "es=EarlyStopping(monitor='val_MAE', min_delta=0, patience=0, verbose=0, mode='min', baseline=None, restore_best_weights=False)\n",
    "# training and using the pre-defined train and test data\n",
    "trained_model_substract= model_substract.fit(x=[X_train.user_id, X_train.movie_id], y=y_train, batch_size=500,epochs=10, verbose=2, validation_data=[[X_test.user_id, X_test.movie_id],y_test], callbacks=[es])"
   ]
  },
  {
   "cell_type": "code",
   "execution_count": 195,
   "metadata": {},
   "outputs": [],
   "source": [
    "# Epoch 7/10  - 46s - loss: 0.6186 - MAE: 0.5960 - val_loss: 0.7775 - val_MAE: 0.6773"
   ]
  },
  {
   "cell_type": "code",
   "execution_count": 196,
   "metadata": {},
   "outputs": [
    {
     "name": "stdout",
     "output_type": "stream",
     "text": "Train on 75627 samples, validate on 25209 samples\nEpoch 1/10\n - 3s - loss: 4.1772 - MAE: 1.5922 - val_loss: 1.0819 - val_MAE: 0.8247\nEpoch 2/10\n - 3s - loss: 0.9186 - MAE: 0.7515 - val_loss: 1.2040 - val_MAE: 0.8827\n"
    }
   ],
   "source": [
    "model_multiply=embedding_model(hidden_units, user_embedding_dim, user_max_cat_value, movie_embedding_dim, movie_max_cat_value, merging_method='multiply')\n",
    "# compiling \n",
    "model_multiply.compile(optimizer = 'Adam',loss='MSE',metrics=['MAE'])\n",
    "# early stopping\n",
    "es=EarlyStopping(monitor='val_MAE', min_delta=0, patience=0, verbose=0, mode='min', baseline=None, restore_best_weights=False)\n",
    "# training and using the pre-defined train and test data\n",
    "history_multiply= model_multiply.fit(x=[X_train.user_id, X_train.movie_id], y=y_train, batch_size=500,epochs=10, verbose=2, validation_data=[[X_test.user_id, X_test.movie_id],y_test], callbacks=[es])"
   ]
  },
  {
   "cell_type": "code",
   "execution_count": 197,
   "metadata": {},
   "outputs": [],
   "source": [
    "# Epoch 3/10  - 46s - loss: 0.4674 - MAE: 0.5177 - val_loss: 0.8758 - val_MAE: 0.7270"
   ]
  },
  {
   "cell_type": "code",
   "execution_count": 198,
   "metadata": {},
   "outputs": [],
   "source": [
    "# example prediction"
   ]
  },
  {
   "cell_type": "code",
   "execution_count": 199,
   "metadata": {},
   "outputs": [],
   "source": [
    "data=X\n",
    "data['rating']=y"
   ]
  },
  {
   "cell_type": "code",
   "execution_count": 200,
   "metadata": {},
   "outputs": [
    {
     "data": {
      "text/html": "<div>\n<style scoped>\n    .dataframe tbody tr th:only-of-type {\n        vertical-align: middle;\n    }\n\n    .dataframe tbody tr th {\n        vertical-align: top;\n    }\n\n    .dataframe thead th {\n        text-align: right;\n    }\n</style>\n<table border=\"1\" class=\"dataframe\">\n  <thead>\n    <tr style=\"text-align: right;\">\n      <th></th>\n      <th>user_id</th>\n      <th>user_id_old</th>\n      <th>movie_id</th>\n      <th>title</th>\n      <th>rating</th>\n    </tr>\n  </thead>\n  <tbody>\n    <tr>\n      <th>0</th>\n      <td>0</td>\n      <td>1</td>\n      <td>0</td>\n      <td>Toy Story (1995)</td>\n      <td>4.0</td>\n    </tr>\n    <tr>\n      <th>1</th>\n      <td>1</td>\n      <td>5</td>\n      <td>0</td>\n      <td>Toy Story (1995)</td>\n      <td>4.0</td>\n    </tr>\n    <tr>\n      <th>2</th>\n      <td>2</td>\n      <td>7</td>\n      <td>0</td>\n      <td>Toy Story (1995)</td>\n      <td>4.5</td>\n    </tr>\n    <tr>\n      <th>3</th>\n      <td>3</td>\n      <td>15</td>\n      <td>0</td>\n      <td>Toy Story (1995)</td>\n      <td>2.5</td>\n    </tr>\n    <tr>\n      <th>4</th>\n      <td>4</td>\n      <td>17</td>\n      <td>0</td>\n      <td>Toy Story (1995)</td>\n      <td>4.5</td>\n    </tr>\n  </tbody>\n</table>\n</div>",
      "text/plain": "   user_id  user_id_old  movie_id             title  rating\n0        0            1         0  Toy Story (1995)     4.0\n1        1            5         0  Toy Story (1995)     4.0\n2        2            7         0  Toy Story (1995)     4.5\n3        3           15         0  Toy Story (1995)     2.5\n4        4           17         0  Toy Story (1995)     4.5"
     },
     "execution_count": 200,
     "metadata": {},
     "output_type": "execute_result"
    }
   ],
   "source": [
    "data.head()"
   ]
  },
  {
   "cell_type": "code",
   "execution_count": 201,
   "metadata": {},
   "outputs": [
    {
     "name": "stdout",
     "output_type": "stream",
     "text": "User #1 has rated 232 movies (avg. rating = 4.4):\n"
    },
    {
     "data": {
      "text/html": "<div>\n<style scoped>\n    .dataframe tbody tr th:only-of-type {\n        vertical-align: middle;\n    }\n\n    .dataframe tbody tr th {\n        vertical-align: top;\n    }\n\n    .dataframe thead th {\n        text-align: right;\n    }\n</style>\n<table border=\"1\" class=\"dataframe\">\n  <thead>\n    <tr style=\"text-align: right;\">\n      <th></th>\n      <th>user_id</th>\n      <th>user_id_old</th>\n      <th>movie_id</th>\n      <th>title</th>\n      <th>rating</th>\n    </tr>\n  </thead>\n  <tbody>\n    <tr>\n      <th>16250</th>\n      <td>0</td>\n      <td>1</td>\n      <td>231</td>\n      <td>M*A*S*H (a.k.a. MASH) (1970)</td>\n      <td>5.0</td>\n    </tr>\n    <tr>\n      <th>14053</th>\n      <td>0</td>\n      <td>1</td>\n      <td>185</td>\n      <td>Excalibur (1981)</td>\n      <td>5.0</td>\n    </tr>\n    <tr>\n      <th>9066</th>\n      <td>0</td>\n      <td>1</td>\n      <td>89</td>\n      <td>Indiana Jones and the Last Crusade (1989)</td>\n      <td>5.0</td>\n    </tr>\n    <tr>\n      <th>9206</th>\n      <td>0</td>\n      <td>1</td>\n      <td>90</td>\n      <td>Pink Floyd: The Wall (1982)</td>\n      <td>5.0</td>\n    </tr>\n    <tr>\n      <th>14254</th>\n      <td>0</td>\n      <td>1</td>\n      <td>190</td>\n      <td>From Russia with Love (1963)</td>\n      <td>5.0</td>\n    </tr>\n    <tr>\n      <th>...</th>\n      <td>...</td>\n      <td>...</td>\n      <td>...</td>\n      <td>...</td>\n      <td>...</td>\n    </tr>\n    <tr>\n      <th>12997</th>\n      <td>0</td>\n      <td>1</td>\n      <td>170</td>\n      <td>Mummy, The (1999)</td>\n      <td>2.0</td>\n    </tr>\n    <tr>\n      <th>11663</th>\n      <td>0</td>\n      <td>1</td>\n      <td>143</td>\n      <td>Toys (1992)</td>\n      <td>2.0</td>\n    </tr>\n    <tr>\n      <th>11991</th>\n      <td>0</td>\n      <td>1</td>\n      <td>148</td>\n      <td>I Still Know What You Did Last Summer (1998)</td>\n      <td>2.0</td>\n    </tr>\n    <tr>\n      <th>12117</th>\n      <td>0</td>\n      <td>1</td>\n      <td>152</td>\n      <td>Psycho (1998)</td>\n      <td>2.0</td>\n    </tr>\n    <tr>\n      <th>15190</th>\n      <td>0</td>\n      <td>1</td>\n      <td>205</td>\n      <td>Talented Mr. Ripley, The (1999)</td>\n      <td>1.0</td>\n    </tr>\n  </tbody>\n</table>\n<p>232 rows × 5 columns</p>\n</div>",
      "text/plain": "       user_id  user_id_old  movie_id  \\\n16250        0            1       231   \n14053        0            1       185   \n9066         0            1        89   \n9206         0            1        90   \n14254        0            1       190   \n...        ...          ...       ...   \n12997        0            1       170   \n11663        0            1       143   \n11991        0            1       148   \n12117        0            1       152   \n15190        0            1       205   \n\n                                              title  rating  \n16250                  M*A*S*H (a.k.a. MASH) (1970)     5.0  \n14053                              Excalibur (1981)     5.0  \n9066      Indiana Jones and the Last Crusade (1989)     5.0  \n9206                    Pink Floyd: The Wall (1982)     5.0  \n14254                  From Russia with Love (1963)     5.0  \n...                                             ...     ...  \n12997                             Mummy, The (1999)     2.0  \n11663                                   Toys (1992)     2.0  \n11991  I Still Know What You Did Last Summer (1998)     2.0  \n12117                                 Psycho (1998)     2.0  \n15190               Talented Mr. Ripley, The (1999)     1.0  \n\n[232 rows x 5 columns]"
     },
     "execution_count": 201,
     "metadata": {},
     "output_type": "execute_result"
    }
   ],
   "source": [
    "# User 1\n",
    "ratings_per_user = data.groupby('user_id').size()\n",
    "uid = 1\n",
    "user_ratings = data[data.user_id_old==uid]\n",
    "print(\"User #{} has rated {} movies (avg. rating = {:.1f}):\".format(\n",
    "    uid, len(user_ratings), user_ratings['rating'].mean(),\n",
    "))\n",
    "user_ratings.sort_values(by='rating', ascending=False)"
   ]
  },
  {
   "cell_type": "code",
   "execution_count": 203,
   "metadata": {},
   "outputs": [],
   "source": [
    "# predicting for movies from the test data\n",
    "movies_from_test=X_test.movie_id[X_test.user_id_old==uid].unique()\n",
    "# prediction \n",
    "pred_concatenate=model_concatenate.predict([[uid]*len(movies_from_test),movies_from_test])\n",
    "pred_dot=model_dot.predict([[uid]*len(movies_from_test),movies_from_test])\n",
    "pred_add=model_add.predict([[uid]*len(movies_from_test),movies_from_test])\n",
    "pred_substract=model_substract.predict([[uid]*len(movies_from_test),movies_from_test])\n",
    "pred_multiply=model_multiply.predict([[uid]*len(movies_from_test),movies_from_test])"
   ]
  },
  {
   "cell_type": "code",
   "execution_count": 204,
   "metadata": {},
   "outputs": [
    {
     "data": {
      "text/html": "<div>\n<style scoped>\n    .dataframe tbody tr th:only-of-type {\n        vertical-align: middle;\n    }\n\n    .dataframe tbody tr th {\n        vertical-align: top;\n    }\n\n    .dataframe thead th {\n        text-align: right;\n    }\n</style>\n<table border=\"1\" class=\"dataframe\">\n  <thead>\n    <tr style=\"text-align: right;\">\n      <th></th>\n      <th>user_id</th>\n      <th>movie_id</th>\n      <th>rating</th>\n      <th>model_concatenate</th>\n      <th>model_dot</th>\n      <th>model_add</th>\n      <th>model_substract</th>\n      <th>model_multiply</th>\n    </tr>\n  </thead>\n  <tbody>\n    <tr>\n      <th>115</th>\n      <td>1</td>\n      <td>1954</td>\n      <td>5.0</td>\n      <td>3.681687</td>\n      <td>3.270614</td>\n      <td>3.846559</td>\n      <td>3.915456</td>\n      <td>3.834639</td>\n    </tr>\n    <tr>\n      <th>156</th>\n      <td>1</td>\n      <td>2427</td>\n      <td>5.0</td>\n      <td>3.831679</td>\n      <td>3.571286</td>\n      <td>4.032930</td>\n      <td>3.872842</td>\n      <td>3.731804</td>\n    </tr>\n    <tr>\n      <th>8</th>\n      <td>1</td>\n      <td>151</td>\n      <td>5.0</td>\n      <td>4.196156</td>\n      <td>4.124562</td>\n      <td>4.430522</td>\n      <td>4.303009</td>\n      <td>4.001982</td>\n    </tr>\n    <tr>\n      <th>88</th>\n      <td>1</td>\n      <td>1282</td>\n      <td>5.0</td>\n      <td>3.449518</td>\n      <td>3.444354</td>\n      <td>3.661545</td>\n      <td>3.428727</td>\n      <td>3.237103</td>\n    </tr>\n    <tr>\n      <th>147</th>\n      <td>1</td>\n      <td>2329</td>\n      <td>5.0</td>\n      <td>3.878249</td>\n      <td>3.170752</td>\n      <td>3.852866</td>\n      <td>3.870592</td>\n      <td>3.628895</td>\n    </tr>\n    <tr>\n      <th>103</th>\n      <td>1</td>\n      <td>1617</td>\n      <td>5.0</td>\n      <td>3.500389</td>\n      <td>3.207579</td>\n      <td>3.383346</td>\n      <td>3.501280</td>\n      <td>3.022040</td>\n    </tr>\n    <tr>\n      <th>179</th>\n      <td>1</td>\n      <td>2700</td>\n      <td>5.0</td>\n      <td>3.803867</td>\n      <td>3.389079</td>\n      <td>4.076006</td>\n      <td>3.833677</td>\n      <td>3.925233</td>\n    </tr>\n    <tr>\n      <th>135</th>\n      <td>1</td>\n      <td>2116</td>\n      <td>5.0</td>\n      <td>4.396790</td>\n      <td>3.839192</td>\n      <td>4.539169</td>\n      <td>4.510848</td>\n      <td>3.769500</td>\n    </tr>\n    <tr>\n      <th>158</th>\n      <td>1</td>\n      <td>2459</td>\n      <td>5.0</td>\n      <td>3.568590</td>\n      <td>3.506024</td>\n      <td>3.672828</td>\n      <td>3.533752</td>\n      <td>3.444415</td>\n    </tr>\n    <tr>\n      <th>149</th>\n      <td>1</td>\n      <td>2353</td>\n      <td>5.0</td>\n      <td>3.556995</td>\n      <td>3.499892</td>\n      <td>3.782760</td>\n      <td>3.525619</td>\n      <td>3.565284</td>\n    </tr>\n    <tr>\n      <th>151</th>\n      <td>1</td>\n      <td>2387</td>\n      <td>5.0</td>\n      <td>4.001328</td>\n      <td>3.566722</td>\n      <td>3.908328</td>\n      <td>4.013130</td>\n      <td>3.811284</td>\n    </tr>\n    <tr>\n      <th>222</th>\n      <td>1</td>\n      <td>3671</td>\n      <td>5.0</td>\n      <td>4.210372</td>\n      <td>3.853753</td>\n      <td>4.346661</td>\n      <td>4.100633</td>\n      <td>3.881014</td>\n    </tr>\n    <tr>\n      <th>128</th>\n      <td>1</td>\n      <td>2090</td>\n      <td>5.0</td>\n      <td>3.464762</td>\n      <td>3.644623</td>\n      <td>3.495982</td>\n      <td>3.862899</td>\n      <td>3.560101</td>\n    </tr>\n    <tr>\n      <th>195</th>\n      <td>1</td>\n      <td>2991</td>\n      <td>5.0</td>\n      <td>3.199228</td>\n      <td>3.020979</td>\n      <td>3.088131</td>\n      <td>3.177671</td>\n      <td>3.474714</td>\n    </tr>\n    <tr>\n      <th>219</th>\n      <td>1</td>\n      <td>3578</td>\n      <td>5.0</td>\n      <td>4.289694</td>\n      <td>4.223719</td>\n      <td>4.426885</td>\n      <td>4.309307</td>\n      <td>4.826507</td>\n    </tr>\n    <tr>\n      <th>124</th>\n      <td>1</td>\n      <td>2048</td>\n      <td>5.0</td>\n      <td>3.738297</td>\n      <td>3.476502</td>\n      <td>3.720847</td>\n      <td>3.587902</td>\n      <td>2.892967</td>\n    </tr>\n    <tr>\n      <th>199</th>\n      <td>1</td>\n      <td>3034</td>\n      <td>5.0</td>\n      <td>2.788775</td>\n      <td>3.133456</td>\n      <td>3.061332</td>\n      <td>2.774721</td>\n      <td>2.713463</td>\n    </tr>\n    <tr>\n      <th>127</th>\n      <td>1</td>\n      <td>2078</td>\n      <td>5.0</td>\n      <td>3.664566</td>\n      <td>3.518433</td>\n      <td>3.737474</td>\n      <td>3.653022</td>\n      <td>3.181731</td>\n    </tr>\n    <tr>\n      <th>87</th>\n      <td>1</td>\n      <td>1278</td>\n      <td>5.0</td>\n      <td>3.172348</td>\n      <td>3.095426</td>\n      <td>3.040887</td>\n      <td>3.143762</td>\n      <td>2.534827</td>\n    </tr>\n    <tr>\n      <th>35</th>\n      <td>1</td>\n      <td>596</td>\n      <td>5.0</td>\n      <td>4.183560</td>\n      <td>3.261779</td>\n      <td>4.176117</td>\n      <td>4.288320</td>\n      <td>4.395240</td>\n    </tr>\n    <tr>\n      <th>134</th>\n      <td>1</td>\n      <td>2115</td>\n      <td>5.0</td>\n      <td>3.561134</td>\n      <td>3.493011</td>\n      <td>3.374693</td>\n      <td>3.669857</td>\n      <td>2.978634</td>\n    </tr>\n    <tr>\n      <th>164</th>\n      <td>1</td>\n      <td>2529</td>\n      <td>5.0</td>\n      <td>3.017205</td>\n      <td>3.424807</td>\n      <td>2.979622</td>\n      <td>3.086266</td>\n      <td>2.910284</td>\n    </tr>\n    <tr>\n      <th>114</th>\n      <td>1</td>\n      <td>1927</td>\n      <td>5.0</td>\n      <td>3.446012</td>\n      <td>3.538760</td>\n      <td>3.560794</td>\n      <td>3.370194</td>\n      <td>3.063021</td>\n    </tr>\n    <tr>\n      <th>194</th>\n      <td>1</td>\n      <td>2987</td>\n      <td>5.0</td>\n      <td>3.834152</td>\n      <td>3.970022</td>\n      <td>3.670756</td>\n      <td>3.699743</td>\n      <td>3.794532</td>\n    </tr>\n    <tr>\n      <th>186</th>\n      <td>1</td>\n      <td>2899</td>\n      <td>5.0</td>\n      <td>4.351887</td>\n      <td>3.905831</td>\n      <td>4.438085</td>\n      <td>4.598622</td>\n      <td>4.429793</td>\n    </tr>\n    <tr>\n      <th>196</th>\n      <td>1</td>\n      <td>2993</td>\n      <td>5.0</td>\n      <td>4.225020</td>\n      <td>3.238820</td>\n      <td>4.403928</td>\n      <td>4.326396</td>\n      <td>3.992428</td>\n    </tr>\n    <tr>\n      <th>70</th>\n      <td>1</td>\n      <td>1198</td>\n      <td>5.0</td>\n      <td>4.329047</td>\n      <td>3.943954</td>\n      <td>4.243631</td>\n      <td>4.250391</td>\n      <td>4.507477</td>\n    </tr>\n    <tr>\n      <th>102</th>\n      <td>1</td>\n      <td>1587</td>\n      <td>5.0</td>\n      <td>3.423197</td>\n      <td>3.358058</td>\n      <td>3.945435</td>\n      <td>3.435925</td>\n      <td>3.284474</td>\n    </tr>\n    <tr>\n      <th>53</th>\n      <td>1</td>\n      <td>1029</td>\n      <td>5.0</td>\n      <td>3.988010</td>\n      <td>3.506961</td>\n      <td>4.079408</td>\n      <td>4.371833</td>\n      <td>4.274628</td>\n    </tr>\n    <tr>\n      <th>137</th>\n      <td>1</td>\n      <td>2139</td>\n      <td>5.0</td>\n      <td>3.825204</td>\n      <td>3.838879</td>\n      <td>3.633691</td>\n      <td>3.982171</td>\n      <td>3.736882</td>\n    </tr>\n    <tr>\n      <th>110</th>\n      <td>1</td>\n      <td>1793</td>\n      <td>4.0</td>\n      <td>2.467844</td>\n      <td>3.398283</td>\n      <td>2.504088</td>\n      <td>2.533883</td>\n      <td>3.552182</td>\n    </tr>\n    <tr>\n      <th>75</th>\n      <td>1</td>\n      <td>1214</td>\n      <td>4.0</td>\n      <td>3.200573</td>\n      <td>3.097271</td>\n      <td>3.177776</td>\n      <td>3.021680</td>\n      <td>3.202809</td>\n    </tr>\n    <tr>\n      <th>221</th>\n      <td>1</td>\n      <td>3639</td>\n      <td>4.0</td>\n      <td>3.516943</td>\n      <td>3.166355</td>\n      <td>3.696002</td>\n      <td>3.384860</td>\n      <td>3.289676</td>\n    </tr>\n    <tr>\n      <th>226</th>\n      <td>1</td>\n      <td>3740</td>\n      <td>4.0</td>\n      <td>3.852495</td>\n      <td>3.435827</td>\n      <td>3.660900</td>\n      <td>3.727220</td>\n      <td>3.395054</td>\n    </tr>\n    <tr>\n      <th>142</th>\n      <td>1</td>\n      <td>2193</td>\n      <td>4.0</td>\n      <td>4.105227</td>\n      <td>4.109620</td>\n      <td>4.138594</td>\n      <td>4.044044</td>\n      <td>3.895709</td>\n    </tr>\n    <tr>\n      <th>172</th>\n      <td>1</td>\n      <td>2640</td>\n      <td>4.0</td>\n      <td>3.356756</td>\n      <td>3.244249</td>\n      <td>3.458191</td>\n      <td>3.358224</td>\n      <td>3.734317</td>\n    </tr>\n    <tr>\n      <th>182</th>\n      <td>1</td>\n      <td>2797</td>\n      <td>4.0</td>\n      <td>3.238165</td>\n      <td>3.165327</td>\n      <td>3.263612</td>\n      <td>3.267079</td>\n      <td>2.877868</td>\n    </tr>\n    <tr>\n      <th>161</th>\n      <td>1</td>\n      <td>2492</td>\n      <td>4.0</td>\n      <td>3.416620</td>\n      <td>3.220882</td>\n      <td>3.368803</td>\n      <td>3.464463</td>\n      <td>3.072212</td>\n    </tr>\n    <tr>\n      <th>97</th>\n      <td>1</td>\n      <td>1500</td>\n      <td>4.0</td>\n      <td>4.303534</td>\n      <td>3.786321</td>\n      <td>4.283023</td>\n      <td>4.184958</td>\n      <td>4.922944</td>\n    </tr>\n    <tr>\n      <th>202</th>\n      <td>1</td>\n      <td>3062</td>\n      <td>4.0</td>\n      <td>4.422489</td>\n      <td>3.629470</td>\n      <td>4.463788</td>\n      <td>4.474677</td>\n      <td>3.961430</td>\n    </tr>\n    <tr>\n      <th>39</th>\n      <td>1</td>\n      <td>673</td>\n      <td>3.0</td>\n      <td>4.061978</td>\n      <td>3.284904</td>\n      <td>3.937266</td>\n      <td>3.987908</td>\n      <td>4.238899</td>\n    </tr>\n    <tr>\n      <th>106</th>\n      <td>1</td>\n      <td>1644</td>\n      <td>3.0</td>\n      <td>3.580816</td>\n      <td>3.198211</td>\n      <td>3.710767</td>\n      <td>3.898726</td>\n      <td>2.982207</td>\n    </tr>\n    <tr>\n      <th>95</th>\n      <td>1</td>\n      <td>1445</td>\n      <td>3.0</td>\n      <td>2.737531</td>\n      <td>3.358422</td>\n      <td>2.730176</td>\n      <td>2.663418</td>\n      <td>2.413767</td>\n    </tr>\n    <tr>\n      <th>101</th>\n      <td>1</td>\n      <td>1580</td>\n      <td>3.0</td>\n      <td>2.599229</td>\n      <td>3.186758</td>\n      <td>2.705493</td>\n      <td>2.741338</td>\n      <td>3.037288</td>\n    </tr>\n    <tr>\n      <th>54</th>\n      <td>1</td>\n      <td>1030</td>\n      <td>3.0</td>\n      <td>3.597775</td>\n      <td>3.752712</td>\n      <td>3.731487</td>\n      <td>3.699141</td>\n      <td>3.580676</td>\n    </tr>\n    <tr>\n      <th>23</th>\n      <td>1</td>\n      <td>423</td>\n      <td>3.0</td>\n      <td>3.816895</td>\n      <td>3.706587</td>\n      <td>3.706881</td>\n      <td>3.706737</td>\n      <td>3.581088</td>\n    </tr>\n  </tbody>\n</table>\n</div>",
      "text/plain": "     user_id  movie_id  rating  model_concatenate  model_dot  model_add  \\\n115        1      1954     5.0           3.681687   3.270614   3.846559   \n156        1      2427     5.0           3.831679   3.571286   4.032930   \n8          1       151     5.0           4.196156   4.124562   4.430522   \n88         1      1282     5.0           3.449518   3.444354   3.661545   \n147        1      2329     5.0           3.878249   3.170752   3.852866   \n103        1      1617     5.0           3.500389   3.207579   3.383346   \n179        1      2700     5.0           3.803867   3.389079   4.076006   \n135        1      2116     5.0           4.396790   3.839192   4.539169   \n158        1      2459     5.0           3.568590   3.506024   3.672828   \n149        1      2353     5.0           3.556995   3.499892   3.782760   \n151        1      2387     5.0           4.001328   3.566722   3.908328   \n222        1      3671     5.0           4.210372   3.853753   4.346661   \n128        1      2090     5.0           3.464762   3.644623   3.495982   \n195        1      2991     5.0           3.199228   3.020979   3.088131   \n219        1      3578     5.0           4.289694   4.223719   4.426885   \n124        1      2048     5.0           3.738297   3.476502   3.720847   \n199        1      3034     5.0           2.788775   3.133456   3.061332   \n127        1      2078     5.0           3.664566   3.518433   3.737474   \n87         1      1278     5.0           3.172348   3.095426   3.040887   \n35         1       596     5.0           4.183560   3.261779   4.176117   \n134        1      2115     5.0           3.561134   3.493011   3.374693   \n164        1      2529     5.0           3.017205   3.424807   2.979622   \n114        1      1927     5.0           3.446012   3.538760   3.560794   \n194        1      2987     5.0           3.834152   3.970022   3.670756   \n186        1      2899     5.0           4.351887   3.905831   4.438085   \n196        1      2993     5.0           4.225020   3.238820   4.403928   \n70         1      1198     5.0           4.329047   3.943954   4.243631   \n102        1      1587     5.0           3.423197   3.358058   3.945435   \n53         1      1029     5.0           3.988010   3.506961   4.079408   \n137        1      2139     5.0           3.825204   3.838879   3.633691   \n110        1      1793     4.0           2.467844   3.398283   2.504088   \n75         1      1214     4.0           3.200573   3.097271   3.177776   \n221        1      3639     4.0           3.516943   3.166355   3.696002   \n226        1      3740     4.0           3.852495   3.435827   3.660900   \n142        1      2193     4.0           4.105227   4.109620   4.138594   \n172        1      2640     4.0           3.356756   3.244249   3.458191   \n182        1      2797     4.0           3.238165   3.165327   3.263612   \n161        1      2492     4.0           3.416620   3.220882   3.368803   \n97         1      1500     4.0           4.303534   3.786321   4.283023   \n202        1      3062     4.0           4.422489   3.629470   4.463788   \n39         1       673     3.0           4.061978   3.284904   3.937266   \n106        1      1644     3.0           3.580816   3.198211   3.710767   \n95         1      1445     3.0           2.737531   3.358422   2.730176   \n101        1      1580     3.0           2.599229   3.186758   2.705493   \n54         1      1030     3.0           3.597775   3.752712   3.731487   \n23         1       423     3.0           3.816895   3.706587   3.706881   \n\n     model_substract  model_multiply  \n115         3.915456        3.834639  \n156         3.872842        3.731804  \n8           4.303009        4.001982  \n88          3.428727        3.237103  \n147         3.870592        3.628895  \n103         3.501280        3.022040  \n179         3.833677        3.925233  \n135         4.510848        3.769500  \n158         3.533752        3.444415  \n149         3.525619        3.565284  \n151         4.013130        3.811284  \n222         4.100633        3.881014  \n128         3.862899        3.560101  \n195         3.177671        3.474714  \n219         4.309307        4.826507  \n124         3.587902        2.892967  \n199         2.774721        2.713463  \n127         3.653022        3.181731  \n87          3.143762        2.534827  \n35          4.288320        4.395240  \n134         3.669857        2.978634  \n164         3.086266        2.910284  \n114         3.370194        3.063021  \n194         3.699743        3.794532  \n186         4.598622        4.429793  \n196         4.326396        3.992428  \n70          4.250391        4.507477  \n102         3.435925        3.284474  \n53          4.371833        4.274628  \n137         3.982171        3.736882  \n110         2.533883        3.552182  \n75          3.021680        3.202809  \n221         3.384860        3.289676  \n226         3.727220        3.395054  \n142         4.044044        3.895709  \n172         3.358224        3.734317  \n182         3.267079        2.877868  \n161         3.464463        3.072212  \n97          4.184958        4.922944  \n202         4.474677        3.961430  \n39          3.987908        4.238899  \n106         3.898726        2.982207  \n95          2.663418        2.413767  \n101         2.741338        3.037288  \n54          3.699141        3.580676  \n23          3.706737        3.581088  "
     },
     "execution_count": 204,
     "metadata": {},
     "output_type": "execute_result"
    }
   ],
   "source": [
    "user_data_test=test[test.user_id==uid][cols]\n",
    "user_data_test['model_concatenate']=pred_concatenate\n",
    "user_data_test['model_dot']=pred_dot\n",
    "user_data_test['model_add']=pred_add\n",
    "user_data_test['model_substract']=pred_substract\n",
    "user_data_test['model_multiply']=pred_multiply\n",
    "user_data_test.sort_values(by='rating', ascending=False)"
   ]
  },
  {
   "cell_type": "code",
   "execution_count": 210,
   "metadata": {},
   "outputs": [
    {
     "data": {
      "text/html": "<div>\n<style scoped>\n    .dataframe tbody tr th:only-of-type {\n        vertical-align: middle;\n    }\n\n    .dataframe tbody tr th {\n        vertical-align: top;\n    }\n\n    .dataframe thead th {\n        text-align: right;\n    }\n</style>\n<table border=\"1\" class=\"dataframe\">\n  <thead>\n    <tr style=\"text-align: right;\">\n      <th></th>\n      <th>top5_model_concatenate</th>\n      <th>top5_model_dot</th>\n      <th>top5_model_add</th>\n      <th>top5_model_substract</th>\n      <th>top5_model_mulitply</th>\n    </tr>\n  </thead>\n  <tbody>\n    <tr>\n      <th>0</th>\n      <td>80772    Odessa File, The (1974)\n80773    Odes...</td>\n      <td>85367    Story of Women (Affaire de femmes, Un...</td>\n      <td>70504    Dark Days (2000)\n70505    Dark Days (...</td>\n      <td>79094    Harold and Maude (1971)\n79095    Haro...</td>\n      <td>59893    The Devil's Advocate (1997)\n59894    ...</td>\n    </tr>\n    <tr>\n      <th>1</th>\n      <td>70504    Dark Days (2000)\n70505    Dark Days (...</td>\n      <td>12101    Very Bad Things (1998)\n12102    Very ...</td>\n      <td>80772    Odessa File, The (1974)\n80773    Odes...</td>\n      <td>70504    Dark Days (2000)\n70505    Dark Days (...</td>\n      <td>85367    Story of Women (Affaire de femmes, Un...</td>\n    </tr>\n    <tr>\n      <th>2</th>\n      <td>79094    Harold and Maude (1971)\n79095    Haro...</td>\n      <td>71869    Backdraft (1991)\n71870    Backdraft (...</td>\n      <td>79094    Harold and Maude (1971)\n79095    Haro...</td>\n      <td>80772    Odessa File, The (1974)\n80773    Odes...</td>\n      <td>53224    Bourne Identity, The (2002)\n53225    ...</td>\n    </tr>\n    <tr>\n      <th>3</th>\n      <td>53224    Bourne Identity, The (2002)\n53225    ...</td>\n      <td>79988    Shoot 'Em Up (2007)\n79989    Shoot 'E...</td>\n      <td>12101    Very Bad Things (1998)\n12102    Very ...</td>\n      <td>45675    Nightmare on Elm Street, A (1984)\n456...</td>\n      <td>79094    Harold and Maude (1971)\n79095    Haro...</td>\n    </tr>\n    <tr>\n      <th>4</th>\n      <td>59893    The Devil's Advocate (1997)\n59894    ...</td>\n      <td>53224    Bourne Identity, The (2002)\n53225    ...</td>\n      <td>85367    Story of Women (Affaire de femmes, Un...</td>\n      <td>80058    The Raid: Redemption (2011)\n80059    ...</td>\n      <td>30685    Specialist, The (1994)\n30686    Speci...</td>\n    </tr>\n  </tbody>\n</table>\n</div>",
      "text/plain": "                              top5_model_concatenate  \\\n0  80772    Odessa File, The (1974)\n80773    Odes...   \n1  70504    Dark Days (2000)\n70505    Dark Days (...   \n2  79094    Harold and Maude (1971)\n79095    Haro...   \n3  53224    Bourne Identity, The (2002)\n53225    ...   \n4  59893    The Devil's Advocate (1997)\n59894    ...   \n\n                                      top5_model_dot  \\\n0  85367    Story of Women (Affaire de femmes, Un...   \n1  12101    Very Bad Things (1998)\n12102    Very ...   \n2  71869    Backdraft (1991)\n71870    Backdraft (...   \n3  79988    Shoot 'Em Up (2007)\n79989    Shoot 'E...   \n4  53224    Bourne Identity, The (2002)\n53225    ...   \n\n                                      top5_model_add  \\\n0  70504    Dark Days (2000)\n70505    Dark Days (...   \n1  80772    Odessa File, The (1974)\n80773    Odes...   \n2  79094    Harold and Maude (1971)\n79095    Haro...   \n3  12101    Very Bad Things (1998)\n12102    Very ...   \n4  85367    Story of Women (Affaire de femmes, Un...   \n\n                                top5_model_substract  \\\n0  79094    Harold and Maude (1971)\n79095    Haro...   \n1  70504    Dark Days (2000)\n70505    Dark Days (...   \n2  80772    Odessa File, The (1974)\n80773    Odes...   \n3  45675    Nightmare on Elm Street, A (1984)\n456...   \n4  80058    The Raid: Redemption (2011)\n80059    ...   \n\n                                 top5_model_mulitply  \n0  59893    The Devil's Advocate (1997)\n59894    ...  \n1  85367    Story of Women (Affaire de femmes, Un...  \n2  53224    Bourne Identity, The (2002)\n53225    ...  \n3  79094    Harold and Maude (1971)\n79095    Haro...  \n4  30685    Specialist, The (1994)\n30686    Speci...  "
     },
     "execution_count": 210,
     "metadata": {},
     "output_type": "execute_result"
    }
   ],
   "source": [
    "movie_name=lambda movie: data.title[data.movie_id==movie]\n",
    "top5_model_concatenate_test=user_data_test.nlargest(5,'model_concatenate').movie_id.map(movie_name)\n",
    "top5_model_dot_test=user_data_test.nlargest(5,'model_dot').movie_id.map(movie_name)\n",
    "top5_model_add_test=user_data_test.nlargest(5,'model_add').movie_id.map(movie_name)\n",
    "top5_model_substract_test=user_data_test.nlargest(5,'model_substract').movie_id.map(movie_name)\n",
    "top5_model_multiply_test=user_data_test.nlargest(5,'model_multiply').movie_id.map(movie_name)\n",
    "\n",
    "pd.DataFrame({'top5_model_concatenate': top5_model_concatenate_test.values, 'top5_model_dot':top5_model_dot_test.values, 'top5_model_add':  top5_model_add_test.values, 'top5_model_substract': top5_model_substract_test.values, 'top5_model_mulitply': top5_model_multiply_test.values})"
   ]
  },
  {
   "cell_type": "code",
   "execution_count": 172,
   "metadata": {},
   "outputs": [],
   "source": [
    "# the intersection between the above columns are greater then for DLRM_train_test_split"
   ]
  },
  {
   "cell_type": "code",
   "execution_count": null,
   "metadata": {},
   "outputs": [],
   "source": []
  }
 ]
}