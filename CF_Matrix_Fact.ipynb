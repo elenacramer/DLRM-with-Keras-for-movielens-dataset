{
 "nbformat": 4,
 "nbformat_minor": 2,
 "metadata": {
  "language_info": {
   "name": "python",
   "codemirror_mode": {
    "name": "ipython",
    "version": 3
   },
   "version": "3.6.9-final"
  },
  "orig_nbformat": 2,
  "file_extension": ".py",
  "mimetype": "text/x-python",
  "name": "python",
  "npconvert_exporter": "python",
  "pygments_lexer": "ipython3",
  "version": 3,
  "kernelspec": {
   "name": "python36964bitkagglenewpipenv345dfe1713484c20b6863d1100cfe670",
   "display_name": "Python 3.6.9 64-bit ('kaggle_new': pipenv)"
  }
 },
 "cells": [
  {
   "cell_type": "code",
   "execution_count": 1,
   "metadata": {},
   "outputs": [],
   "source": [
    "# reading the data ml-latest-small\n",
    "import pandas as pd\n",
    "import zipfile\n",
    "import numpy as np \n",
    "zf = zipfile.ZipFile('/home/elena/Downloads/ml-latest-small.zip')\n",
    "# reading ratings file:\n",
    "r_cols = ['user_id', 'movie_id', 'rating', 'unix_timestamp']\n",
    "ratings = pd.read_csv(zf.open('ml-latest-small/ratings.csv'), names=r_cols)\n",
    "m_cols=['movie_id', 'title', 'genre']\n",
    "movies = pd.read_csv(zf.open('ml-latest-small/movies.csv'), names=m_cols)\n",
    "# merging ratings and movies\n",
    "data=pd.merge(ratings,movies,on='movie_id')"
   ]
  },
  {
   "cell_type": "code",
   "execution_count": 2,
   "metadata": {},
   "outputs": [
    {
     "data": {
      "text/plain": "(100836, 6)"
     },
     "execution_count": 2,
     "metadata": {},
     "output_type": "execute_result"
    }
   ],
   "source": [
    "data.shape"
   ]
  },
  {
   "cell_type": "code",
   "execution_count": 3,
   "metadata": {},
   "outputs": [
    {
     "name": "stdout",
     "output_type": "stream",
     "text": "Uniqe users:   610, Unique movies:  9724, Unique genre:   951\n"
    }
   ],
   "source": [
    "# unique values\n",
    "unique_movie, unique_user, unique_genre, unique_ratings=data.movie_id.unique().shape[0], data.user_id.unique().shape[0], data.genre.unique().shape[0], data.rating.unique().shape[0]\n",
    "print('Uniqe users: %5d, Unique movies: %5d, Unique genre: %5d'% (unique_user, unique_movie, unique_genre))\n",
    "# user_id and movie_id are both sparse categorical variables. They have many possible values; 9724 and 610"
   ]
  },
  {
   "cell_type": "code",
   "execution_count": 4,
   "metadata": {},
   "outputs": [
    {
     "data": {
      "text/html": "<div>\n<style scoped>\n    .dataframe tbody tr th:only-of-type {\n        vertical-align: middle;\n    }\n\n    .dataframe tbody tr th {\n        vertical-align: top;\n    }\n\n    .dataframe thead th {\n        text-align: right;\n    }\n</style>\n<table border=\"1\" class=\"dataframe\">\n  <thead>\n    <tr style=\"text-align: right;\">\n      <th></th>\n      <th>user_id</th>\n      <th>movie_id</th>\n      <th>unix_timestamp</th>\n      <th>title</th>\n      <th>genre</th>\n    </tr>\n    <tr>\n      <th>rating</th>\n      <th></th>\n      <th></th>\n      <th></th>\n      <th></th>\n      <th></th>\n    </tr>\n  </thead>\n  <tbody>\n    <tr>\n      <th>0.5</th>\n      <td>1370</td>\n      <td>1370</td>\n      <td>1370</td>\n      <td>1370</td>\n      <td>1370</td>\n    </tr>\n    <tr>\n      <th>1.0</th>\n      <td>2811</td>\n      <td>2811</td>\n      <td>2811</td>\n      <td>2811</td>\n      <td>2811</td>\n    </tr>\n    <tr>\n      <th>1.5</th>\n      <td>1791</td>\n      <td>1791</td>\n      <td>1791</td>\n      <td>1791</td>\n      <td>1791</td>\n    </tr>\n    <tr>\n      <th>2.0</th>\n      <td>7551</td>\n      <td>7551</td>\n      <td>7551</td>\n      <td>7551</td>\n      <td>7551</td>\n    </tr>\n    <tr>\n      <th>2.5</th>\n      <td>5550</td>\n      <td>5550</td>\n      <td>5550</td>\n      <td>5550</td>\n      <td>5550</td>\n    </tr>\n    <tr>\n      <th>3.0</th>\n      <td>20047</td>\n      <td>20047</td>\n      <td>20047</td>\n      <td>20047</td>\n      <td>20047</td>\n    </tr>\n    <tr>\n      <th>3.5</th>\n      <td>13136</td>\n      <td>13136</td>\n      <td>13136</td>\n      <td>13136</td>\n      <td>13136</td>\n    </tr>\n    <tr>\n      <th>4.0</th>\n      <td>26818</td>\n      <td>26818</td>\n      <td>26818</td>\n      <td>26818</td>\n      <td>26818</td>\n    </tr>\n    <tr>\n      <th>4.5</th>\n      <td>8551</td>\n      <td>8551</td>\n      <td>8551</td>\n      <td>8551</td>\n      <td>8551</td>\n    </tr>\n    <tr>\n      <th>5.0</th>\n      <td>13211</td>\n      <td>13211</td>\n      <td>13211</td>\n      <td>13211</td>\n      <td>13211</td>\n    </tr>\n  </tbody>\n</table>\n</div>",
      "text/plain": "        user_id  movie_id  unix_timestamp  title  genre\nrating                                                 \n0.5        1370      1370            1370   1370   1370\n1.0        2811      2811            2811   2811   2811\n1.5        1791      1791            1791   1791   1791\n2.0        7551      7551            7551   7551   7551\n2.5        5550      5550            5550   5550   5550\n3.0       20047     20047           20047  20047  20047\n3.5       13136     13136           13136  13136  13136\n4.0       26818     26818           26818  26818  26818\n4.5        8551      8551            8551   8551   8551\n5.0       13211     13211           13211  13211  13211"
     },
     "execution_count": 4,
     "metadata": {},
     "output_type": "execute_result"
    }
   ],
   "source": [
    "data.groupby('rating').count()"
   ]
  },
  {
   "cell_type": "code",
   "execution_count": 7,
   "metadata": {},
   "outputs": [],
   "source": [
    "# using train / test data saved\n",
    "train=pd.read_pickle('/home/elena/Downloads/traindata.pkl')\n",
    "test=pd.read_pickle('/home/elena/Downloads/testdata.pkl')\n",
    "col_used=data.columns\n",
    "train=train[col_used]\n",
    "test=test[col_used]"
   ]
  },
  {
   "cell_type": "code",
   "execution_count": 8,
   "metadata": {},
   "outputs": [
    {
     "data": {
      "text/html": "<div>\n<style scoped>\n    .dataframe tbody tr th:only-of-type {\n        vertical-align: middle;\n    }\n\n    .dataframe tbody tr th {\n        vertical-align: top;\n    }\n\n    .dataframe thead th {\n        text-align: right;\n    }\n</style>\n<table border=\"1\" class=\"dataframe\">\n  <thead>\n    <tr style=\"text-align: right;\">\n      <th></th>\n      <th>user_id</th>\n      <th>movie_id</th>\n      <th>rating</th>\n      <th>unix_timestamp</th>\n      <th>title</th>\n      <th>genre</th>\n    </tr>\n  </thead>\n  <tbody>\n    <tr>\n      <th>97717</th>\n      <td>606</td>\n      <td>3462</td>\n      <td>4.0</td>\n      <td>1171501099</td>\n      <td>Modern Times (1936)</td>\n      <td>Comedy|Drama|Romance</td>\n    </tr>\n    <tr>\n      <th>100124</th>\n      <td>610</td>\n      <td>8914</td>\n      <td>4.0</td>\n      <td>1493845360</td>\n      <td>Primer (2004)</td>\n      <td>Drama|Sci-Fi</td>\n    </tr>\n    <tr>\n      <th>25952</th>\n      <td>180</td>\n      <td>1196</td>\n      <td>4.0</td>\n      <td>1270237862</td>\n      <td>Star Wars: Episode V - The Empire Strikes Back...</td>\n      <td>Action|Adventure|Sci-Fi</td>\n    </tr>\n    <tr>\n      <th>25871</th>\n      <td>178</td>\n      <td>2231</td>\n      <td>4.5</td>\n      <td>1163673637</td>\n      <td>Rounders (1998)</td>\n      <td>Drama</td>\n    </tr>\n    <tr>\n      <th>97255</th>\n      <td>605</td>\n      <td>1588</td>\n      <td>4.0</td>\n      <td>1277094877</td>\n      <td>George of the Jungle (1997)</td>\n      <td>Children|Comedy</td>\n    </tr>\n  </tbody>\n</table>\n</div>",
      "text/plain": "        user_id  movie_id  rating  unix_timestamp  \\\n97717       606      3462     4.0      1171501099   \n100124      610      8914     4.0      1493845360   \n25952       180      1196     4.0      1270237862   \n25871       178      2231     4.5      1163673637   \n97255       605      1588     4.0      1277094877   \n\n                                                    title  \\\n97717                                 Modern Times (1936)   \n100124                                      Primer (2004)   \n25952   Star Wars: Episode V - The Empire Strikes Back...   \n25871                                     Rounders (1998)   \n97255                         George of the Jungle (1997)   \n\n                          genre  \n97717      Comedy|Drama|Romance  \n100124             Drama|Sci-Fi  \n25952   Action|Adventure|Sci-Fi  \n25871                     Drama  \n97255           Children|Comedy  "
     },
     "execution_count": 8,
     "metadata": {},
     "output_type": "execute_result"
    }
   ],
   "source": [
    "train.head()"
   ]
  },
  {
   "cell_type": "code",
   "execution_count": 9,
   "metadata": {},
   "outputs": [
    {
     "data": {
      "text/plain": "(610, 8762, 610, 5672)"
     },
     "execution_count": 9,
     "metadata": {},
     "output_type": "execute_result"
    }
   ],
   "source": [
    "train.user_id.unique().shape[0], train.movie_id.unique().shape[0], test.user_id.unique().shape[0], test.movie_id.unique().shape[0]"
   ]
  },
  {
   "cell_type": "code",
   "execution_count": 10,
   "metadata": {},
   "outputs": [],
   "source": [
    "movies_train=train.movie_id.unique()\n",
    "movies_test=test.movie_id.unique()\n",
    "all_movies=data.movie_id.unique()"
   ]
  },
  {
   "cell_type": "code",
   "execution_count": 11,
   "metadata": {},
   "outputs": [],
   "source": [
    "def intersection(lst1, lst2): \n",
    "    lst3 = [value for value in lst1 if value in lst2] \n",
    "    return lst3\n",
    "def set_difference(lst1, lst2): \n",
    "    lst3 = [value for value in lst1 if value not in lst2] \n",
    "    return lst3"
   ]
  },
  {
   "cell_type": "code",
   "execution_count": 12,
   "metadata": {},
   "outputs": [
    {
     "data": {
      "text/plain": "(962, 4052)"
     },
     "execution_count": 12,
     "metadata": {},
     "output_type": "execute_result"
    }
   ],
   "source": [
    "movies_notin_train=set_difference(all_movies,movies_train)\n",
    "movies_notin_test=set_difference(all_movies,movies_test)\n",
    "len(movies_notin_train), len(movies_notin_test)"
   ]
  },
  {
   "cell_type": "code",
   "execution_count": 13,
   "metadata": {},
   "outputs": [],
   "source": [
    "# First step: create the user-item matrix for training and testing \n",
    "# training data\n",
    "train_matrix=pd.pivot_table(train, values='rating', index='user_id', columns='movie_id', fill_value=0)\n",
    "train_dataframe=pd.DataFrame(train_matrix, index=train.user_id.unique(), columns=train.movie_id.unique())\n",
    "# test data\n",
    "test_matrix=pd.pivot_table(test, values='rating', index='user_id', columns='movie_id', fill_value=0)\n",
    "test_dataframe=pd.DataFrame(test_matrix, index=test.user_id.unique(), columns=test.movie_id.unique())"
   ]
  },
  {
   "cell_type": "code",
   "execution_count": 29,
   "metadata": {},
   "outputs": [
    {
     "data": {
      "text/plain": "((610, 5672), (610, 8762))"
     },
     "execution_count": 29,
     "metadata": {},
     "output_type": "execute_result"
    }
   ],
   "source": [
    "test_dataframe.shape, train_dataframe.shape"
   ]
  },
  {
   "cell_type": "code",
   "execution_count": 15,
   "metadata": {},
   "outputs": [
    {
     "data": {
      "text/plain": "(610, 9724)"
     },
     "execution_count": 15,
     "metadata": {},
     "output_type": "execute_result"
    }
   ],
   "source": [
    "# reshaping train matrix to include all movies\n",
    "adding_to_train=np.zeros((data.user_id.unique().shape[0],len(movies_notin_train)))\n",
    "adding_to_train=pd.DataFrame( adding_to_train, index=data.user_id.unique(), columns=movies_notin_train)\n",
    "train_values=pd.concat([train_matrix,adding_to_train], axis=1)\n",
    "train_values.shape"
   ]
  },
  {
   "cell_type": "code",
   "execution_count": 30,
   "metadata": {},
   "outputs": [
    {
     "data": {
      "text/html": "<div>\n<style scoped>\n    .dataframe tbody tr th:only-of-type {\n        vertical-align: middle;\n    }\n\n    .dataframe tbody tr th {\n        vertical-align: top;\n    }\n\n    .dataframe thead th {\n        text-align: right;\n    }\n</style>\n<table border=\"1\" class=\"dataframe\">\n  <thead>\n    <tr style=\"text-align: right;\">\n      <th></th>\n      <th>1</th>\n      <th>2</th>\n      <th>3</th>\n      <th>4</th>\n      <th>5</th>\n      <th>6</th>\n      <th>7</th>\n      <th>8</th>\n      <th>9</th>\n      <th>10</th>\n      <th>...</th>\n      <th>110286</th>\n      <th>110591</th>\n      <th>115727</th>\n      <th>117867</th>\n      <th>118082</th>\n      <th>130050</th>\n      <th>135534</th>\n      <th>138610</th>\n      <th>141799</th>\n      <th>163981</th>\n    </tr>\n  </thead>\n  <tbody>\n    <tr>\n      <th>1</th>\n      <td>4.0</td>\n      <td>0.0</td>\n      <td>4.0</td>\n      <td>0</td>\n      <td>0.0</td>\n      <td>4.0</td>\n      <td>0.0</td>\n      <td>0</td>\n      <td>0.0</td>\n      <td>0.0</td>\n      <td>...</td>\n      <td>0.0</td>\n      <td>0.0</td>\n      <td>0.0</td>\n      <td>0.0</td>\n      <td>0.0</td>\n      <td>0.0</td>\n      <td>0.0</td>\n      <td>0.0</td>\n      <td>0.0</td>\n      <td>0.0</td>\n    </tr>\n    <tr>\n      <th>2</th>\n      <td>0.0</td>\n      <td>0.0</td>\n      <td>0.0</td>\n      <td>0</td>\n      <td>0.0</td>\n      <td>0.0</td>\n      <td>0.0</td>\n      <td>0</td>\n      <td>0.0</td>\n      <td>0.0</td>\n      <td>...</td>\n      <td>0.0</td>\n      <td>0.0</td>\n      <td>0.0</td>\n      <td>0.0</td>\n      <td>0.0</td>\n      <td>0.0</td>\n      <td>0.0</td>\n      <td>0.0</td>\n      <td>0.0</td>\n      <td>0.0</td>\n    </tr>\n    <tr>\n      <th>3</th>\n      <td>0.0</td>\n      <td>0.0</td>\n      <td>0.0</td>\n      <td>0</td>\n      <td>0.0</td>\n      <td>0.0</td>\n      <td>0.0</td>\n      <td>0</td>\n      <td>0.0</td>\n      <td>0.0</td>\n      <td>...</td>\n      <td>0.0</td>\n      <td>0.0</td>\n      <td>0.0</td>\n      <td>0.0</td>\n      <td>0.0</td>\n      <td>0.0</td>\n      <td>0.0</td>\n      <td>0.0</td>\n      <td>0.0</td>\n      <td>0.0</td>\n    </tr>\n    <tr>\n      <th>4</th>\n      <td>0.0</td>\n      <td>0.0</td>\n      <td>0.0</td>\n      <td>0</td>\n      <td>0.0</td>\n      <td>0.0</td>\n      <td>0.0</td>\n      <td>0</td>\n      <td>0.0</td>\n      <td>0.0</td>\n      <td>...</td>\n      <td>0.0</td>\n      <td>0.0</td>\n      <td>0.0</td>\n      <td>0.0</td>\n      <td>0.0</td>\n      <td>0.0</td>\n      <td>0.0</td>\n      <td>0.0</td>\n      <td>0.0</td>\n      <td>0.0</td>\n    </tr>\n    <tr>\n      <th>5</th>\n      <td>0.0</td>\n      <td>0.0</td>\n      <td>0.0</td>\n      <td>0</td>\n      <td>0.0</td>\n      <td>0.0</td>\n      <td>0.0</td>\n      <td>0</td>\n      <td>0.0</td>\n      <td>0.0</td>\n      <td>...</td>\n      <td>0.0</td>\n      <td>0.0</td>\n      <td>0.0</td>\n      <td>0.0</td>\n      <td>0.0</td>\n      <td>0.0</td>\n      <td>0.0</td>\n      <td>0.0</td>\n      <td>0.0</td>\n      <td>0.0</td>\n    </tr>\n  </tbody>\n</table>\n<p>5 rows × 9724 columns</p>\n</div>",
      "text/plain": "   1       2       3       4       5       6       7       8       9       \\\n1     4.0     0.0     4.0       0     0.0     4.0     0.0       0     0.0   \n2     0.0     0.0     0.0       0     0.0     0.0     0.0       0     0.0   \n3     0.0     0.0     0.0       0     0.0     0.0     0.0       0     0.0   \n4     0.0     0.0     0.0       0     0.0     0.0     0.0       0     0.0   \n5     0.0     0.0     0.0       0     0.0     0.0     0.0       0     0.0   \n\n   10      ...  110286  110591  115727  117867  118082  130050  135534  \\\n1     0.0  ...     0.0     0.0     0.0     0.0     0.0     0.0     0.0   \n2     0.0  ...     0.0     0.0     0.0     0.0     0.0     0.0     0.0   \n3     0.0  ...     0.0     0.0     0.0     0.0     0.0     0.0     0.0   \n4     0.0  ...     0.0     0.0     0.0     0.0     0.0     0.0     0.0   \n5     0.0  ...     0.0     0.0     0.0     0.0     0.0     0.0     0.0   \n\n   138610  141799  163981  \n1     0.0     0.0     0.0  \n2     0.0     0.0     0.0  \n3     0.0     0.0     0.0  \n4     0.0     0.0     0.0  \n5     0.0     0.0     0.0  \n\n[5 rows x 9724 columns]"
     },
     "execution_count": 30,
     "metadata": {},
     "output_type": "execute_result"
    }
   ],
   "source": [
    "train_values.head()"
   ]
  },
  {
   "cell_type": "code",
   "execution_count": 57,
   "metadata": {},
   "outputs": [
    {
     "data": {
      "text/plain": "numpy.ndarray"
     },
     "execution_count": 57,
     "metadata": {},
     "output_type": "execute_result"
    }
   ],
   "source": [
    "import scipy.sparse as sp \n",
    "from scipy.sparse.linalg import svds\n",
    "# get svds components from train matrix\n",
    "u, s, vt=  svds(train_values, k=6)\n",
    "s_diag_matrix=np.diag(s)\n",
    "# Now you can make a prediction by taking dot product of u, s and v^T\n",
    "X_pred=np.dot(np.dot(u,s_diag_matrix),vt)\n",
    "type(X_pred)"
   ]
  },
  {
   "cell_type": "code",
   "execution_count": 58,
   "metadata": {},
   "outputs": [
    {
     "data": {
      "text/plain": "(8.047211341208374, -3.028408696878355)"
     },
     "execution_count": 58,
     "metadata": {},
     "output_type": "execute_result"
    }
   ],
   "source": [
    "# X_pred is a np.array; with rows = users_id and columns = movies_id\n",
    "# lets transform X_pred into a dataframe\n",
    "n_users=data.user_id.unique()\n",
    "n_movies=data.movie_id.unique()\n",
    "X_predict=pd.DataFrame(X_pred, index=n_users, columns=n_movies)\n",
    "X_predict.max().max(), X_predict.min().min()\n",
    "# the ratings in the dataset is from 1 to 5, while the estimated ratings are from -3 to 8!"
   ]
  },
  {
   "cell_type": "code",
   "execution_count": 59,
   "metadata": {},
   "outputs": [
    {
     "data": {
      "text/plain": "(4.830750654751812, 0.701760038572615)"
     },
     "execution_count": 59,
     "metadata": {},
     "output_type": "execute_result"
    }
   ],
   "source": [
    "# scaling X_predict to range between 1 and 5\n",
    "min_neg_value=X_predict.min().min()\n",
    "max_value=X_predict.max().max()\n",
    "X_scale=((X_pred-min_neg_value-0.8)/max_value)*3 + 1\n",
    "X_predict_scale=pd.DataFrame(X_scale, index=n_users, columns=n_movies)\n",
    "X_predict_scale.max().max(), X_predict_scale.min().min()"
   ]
  },
  {
   "cell_type": "code",
   "execution_count": 60,
   "metadata": {},
   "outputs": [
    {
     "data": {
      "text/plain": "(5.0, 1.0)"
     },
     "execution_count": 60,
     "metadata": {},
     "output_type": "execute_result"
    }
   ],
   "source": [
    "X_predict_scale=X_predict_scale.round(0)\n",
    "X_predict_scale.max().max(), X_predict_scale.min().min()"
   ]
  },
  {
   "cell_type": "code",
   "execution_count": 61,
   "metadata": {},
   "outputs": [
    {
     "data": {
      "text/plain": "(610, 9724)"
     },
     "execution_count": 61,
     "metadata": {},
     "output_type": "execute_result"
    }
   ],
   "source": [
    "X_predict_scale.shape"
   ]
  },
  {
   "cell_type": "code",
   "execution_count": 62,
   "metadata": {},
   "outputs": [
    {
     "data": {
      "text/plain": "2.000829787971976"
     },
     "execution_count": 62,
     "metadata": {},
     "output_type": "execute_result"
    }
   ],
   "source": [
    "# evaluation\n",
    "from sklearn.metrics import mean_absolute_error\n",
    "mean_absolute_error(X_predict_scale[test_dataframe.columns], test_dataframe)"
   ]
  },
  {
   "cell_type": "code",
   "execution_count": 31,
   "metadata": {},
   "outputs": [],
   "source": [
    "# recommending\n",
    "def recommendations(userid, n_movies):\n",
    "    movies_to_recommend_from=set_difference(all_movies,movies_train) # all movies not in train\n",
    "    s=pd.DataFrame()\n",
    "    for i in movies_to_recommend_from:\n",
    "        s[i]=X_predict_scale[X_predict_scale.index==userid][i]\n",
    "    predictions=np.transpose(s)\n",
    "    print('For user %d we make the following recommendations:' %userid)\n",
    "    return predictions"
   ]
  },
  {
   "cell_type": "code",
   "execution_count": 35,
   "metadata": {},
   "outputs": [
    {
     "name": "stdout",
     "output_type": "stream",
     "text": "User #1 has rated 186 movies from train set(avg. rating = 4.3):\n"
    },
    {
     "data": {
      "text/html": "<div>\n<style scoped>\n    .dataframe tbody tr th:only-of-type {\n        vertical-align: middle;\n    }\n\n    .dataframe tbody tr th {\n        vertical-align: top;\n    }\n\n    .dataframe thead th {\n        text-align: right;\n    }\n</style>\n<table border=\"1\" class=\"dataframe\">\n  <thead>\n    <tr style=\"text-align: right;\">\n      <th></th>\n      <th>user_id</th>\n      <th>movie_id</th>\n      <th>rating</th>\n      <th>title</th>\n    </tr>\n  </thead>\n  <tbody>\n    <tr>\n      <th>90</th>\n      <td>1</td>\n      <td>1298</td>\n      <td>5.0</td>\n      <td>Pink Floyd: The Wall (1982)</td>\n    </tr>\n    <tr>\n      <th>82</th>\n      <td>1</td>\n      <td>1256</td>\n      <td>5.0</td>\n      <td>Duck Soup (1933)</td>\n    </tr>\n    <tr>\n      <th>67</th>\n      <td>1</td>\n      <td>1136</td>\n      <td>5.0</td>\n      <td>Monty Python and the Holy Grail (1975)</td>\n    </tr>\n    <tr>\n      <th>9</th>\n      <td>1</td>\n      <td>157</td>\n      <td>5.0</td>\n      <td>Canadian Bacon (1995)</td>\n    </tr>\n    <tr>\n      <th>111</th>\n      <td>1</td>\n      <td>1804</td>\n      <td>5.0</td>\n      <td>Newton Boys, The (1998)</td>\n    </tr>\n    <tr>\n      <th>...</th>\n      <td>...</td>\n      <td>...</td>\n      <td>...</td>\n      <td>...</td>\n    </tr>\n    <tr>\n      <th>152</th>\n      <td>1</td>\n      <td>2389</td>\n      <td>2.0</td>\n      <td>Psycho (1998)</td>\n    </tr>\n    <tr>\n      <th>148</th>\n      <td>1</td>\n      <td>2338</td>\n      <td>2.0</td>\n      <td>I Still Know What You Did Last Summer (1998)</td>\n    </tr>\n    <tr>\n      <th>76</th>\n      <td>1</td>\n      <td>1219</td>\n      <td>2.0</td>\n      <td>Psycho (1960)</td>\n    </tr>\n    <tr>\n      <th>170</th>\n      <td>1</td>\n      <td>2617</td>\n      <td>2.0</td>\n      <td>Mummy, The (1999)</td>\n    </tr>\n    <tr>\n      <th>205</th>\n      <td>1</td>\n      <td>3176</td>\n      <td>1.0</td>\n      <td>Talented Mr. Ripley, The (1999)</td>\n    </tr>\n  </tbody>\n</table>\n<p>186 rows × 4 columns</p>\n</div>",
      "text/plain": "     user_id  movie_id  rating                                         title\n90         1      1298     5.0                   Pink Floyd: The Wall (1982)\n82         1      1256     5.0                              Duck Soup (1933)\n67         1      1136     5.0        Monty Python and the Holy Grail (1975)\n9          1       157     5.0                         Canadian Bacon (1995)\n111        1      1804     5.0                       Newton Boys, The (1998)\n..       ...       ...     ...                                           ...\n152        1      2389     2.0                                 Psycho (1998)\n148        1      2338     2.0  I Still Know What You Did Last Summer (1998)\n76         1      1219     2.0                                 Psycho (1960)\n170        1      2617     2.0                             Mummy, The (1999)\n205        1      3176     1.0               Talented Mr. Ripley, The (1999)\n\n[186 rows x 4 columns]"
     },
     "execution_count": 35,
     "metadata": {},
     "output_type": "execute_result"
    }
   ],
   "source": [
    "user_ratings = train[train.user_id==1]\n",
    "print(\"User #{} has rated {} movies from train set(avg. rating = {:.1f}):\".format(\n",
    "    1, len(user_ratings), user_ratings['rating'].mean(),\n",
    "))\n",
    "cols = ['user_id', 'movie_id', 'rating', 'title']\n",
    "user_ratings.sort_values(by='rating', ascending=False)[cols]"
   ]
  },
  {
   "cell_type": "code",
   "execution_count": 50,
   "metadata": {},
   "outputs": [
    {
     "name": "stdout",
     "output_type": "stream",
     "text": "For user 1 we make the following recommendations:\n"
    },
    {
     "data": {
      "text/html": "<div>\n<style scoped>\n    .dataframe tbody tr th:only-of-type {\n        vertical-align: middle;\n    }\n\n    .dataframe tbody tr th {\n        vertical-align: top;\n    }\n\n    .dataframe thead th {\n        text-align: right;\n    }\n</style>\n<table border=\"1\" class=\"dataframe\">\n  <thead>\n    <tr style=\"text-align: right;\">\n      <th></th>\n      <th>predicted_ratings</th>\n      <th>movie_id</th>\n      <th>title</th>\n      <th>genre</th>\n    </tr>\n  </thead>\n  <tbody>\n    <tr>\n      <th>7899</th>\n      <td>3.0</td>\n      <td>7899</td>\n      <td>18826    Master of the Flying Guillotine (Du b...</td>\n      <td>18826    Action\nName: genre, dtype: object</td>\n    </tr>\n    <tr>\n      <th>6143</th>\n      <td>3.0</td>\n      <td>6143</td>\n      <td>66274    Trail of the Pink Panther (1982)\n6627...</td>\n      <td>66274    Comedy|Crime\n66275    Comedy|Crime\nNa...</td>\n    </tr>\n    <tr>\n      <th>117368</th>\n      <td>3.0</td>\n      <td>117368</td>\n      <td>68694    The Madagascar Penguins in a Christma...</td>\n      <td>68694    Animation|Comedy\nName: genre, dtype: ...</td>\n    </tr>\n    <tr>\n      <th>148675</th>\n      <td>3.0</td>\n      <td>148675</td>\n      <td>68895    North Pole: Open For Christmas (2015)...</td>\n      <td>68895    Children|Fantasy\nName: genre, dtype: ...</td>\n    </tr>\n    <tr>\n      <th>160872</th>\n      <td>3.0</td>\n      <td>160872</td>\n      <td>68899    Satanic (2016)\nName: title, dtype: ob...</td>\n      <td>68899    Horror\nName: genre, dtype: object</td>\n    </tr>\n    <tr>\n      <th>7924</th>\n      <td>3.0</td>\n      <td>7924</td>\n      <td>70503    Stray Dog (Nora inu) (1949)\nName: tit...</td>\n      <td>70503    Drama|Film-Noir|Thriller\nName: genre,...</td>\n    </tr>\n    <tr>\n      <th>121342</th>\n      <td>3.0</td>\n      <td>121342</td>\n      <td>86814    Carry on Cruising (1962)\nName: title,...</td>\n      <td>86814    Comedy|Romance\nName: genre, dtype: ob...</td>\n    </tr>\n    <tr>\n      <th>121007</th>\n      <td>3.0</td>\n      <td>121007</td>\n      <td>86810    Space Buddies (2009)\nName: title, dty...</td>\n      <td>86810    Adventure|Children|Fantasy|Sci-Fi\nNam...</td>\n    </tr>\n    <tr>\n      <th>60943</th>\n      <td>3.0</td>\n      <td>60943</td>\n      <td>73803    Frozen River (2008)\nName: title, dtyp...</td>\n      <td>73803    Drama\nName: genre, dtype: object</td>\n    </tr>\n    <tr>\n      <th>109596</th>\n      <td>3.0</td>\n      <td>109596</td>\n      <td>86786    Wrinkles (Arrugas) (2011)\nName: title...</td>\n      <td>86786    Animation|Drama\nName: genre, dtype: o...</td>\n    </tr>\n  </tbody>\n</table>\n</div>",
      "text/plain": "        predicted_ratings  movie_id  \\\n7899                  3.0      7899   \n6143                  3.0      6143   \n117368                3.0    117368   \n148675                3.0    148675   \n160872                3.0    160872   \n7924                  3.0      7924   \n121342                3.0    121342   \n121007                3.0    121007   \n60943                 3.0     60943   \n109596                3.0    109596   \n\n                                                    title  \\\n7899    18826    Master of the Flying Guillotine (Du b...   \n6143    66274    Trail of the Pink Panther (1982)\n6627...   \n117368  68694    The Madagascar Penguins in a Christma...   \n148675  68895    North Pole: Open For Christmas (2015)...   \n160872  68899    Satanic (2016)\nName: title, dtype: ob...   \n7924    70503    Stray Dog (Nora inu) (1949)\nName: tit...   \n121342  86814    Carry on Cruising (1962)\nName: title,...   \n121007  86810    Space Buddies (2009)\nName: title, dty...   \n60943   73803    Frozen River (2008)\nName: title, dtyp...   \n109596  86786    Wrinkles (Arrugas) (2011)\nName: title...   \n\n                                                    genre  \n7899           18826    Action\nName: genre, dtype: object  \n6143    66274    Comedy|Crime\n66275    Comedy|Crime\nNa...  \n117368  68694    Animation|Comedy\nName: genre, dtype: ...  \n148675  68895    Children|Fantasy\nName: genre, dtype: ...  \n160872         68899    Horror\nName: genre, dtype: object  \n7924    70503    Drama|Film-Noir|Thriller\nName: genre,...  \n121342  86814    Comedy|Romance\nName: genre, dtype: ob...  \n121007  86810    Adventure|Children|Fantasy|Sci-Fi\nNam...  \n60943           73803    Drama\nName: genre, dtype: object  \n109596  86786    Animation|Drama\nName: genre, dtype: o...  "
     },
     "execution_count": 50,
     "metadata": {},
     "output_type": "execute_result"
    }
   ],
   "source": [
    "preds_user1=recommendations(1,10)\n",
    "preds_user1.columns=['predicted_ratings']\n",
    "preds_user1['movie_id']=preds_user1.index\n",
    "movie_name=lambda movie: data.title[data.movie_id==movie]\n",
    "movie_genre=lambda movie: data.genre[data.movie_id==movie]\n",
    "preds_user1['title']=preds_user1.movie_id.map(movie_name)\n",
    "preds_user1['genre']=preds_user1.movie_id.map(movie_genre)\n",
    "preds_user1.sort_values(by='predicted_ratings', ascending=False).head(10)"
   ]
  },
  {
   "cell_type": "code",
   "execution_count": 46,
   "metadata": {},
   "outputs": [
    {
     "data": {
      "text/plain": "array([1214])"
     },
     "execution_count": 46,
     "metadata": {},
     "output_type": "execute_result"
    }
   ],
   "source": [
    "name_movie=lambda name: data.movie_id[data.title==name].unique()\n",
    "name_movie('Alien (1979)')"
   ]
  },
  {
   "cell_type": "code",
   "execution_count": 48,
   "metadata": {},
   "outputs": [
    {
     "data": {
      "text/plain": "1    2.0\nName: 1214, dtype: float64"
     },
     "execution_count": 48,
     "metadata": {},
     "output_type": "execute_result"
    }
   ],
   "source": [
    "X_predict_scale[X_predict_scale.index==1][1214]"
   ]
  },
  {
   "cell_type": "code",
   "execution_count": null,
   "metadata": {},
   "outputs": [],
   "source": []
  }
 ]
}