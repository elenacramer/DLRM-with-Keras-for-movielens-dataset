{
 "nbformat": 4,
 "nbformat_minor": 2,
 "metadata": {
  "language_info": {
   "name": "python",
   "codemirror_mode": {
    "name": "ipython",
    "version": 3
   },
   "version": "3.6.9-final"
  },
  "orig_nbformat": 2,
  "file_extension": ".py",
  "mimetype": "text/x-python",
  "name": "python",
  "npconvert_exporter": "python",
  "pygments_lexer": "ipython3",
  "version": 3,
  "kernelspec": {
   "name": "python36964bitkagglenewpipenv345dfe1713484c20b6863d1100cfe670",
   "display_name": "Python 3.6.9 64-bit ('kaggle_new': pipenv)"
  }
 },
 "cells": [
  {
   "cell_type": "code",
   "execution_count": 1,
   "metadata": {},
   "outputs": [],
   "source": [
    "# Collaborative filtering (CF) - Model based - Matrix Factorization (MF)\n",
    "PYTHONHASHSEED=0 "
   ]
  },
  {
   "cell_type": "code",
   "execution_count": 2,
   "metadata": {},
   "outputs": [],
   "source": [
    "# reading the data ml-latest-small\n",
    "import pandas as pd\n",
    "import zipfile\n",
    "import numpy as np \n",
    "zf = zipfile.ZipFile('/home/elena/Downloads/ml-latest-small.zip')\n",
    "# reading ratings file:\n",
    "r_cols = ['user_id', 'movie_id', 'rating', 'unix_timestamp']\n",
    "ratings = pd.read_csv(zf.open('ml-latest-small/ratings.csv'), names=r_cols)\n",
    "# reading movie file\n",
    "m_cols=['movie_id', 'title', 'genre']\n",
    "movies = pd.read_csv(zf.open('ml-latest-small/movies.csv'), names=m_cols)"
   ]
  },
  {
   "cell_type": "code",
   "execution_count": 3,
   "metadata": {},
   "outputs": [
    {
     "data": {
      "text/html": "<div>\n<style scoped>\n    .dataframe tbody tr th:only-of-type {\n        vertical-align: middle;\n    }\n\n    .dataframe tbody tr th {\n        vertical-align: top;\n    }\n\n    .dataframe thead th {\n        text-align: right;\n    }\n</style>\n<table border=\"1\" class=\"dataframe\">\n  <thead>\n    <tr style=\"text-align: right;\">\n      <th></th>\n      <th>user_id</th>\n      <th>movie_id</th>\n      <th>rating</th>\n      <th>unix_timestamp</th>\n      <th>title</th>\n      <th>genre</th>\n    </tr>\n  </thead>\n  <tbody>\n    <tr>\n      <th>0</th>\n      <td>1</td>\n      <td>1</td>\n      <td>4.0</td>\n      <td>964982703</td>\n      <td>Toy Story (1995)</td>\n      <td>Adventure|Animation|Children|Comedy|Fantasy</td>\n    </tr>\n    <tr>\n      <th>1</th>\n      <td>5</td>\n      <td>1</td>\n      <td>4.0</td>\n      <td>847434962</td>\n      <td>Toy Story (1995)</td>\n      <td>Adventure|Animation|Children|Comedy|Fantasy</td>\n    </tr>\n    <tr>\n      <th>2</th>\n      <td>7</td>\n      <td>1</td>\n      <td>4.5</td>\n      <td>1106635946</td>\n      <td>Toy Story (1995)</td>\n      <td>Adventure|Animation|Children|Comedy|Fantasy</td>\n    </tr>\n    <tr>\n      <th>3</th>\n      <td>15</td>\n      <td>1</td>\n      <td>2.5</td>\n      <td>1510577970</td>\n      <td>Toy Story (1995)</td>\n      <td>Adventure|Animation|Children|Comedy|Fantasy</td>\n    </tr>\n    <tr>\n      <th>4</th>\n      <td>17</td>\n      <td>1</td>\n      <td>4.5</td>\n      <td>1305696483</td>\n      <td>Toy Story (1995)</td>\n      <td>Adventure|Animation|Children|Comedy|Fantasy</td>\n    </tr>\n  </tbody>\n</table>\n</div>",
      "text/plain": "   user_id  movie_id  rating  unix_timestamp             title  \\\n0        1         1     4.0       964982703  Toy Story (1995)   \n1        5         1     4.0       847434962  Toy Story (1995)   \n2        7         1     4.5      1106635946  Toy Story (1995)   \n3       15         1     2.5      1510577970  Toy Story (1995)   \n4       17         1     4.5      1305696483  Toy Story (1995)   \n\n                                         genre  \n0  Adventure|Animation|Children|Comedy|Fantasy  \n1  Adventure|Animation|Children|Comedy|Fantasy  \n2  Adventure|Animation|Children|Comedy|Fantasy  \n3  Adventure|Animation|Children|Comedy|Fantasy  \n4  Adventure|Animation|Children|Comedy|Fantasy  "
     },
     "execution_count": 3,
     "metadata": {},
     "output_type": "execute_result"
    }
   ],
   "source": [
    "# merging ratings and movies\n",
    "data=pd.merge(ratings,movies,on='movie_id')\n",
    "data.head()"
   ]
  },
  {
   "cell_type": "code",
   "execution_count": 4,
   "metadata": {},
   "outputs": [
    {
     "data": {
      "text/plain": "(100836, 6)"
     },
     "execution_count": 4,
     "metadata": {},
     "output_type": "execute_result"
    }
   ],
   "source": [
    "data.shape"
   ]
  },
  {
   "cell_type": "code",
   "execution_count": 5,
   "metadata": {},
   "outputs": [
    {
     "name": "stdout",
     "output_type": "stream",
     "text": "Uniqe users:   610, Unique movies:  9724, Unique genre:   951\n"
    }
   ],
   "source": [
    "# unique values\n",
    "unique_movie, unique_user, unique_genre, unique_ratings=data.movie_id.unique().shape[0], data.user_id.unique().shape[0], data.genre.unique().shape[0], data.rating.unique().shape[0]\n",
    "print('Uniqe users: %5d, Unique movies: %5d, Unique genre: %5d'% (unique_user, unique_movie, unique_genre))\n",
    "# user_id and movie_id are both sparse categorical variables. They have many possible values; 9724 and 610"
   ]
  },
  {
   "cell_type": "code",
   "execution_count": 6,
   "metadata": {},
   "outputs": [
    {
     "data": {
      "text/html": "<div>\n<style scoped>\n    .dataframe tbody tr th:only-of-type {\n        vertical-align: middle;\n    }\n\n    .dataframe tbody tr th {\n        vertical-align: top;\n    }\n\n    .dataframe thead th {\n        text-align: right;\n    }\n</style>\n<table border=\"1\" class=\"dataframe\">\n  <thead>\n    <tr style=\"text-align: right;\">\n      <th></th>\n      <th>user_id</th>\n      <th>movie_id</th>\n      <th>unix_timestamp</th>\n      <th>title</th>\n      <th>genre</th>\n    </tr>\n    <tr>\n      <th>rating</th>\n      <th></th>\n      <th></th>\n      <th></th>\n      <th></th>\n      <th></th>\n    </tr>\n  </thead>\n  <tbody>\n    <tr>\n      <th>0.5</th>\n      <td>1370</td>\n      <td>1370</td>\n      <td>1370</td>\n      <td>1370</td>\n      <td>1370</td>\n    </tr>\n    <tr>\n      <th>1.0</th>\n      <td>2811</td>\n      <td>2811</td>\n      <td>2811</td>\n      <td>2811</td>\n      <td>2811</td>\n    </tr>\n    <tr>\n      <th>1.5</th>\n      <td>1791</td>\n      <td>1791</td>\n      <td>1791</td>\n      <td>1791</td>\n      <td>1791</td>\n    </tr>\n    <tr>\n      <th>2.0</th>\n      <td>7551</td>\n      <td>7551</td>\n      <td>7551</td>\n      <td>7551</td>\n      <td>7551</td>\n    </tr>\n    <tr>\n      <th>2.5</th>\n      <td>5550</td>\n      <td>5550</td>\n      <td>5550</td>\n      <td>5550</td>\n      <td>5550</td>\n    </tr>\n    <tr>\n      <th>3.0</th>\n      <td>20047</td>\n      <td>20047</td>\n      <td>20047</td>\n      <td>20047</td>\n      <td>20047</td>\n    </tr>\n    <tr>\n      <th>3.5</th>\n      <td>13136</td>\n      <td>13136</td>\n      <td>13136</td>\n      <td>13136</td>\n      <td>13136</td>\n    </tr>\n    <tr>\n      <th>4.0</th>\n      <td>26818</td>\n      <td>26818</td>\n      <td>26818</td>\n      <td>26818</td>\n      <td>26818</td>\n    </tr>\n    <tr>\n      <th>4.5</th>\n      <td>8551</td>\n      <td>8551</td>\n      <td>8551</td>\n      <td>8551</td>\n      <td>8551</td>\n    </tr>\n    <tr>\n      <th>5.0</th>\n      <td>13211</td>\n      <td>13211</td>\n      <td>13211</td>\n      <td>13211</td>\n      <td>13211</td>\n    </tr>\n  </tbody>\n</table>\n</div>",
      "text/plain": "        user_id  movie_id  unix_timestamp  title  genre\nrating                                                 \n0.5        1370      1370            1370   1370   1370\n1.0        2811      2811            2811   2811   2811\n1.5        1791      1791            1791   1791   1791\n2.0        7551      7551            7551   7551   7551\n2.5        5550      5550            5550   5550   5550\n3.0       20047     20047           20047  20047  20047\n3.5       13136     13136           13136  13136  13136\n4.0       26818     26818           26818  26818  26818\n4.5        8551      8551            8551   8551   8551\n5.0       13211     13211           13211  13211  13211"
     },
     "execution_count": 6,
     "metadata": {},
     "output_type": "execute_result"
    }
   ],
   "source": [
    "data.groupby('rating').count()"
   ]
  },
  {
   "cell_type": "code",
   "execution_count": 7,
   "metadata": {},
   "outputs": [
    {
     "data": {
      "text/plain": "((75627, 6), (25209, 6))"
     },
     "execution_count": 7,
     "metadata": {},
     "output_type": "execute_result"
    }
   ],
   "source": [
    "# splitting into train and test data\n",
    "from sklearn.model_selection import train_test_split\n",
    "train, test = train_test_split(data, test_size=0.25, random_state=42)\n",
    "train.shape, test.shape"
   ]
  },
  {
   "cell_type": "code",
   "execution_count": 8,
   "metadata": {},
   "outputs": [
    {
     "data": {
      "text/plain": "(610, 8767, 610, 5627)"
     },
     "execution_count": 8,
     "metadata": {},
     "output_type": "execute_result"
    }
   ],
   "source": [
    "train.user_id.unique().shape[0], train.movie_id.unique().shape[0], test.user_id.unique().shape[0], test.movie_id.unique().shape[0]"
   ]
  },
  {
   "cell_type": "code",
   "execution_count": 9,
   "metadata": {},
   "outputs": [],
   "source": [
    "movies_train=train.movie_id.unique()\n",
    "movies_test=test.movie_id.unique()\n",
    "all_movies=data.movie_id.unique()"
   ]
  },
  {
   "cell_type": "code",
   "execution_count": 10,
   "metadata": {},
   "outputs": [],
   "source": [
    "def intersection(lst1, lst2): \n",
    "    lst3 = [value for value in lst1 if value in lst2] \n",
    "    return lst3\n",
    "def set_difference(lst1, lst2): \n",
    "    lst3 = [value for value in lst1 if value not in lst2] \n",
    "    return lst3"
   ]
  },
  {
   "cell_type": "code",
   "execution_count": 11,
   "metadata": {},
   "outputs": [
    {
     "data": {
      "text/plain": "(957, 4097)"
     },
     "execution_count": 11,
     "metadata": {},
     "output_type": "execute_result"
    }
   ],
   "source": [
    "movies_notin_train=set_difference(all_movies,movies_train)\n",
    "movies_notin_test=set_difference(all_movies,movies_test)\n",
    "len(movies_notin_train), len(movies_notin_test)"
   ]
  },
  {
   "cell_type": "code",
   "execution_count": 12,
   "metadata": {},
   "outputs": [],
   "source": [
    "# First step: create the user-item matrix for training and testing \n",
    "# training data\n",
    "train_matrix=pd.pivot_table(train, values='rating', index='user_id', columns='movie_id', fill_value=0)\n",
    "train_dataframe=pd.DataFrame(train_matrix, index=train.user_id.unique(), columns=train.movie_id.unique())\n",
    "# test data\n",
    "test_matrix=pd.pivot_table(test, values='rating', index='user_id', columns='movie_id', fill_value=0)\n",
    "test_dataframe=pd.DataFrame(test_matrix, index=test.user_id.unique(), columns=test.movie_id.unique())"
   ]
  },
  {
   "cell_type": "code",
   "execution_count": 13,
   "metadata": {},
   "outputs": [
    {
     "data": {
      "text/plain": "(610, 9724)"
     },
     "execution_count": 13,
     "metadata": {},
     "output_type": "execute_result"
    }
   ],
   "source": [
    "# reshaping test and train matrices to be of the same size, necessary for the mean squared error\n",
    "adding_to_test=np.zeros((data.user_id.unique().shape[0],len(movies_notin_test)))\n",
    "adding_to_test=pd.DataFrame( adding_to_test, index=data.user_id.unique(), columns=movies_notin_test)\n",
    "test_values=pd.concat([test_dataframe,adding_to_test], axis=1)\n",
    "test_values.shape"
   ]
  },
  {
   "cell_type": "code",
   "execution_count": 14,
   "metadata": {},
   "outputs": [
    {
     "data": {
      "text/plain": "(610, 9724)"
     },
     "execution_count": 14,
     "metadata": {},
     "output_type": "execute_result"
    }
   ],
   "source": [
    "adding_to_train=np.zeros((data.user_id.unique().shape[0],len(movies_notin_train)))\n",
    "adding_to_train=pd.DataFrame( adding_to_train, index=data.user_id.unique(), columns=movies_notin_train)\n",
    "train_values=pd.concat([train_matrix,adding_to_train], axis=1)\n",
    "train_values.shape"
   ]
  },
  {
   "cell_type": "code",
   "execution_count": 15,
   "metadata": {},
   "outputs": [
    {
     "data": {
      "text/plain": "numpy.ndarray"
     },
     "execution_count": 15,
     "metadata": {},
     "output_type": "execute_result"
    }
   ],
   "source": [
    "import scipy.sparse as sp \n",
    "from scipy.sparse.linalg import svds\n",
    "# get svds components from train matrix\n",
    "u, s, vt=  svds(train_values, k=20)\n",
    "s_diag_matrix=np.diag(s)\n",
    "# Now you can make a prediction by taking dot product of u, s and v^T\n",
    "X_pred=np.dot(np.dot(u,s_diag_matrix),vt)\n",
    "type(X_pred)"
   ]
  },
  {
   "cell_type": "code",
   "execution_count": 16,
   "metadata": {},
   "outputs": [
    {
     "data": {
      "text/plain": "(8.129032767692083, -3.352213210772039)"
     },
     "execution_count": 16,
     "metadata": {},
     "output_type": "execute_result"
    }
   ],
   "source": [
    "# X_pred is a np.array; with rows = users_id and columns = movies_id\n",
    "# lets transform X_pred into a dataframe\n",
    "n_users=data.user_id.unique()\n",
    "n_movies=data.movie_id.unique()\n",
    "X_predict=pd.DataFrame(X_pred, index=n_users, columns=n_movies)\n",
    "X_predict.max().max(), X_predict.min().min()\n",
    "# the ratings in the dataset is from 1 to 5, while the estimated ratings are from -3 to 8!"
   ]
  },
  {
   "cell_type": "code",
   "execution_count": 17,
   "metadata": {},
   "outputs": [
    {
     "data": {
      "text/plain": "(4.941888149688184, 0.7047619232710529)"
     },
     "execution_count": 17,
     "metadata": {},
     "output_type": "execute_result"
    }
   ],
   "source": [
    "# scaling X_predict to range between 1 and 5\n",
    "min_neg_value=X_predict.min().min()\n",
    "max_value=X_predict.max().max()\n",
    "X_scale=((X_pred-min_neg_value-0.8)/max_value)*3 + 1\n",
    "X_predict_scale=pd.DataFrame(X_scale, index=n_users, columns=n_movies)\n",
    "X_predict_scale.max().max(), X_predict_scale.min().min()"
   ]
  },
  {
   "cell_type": "code",
   "execution_count": 18,
   "metadata": {},
   "outputs": [
    {
     "data": {
      "text/plain": "1.9594097000359225"
     },
     "execution_count": 18,
     "metadata": {},
     "output_type": "execute_result"
    }
   ],
   "source": [
    "# evaluation\n",
    "from sklearn.metrics import mean_squared_error\n",
    "from math import sqrt\n",
    "sqrt(mean_squared_error(X_predict_scale[test_values.columns], test_values))"
   ]
  },
  {
   "cell_type": "code",
   "execution_count": 33,
   "metadata": {},
   "outputs": [],
   "source": [
    "# recommending\n",
    "def recommendations(userid, n_movies):\n",
    "    movies_to_recommend_from=set_difference(all_movies,movies_train) # all movies not in train\n",
    "    s=pd.DataFrame()\n",
    "    for i in movies_to_recommend_from:\n",
    "        s[i]=X_predict_scale[X_predict_scale.index==userid][i]\n",
    "    predictions=np.transpose(s)\n",
    "    print('For user %d we make the following recommendations:' %userid)\n",
    "    return predictions"
   ]
  },
  {
   "cell_type": "code",
   "execution_count": 34,
   "metadata": {},
   "outputs": [
    {
     "name": "stdout",
     "output_type": "stream",
     "text": "User #1 has rated 175 movies (avg. rating = 4.4):\n"
    },
    {
     "data": {
      "text/html": "<div>\n<style scoped>\n    .dataframe tbody tr th:only-of-type {\n        vertical-align: middle;\n    }\n\n    .dataframe tbody tr th {\n        vertical-align: top;\n    }\n\n    .dataframe thead th {\n        text-align: right;\n    }\n</style>\n<table border=\"1\" class=\"dataframe\">\n  <thead>\n    <tr style=\"text-align: right;\">\n      <th></th>\n      <th>user_id</th>\n      <th>movie_id</th>\n      <th>rating</th>\n      <th>title</th>\n    </tr>\n  </thead>\n  <tbody>\n    <tr>\n      <th>2998</th>\n      <td>1</td>\n      <td>457</td>\n      <td>5.0</td>\n      <td>Fugitive, The (1993)</td>\n    </tr>\n    <tr>\n      <th>8108</th>\n      <td>1</td>\n      <td>1220</td>\n      <td>5.0</td>\n      <td>Blues Brothers, The (1980)</td>\n    </tr>\n    <tr>\n      <th>11157</th>\n      <td>1</td>\n      <td>2090</td>\n      <td>5.0</td>\n      <td>Rescuers, The (1977)</td>\n    </tr>\n    <tr>\n      <th>14323</th>\n      <td>1</td>\n      <td>2959</td>\n      <td>5.0</td>\n      <td>Fight Club (1999)</td>\n    </tr>\n    <tr>\n      <th>6410</th>\n      <td>1</td>\n      <td>1092</td>\n      <td>5.0</td>\n      <td>Basic Instinct (1992)</td>\n    </tr>\n    <tr>\n      <th>...</th>\n      <td>...</td>\n      <td>...</td>\n      <td>...</td>\n      <td>...</td>\n    </tr>\n    <tr>\n      <th>8025</th>\n      <td>1</td>\n      <td>1219</td>\n      <td>2.0</td>\n      <td>Psycho (1960)</td>\n    </tr>\n    <tr>\n      <th>12997</th>\n      <td>1</td>\n      <td>2617</td>\n      <td>2.0</td>\n      <td>Mummy, The (1999)</td>\n    </tr>\n    <tr>\n      <th>11663</th>\n      <td>1</td>\n      <td>2253</td>\n      <td>2.0</td>\n      <td>Toys (1992)</td>\n    </tr>\n    <tr>\n      <th>11991</th>\n      <td>1</td>\n      <td>2338</td>\n      <td>2.0</td>\n      <td>I Still Know What You Did Last Summer (1998)</td>\n    </tr>\n    <tr>\n      <th>12117</th>\n      <td>1</td>\n      <td>2389</td>\n      <td>2.0</td>\n      <td>Psycho (1998)</td>\n    </tr>\n  </tbody>\n</table>\n<p>175 rows × 4 columns</p>\n</div>",
      "text/plain": "       user_id  movie_id  rating                                         title\n2998         1       457     5.0                          Fugitive, The (1993)\n8108         1      1220     5.0                    Blues Brothers, The (1980)\n11157        1      2090     5.0                          Rescuers, The (1977)\n14323        1      2959     5.0                             Fight Club (1999)\n6410         1      1092     5.0                         Basic Instinct (1992)\n...        ...       ...     ...                                           ...\n8025         1      1219     2.0                                 Psycho (1960)\n12997        1      2617     2.0                             Mummy, The (1999)\n11663        1      2253     2.0                                   Toys (1992)\n11991        1      2338     2.0  I Still Know What You Did Last Summer (1998)\n12117        1      2389     2.0                                 Psycho (1998)\n\n[175 rows x 4 columns]"
     },
     "execution_count": 34,
     "metadata": {},
     "output_type": "execute_result"
    }
   ],
   "source": [
    "user_ratings = train[train.user_id==1]\n",
    "print(\"User #{} has rated {} movies (avg. rating = {:.1f}):\".format(\n",
    "    1, len(user_ratings), user_ratings['rating'].mean(),\n",
    "))\n",
    "cols = ['user_id', 'movie_id', 'rating', 'title']\n",
    "user_ratings.sort_values(by='rating', ascending=False)[cols]"
   ]
  },
  {
   "cell_type": "code",
   "execution_count": 44,
   "metadata": {},
   "outputs": [
    {
     "name": "stdout",
     "output_type": "stream",
     "text": "For user 1 we make the following recommendations:\n"
    },
    {
     "data": {
      "text/html": "<div>\n<style scoped>\n    .dataframe tbody tr th:only-of-type {\n        vertical-align: middle;\n    }\n\n    .dataframe tbody tr th {\n        vertical-align: top;\n    }\n\n    .dataframe thead th {\n        text-align: right;\n    }\n</style>\n<table border=\"1\" class=\"dataframe\">\n  <thead>\n    <tr style=\"text-align: right;\">\n      <th></th>\n      <th>predicted_ratings</th>\n      <th>movie_id</th>\n    </tr>\n  </thead>\n  <tbody>\n    <tr>\n      <th>77841</th>\n      <td>2.944065</td>\n      <td>77841</td>\n    </tr>\n    <tr>\n      <th>96004</th>\n      <td>2.415449</td>\n      <td>96004</td>\n    </tr>\n    <tr>\n      <th>310</th>\n      <td>2.352819</td>\n      <td>310</td>\n    </tr>\n    <tr>\n      <th>115203</th>\n      <td>2.334662</td>\n      <td>115203</td>\n    </tr>\n    <tr>\n      <th>2898</th>\n      <td>2.313721</td>\n      <td>2898</td>\n    </tr>\n    <tr>\n      <th>137595</th>\n      <td>2.166146</td>\n      <td>137595</td>\n    </tr>\n    <tr>\n      <th>6239</th>\n      <td>2.155240</td>\n      <td>6239</td>\n    </tr>\n    <tr>\n      <th>8511</th>\n      <td>2.145279</td>\n      <td>8511</td>\n    </tr>\n    <tr>\n      <th>5256</th>\n      <td>2.128797</td>\n      <td>5256</td>\n    </tr>\n    <tr>\n      <th>685</th>\n      <td>2.123440</td>\n      <td>685</td>\n    </tr>\n  </tbody>\n</table>\n</div>",
      "text/plain": "        predicted_ratings  movie_id\n77841            2.944065     77841\n96004            2.415449     96004\n310              2.352819       310\n115203           2.334662    115203\n2898             2.313721      2898\n137595           2.166146    137595\n6239             2.155240      6239\n8511             2.145279      8511\n5256             2.128797      5256\n685              2.123440       685"
     },
     "execution_count": 44,
     "metadata": {},
     "output_type": "execute_result"
    }
   ],
   "source": [
    "preds_user1=recommendations(1,10)\n",
    "preds_user1.columns=['predicted_ratings']\n",
    "preds_user1['movie_id']=preds_user1.index\n",
    "preds_user1.sort_values(by='predicted_ratings', ascending=False).head(10)"
   ]
  }
 ]
}