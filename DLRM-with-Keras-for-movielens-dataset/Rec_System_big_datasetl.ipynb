{
 "metadata": {
  "language_info": {
   "codemirror_mode": {
    "name": "ipython",
    "version": 3
   },
   "file_extension": ".py",
   "mimetype": "text/x-python",
   "name": "python",
   "nbconvert_exporter": "python",
   "pygments_lexer": "ipython3",
   "version": 3
  },
  "orig_nbformat": 2,
  "kernelspec": {
   "name": "python_defaultSpec_1596964351562",
   "display_name": "Python 3.6.9 64-bit ('DLRM-with-Keras-for-movielens-dataset': pipenv)"
  }
 },
 "nbformat": 4,
 "nbformat_minor": 2,
 "cells": [
  {
   "cell_type": "code",
   "execution_count": 1,
   "metadata": {},
   "outputs": [],
   "source": [
    "import pandas as pd\n",
    "import numpy as np \n",
    "import zipfile\n",
    "from sklearn.preprocessing import scale\n",
    "from sklearn.preprocessing import LabelEncoder\n",
    "from sklearn.preprocessing import MinMaxScaler\n",
    "from sklearn import metrics"
   ]
  },
  {
   "cell_type": "code",
   "execution_count": 2,
   "metadata": {},
   "outputs": [],
   "source": [
    "from keras.layers import Input, Embedding, Concatenate, Flatten, Dense, Dot, Add, Multiply, Subtract, Average, Reshape\n",
    "from keras.models import Model, Sequential\n",
    "from keras.callbacks import EarlyStopping"
   ]
  },
  {
   "cell_type": "code",
   "execution_count": 3,
   "metadata": {},
   "outputs": [],
   "source": [
    "from keras.callbacks import EarlyStopping"
   ]
  },
  {
   "cell_type": "code",
   "execution_count": 4,
   "metadata": {
    "tags": []
   },
   "outputs": [
    {
     "output_type": "stream",
     "name": "stdout",
     "text": "\nRatings Data :\nshape :  (100000, 4)\n   user_id  movie_id  rating  unix_timestamp\n0      196       242       3       881250949\n1      186       302       3       891717742\n2       22       377       1       878887116\n3      244        51       2       880606923\n4      166       346       1       886397596\n"
    }
   ],
   "source": [
    "zf = zipfile.ZipFile('/home/elena/Downloads/ml-100k.zip')\n",
    "# reading ratings file:\n",
    "r_cols = ['user_id', 'movie_id', 'rating', 'unix_timestamp']\n",
    "ratings = pd.read_csv(zf.open('ml-100k/u.data'), sep='\\t', names=r_cols,encoding='latin-1')\n",
    "print(\"\\nRatings Data :\")\n",
    "print(\"shape : \", ratings.shape)\n",
    "print(ratings.head())"
   ]
  },
  {
   "cell_type": "code",
   "execution_count": 5,
   "metadata": {
    "tags": []
   },
   "outputs": [
    {
     "output_type": "stream",
     "name": "stdout",
     "text": "943 distinct users rated 1,682 different movies (total ratings = 100,000)\n"
    }
   ],
   "source": [
    "n_movies = len(ratings.movie_id.unique())\n",
    "n_users = len(ratings.user_id.unique())\n",
    "print(\n",
    "    \"{1:,} distinct users rated {0:,} different movies (total ratings = {2:,})\".format(\n",
    "        n_movies, n_users, len(ratings),\n",
    "    )\n",
    ")"
   ]
  },
  {
   "cell_type": "code",
   "execution_count": 6,
   "metadata": {},
   "outputs": [
    {
     "output_type": "execute_result",
     "data": {
      "text/plain": "(1, 5, array([3, 1, 2, 4, 5]))"
     },
     "metadata": {},
     "execution_count": 6
    }
   ],
   "source": [
    "ratings.rating.min(), ratings.rating.max(), ratings.rating.unique()"
   ]
  },
  {
   "cell_type": "code",
   "execution_count": 7,
   "metadata": {},
   "outputs": [
    {
     "output_type": "execute_result",
     "data": {
      "text/plain": "((90570, 4), (9430, 4))"
     },
     "metadata": {},
     "execution_count": 7
    }
   ],
   "source": [
    "# The dataset has already been divided into train and test by GroupLens where the test data has 10 ratings for # each user, i.e. 9,430 rows in total!  Reading both these files into our Python environment\n",
    "train = pd.read_csv(zf.open('ml-100k/ua.base'), sep='\\t', names=r_cols, encoding='latin-1')\n",
    "test = pd.read_csv(zf.open('ml-100k/ua.test'), sep='\\t', names=r_cols, encoding='latin-1')\n",
    "train.shape, test.shape"
   ]
  },
  {
   "cell_type": "code",
   "execution_count": 8,
   "metadata": {
    "tags": []
   },
   "outputs": [
    {
     "output_type": "stream",
     "name": "stdout",
     "text": "943 distinct users rated 1,680 different movies (total ratings = 90,570)\n"
    }
   ],
   "source": [
    "n_movies = len(train.movie_id.unique())\n",
    "n_users = len(train.user_id.unique())\n",
    "print(\n",
    "    \"{1:,} distinct users rated {0:,} different movies (total ratings = {2:,})\".format(\n",
    "        n_movies, n_users, len(train),\n",
    "    )\n",
    ")"
   ]
  },
  {
   "cell_type": "code",
   "execution_count": 9,
   "metadata": {
    "tags": []
   },
   "outputs": [
    {
     "output_type": "stream",
     "name": "stdout",
     "text": "943 distinct users rated 1,129 different movies (total ratings = 9,430)\n"
    }
   ],
   "source": [
    "n_movies = len(test.movie_id.unique())\n",
    "n_users = len(test.user_id.unique())\n",
    "print(\n",
    "    \"{1:,} distinct users rated {0:,} different movies (total ratings = {2:,})\".format(\n",
    "        n_movies, n_users, len(test),\n",
    "    )\n",
    ")"
   ]
  },
  {
   "cell_type": "code",
   "execution_count": 9,
   "metadata": {},
   "outputs": [],
   "source": [
    "# train test split\n",
    "# Shuffle (reproducibly)\n",
    "df = ratings.sample(frac=1, random_state=1).reset_index(drop=True)\n",
    "\n",
    "# Partitioning train/val according to behaviour of keras.Model.fit() when called with\n",
    "# validation_split kwarg (which is to take validation data from the end as a contiguous\n",
    "# chunk)\n",
    "val_split = .2\n",
    "n_ratings = len(df)\n",
    "n_train = math.floor(n_ratings * (1-val_split))\n",
    "itrain = df.index[:n_train]\n",
    "ival = df.index[n_train:]\n",
    "train=df.loc[itrain]\n",
    "test=df.loc[ival]\n",
    "# center rating\n",
    "mean_rating_train =  df.loc[itrain, 'rating'].mean()\n",
    "df['y'] = df['rating'] -mean_rating_train"
   ]
  },
  {
   "cell_type": "code",
   "execution_count": 10,
   "metadata": {
    "tags": []
   },
   "outputs": [
    {
     "output_type": "stream",
     "name": "stdout",
     "text": "Average rating in training set is 3.52 stars\nAlways predicting global average rating results in Mean Absolute Error=0.94, Mean Squared Error=1.26\nPredicting mean per movie results in Mean Absolute Error=0.84, Mean Squared Error=1.09\n"
    }
   ],
   "source": [
    "# baseline\n",
    "def get_metrics(y_true, y_pred):\n",
    "    return metrics.mean_absolute_error(y_true, y_pred), metrics.mean_squared_error(y_true, y_pred)\n",
    "\n",
    "mean_rating = train['rating'].mean()\n",
    "print(\"Average rating in training set is {:.2f} stars\".format(mean_rating))\n",
    "\n",
    "y_true = test['rating'].values\n",
    "always_mean = np.full(y_true.shape, mean_rating)\n",
    "\n",
    "mae, mse = get_metrics(y_true, always_mean)\n",
    "print(\"Always predicting global average rating results in Mean Absolute Error={:.2f}, Mean Squared Error={:.2f}\".format(\n",
    "    mae, mse))\n",
    "\n",
    "movies = ratings.copy().set_index('movie_id')\n",
    "mean_per_movie = train.groupby('movie_id')['rating'].mean()\n",
    "movies['mean_rating'] = mean_per_movie\n",
    "ratings_per_movie = train.groupby('movie_id').size()\n",
    "movies['n_ratings'] = ratings_per_movie\n",
    "# There are a few movies in the validation set not present in the training set. We'll just use the global\n",
    "# mean rating in their case.\n",
    "y_movie_mean = test.join(mean_per_movie, on='movie_id', rsuffix='mean')['ratingmean'].fillna(mean_rating).values\n",
    "\n",
    "mae, mse = get_metrics(y_true, y_movie_mean)\n",
    "print(\"Predicting mean per movie results in Mean Absolute Error={:.2f}, Mean Squared Error={:.2f}\".format(mae, mse))"
   ]
  },
  {
   "cell_type": "code",
   "execution_count": 11,
   "metadata": {},
   "outputs": [],
   "source": [
    "def embedding_model(movie_embedding_size, user_embedding_size, user_max, movie_max):\n",
    "    hidden_units = (32,4)\n",
    "\n",
    "    # Each instance will consist of two inputs: a single user id, and a single movie id\n",
    "    user_id_input = Input(shape=(1,), name='user_id')\n",
    "    movie_id_input = Input(shape=(1,), name='movie_id')\n",
    "    user_embedded = Embedding(user_max+1, user_embedding_size, \n",
    "                                       input_length=1, name='user_embedding')(user_id_input)\n",
    "    movie_embedded = Embedding(movie_max+1, movie_embedding_size, \n",
    "                                        input_length=1, name='movie_embedding')(movie_id_input)\n",
    "    # Concatenate the embeddings (and remove the useless extra dimension)\n",
    "    concatenated = Concatenate()([user_embedded, movie_embedded])\n",
    "    out = Flatten()(concatenated)\n",
    "\n",
    "    # Add one or more hidden layers\n",
    "    for n_hidden in hidden_units:\n",
    "        out = Dense(n_hidden, activation='relu')(out)\n",
    "\n",
    "    # A single output: our predicted rating\n",
    "    out = Dense(1, activation='linear', name='prediction')(out)\n",
    "\n",
    "    model = Model(inputs = [user_id_input, movie_id_input],outputs = out)\n",
    "    #compile\n",
    "    model.compile(optimizer = 'Adam',loss='MSE',metrics=['MAE'])\n",
    "    return model"
   ]
  },
  {
   "cell_type": "code",
   "execution_count": 14,
   "metadata": {},
   "outputs": [],
   "source": [
    "es=EarlyStopping(monitor='val_MAE', min_delta=0, patience=0, verbose=0, mode='min', baseline=None, restore_best_weights=False)"
   ]
  },
  {
   "cell_type": "code",
   "execution_count": 12,
   "metadata": {},
   "outputs": [],
   "source": [
    "model = embedding_model(8,8,ratings.user_id.max(), ratings.movie_id.max())"
   ]
  },
  {
   "cell_type": "code",
   "execution_count": 16,
   "metadata": {
    "tags": []
   },
   "outputs": [
    {
     "output_type": "stream",
     "name": "stdout",
     "text": "Epoch 1/20\n182/182 [==============================] - 0s 2ms/step - loss: 0.8717 - MAE: 0.7382\nEpoch 2/20\n182/182 [==============================] - 0s 3ms/step - loss: 0.8592 - MAE: 0.7320\nEpoch 3/20\n182/182 [==============================] - 0s 2ms/step - loss: 0.8555 - MAE: 0.7302\nEpoch 4/20\n182/182 [==============================] - 0s 2ms/step - loss: 0.8534 - MAE: 0.7294\nEpoch 5/20\n182/182 [==============================] - 0s 2ms/step - loss: 0.8522 - MAE: 0.7289\nEpoch 6/20\n182/182 [==============================] - 0s 2ms/step - loss: 0.8515 - MAE: 0.7286\nEpoch 7/20\n182/182 [==============================] - 0s 2ms/step - loss: 0.8507 - MAE: 0.7280\nEpoch 8/20\n182/182 [==============================] - 0s 2ms/step - loss: 0.8502 - MAE: 0.7279\nEpoch 9/20\n182/182 [==============================] - 0s 2ms/step - loss: 0.8495 - MAE: 0.7273\nEpoch 10/20\n182/182 [==============================] - 0s 2ms/step - loss: 0.8495 - MAE: 0.7280\nEpoch 11/20\n182/182 [==============================] - 0s 2ms/step - loss: 0.8486 - MAE: 0.7272\nEpoch 12/20\n182/182 [==============================] - 0s 2ms/step - loss: 0.8480 - MAE: 0.7269\nEpoch 13/20\n182/182 [==============================] - 0s 2ms/step - loss: 0.8476 - MAE: 0.7266\nEpoch 14/20\n182/182 [==============================] - 0s 2ms/step - loss: 0.8467 - MAE: 0.7260\nEpoch 15/20\n182/182 [==============================] - 0s 2ms/step - loss: 0.8455 - MAE: 0.7261\nEpoch 16/20\n182/182 [==============================] - 0s 2ms/step - loss: 0.8448 - MAE: 0.7253\nEpoch 17/20\n182/182 [==============================] - 0s 2ms/step - loss: 0.8435 - MAE: 0.7247\nEpoch 18/20\n182/182 [==============================] - 1s 3ms/step - loss: 0.8421 - MAE: 0.7241\nEpoch 19/20\n182/182 [==============================] - 0s 2ms/step - loss: 0.8389 - MAE: 0.7225\nEpoch 20/20\n182/182 [==============================] - 0s 2ms/step - loss: 0.8359 - MAE: 0.7210\n"
    }
   ],
   "source": [
    "history = model.fit(x=[train.user_id.values, train.movie_id.values], y= train.rating.values, batch_size=500, epochs=20, verbose=1 )"
   ]
  },
  {
   "cell_type": "code",
   "execution_count": 17,
   "metadata": {
    "tags": []
   },
   "outputs": [
    {
     "output_type": "stream",
     "name": "stdout",
     "text": "295/295 [==============================] - 1s 2ms/step - loss: 0.9207 - MAE: 0.7589\n"
    }
   ],
   "source": [
    "validation = model.evaluate(x=[test.user_id.values, test.movie_id.values], y=test.rating.values)"
   ]
  },
  {
   "cell_type": "code",
   "execution_count": 18,
   "metadata": {},
   "outputs": [
    {
     "output_type": "execute_result",
     "data": {
      "text/plain": "[0.9207122325897217, 0.7588593363761902]"
     },
     "metadata": {},
     "execution_count": 18
    }
   ],
   "source": [
    "validation"
   ]
  },
  {
   "cell_type": "code",
   "execution_count": 17,
   "metadata": {
    "tags": []
   },
   "outputs": [
    {
     "output_type": "stream",
     "name": "stdout",
     "text": "Epoch 1/20\n180/180 [==============================] - 0s 2ms/step - loss: 1.9169 - MAE: 1.0242 - val_loss: 0.8898 - val_MAE: 0.7450\nEpoch 2/20\n180/180 [==============================] - 0s 2ms/step - loss: 0.8583 - MAE: 0.7315 - val_loss: 0.8847 - val_MAE: 0.7440\nEpoch 3/20\n180/180 [==============================] - 0s 2ms/step - loss: 0.8551 - MAE: 0.7302 - val_loss: 0.8829 - val_MAE: 0.7421\nEpoch 4/20\n180/180 [==============================] - 0s 2ms/step - loss: 0.8542 - MAE: 0.7298 - val_loss: 0.8836 - val_MAE: 0.7422\n"
    }
   ],
   "source": [
    "history = model.fit(x=[df.user_id, df.movie_id], y= df.rating, batch_size=500, epochs=20, verbose=1, validation_split=.1,callbacks=[es] )"
   ]
  },
  {
   "cell_type": "code",
   "execution_count": 8,
   "metadata": {},
   "outputs": [],
   "source": [
    "from sklearn.model_selection import train_test_split\n",
    "import math"
   ]
  },
  {
   "cell_type": "code",
   "execution_count": 52,
   "metadata": {},
   "outputs": [],
   "source": []
  },
  {
   "cell_type": "code",
   "execution_count": 16,
   "metadata": {
    "tags": []
   },
   "outputs": [
    {
     "output_type": "stream",
     "name": "stdout",
     "text": "Epoch 1/20\n160/160 [==============================] - 1s 4ms/step - loss: 1.8364 - MAE: 1.0416 - val_loss: 0.9296 - val_MAE: 0.7658\nEpoch 2/20\n160/160 [==============================] - 0s 3ms/step - loss: 0.8642 - MAE: 0.7374 - val_loss: 0.8873 - val_MAE: 0.7430\nEpoch 3/20\n160/160 [==============================] - 0s 3ms/step - loss: 0.8451 - MAE: 0.7278 - val_loss: 0.8835 - val_MAE: 0.7406\nEpoch 4/20\n160/160 [==============================] - 1s 3ms/step - loss: 0.8407 - MAE: 0.7254 - val_loss: 0.8819 - val_MAE: 0.7415\n"
    }
   ],
   "source": [
    "history = model.fit(x=[df.user_id, df.movie_id], y= df.y, batch_size=500, epochs=20, verbose=1, validation_split=.2,callbacks=[es] )"
   ]
  },
  {
   "cell_type": "code",
   "execution_count": 21,
   "metadata": {
    "tags": []
   },
   "outputs": [
    {
     "output_type": "stream",
     "name": "stdout",
     "text": "Average rating in training set is 3.50 stars\nAlways predicting global average rating results in Mean Absolute Error=0.83, Mean Squared Error=1.10\nPredicting mean per movie results in Mean Absolute Error=0.76, Mean Squared Error=0.96\n"
    }
   ],
   "source": [
    "def get_metrics(y_true, y_pred):\n",
    "    return metrics.mean_absolute_error(y_true, y_pred), metrics.mean_squared_error(y_true, y_pred)\n",
    "\n",
    "mean_rating = train['rating'].mean()\n",
    "print(\"Average rating in training set is {:.2f} stars\".format(mean_rating))\n",
    "\n",
    "y_true = test['rating'].values\n",
    "always_mean = np.full(y_true.shape, mean_rating)\n",
    "\n",
    "mae, mse = get_metrics(y_true, always_mean)\n",
    "print(\"Always predicting global average rating results in Mean Absolute Error={:.2f}, Mean Squared Error={:.2f}\".format(\n",
    "    mae, mse))\n",
    "\n",
    "movies = df.copy().set_index('movie_id')\n",
    "mean_per_movie = train.groupby('movie_id')['rating'].mean()\n",
    "movies['mean_rating'] = mean_per_movie\n",
    "ratings_per_movie = train.groupby('movie_id').size()\n",
    "movies['n_ratings'] = ratings_per_movie\n",
    "# There are a few movies in the validation set not present in the training set. We'll just use the global\n",
    "# mean rating in their case.\n",
    "y_movie_mean = test.join(mean_per_movie, on='movie_id', rsuffix='mean')['ratingmean'].fillna(mean_rating).values\n",
    "\n",
    "mae, mse = get_metrics(y_true, y_movie_mean)\n",
    "print(\"Predicting mean per movie results in Mean Absolute Error={:.2f}, Mean Squared Error={:.2f}\".format(mae, mse))"
   ]
  },
  {
   "cell_type": "code",
   "execution_count": 54,
   "metadata": {},
   "outputs": [],
   "source": [
    "import matplotlib.pyplot as plt"
   ]
  },
  {
   "cell_type": "code",
   "execution_count": 55,
   "metadata": {},
   "outputs": [
    {
     "output_type": "display_data",
     "data": {
      "text/plain": "<Figure size 432x288 with 1 Axes>",
      "image/svg+xml": "<?xml version=\"1.0\" encoding=\"utf-8\" standalone=\"no\"?>\n<!DOCTYPE svg PUBLIC \"-//W3C//DTD SVG 1.1//EN\"\n  \"http://www.w3.org/Graphics/SVG/1.1/DTD/svg11.dtd\">\n<!-- Created with matplotlib (https://matplotlib.org/) -->\n<svg height=\"291.75625pt\" version=\"1.1\" viewBox=\"0 0 436.70625 291.75625\" width=\"436.70625pt\" xmlns=\"http://www.w3.org/2000/svg\" xmlns:xlink=\"http://www.w3.org/1999/xlink\">\n <metadata>\n  <rdf:RDF xmlns:cc=\"http://creativecommons.org/ns#\" xmlns:dc=\"http://purl.org/dc/elements/1.1/\" xmlns:rdf=\"http://www.w3.org/1999/02/22-rdf-syntax-ns#\">\n   <cc:Work>\n    <dc:type rdf:resource=\"http://purl.org/dc/dcmitype/StillImage\"/>\n    <dc:date>2020-08-09T12:27:43.189410</dc:date>\n    <dc:format>image/svg+xml</dc:format>\n    <dc:creator>\n     <cc:Agent>\n      <dc:title>Matplotlib v3.3.0, https://matplotlib.org/</dc:title>\n     </cc:Agent>\n    </dc:creator>\n   </cc:Work>\n  </rdf:RDF>\n </metadata>\n <defs>\n  <style type=\"text/css\">*{stroke-linecap:butt;stroke-linejoin:round;}</style>\n </defs>\n <g id=\"figure_1\">\n  <g id=\"patch_1\">\n   <path d=\"M 0 291.75625 \nL 436.70625 291.75625 \nL 436.70625 0 \nL 0 0 \nz\n\" style=\"fill:none;\"/>\n  </g>\n  <g id=\"axes_1\">\n   <g id=\"patch_2\">\n    <path d=\"M 56.50625 254.2 \nL 391.30625 254.2 \nL 391.30625 36.76 \nL 56.50625 36.76 \nz\n\" style=\"fill:#ffffff;\"/>\n   </g>\n   <g id=\"matplotlib.axis_1\">\n    <g id=\"xtick_1\">\n     <g id=\"line2d_1\">\n      <path clip-path=\"url(#p5f7bd8dd90)\" d=\"M 56.50625 254.2 \nL 56.50625 36.76 \n\" style=\"fill:none;stroke:#b0b0b0;stroke-linecap:square;stroke-width:0.8;\"/>\n     </g>\n     <g id=\"line2d_2\">\n      <defs>\n       <path d=\"M 0 0 \nL 0 3.5 \n\" id=\"m56ace4f997\" style=\"stroke:#000000;stroke-width:0.8;\"/>\n      </defs>\n      <g>\n       <use style=\"stroke:#000000;stroke-width:0.8;\" x=\"56.50625\" xlink:href=\"#m56ace4f997\" y=\"254.2\"/>\n      </g>\n     </g>\n     <g id=\"text_1\">\n      <!-- 0.00 -->\n      <g transform=\"translate(45.373438 268.798437)scale(0.1 -0.1)\">\n       <defs>\n        <path d=\"M 31.78125 66.40625 \nQ 24.171875 66.40625 20.328125 58.90625 \nQ 16.5 51.421875 16.5 36.375 \nQ 16.5 21.390625 20.328125 13.890625 \nQ 24.171875 6.390625 31.78125 6.390625 \nQ 39.453125 6.390625 43.28125 13.890625 \nQ 47.125 21.390625 47.125 36.375 \nQ 47.125 51.421875 43.28125 58.90625 \nQ 39.453125 66.40625 31.78125 66.40625 \nz\nM 31.78125 74.21875 \nQ 44.046875 74.21875 50.515625 64.515625 \nQ 56.984375 54.828125 56.984375 36.375 \nQ 56.984375 17.96875 50.515625 8.265625 \nQ 44.046875 -1.421875 31.78125 -1.421875 \nQ 19.53125 -1.421875 13.0625 8.265625 \nQ 6.59375 17.96875 6.59375 36.375 \nQ 6.59375 54.828125 13.0625 64.515625 \nQ 19.53125 74.21875 31.78125 74.21875 \nz\n\" id=\"DejaVuSans-48\"/>\n        <path d=\"M 10.6875 12.40625 \nL 21 12.40625 \nL 21 0 \nL 10.6875 0 \nz\n\" id=\"DejaVuSans-46\"/>\n       </defs>\n       <use xlink:href=\"#DejaVuSans-48\"/>\n       <use x=\"63.623047\" xlink:href=\"#DejaVuSans-46\"/>\n       <use x=\"95.410156\" xlink:href=\"#DejaVuSans-48\"/>\n       <use x=\"159.033203\" xlink:href=\"#DejaVuSans-48\"/>\n      </g>\n     </g>\n    </g>\n    <g id=\"xtick_2\">\n     <g id=\"line2d_3\">\n      <path clip-path=\"url(#p5f7bd8dd90)\" d=\"M 98.35625 254.2 \nL 98.35625 36.76 \n\" style=\"fill:none;stroke:#b0b0b0;stroke-linecap:square;stroke-width:0.8;\"/>\n     </g>\n     <g id=\"line2d_4\">\n      <g>\n       <use style=\"stroke:#000000;stroke-width:0.8;\" x=\"98.35625\" xlink:href=\"#m56ace4f997\" y=\"254.2\"/>\n      </g>\n     </g>\n     <g id=\"text_2\">\n      <!-- 0.25 -->\n      <g transform=\"translate(87.223438 268.798437)scale(0.1 -0.1)\">\n       <defs>\n        <path d=\"M 19.1875 8.296875 \nL 53.609375 8.296875 \nL 53.609375 0 \nL 7.328125 0 \nL 7.328125 8.296875 \nQ 12.9375 14.109375 22.625 23.890625 \nQ 32.328125 33.6875 34.8125 36.53125 \nQ 39.546875 41.84375 41.421875 45.53125 \nQ 43.3125 49.21875 43.3125 52.78125 \nQ 43.3125 58.59375 39.234375 62.25 \nQ 35.15625 65.921875 28.609375 65.921875 \nQ 23.96875 65.921875 18.8125 64.3125 \nQ 13.671875 62.703125 7.8125 59.421875 \nL 7.8125 69.390625 \nQ 13.765625 71.78125 18.9375 73 \nQ 24.125 74.21875 28.421875 74.21875 \nQ 39.75 74.21875 46.484375 68.546875 \nQ 53.21875 62.890625 53.21875 53.421875 \nQ 53.21875 48.921875 51.53125 44.890625 \nQ 49.859375 40.875 45.40625 35.40625 \nQ 44.1875 33.984375 37.640625 27.21875 \nQ 31.109375 20.453125 19.1875 8.296875 \nz\n\" id=\"DejaVuSans-50\"/>\n        <path d=\"M 10.796875 72.90625 \nL 49.515625 72.90625 \nL 49.515625 64.59375 \nL 19.828125 64.59375 \nL 19.828125 46.734375 \nQ 21.96875 47.46875 24.109375 47.828125 \nQ 26.265625 48.1875 28.421875 48.1875 \nQ 40.625 48.1875 47.75 41.5 \nQ 54.890625 34.8125 54.890625 23.390625 \nQ 54.890625 11.625 47.5625 5.09375 \nQ 40.234375 -1.421875 26.90625 -1.421875 \nQ 22.3125 -1.421875 17.546875 -0.640625 \nQ 12.796875 0.140625 7.71875 1.703125 \nL 7.71875 11.625 \nQ 12.109375 9.234375 16.796875 8.0625 \nQ 21.484375 6.890625 26.703125 6.890625 \nQ 35.15625 6.890625 40.078125 11.328125 \nQ 45.015625 15.765625 45.015625 23.390625 \nQ 45.015625 31 40.078125 35.4375 \nQ 35.15625 39.890625 26.703125 39.890625 \nQ 22.75 39.890625 18.8125 39.015625 \nQ 14.890625 38.140625 10.796875 36.28125 \nz\n\" id=\"DejaVuSans-53\"/>\n       </defs>\n       <use xlink:href=\"#DejaVuSans-48\"/>\n       <use x=\"63.623047\" xlink:href=\"#DejaVuSans-46\"/>\n       <use x=\"95.410156\" xlink:href=\"#DejaVuSans-50\"/>\n       <use x=\"159.033203\" xlink:href=\"#DejaVuSans-53\"/>\n      </g>\n     </g>\n    </g>\n    <g id=\"xtick_3\">\n     <g id=\"line2d_5\">\n      <path clip-path=\"url(#p5f7bd8dd90)\" d=\"M 140.20625 254.2 \nL 140.20625 36.76 \n\" style=\"fill:none;stroke:#b0b0b0;stroke-linecap:square;stroke-width:0.8;\"/>\n     </g>\n     <g id=\"line2d_6\">\n      <g>\n       <use style=\"stroke:#000000;stroke-width:0.8;\" x=\"140.20625\" xlink:href=\"#m56ace4f997\" y=\"254.2\"/>\n      </g>\n     </g>\n     <g id=\"text_3\">\n      <!-- 0.50 -->\n      <g transform=\"translate(129.073438 268.798437)scale(0.1 -0.1)\">\n       <use xlink:href=\"#DejaVuSans-48\"/>\n       <use x=\"63.623047\" xlink:href=\"#DejaVuSans-46\"/>\n       <use x=\"95.410156\" xlink:href=\"#DejaVuSans-53\"/>\n       <use x=\"159.033203\" xlink:href=\"#DejaVuSans-48\"/>\n      </g>\n     </g>\n    </g>\n    <g id=\"xtick_4\">\n     <g id=\"line2d_7\">\n      <path clip-path=\"url(#p5f7bd8dd90)\" d=\"M 182.05625 254.2 \nL 182.05625 36.76 \n\" style=\"fill:none;stroke:#b0b0b0;stroke-linecap:square;stroke-width:0.8;\"/>\n     </g>\n     <g id=\"line2d_8\">\n      <g>\n       <use style=\"stroke:#000000;stroke-width:0.8;\" x=\"182.05625\" xlink:href=\"#m56ace4f997\" y=\"254.2\"/>\n      </g>\n     </g>\n     <g id=\"text_4\">\n      <!-- 0.75 -->\n      <g transform=\"translate(170.923438 268.798437)scale(0.1 -0.1)\">\n       <defs>\n        <path d=\"M 8.203125 72.90625 \nL 55.078125 72.90625 \nL 55.078125 68.703125 \nL 28.609375 0 \nL 18.3125 0 \nL 43.21875 64.59375 \nL 8.203125 64.59375 \nz\n\" id=\"DejaVuSans-55\"/>\n       </defs>\n       <use xlink:href=\"#DejaVuSans-48\"/>\n       <use x=\"63.623047\" xlink:href=\"#DejaVuSans-46\"/>\n       <use x=\"95.410156\" xlink:href=\"#DejaVuSans-55\"/>\n       <use x=\"159.033203\" xlink:href=\"#DejaVuSans-53\"/>\n      </g>\n     </g>\n    </g>\n    <g id=\"xtick_5\">\n     <g id=\"line2d_9\">\n      <path clip-path=\"url(#p5f7bd8dd90)\" d=\"M 223.90625 254.2 \nL 223.90625 36.76 \n\" style=\"fill:none;stroke:#b0b0b0;stroke-linecap:square;stroke-width:0.8;\"/>\n     </g>\n     <g id=\"line2d_10\">\n      <g>\n       <use style=\"stroke:#000000;stroke-width:0.8;\" x=\"223.90625\" xlink:href=\"#m56ace4f997\" y=\"254.2\"/>\n      </g>\n     </g>\n     <g id=\"text_5\">\n      <!-- 1.00 -->\n      <g transform=\"translate(212.773438 268.798437)scale(0.1 -0.1)\">\n       <defs>\n        <path d=\"M 12.40625 8.296875 \nL 28.515625 8.296875 \nL 28.515625 63.921875 \nL 10.984375 60.40625 \nL 10.984375 69.390625 \nL 28.421875 72.90625 \nL 38.28125 72.90625 \nL 38.28125 8.296875 \nL 54.390625 8.296875 \nL 54.390625 0 \nL 12.40625 0 \nz\n\" id=\"DejaVuSans-49\"/>\n       </defs>\n       <use xlink:href=\"#DejaVuSans-49\"/>\n       <use x=\"63.623047\" xlink:href=\"#DejaVuSans-46\"/>\n       <use x=\"95.410156\" xlink:href=\"#DejaVuSans-48\"/>\n       <use x=\"159.033203\" xlink:href=\"#DejaVuSans-48\"/>\n      </g>\n     </g>\n    </g>\n    <g id=\"xtick_6\">\n     <g id=\"line2d_11\">\n      <path clip-path=\"url(#p5f7bd8dd90)\" d=\"M 265.75625 254.2 \nL 265.75625 36.76 \n\" style=\"fill:none;stroke:#b0b0b0;stroke-linecap:square;stroke-width:0.8;\"/>\n     </g>\n     <g id=\"line2d_12\">\n      <g>\n       <use style=\"stroke:#000000;stroke-width:0.8;\" x=\"265.75625\" xlink:href=\"#m56ace4f997\" y=\"254.2\"/>\n      </g>\n     </g>\n     <g id=\"text_6\">\n      <!-- 1.25 -->\n      <g transform=\"translate(254.623438 268.798437)scale(0.1 -0.1)\">\n       <use xlink:href=\"#DejaVuSans-49\"/>\n       <use x=\"63.623047\" xlink:href=\"#DejaVuSans-46\"/>\n       <use x=\"95.410156\" xlink:href=\"#DejaVuSans-50\"/>\n       <use x=\"159.033203\" xlink:href=\"#DejaVuSans-53\"/>\n      </g>\n     </g>\n    </g>\n    <g id=\"xtick_7\">\n     <g id=\"line2d_13\">\n      <path clip-path=\"url(#p5f7bd8dd90)\" d=\"M 307.60625 254.2 \nL 307.60625 36.76 \n\" style=\"fill:none;stroke:#b0b0b0;stroke-linecap:square;stroke-width:0.8;\"/>\n     </g>\n     <g id=\"line2d_14\">\n      <g>\n       <use style=\"stroke:#000000;stroke-width:0.8;\" x=\"307.60625\" xlink:href=\"#m56ace4f997\" y=\"254.2\"/>\n      </g>\n     </g>\n     <g id=\"text_7\">\n      <!-- 1.50 -->\n      <g transform=\"translate(296.473438 268.798437)scale(0.1 -0.1)\">\n       <use xlink:href=\"#DejaVuSans-49\"/>\n       <use x=\"63.623047\" xlink:href=\"#DejaVuSans-46\"/>\n       <use x=\"95.410156\" xlink:href=\"#DejaVuSans-53\"/>\n       <use x=\"159.033203\" xlink:href=\"#DejaVuSans-48\"/>\n      </g>\n     </g>\n    </g>\n    <g id=\"xtick_8\">\n     <g id=\"line2d_15\">\n      <path clip-path=\"url(#p5f7bd8dd90)\" d=\"M 349.45625 254.2 \nL 349.45625 36.76 \n\" style=\"fill:none;stroke:#b0b0b0;stroke-linecap:square;stroke-width:0.8;\"/>\n     </g>\n     <g id=\"line2d_16\">\n      <g>\n       <use style=\"stroke:#000000;stroke-width:0.8;\" x=\"349.45625\" xlink:href=\"#m56ace4f997\" y=\"254.2\"/>\n      </g>\n     </g>\n     <g id=\"text_8\">\n      <!-- 1.75 -->\n      <g transform=\"translate(338.323438 268.798437)scale(0.1 -0.1)\">\n       <use xlink:href=\"#DejaVuSans-49\"/>\n       <use x=\"63.623047\" xlink:href=\"#DejaVuSans-46\"/>\n       <use x=\"95.410156\" xlink:href=\"#DejaVuSans-55\"/>\n       <use x=\"159.033203\" xlink:href=\"#DejaVuSans-53\"/>\n      </g>\n     </g>\n    </g>\n    <g id=\"xtick_9\">\n     <g id=\"line2d_17\">\n      <path clip-path=\"url(#p5f7bd8dd90)\" d=\"M 391.30625 254.2 \nL 391.30625 36.76 \n\" style=\"fill:none;stroke:#b0b0b0;stroke-linecap:square;stroke-width:0.8;\"/>\n     </g>\n     <g id=\"line2d_18\">\n      <g>\n       <use style=\"stroke:#000000;stroke-width:0.8;\" x=\"391.30625\" xlink:href=\"#m56ace4f997\" y=\"254.2\"/>\n      </g>\n     </g>\n     <g id=\"text_9\">\n      <!-- 2.00 -->\n      <g transform=\"translate(380.173438 268.798437)scale(0.1 -0.1)\">\n       <use xlink:href=\"#DejaVuSans-50\"/>\n       <use x=\"63.623047\" xlink:href=\"#DejaVuSans-46\"/>\n       <use x=\"95.410156\" xlink:href=\"#DejaVuSans-48\"/>\n       <use x=\"159.033203\" xlink:href=\"#DejaVuSans-48\"/>\n      </g>\n     </g>\n    </g>\n    <g id=\"text_10\">\n     <!-- Epoch -->\n     <g transform=\"translate(208.595313 282.476562)scale(0.1 -0.1)\">\n      <defs>\n       <path d=\"M 9.8125 72.90625 \nL 55.90625 72.90625 \nL 55.90625 64.59375 \nL 19.671875 64.59375 \nL 19.671875 43.015625 \nL 54.390625 43.015625 \nL 54.390625 34.71875 \nL 19.671875 34.71875 \nL 19.671875 8.296875 \nL 56.78125 8.296875 \nL 56.78125 0 \nL 9.8125 0 \nz\n\" id=\"DejaVuSans-69\"/>\n       <path d=\"M 18.109375 8.203125 \nL 18.109375 -20.796875 \nL 9.078125 -20.796875 \nL 9.078125 54.6875 \nL 18.109375 54.6875 \nL 18.109375 46.390625 \nQ 20.953125 51.265625 25.265625 53.625 \nQ 29.59375 56 35.59375 56 \nQ 45.5625 56 51.78125 48.09375 \nQ 58.015625 40.1875 58.015625 27.296875 \nQ 58.015625 14.40625 51.78125 6.484375 \nQ 45.5625 -1.421875 35.59375 -1.421875 \nQ 29.59375 -1.421875 25.265625 0.953125 \nQ 20.953125 3.328125 18.109375 8.203125 \nz\nM 48.6875 27.296875 \nQ 48.6875 37.203125 44.609375 42.84375 \nQ 40.53125 48.484375 33.40625 48.484375 \nQ 26.265625 48.484375 22.1875 42.84375 \nQ 18.109375 37.203125 18.109375 27.296875 \nQ 18.109375 17.390625 22.1875 11.75 \nQ 26.265625 6.109375 33.40625 6.109375 \nQ 40.53125 6.109375 44.609375 11.75 \nQ 48.6875 17.390625 48.6875 27.296875 \nz\n\" id=\"DejaVuSans-112\"/>\n       <path d=\"M 30.609375 48.390625 \nQ 23.390625 48.390625 19.1875 42.75 \nQ 14.984375 37.109375 14.984375 27.296875 \nQ 14.984375 17.484375 19.15625 11.84375 \nQ 23.34375 6.203125 30.609375 6.203125 \nQ 37.796875 6.203125 41.984375 11.859375 \nQ 46.1875 17.53125 46.1875 27.296875 \nQ 46.1875 37.015625 41.984375 42.703125 \nQ 37.796875 48.390625 30.609375 48.390625 \nz\nM 30.609375 56 \nQ 42.328125 56 49.015625 48.375 \nQ 55.71875 40.765625 55.71875 27.296875 \nQ 55.71875 13.875 49.015625 6.21875 \nQ 42.328125 -1.421875 30.609375 -1.421875 \nQ 18.84375 -1.421875 12.171875 6.21875 \nQ 5.515625 13.875 5.515625 27.296875 \nQ 5.515625 40.765625 12.171875 48.375 \nQ 18.84375 56 30.609375 56 \nz\n\" id=\"DejaVuSans-111\"/>\n       <path d=\"M 48.78125 52.59375 \nL 48.78125 44.1875 \nQ 44.96875 46.296875 41.140625 47.34375 \nQ 37.3125 48.390625 33.40625 48.390625 \nQ 24.65625 48.390625 19.8125 42.84375 \nQ 14.984375 37.3125 14.984375 27.296875 \nQ 14.984375 17.28125 19.8125 11.734375 \nQ 24.65625 6.203125 33.40625 6.203125 \nQ 37.3125 6.203125 41.140625 7.25 \nQ 44.96875 8.296875 48.78125 10.40625 \nL 48.78125 2.09375 \nQ 45.015625 0.34375 40.984375 -0.53125 \nQ 36.96875 -1.421875 32.421875 -1.421875 \nQ 20.0625 -1.421875 12.78125 6.34375 \nQ 5.515625 14.109375 5.515625 27.296875 \nQ 5.515625 40.671875 12.859375 48.328125 \nQ 20.21875 56 33.015625 56 \nQ 37.15625 56 41.109375 55.140625 \nQ 45.0625 54.296875 48.78125 52.59375 \nz\n\" id=\"DejaVuSans-99\"/>\n       <path d=\"M 54.890625 33.015625 \nL 54.890625 0 \nL 45.90625 0 \nL 45.90625 32.71875 \nQ 45.90625 40.484375 42.875 44.328125 \nQ 39.84375 48.1875 33.796875 48.1875 \nQ 26.515625 48.1875 22.3125 43.546875 \nQ 18.109375 38.921875 18.109375 30.90625 \nL 18.109375 0 \nL 9.078125 0 \nL 9.078125 75.984375 \nL 18.109375 75.984375 \nL 18.109375 46.1875 \nQ 21.34375 51.125 25.703125 53.5625 \nQ 30.078125 56 35.796875 56 \nQ 45.21875 56 50.046875 50.171875 \nQ 54.890625 44.34375 54.890625 33.015625 \nz\n\" id=\"DejaVuSans-104\"/>\n      </defs>\n      <use xlink:href=\"#DejaVuSans-69\"/>\n      <use x=\"63.183594\" xlink:href=\"#DejaVuSans-112\"/>\n      <use x=\"126.660156\" xlink:href=\"#DejaVuSans-111\"/>\n      <use x=\"187.841797\" xlink:href=\"#DejaVuSans-99\"/>\n      <use x=\"242.822266\" xlink:href=\"#DejaVuSans-104\"/>\n     </g>\n    </g>\n   </g>\n   <g id=\"matplotlib.axis_2\">\n    <g id=\"ytick_1\">\n     <g id=\"line2d_19\">\n      <path clip-path=\"url(#p5f7bd8dd90)\" d=\"M 56.50625 233.861839 \nL 391.30625 233.861839 \n\" style=\"fill:none;stroke:#b0b0b0;stroke-linecap:square;stroke-width:0.8;\"/>\n     </g>\n     <g id=\"line2d_20\">\n      <defs>\n       <path d=\"M 0 0 \nL -3.5 0 \n\" id=\"m259dae5aa8\" style=\"stroke:#000000;stroke-width:0.8;\"/>\n      </defs>\n      <g>\n       <use style=\"stroke:#000000;stroke-width:0.8;\" x=\"56.50625\" xlink:href=\"#m259dae5aa8\" y=\"233.861839\"/>\n      </g>\n     </g>\n     <g id=\"text_11\">\n      <!-- 0.675 -->\n      <g transform=\"translate(20.878125 237.661057)scale(0.1 -0.1)\">\n       <defs>\n        <path d=\"M 33.015625 40.375 \nQ 26.375 40.375 22.484375 35.828125 \nQ 18.609375 31.296875 18.609375 23.390625 \nQ 18.609375 15.53125 22.484375 10.953125 \nQ 26.375 6.390625 33.015625 6.390625 \nQ 39.65625 6.390625 43.53125 10.953125 \nQ 47.40625 15.53125 47.40625 23.390625 \nQ 47.40625 31.296875 43.53125 35.828125 \nQ 39.65625 40.375 33.015625 40.375 \nz\nM 52.59375 71.296875 \nL 52.59375 62.3125 \nQ 48.875 64.0625 45.09375 64.984375 \nQ 41.3125 65.921875 37.59375 65.921875 \nQ 27.828125 65.921875 22.671875 59.328125 \nQ 17.53125 52.734375 16.796875 39.40625 \nQ 19.671875 43.65625 24.015625 45.921875 \nQ 28.375 48.1875 33.59375 48.1875 \nQ 44.578125 48.1875 50.953125 41.515625 \nQ 57.328125 34.859375 57.328125 23.390625 \nQ 57.328125 12.15625 50.6875 5.359375 \nQ 44.046875 -1.421875 33.015625 -1.421875 \nQ 20.359375 -1.421875 13.671875 8.265625 \nQ 6.984375 17.96875 6.984375 36.375 \nQ 6.984375 53.65625 15.1875 63.9375 \nQ 23.390625 74.21875 37.203125 74.21875 \nQ 40.921875 74.21875 44.703125 73.484375 \nQ 48.484375 72.75 52.59375 71.296875 \nz\n\" id=\"DejaVuSans-54\"/>\n       </defs>\n       <use xlink:href=\"#DejaVuSans-48\"/>\n       <use x=\"63.623047\" xlink:href=\"#DejaVuSans-46\"/>\n       <use x=\"95.410156\" xlink:href=\"#DejaVuSans-54\"/>\n       <use x=\"159.033203\" xlink:href=\"#DejaVuSans-55\"/>\n       <use x=\"222.65625\" xlink:href=\"#DejaVuSans-53\"/>\n      </g>\n     </g>\n    </g>\n    <g id=\"ytick_2\">\n     <g id=\"line2d_21\">\n      <path clip-path=\"url(#p5f7bd8dd90)\" d=\"M 56.50625 207.688653 \nL 391.30625 207.688653 \n\" style=\"fill:none;stroke:#b0b0b0;stroke-linecap:square;stroke-width:0.8;\"/>\n     </g>\n     <g id=\"line2d_22\">\n      <g>\n       <use style=\"stroke:#000000;stroke-width:0.8;\" x=\"56.50625\" xlink:href=\"#m259dae5aa8\" y=\"207.688653\"/>\n      </g>\n     </g>\n     <g id=\"text_12\">\n      <!-- 0.700 -->\n      <g transform=\"translate(20.878125 211.487872)scale(0.1 -0.1)\">\n       <use xlink:href=\"#DejaVuSans-48\"/>\n       <use x=\"63.623047\" xlink:href=\"#DejaVuSans-46\"/>\n       <use x=\"95.410156\" xlink:href=\"#DejaVuSans-55\"/>\n       <use x=\"159.033203\" xlink:href=\"#DejaVuSans-48\"/>\n       <use x=\"222.65625\" xlink:href=\"#DejaVuSans-48\"/>\n      </g>\n     </g>\n    </g>\n    <g id=\"ytick_3\">\n     <g id=\"line2d_23\">\n      <path clip-path=\"url(#p5f7bd8dd90)\" d=\"M 56.50625 181.515468 \nL 391.30625 181.515468 \n\" style=\"fill:none;stroke:#b0b0b0;stroke-linecap:square;stroke-width:0.8;\"/>\n     </g>\n     <g id=\"line2d_24\">\n      <g>\n       <use style=\"stroke:#000000;stroke-width:0.8;\" x=\"56.50625\" xlink:href=\"#m259dae5aa8\" y=\"181.515468\"/>\n      </g>\n     </g>\n     <g id=\"text_13\">\n      <!-- 0.725 -->\n      <g transform=\"translate(20.878125 185.314687)scale(0.1 -0.1)\">\n       <use xlink:href=\"#DejaVuSans-48\"/>\n       <use x=\"63.623047\" xlink:href=\"#DejaVuSans-46\"/>\n       <use x=\"95.410156\" xlink:href=\"#DejaVuSans-55\"/>\n       <use x=\"159.033203\" xlink:href=\"#DejaVuSans-50\"/>\n       <use x=\"222.65625\" xlink:href=\"#DejaVuSans-53\"/>\n      </g>\n     </g>\n    </g>\n    <g id=\"ytick_4\">\n     <g id=\"line2d_25\">\n      <path clip-path=\"url(#p5f7bd8dd90)\" d=\"M 56.50625 155.342282 \nL 391.30625 155.342282 \n\" style=\"fill:none;stroke:#b0b0b0;stroke-linecap:square;stroke-width:0.8;\"/>\n     </g>\n     <g id=\"line2d_26\">\n      <g>\n       <use style=\"stroke:#000000;stroke-width:0.8;\" x=\"56.50625\" xlink:href=\"#m259dae5aa8\" y=\"155.342282\"/>\n      </g>\n     </g>\n     <g id=\"text_14\">\n      <!-- 0.750 -->\n      <g transform=\"translate(20.878125 159.141501)scale(0.1 -0.1)\">\n       <use xlink:href=\"#DejaVuSans-48\"/>\n       <use x=\"63.623047\" xlink:href=\"#DejaVuSans-46\"/>\n       <use x=\"95.410156\" xlink:href=\"#DejaVuSans-55\"/>\n       <use x=\"159.033203\" xlink:href=\"#DejaVuSans-53\"/>\n       <use x=\"222.65625\" xlink:href=\"#DejaVuSans-48\"/>\n      </g>\n     </g>\n    </g>\n    <g id=\"ytick_5\">\n     <g id=\"line2d_27\">\n      <path clip-path=\"url(#p5f7bd8dd90)\" d=\"M 56.50625 129.169097 \nL 391.30625 129.169097 \n\" style=\"fill:none;stroke:#b0b0b0;stroke-linecap:square;stroke-width:0.8;\"/>\n     </g>\n     <g id=\"line2d_28\">\n      <g>\n       <use style=\"stroke:#000000;stroke-width:0.8;\" x=\"56.50625\" xlink:href=\"#m259dae5aa8\" y=\"129.169097\"/>\n      </g>\n     </g>\n     <g id=\"text_15\">\n      <!-- 0.775 -->\n      <g transform=\"translate(20.878125 132.968316)scale(0.1 -0.1)\">\n       <use xlink:href=\"#DejaVuSans-48\"/>\n       <use x=\"63.623047\" xlink:href=\"#DejaVuSans-46\"/>\n       <use x=\"95.410156\" xlink:href=\"#DejaVuSans-55\"/>\n       <use x=\"159.033203\" xlink:href=\"#DejaVuSans-55\"/>\n       <use x=\"222.65625\" xlink:href=\"#DejaVuSans-53\"/>\n      </g>\n     </g>\n    </g>\n    <g id=\"ytick_6\">\n     <g id=\"line2d_29\">\n      <path clip-path=\"url(#p5f7bd8dd90)\" d=\"M 56.50625 102.995912 \nL 391.30625 102.995912 \n\" style=\"fill:none;stroke:#b0b0b0;stroke-linecap:square;stroke-width:0.8;\"/>\n     </g>\n     <g id=\"line2d_30\">\n      <g>\n       <use style=\"stroke:#000000;stroke-width:0.8;\" x=\"56.50625\" xlink:href=\"#m259dae5aa8\" y=\"102.995912\"/>\n      </g>\n     </g>\n     <g id=\"text_16\">\n      <!-- 0.800 -->\n      <g transform=\"translate(20.878125 106.79513)scale(0.1 -0.1)\">\n       <defs>\n        <path d=\"M 31.78125 34.625 \nQ 24.75 34.625 20.71875 30.859375 \nQ 16.703125 27.09375 16.703125 20.515625 \nQ 16.703125 13.921875 20.71875 10.15625 \nQ 24.75 6.390625 31.78125 6.390625 \nQ 38.8125 6.390625 42.859375 10.171875 \nQ 46.921875 13.96875 46.921875 20.515625 \nQ 46.921875 27.09375 42.890625 30.859375 \nQ 38.875 34.625 31.78125 34.625 \nz\nM 21.921875 38.8125 \nQ 15.578125 40.375 12.03125 44.71875 \nQ 8.5 49.078125 8.5 55.328125 \nQ 8.5 64.0625 14.71875 69.140625 \nQ 20.953125 74.21875 31.78125 74.21875 \nQ 42.671875 74.21875 48.875 69.140625 \nQ 55.078125 64.0625 55.078125 55.328125 \nQ 55.078125 49.078125 51.53125 44.71875 \nQ 48 40.375 41.703125 38.8125 \nQ 48.828125 37.15625 52.796875 32.3125 \nQ 56.78125 27.484375 56.78125 20.515625 \nQ 56.78125 9.90625 50.3125 4.234375 \nQ 43.84375 -1.421875 31.78125 -1.421875 \nQ 19.734375 -1.421875 13.25 4.234375 \nQ 6.78125 9.90625 6.78125 20.515625 \nQ 6.78125 27.484375 10.78125 32.3125 \nQ 14.796875 37.15625 21.921875 38.8125 \nz\nM 18.3125 54.390625 \nQ 18.3125 48.734375 21.84375 45.5625 \nQ 25.390625 42.390625 31.78125 42.390625 \nQ 38.140625 42.390625 41.71875 45.5625 \nQ 45.3125 48.734375 45.3125 54.390625 \nQ 45.3125 60.0625 41.71875 63.234375 \nQ 38.140625 66.40625 31.78125 66.40625 \nQ 25.390625 66.40625 21.84375 63.234375 \nQ 18.3125 60.0625 18.3125 54.390625 \nz\n\" id=\"DejaVuSans-56\"/>\n       </defs>\n       <use xlink:href=\"#DejaVuSans-48\"/>\n       <use x=\"63.623047\" xlink:href=\"#DejaVuSans-46\"/>\n       <use x=\"95.410156\" xlink:href=\"#DejaVuSans-56\"/>\n       <use x=\"159.033203\" xlink:href=\"#DejaVuSans-48\"/>\n       <use x=\"222.65625\" xlink:href=\"#DejaVuSans-48\"/>\n      </g>\n     </g>\n    </g>\n    <g id=\"ytick_7\">\n     <g id=\"line2d_31\">\n      <path clip-path=\"url(#p5f7bd8dd90)\" d=\"M 56.50625 76.822726 \nL 391.30625 76.822726 \n\" style=\"fill:none;stroke:#b0b0b0;stroke-linecap:square;stroke-width:0.8;\"/>\n     </g>\n     <g id=\"line2d_32\">\n      <g>\n       <use style=\"stroke:#000000;stroke-width:0.8;\" x=\"56.50625\" xlink:href=\"#m259dae5aa8\" y=\"76.822726\"/>\n      </g>\n     </g>\n     <g id=\"text_17\">\n      <!-- 0.825 -->\n      <g transform=\"translate(20.878125 80.621945)scale(0.1 -0.1)\">\n       <use xlink:href=\"#DejaVuSans-48\"/>\n       <use x=\"63.623047\" xlink:href=\"#DejaVuSans-46\"/>\n       <use x=\"95.410156\" xlink:href=\"#DejaVuSans-56\"/>\n       <use x=\"159.033203\" xlink:href=\"#DejaVuSans-50\"/>\n       <use x=\"222.65625\" xlink:href=\"#DejaVuSans-53\"/>\n      </g>\n     </g>\n    </g>\n    <g id=\"ytick_8\">\n     <g id=\"line2d_33\">\n      <path clip-path=\"url(#p5f7bd8dd90)\" d=\"M 56.50625 50.649541 \nL 391.30625 50.649541 \n\" style=\"fill:none;stroke:#b0b0b0;stroke-linecap:square;stroke-width:0.8;\"/>\n     </g>\n     <g id=\"line2d_34\">\n      <g>\n       <use style=\"stroke:#000000;stroke-width:0.8;\" x=\"56.50625\" xlink:href=\"#m259dae5aa8\" y=\"50.649541\"/>\n      </g>\n     </g>\n     <g id=\"text_18\">\n      <!-- 0.850 -->\n      <g transform=\"translate(20.878125 54.44876)scale(0.1 -0.1)\">\n       <use xlink:href=\"#DejaVuSans-48\"/>\n       <use x=\"63.623047\" xlink:href=\"#DejaVuSans-46\"/>\n       <use x=\"95.410156\" xlink:href=\"#DejaVuSans-56\"/>\n       <use x=\"159.033203\" xlink:href=\"#DejaVuSans-53\"/>\n       <use x=\"222.65625\" xlink:href=\"#DejaVuSans-48\"/>\n      </g>\n     </g>\n    </g>\n    <g id=\"text_19\">\n     <!-- Mean Absolute Error -->\n     <g transform=\"translate(14.798438 196.319844)rotate(-90)scale(0.1 -0.1)\">\n      <defs>\n       <path d=\"M 9.8125 72.90625 \nL 24.515625 72.90625 \nL 43.109375 23.296875 \nL 61.8125 72.90625 \nL 76.515625 72.90625 \nL 76.515625 0 \nL 66.890625 0 \nL 66.890625 64.015625 \nL 48.09375 14.015625 \nL 38.1875 14.015625 \nL 19.390625 64.015625 \nL 19.390625 0 \nL 9.8125 0 \nz\n\" id=\"DejaVuSans-77\"/>\n       <path d=\"M 56.203125 29.59375 \nL 56.203125 25.203125 \nL 14.890625 25.203125 \nQ 15.484375 15.921875 20.484375 11.0625 \nQ 25.484375 6.203125 34.421875 6.203125 \nQ 39.59375 6.203125 44.453125 7.46875 \nQ 49.3125 8.734375 54.109375 11.28125 \nL 54.109375 2.78125 \nQ 49.265625 0.734375 44.1875 -0.34375 \nQ 39.109375 -1.421875 33.890625 -1.421875 \nQ 20.796875 -1.421875 13.15625 6.1875 \nQ 5.515625 13.8125 5.515625 26.8125 \nQ 5.515625 40.234375 12.765625 48.109375 \nQ 20.015625 56 32.328125 56 \nQ 43.359375 56 49.78125 48.890625 \nQ 56.203125 41.796875 56.203125 29.59375 \nz\nM 47.21875 32.234375 \nQ 47.125 39.59375 43.09375 43.984375 \nQ 39.0625 48.390625 32.421875 48.390625 \nQ 24.90625 48.390625 20.390625 44.140625 \nQ 15.875 39.890625 15.1875 32.171875 \nz\n\" id=\"DejaVuSans-101\"/>\n       <path d=\"M 34.28125 27.484375 \nQ 23.390625 27.484375 19.1875 25 \nQ 14.984375 22.515625 14.984375 16.5 \nQ 14.984375 11.71875 18.140625 8.90625 \nQ 21.296875 6.109375 26.703125 6.109375 \nQ 34.1875 6.109375 38.703125 11.40625 \nQ 43.21875 16.703125 43.21875 25.484375 \nL 43.21875 27.484375 \nz\nM 52.203125 31.203125 \nL 52.203125 0 \nL 43.21875 0 \nL 43.21875 8.296875 \nQ 40.140625 3.328125 35.546875 0.953125 \nQ 30.953125 -1.421875 24.3125 -1.421875 \nQ 15.921875 -1.421875 10.953125 3.296875 \nQ 6 8.015625 6 15.921875 \nQ 6 25.140625 12.171875 29.828125 \nQ 18.359375 34.515625 30.609375 34.515625 \nL 43.21875 34.515625 \nL 43.21875 35.40625 \nQ 43.21875 41.609375 39.140625 45 \nQ 35.0625 48.390625 27.6875 48.390625 \nQ 23 48.390625 18.546875 47.265625 \nQ 14.109375 46.140625 10.015625 43.890625 \nL 10.015625 52.203125 \nQ 14.9375 54.109375 19.578125 55.046875 \nQ 24.21875 56 28.609375 56 \nQ 40.484375 56 46.34375 49.84375 \nQ 52.203125 43.703125 52.203125 31.203125 \nz\n\" id=\"DejaVuSans-97\"/>\n       <path d=\"M 54.890625 33.015625 \nL 54.890625 0 \nL 45.90625 0 \nL 45.90625 32.71875 \nQ 45.90625 40.484375 42.875 44.328125 \nQ 39.84375 48.1875 33.796875 48.1875 \nQ 26.515625 48.1875 22.3125 43.546875 \nQ 18.109375 38.921875 18.109375 30.90625 \nL 18.109375 0 \nL 9.078125 0 \nL 9.078125 54.6875 \nL 18.109375 54.6875 \nL 18.109375 46.1875 \nQ 21.34375 51.125 25.703125 53.5625 \nQ 30.078125 56 35.796875 56 \nQ 45.21875 56 50.046875 50.171875 \nQ 54.890625 44.34375 54.890625 33.015625 \nz\n\" id=\"DejaVuSans-110\"/>\n       <path id=\"DejaVuSans-32\"/>\n       <path d=\"M 34.1875 63.1875 \nL 20.796875 26.90625 \nL 47.609375 26.90625 \nz\nM 28.609375 72.90625 \nL 39.796875 72.90625 \nL 67.578125 0 \nL 57.328125 0 \nL 50.6875 18.703125 \nL 17.828125 18.703125 \nL 11.1875 0 \nL 0.78125 0 \nz\n\" id=\"DejaVuSans-65\"/>\n       <path d=\"M 48.6875 27.296875 \nQ 48.6875 37.203125 44.609375 42.84375 \nQ 40.53125 48.484375 33.40625 48.484375 \nQ 26.265625 48.484375 22.1875 42.84375 \nQ 18.109375 37.203125 18.109375 27.296875 \nQ 18.109375 17.390625 22.1875 11.75 \nQ 26.265625 6.109375 33.40625 6.109375 \nQ 40.53125 6.109375 44.609375 11.75 \nQ 48.6875 17.390625 48.6875 27.296875 \nz\nM 18.109375 46.390625 \nQ 20.953125 51.265625 25.265625 53.625 \nQ 29.59375 56 35.59375 56 \nQ 45.5625 56 51.78125 48.09375 \nQ 58.015625 40.1875 58.015625 27.296875 \nQ 58.015625 14.40625 51.78125 6.484375 \nQ 45.5625 -1.421875 35.59375 -1.421875 \nQ 29.59375 -1.421875 25.265625 0.953125 \nQ 20.953125 3.328125 18.109375 8.203125 \nL 18.109375 0 \nL 9.078125 0 \nL 9.078125 75.984375 \nL 18.109375 75.984375 \nz\n\" id=\"DejaVuSans-98\"/>\n       <path d=\"M 44.28125 53.078125 \nL 44.28125 44.578125 \nQ 40.484375 46.53125 36.375 47.5 \nQ 32.28125 48.484375 27.875 48.484375 \nQ 21.1875 48.484375 17.84375 46.4375 \nQ 14.5 44.390625 14.5 40.28125 \nQ 14.5 37.15625 16.890625 35.375 \nQ 19.28125 33.59375 26.515625 31.984375 \nL 29.59375 31.296875 \nQ 39.15625 29.25 43.1875 25.515625 \nQ 47.21875 21.78125 47.21875 15.09375 \nQ 47.21875 7.46875 41.1875 3.015625 \nQ 35.15625 -1.421875 24.609375 -1.421875 \nQ 20.21875 -1.421875 15.453125 -0.5625 \nQ 10.6875 0.296875 5.421875 2 \nL 5.421875 11.28125 \nQ 10.40625 8.6875 15.234375 7.390625 \nQ 20.0625 6.109375 24.8125 6.109375 \nQ 31.15625 6.109375 34.5625 8.28125 \nQ 37.984375 10.453125 37.984375 14.40625 \nQ 37.984375 18.0625 35.515625 20.015625 \nQ 33.0625 21.96875 24.703125 23.78125 \nL 21.578125 24.515625 \nQ 13.234375 26.265625 9.515625 29.90625 \nQ 5.8125 33.546875 5.8125 39.890625 \nQ 5.8125 47.609375 11.28125 51.796875 \nQ 16.75 56 26.8125 56 \nQ 31.78125 56 36.171875 55.265625 \nQ 40.578125 54.546875 44.28125 53.078125 \nz\n\" id=\"DejaVuSans-115\"/>\n       <path d=\"M 9.421875 75.984375 \nL 18.40625 75.984375 \nL 18.40625 0 \nL 9.421875 0 \nz\n\" id=\"DejaVuSans-108\"/>\n       <path d=\"M 8.5 21.578125 \nL 8.5 54.6875 \nL 17.484375 54.6875 \nL 17.484375 21.921875 \nQ 17.484375 14.15625 20.5 10.265625 \nQ 23.53125 6.390625 29.59375 6.390625 \nQ 36.859375 6.390625 41.078125 11.03125 \nQ 45.3125 15.671875 45.3125 23.6875 \nL 45.3125 54.6875 \nL 54.296875 54.6875 \nL 54.296875 0 \nL 45.3125 0 \nL 45.3125 8.40625 \nQ 42.046875 3.421875 37.71875 1 \nQ 33.40625 -1.421875 27.6875 -1.421875 \nQ 18.265625 -1.421875 13.375 4.4375 \nQ 8.5 10.296875 8.5 21.578125 \nz\nM 31.109375 56 \nz\n\" id=\"DejaVuSans-117\"/>\n       <path d=\"M 18.3125 70.21875 \nL 18.3125 54.6875 \nL 36.8125 54.6875 \nL 36.8125 47.703125 \nL 18.3125 47.703125 \nL 18.3125 18.015625 \nQ 18.3125 11.328125 20.140625 9.421875 \nQ 21.96875 7.515625 27.59375 7.515625 \nL 36.8125 7.515625 \nL 36.8125 0 \nL 27.59375 0 \nQ 17.1875 0 13.234375 3.875 \nQ 9.28125 7.765625 9.28125 18.015625 \nL 9.28125 47.703125 \nL 2.6875 47.703125 \nL 2.6875 54.6875 \nL 9.28125 54.6875 \nL 9.28125 70.21875 \nz\n\" id=\"DejaVuSans-116\"/>\n       <path d=\"M 41.109375 46.296875 \nQ 39.59375 47.171875 37.8125 47.578125 \nQ 36.03125 48 33.890625 48 \nQ 26.265625 48 22.1875 43.046875 \nQ 18.109375 38.09375 18.109375 28.8125 \nL 18.109375 0 \nL 9.078125 0 \nL 9.078125 54.6875 \nL 18.109375 54.6875 \nL 18.109375 46.1875 \nQ 20.953125 51.171875 25.484375 53.578125 \nQ 30.03125 56 36.53125 56 \nQ 37.453125 56 38.578125 55.875 \nQ 39.703125 55.765625 41.0625 55.515625 \nz\n\" id=\"DejaVuSans-114\"/>\n      </defs>\n      <use xlink:href=\"#DejaVuSans-77\"/>\n      <use x=\"86.279297\" xlink:href=\"#DejaVuSans-101\"/>\n      <use x=\"147.802734\" xlink:href=\"#DejaVuSans-97\"/>\n      <use x=\"209.082031\" xlink:href=\"#DejaVuSans-110\"/>\n      <use x=\"272.460938\" xlink:href=\"#DejaVuSans-32\"/>\n      <use x=\"304.248047\" xlink:href=\"#DejaVuSans-65\"/>\n      <use x=\"372.65625\" xlink:href=\"#DejaVuSans-98\"/>\n      <use x=\"436.132812\" xlink:href=\"#DejaVuSans-115\"/>\n      <use x=\"488.232422\" xlink:href=\"#DejaVuSans-111\"/>\n      <use x=\"549.414062\" xlink:href=\"#DejaVuSans-108\"/>\n      <use x=\"577.197266\" xlink:href=\"#DejaVuSans-117\"/>\n      <use x=\"640.576172\" xlink:href=\"#DejaVuSans-116\"/>\n      <use x=\"679.785156\" xlink:href=\"#DejaVuSans-101\"/>\n      <use x=\"741.308594\" xlink:href=\"#DejaVuSans-32\"/>\n      <use x=\"773.095703\" xlink:href=\"#DejaVuSans-69\"/>\n      <use x=\"836.279297\" xlink:href=\"#DejaVuSans-114\"/>\n      <use x=\"875.642578\" xlink:href=\"#DejaVuSans-114\"/>\n      <use x=\"914.505859\" xlink:href=\"#DejaVuSans-111\"/>\n      <use x=\"975.6875\" xlink:href=\"#DejaVuSans-114\"/>\n     </g>\n    </g>\n   </g>\n   <g id=\"line2d_35\">\n    <path clip-path=\"url(#p5f7bd8dd90)\" d=\"M 56.50625 218.294902 \nL 223.90625 221.495237 \nL 391.30625 217.650229 \n\" style=\"fill:none;stroke:#1f77b4;stroke-linecap:square;stroke-width:1.5;\"/>\n   </g>\n   <g id=\"line2d_36\">\n    <path clip-path=\"url(#p5f7bd8dd90)\" d=\"M 56.50625 46.643636 \nL 223.90625 233.410537 \nL 391.30625 244.316364 \n\" style=\"fill:none;stroke:#ff7f0e;stroke-linecap:square;stroke-width:1.5;\"/>\n   </g>\n   <g id=\"line2d_37\">\n    <path clip-path=\"url(#p5f7bd8dd90)\" d=\"M 56.50625 144.873008 \nL 391.30625 144.873008 \n\" style=\"fill:none;stroke:#002255;stroke-dasharray:5.55,2.4;stroke-dashoffset:0;stroke-opacity:0.5;stroke-width:1.5;\"/>\n   </g>\n   <g id=\"patch_3\">\n    <path d=\"M 56.50625 254.2 \nL 56.50625 36.76 \n\" style=\"fill:none;stroke:#000000;stroke-linecap:square;stroke-linejoin:miter;stroke-width:0.8;\"/>\n   </g>\n   <g id=\"patch_4\">\n    <path d=\"M 391.30625 254.2 \nL 391.30625 36.76 \n\" style=\"fill:none;stroke:#000000;stroke-linecap:square;stroke-linejoin:miter;stroke-width:0.8;\"/>\n   </g>\n   <g id=\"patch_5\">\n    <path d=\"M 56.50625 254.2 \nL 391.30625 254.2 \n\" style=\"fill:none;stroke:#000000;stroke-linecap:square;stroke-linejoin:miter;stroke-width:0.8;\"/>\n   </g>\n   <g id=\"patch_6\">\n    <path d=\"M 56.50625 36.76 \nL 391.30625 36.76 \n\" style=\"fill:none;stroke:#000000;stroke-linecap:square;stroke-linejoin:miter;stroke-width:0.8;\"/>\n   </g>\n  </g>\n  <g id=\"legend_1\">\n   <g id=\"patch_7\">\n    <path d=\"M 333.289062 52.034375 \nL 429.70625 52.034375 \nQ 431.70625 52.034375 431.70625 50.034375 \nL 431.70625 7 \nQ 431.70625 5 429.70625 5 \nL 333.289062 5 \nQ 331.289062 5 331.289062 7 \nL 331.289062 50.034375 \nQ 331.289062 52.034375 333.289062 52.034375 \nz\n\" style=\"fill:#ffffff;opacity:0.8;stroke:#cccccc;stroke-linejoin:miter;\"/>\n   </g>\n   <g id=\"line2d_38\">\n    <path d=\"M 335.289062 13.098437 \nL 355.289062 13.098437 \n\" style=\"fill:none;stroke:#1f77b4;stroke-linecap:square;stroke-width:1.5;\"/>\n   </g>\n   <g id=\"line2d_39\"/>\n   <g id=\"text_20\">\n    <!-- Test MAE -->\n    <g transform=\"translate(363.289062 16.598437)scale(0.1 -0.1)\">\n     <defs>\n      <path d=\"M -0.296875 72.90625 \nL 61.375 72.90625 \nL 61.375 64.59375 \nL 35.5 64.59375 \nL 35.5 0 \nL 25.59375 0 \nL 25.59375 64.59375 \nL -0.296875 64.59375 \nz\n\" id=\"DejaVuSans-84\"/>\n     </defs>\n     <use xlink:href=\"#DejaVuSans-84\"/>\n     <use x=\"44.083984\" xlink:href=\"#DejaVuSans-101\"/>\n     <use x=\"105.607422\" xlink:href=\"#DejaVuSans-115\"/>\n     <use x=\"157.707031\" xlink:href=\"#DejaVuSans-116\"/>\n     <use x=\"196.916016\" xlink:href=\"#DejaVuSans-32\"/>\n     <use x=\"228.703125\" xlink:href=\"#DejaVuSans-77\"/>\n     <use x=\"314.982422\" xlink:href=\"#DejaVuSans-65\"/>\n     <use x=\"383.390625\" xlink:href=\"#DejaVuSans-69\"/>\n    </g>\n   </g>\n   <g id=\"line2d_40\">\n    <path d=\"M 335.289062 27.776563 \nL 355.289062 27.776563 \n\" style=\"fill:none;stroke:#ff7f0e;stroke-linecap:square;stroke-width:1.5;\"/>\n   </g>\n   <g id=\"line2d_41\"/>\n   <g id=\"text_21\">\n    <!-- Training MAE -->\n    <g transform=\"translate(363.289062 31.276563)scale(0.1 -0.1)\">\n     <defs>\n      <path d=\"M 9.421875 54.6875 \nL 18.40625 54.6875 \nL 18.40625 0 \nL 9.421875 0 \nz\nM 9.421875 75.984375 \nL 18.40625 75.984375 \nL 18.40625 64.59375 \nL 9.421875 64.59375 \nz\n\" id=\"DejaVuSans-105\"/>\n      <path d=\"M 45.40625 27.984375 \nQ 45.40625 37.75 41.375 43.109375 \nQ 37.359375 48.484375 30.078125 48.484375 \nQ 22.859375 48.484375 18.828125 43.109375 \nQ 14.796875 37.75 14.796875 27.984375 \nQ 14.796875 18.265625 18.828125 12.890625 \nQ 22.859375 7.515625 30.078125 7.515625 \nQ 37.359375 7.515625 41.375 12.890625 \nQ 45.40625 18.265625 45.40625 27.984375 \nz\nM 54.390625 6.78125 \nQ 54.390625 -7.171875 48.1875 -13.984375 \nQ 42 -20.796875 29.203125 -20.796875 \nQ 24.46875 -20.796875 20.265625 -20.09375 \nQ 16.0625 -19.390625 12.109375 -17.921875 \nL 12.109375 -9.1875 \nQ 16.0625 -11.328125 19.921875 -12.34375 \nQ 23.78125 -13.375 27.78125 -13.375 \nQ 36.625 -13.375 41.015625 -8.765625 \nQ 45.40625 -4.15625 45.40625 5.171875 \nL 45.40625 9.625 \nQ 42.625 4.78125 38.28125 2.390625 \nQ 33.9375 0 27.875 0 \nQ 17.828125 0 11.671875 7.65625 \nQ 5.515625 15.328125 5.515625 27.984375 \nQ 5.515625 40.671875 11.671875 48.328125 \nQ 17.828125 56 27.875 56 \nQ 33.9375 56 38.28125 53.609375 \nQ 42.625 51.21875 45.40625 46.390625 \nL 45.40625 54.6875 \nL 54.390625 54.6875 \nz\n\" id=\"DejaVuSans-103\"/>\n     </defs>\n     <use xlink:href=\"#DejaVuSans-84\"/>\n     <use x=\"46.333984\" xlink:href=\"#DejaVuSans-114\"/>\n     <use x=\"87.447266\" xlink:href=\"#DejaVuSans-97\"/>\n     <use x=\"148.726562\" xlink:href=\"#DejaVuSans-105\"/>\n     <use x=\"176.509766\" xlink:href=\"#DejaVuSans-110\"/>\n     <use x=\"239.888672\" xlink:href=\"#DejaVuSans-105\"/>\n     <use x=\"267.671875\" xlink:href=\"#DejaVuSans-110\"/>\n     <use x=\"331.050781\" xlink:href=\"#DejaVuSans-103\"/>\n     <use x=\"394.527344\" xlink:href=\"#DejaVuSans-32\"/>\n     <use x=\"426.314453\" xlink:href=\"#DejaVuSans-77\"/>\n     <use x=\"512.59375\" xlink:href=\"#DejaVuSans-65\"/>\n     <use x=\"581.001953\" xlink:href=\"#DejaVuSans-69\"/>\n    </g>\n   </g>\n   <g id=\"line2d_42\">\n    <path d=\"M 335.289062 42.454687 \nL 355.289062 42.454687 \n\" style=\"fill:none;stroke:#002255;stroke-dasharray:5.55,2.4;stroke-dashoffset:0;stroke-opacity:0.5;stroke-width:1.5;\"/>\n   </g>\n   <g id=\"line2d_43\"/>\n   <g id=\"text_22\">\n    <!-- Baseline -->\n    <g transform=\"translate(363.289062 45.954687)scale(0.1 -0.1)\">\n     <defs>\n      <path d=\"M 19.671875 34.8125 \nL 19.671875 8.109375 \nL 35.5 8.109375 \nQ 43.453125 8.109375 47.28125 11.40625 \nQ 51.125 14.703125 51.125 21.484375 \nQ 51.125 28.328125 47.28125 31.5625 \nQ 43.453125 34.8125 35.5 34.8125 \nz\nM 19.671875 64.796875 \nL 19.671875 42.828125 \nL 34.28125 42.828125 \nQ 41.5 42.828125 45.03125 45.53125 \nQ 48.578125 48.25 48.578125 53.8125 \nQ 48.578125 59.328125 45.03125 62.0625 \nQ 41.5 64.796875 34.28125 64.796875 \nz\nM 9.8125 72.90625 \nL 35.015625 72.90625 \nQ 46.296875 72.90625 52.390625 68.21875 \nQ 58.5 63.53125 58.5 54.890625 \nQ 58.5 48.1875 55.375 44.234375 \nQ 52.25 40.28125 46.1875 39.3125 \nQ 53.46875 37.75 57.5 32.78125 \nQ 61.53125 27.828125 61.53125 20.40625 \nQ 61.53125 10.640625 54.890625 5.3125 \nQ 48.25 0 35.984375 0 \nL 9.8125 0 \nz\n\" id=\"DejaVuSans-66\"/>\n     </defs>\n     <use xlink:href=\"#DejaVuSans-66\"/>\n     <use x=\"68.603516\" xlink:href=\"#DejaVuSans-97\"/>\n     <use x=\"129.882812\" xlink:href=\"#DejaVuSans-115\"/>\n     <use x=\"181.982422\" xlink:href=\"#DejaVuSans-101\"/>\n     <use x=\"243.505859\" xlink:href=\"#DejaVuSans-108\"/>\n     <use x=\"271.289062\" xlink:href=\"#DejaVuSans-105\"/>\n     <use x=\"299.072266\" xlink:href=\"#DejaVuSans-110\"/>\n     <use x=\"362.451172\" xlink:href=\"#DejaVuSans-101\"/>\n    </g>\n   </g>\n  </g>\n </g>\n <defs>\n  <clipPath id=\"p5f7bd8dd90\">\n   <rect height=\"217.44\" width=\"334.8\" x=\"56.50625\" y=\"36.76\"/>\n  </clipPath>\n </defs>\n</svg>\n",
      "image/png": "[encoded data removed]"
     },
     "metadata": {
      "needs_background": "light"
     }
    }
   ],
   "source": [
    "fig, ax = plt.subplots()\n",
    "ax.plot(history.epoch, history.history['val_MAE'], label='Test MAE')\n",
    "ax.plot(history.epoch, history.history['MAE'], label='Training MAE')\n",
    "ax.set_xlabel('Epoch')\n",
    "ax.set_ylabel('Mean Absolute Error')\n",
    "ax.set_xlim(left=0, right=history.epoch[-1])\n",
    "baseline_mae = 0.76\n",
    "ax.axhline(baseline_mae, ls='--', label='Baseline', color='#002255', alpha=.5)\n",
    "ax.grid()\n",
    "fig.legend()\n",
    "plt.savefig('output.png', dpi=400, bbox_inches='tight')\n",
    "plt.show()"
   ]
  },
  {
   "cell_type": "code",
   "execution_count": 64,
   "metadata": {},
   "outputs": [],
   "source": [
    "scaler = MinMaxScaler(feature_range = (0, 1))\n",
    "scaler_single = MinMaxScaler(feature_range = (0, 1))"
   ]
  },
  {
   "cell_type": "code",
   "execution_count": 65,
   "metadata": {},
   "outputs": [],
   "source": [
    "train_scaled = np.concatenate([scaler.fit_transform(train[['user_id', 'movie_id']]), \n",
    "                                  scaler_single.fit_transform(train[['rating']])], axis = 1)"
   ]
  },
  {
   "cell_type": "code",
   "execution_count": 66,
   "metadata": {},
   "outputs": [],
   "source": [
    "test_scaled = np.concatenate([scaler.transform(test[['user_id', 'movie_id']]), \n",
    "                                  scaler_single.transform(test[['rating']])], axis = 1)"
   ]
  },
  {
   "cell_type": "code",
   "execution_count": 67,
   "metadata": {},
   "outputs": [],
   "source": [
    "df_scaled = np.concatenate([scaler.fit_transform(df[['user_id', 'movie_id']]), \n",
    "                                  scaler_single.fit_transform(df[['rating']])], axis = 1)"
   ]
  },
  {
   "cell_type": "code",
   "execution_count": 69,
   "metadata": {},
   "outputs": [],
   "source": [
    "df_s = pd.DataFrame(df_scaled, columns = ['user_id', 'movie_id', 'rating'])"
   ]
  },
  {
   "cell_type": "code",
   "execution_count": 70,
   "metadata": {
    "tags": []
   },
   "outputs": [
    {
     "output_type": "stream",
     "name": "stdout",
     "text": "Epoch 1/20\n160/160 [==============================] - 1s 4ms/step - loss: 0.1788 - MAE: 0.3460 - val_loss: 0.0797 - val_MAE: 0.2361\nEpoch 2/20\n160/160 [==============================] - 0s 3ms/step - loss: 0.0791 - MAE: 0.2360 - val_loss: 0.0797 - val_MAE: 0.2365\n"
    }
   ],
   "source": [
    "model2 = embedding_model(8,8,1,1)\n",
    "history = model2.fit(x=[df_s.user_id, df_s.movie_id], y= df_s.rating, batch_size=500, epochs=20, verbose=1, validation_split=.2,callbacks=[es] )"
   ]
  },
  {
   "cell_type": "code",
   "execution_count": 72,
   "metadata": {},
   "outputs": [],
   "source": [
    "train_s = pd.DataFrame(train_scaled, columns = ['user_id', 'movie_id', 'rating'])\n",
    "test_s = pd.DataFrame(test_scaled, columns = ['user_id', 'movie_id', 'rating'])"
   ]
  },
  {
   "cell_type": "code",
   "execution_count": 73,
   "metadata": {
    "tags": []
   },
   "outputs": [
    {
     "output_type": "stream",
     "name": "stdout",
     "text": "Average rating in training set is 0.63 stars\nAlways predicting global average rating results in Mean Absolute Error=0.24, Mean Squared Error=0.08\nPredicting mean per movie results in Mean Absolute Error=0.20, Mean Squared Error=0.07\n"
    }
   ],
   "source": [
    "def get_metrics(y_true, y_pred):\n",
    "    return metrics.mean_absolute_error(y_true, y_pred), metrics.mean_squared_error(y_true, y_pred)\n",
    "\n",
    "mean_rating = train_s['rating'].mean()\n",
    "print(\"Average rating in training set is {:.2f} stars\".format(mean_rating))\n",
    "\n",
    "y_true = test_s['rating'].values\n",
    "always_mean = np.full(y_true.shape, mean_rating)\n",
    "\n",
    "mae, mse = get_metrics(y_true, always_mean)\n",
    "print(\"Always predicting global average rating results in Mean Absolute Error={:.2f}, Mean Squared Error={:.2f}\".format(\n",
    "    mae, mse))\n",
    "\n",
    "movies = df_s.copy().set_index('movie_id')\n",
    "mean_per_movie = train_s.groupby('movie_id')['rating'].mean()\n",
    "movies['mean_rating'] = mean_per_movie\n",
    "ratings_per_movie = train_s.groupby('movie_id').size()\n",
    "movies['n_ratings'] = ratings_per_movie\n",
    "# There are a few movies in the validation set not present in the training set. We'll just use the global\n",
    "# mean rating in their case.\n",
    "y_movie_mean = test_s.join(mean_per_movie, on='movie_id', rsuffix='mean')['ratingmean'].fillna(mean_rating).values\n",
    "\n",
    "mae, mse = get_metrics(y_true, y_movie_mean)\n",
    "print(\"Predicting mean per movie results in Mean Absolute Error={:.2f}, Mean Squared Error={:.2f}\".format(mae, mse))"
   ]
  },
  {
   "cell_type": "code",
   "execution_count": null,
   "metadata": {},
   "outputs": [],
   "source": []
  },
  {
   "cell_type": "code",
   "execution_count": 57,
   "metadata": {
    "tags": []
   },
   "outputs": [
    {
     "output_type": "stream",
     "name": "stdout",
     "text": "User #819 has rated 28 movies (avg. rating = 4.1):\n"
    },
    {
     "output_type": "execute_result",
     "data": {
      "text/plain": "       user_id  movie_id  rating\n90249      819       248       5\n75648      819       286       5\n21521      819       346       5\n75380      819       315       5\n75129      819       302       5\n30243      819       744       5\n44121      819       147       5\n46462      819      1537       5\n70443      819       300       5\n53149      819       340       5\n456        819       304       4\n62672      819       303       4\n73564      819       321       4\n67976      819       327       4\n67430      819       177       4\n65179      819       182       4\n92735      819       246       4\n61273      819       381       4\n747        819        70       4\n54445      819       345       4\n25200      819       533       4\n24338      819      1160       4\n16144      819       319       4\n13014      819       268       4\n76899      819       245       3\n45990      819       258       2\n58099      819       862       2\n47790      819       255       1",
      "text/html": "<div>\n<style scoped>\n    .dataframe tbody tr th:only-of-type {\n        vertical-align: middle;\n    }\n\n    .dataframe tbody tr th {\n        vertical-align: top;\n    }\n\n    .dataframe thead th {\n        text-align: right;\n    }\n</style>\n<table border=\"1\" class=\"dataframe\">\n  <thead>\n    <tr style=\"text-align: right;\">\n      <th></th>\n      <th>user_id</th>\n      <th>movie_id</th>\n      <th>rating</th>\n    </tr>\n  </thead>\n  <tbody>\n    <tr>\n      <th>90249</th>\n      <td>819</td>\n      <td>248</td>\n      <td>5</td>\n    </tr>\n    <tr>\n      <th>75648</th>\n      <td>819</td>\n      <td>286</td>\n      <td>5</td>\n    </tr>\n    <tr>\n      <th>21521</th>\n      <td>819</td>\n      <td>346</td>\n      <td>5</td>\n    </tr>\n    <tr>\n      <th>75380</th>\n      <td>819</td>\n      <td>315</td>\n      <td>5</td>\n    </tr>\n    <tr>\n      <th>75129</th>\n      <td>819</td>\n      <td>302</td>\n      <td>5</td>\n    </tr>\n    <tr>\n      <th>30243</th>\n      <td>819</td>\n      <td>744</td>\n      <td>5</td>\n    </tr>\n    <tr>\n      <th>44121</th>\n      <td>819</td>\n      <td>147</td>\n      <td>5</td>\n    </tr>\n    <tr>\n      <th>46462</th>\n      <td>819</td>\n      <td>1537</td>\n      <td>5</td>\n    </tr>\n    <tr>\n      <th>70443</th>\n      <td>819</td>\n      <td>300</td>\n      <td>5</td>\n    </tr>\n    <tr>\n      <th>53149</th>\n      <td>819</td>\n      <td>340</td>\n      <td>5</td>\n    </tr>\n    <tr>\n      <th>456</th>\n      <td>819</td>\n      <td>304</td>\n      <td>4</td>\n    </tr>\n    <tr>\n      <th>62672</th>\n      <td>819</td>\n      <td>303</td>\n      <td>4</td>\n    </tr>\n    <tr>\n      <th>73564</th>\n      <td>819</td>\n      <td>321</td>\n      <td>4</td>\n    </tr>\n    <tr>\n      <th>67976</th>\n      <td>819</td>\n      <td>327</td>\n      <td>4</td>\n    </tr>\n    <tr>\n      <th>67430</th>\n      <td>819</td>\n      <td>177</td>\n      <td>4</td>\n    </tr>\n    <tr>\n      <th>65179</th>\n      <td>819</td>\n      <td>182</td>\n      <td>4</td>\n    </tr>\n    <tr>\n      <th>92735</th>\n      <td>819</td>\n      <td>246</td>\n      <td>4</td>\n    </tr>\n    <tr>\n      <th>61273</th>\n      <td>819</td>\n      <td>381</td>\n      <td>4</td>\n    </tr>\n    <tr>\n      <th>747</th>\n      <td>819</td>\n      <td>70</td>\n      <td>4</td>\n    </tr>\n    <tr>\n      <th>54445</th>\n      <td>819</td>\n      <td>345</td>\n      <td>4</td>\n    </tr>\n    <tr>\n      <th>25200</th>\n      <td>819</td>\n      <td>533</td>\n      <td>4</td>\n    </tr>\n    <tr>\n      <th>24338</th>\n      <td>819</td>\n      <td>1160</td>\n      <td>4</td>\n    </tr>\n    <tr>\n      <th>16144</th>\n      <td>819</td>\n      <td>319</td>\n      <td>4</td>\n    </tr>\n    <tr>\n      <th>13014</th>\n      <td>819</td>\n      <td>268</td>\n      <td>4</td>\n    </tr>\n    <tr>\n      <th>76899</th>\n      <td>819</td>\n      <td>245</td>\n      <td>3</td>\n    </tr>\n    <tr>\n      <th>45990</th>\n      <td>819</td>\n      <td>258</td>\n      <td>2</td>\n    </tr>\n    <tr>\n      <th>58099</th>\n      <td>819</td>\n      <td>862</td>\n      <td>2</td>\n    </tr>\n    <tr>\n      <th>47790</th>\n      <td>819</td>\n      <td>255</td>\n      <td>1</td>\n    </tr>\n  </tbody>\n</table>\n</div>"
     },
     "metadata": {},
     "execution_count": 57
    }
   ],
   "source": [
    "#Example predictions\n",
    "ratings_per_user = df.groupby('user_id').size()\n",
    "uid = ratings_per_user[ratings_per_user < 30].sample(1, random_state=1).index[0]\n",
    "user_ratings = df[df.user_id==uid]\n",
    "print(\"User #{} has rated {} movies (avg. rating = {:.1f}):\".format(\n",
    "    uid, len(user_ratings), user_ratings['rating'].mean(),\n",
    "))\n",
    "cols = ['user_id', 'movie_id', 'rating']\n",
    "user_ratings.sort_values(by='rating', ascending=False)[cols]"
   ]
  },
  {
   "cell_type": "code",
   "execution_count": 61,
   "metadata": {},
   "outputs": [
    {
     "output_type": "execute_result",
     "data": {
      "text/plain": "   true_rating  predicted_rating     error\n1            4          4.627240  0.627240\n0            5          4.403569  0.596431",
      "text/html": "<div>\n<style scoped>\n    .dataframe tbody tr th:only-of-type {\n        vertical-align: middle;\n    }\n\n    .dataframe tbody tr th {\n        vertical-align: top;\n    }\n\n    .dataframe thead th {\n        text-align: right;\n    }\n</style>\n<table border=\"1\" class=\"dataframe\">\n  <thead>\n    <tr style=\"text-align: right;\">\n      <th></th>\n      <th>true_rating</th>\n      <th>predicted_rating</th>\n      <th>error</th>\n    </tr>\n  </thead>\n  <tbody>\n    <tr>\n      <th>1</th>\n      <td>4</td>\n      <td>4.627240</td>\n      <td>0.627240</td>\n    </tr>\n    <tr>\n      <th>0</th>\n      <td>5</td>\n      <td>4.403569</td>\n      <td>0.596431</td>\n    </tr>\n  </tbody>\n</table>\n</div>"
     },
     "metadata": {},
     "execution_count": 61
    }
   ],
   "source": [
    "user_ratings_test = test[test.user_id == uid]\n",
    "# predicting for user uid movies from test set\n",
    "y_pred = model.predict([user_ratings_test.user_id, user_ratings_test.movie_id])\n",
    "y_true = user_ratings_test.rating\n",
    "result = pd.DataFrame()\n",
    "result['predicted_rating'] = np.squeeze(y_pred) + mean_rating_train\n",
    "result['true_rating'] = y_true.values \n",
    "result['error'] = abs(np.squeeze(y_pred) + mean_rating_train - np.squeeze(y_true.values))\n",
    "result.sort_values(by='error', ascending=False)[['true_rating', 'predicted_rating', 'error']]"
   ]
  },
  {
   "cell_type": "code",
   "execution_count": 62,
   "metadata": {
    "tags": []
   },
   "outputs": [
    {
     "output_type": "stream",
     "name": "stdout",
     "text": "User #557 has rated 28 movies (avg. rating = 4.1):\n"
    },
    {
     "output_type": "execute_result",
     "data": {
      "text/plain": "       user_id  movie_id  rating\n90249      819       248       5\n75648      819       286       5\n21521      819       346       5\n75380      819       315       5\n75129      819       302       5\n30243      819       744       5\n44121      819       147       5\n46462      819      1537       5\n70443      819       300       5\n53149      819       340       5\n456        819       304       4\n62672      819       303       4\n73564      819       321       4\n67976      819       327       4\n67430      819       177       4\n65179      819       182       4\n92735      819       246       4\n61273      819       381       4\n747        819        70       4\n54445      819       345       4\n25200      819       533       4\n24338      819      1160       4\n16144      819       319       4\n13014      819       268       4\n76899      819       245       3\n45990      819       258       2\n58099      819       862       2\n47790      819       255       1",
      "text/html": "<div>\n<style scoped>\n    .dataframe tbody tr th:only-of-type {\n        vertical-align: middle;\n    }\n\n    .dataframe tbody tr th {\n        vertical-align: top;\n    }\n\n    .dataframe thead th {\n        text-align: right;\n    }\n</style>\n<table border=\"1\" class=\"dataframe\">\n  <thead>\n    <tr style=\"text-align: right;\">\n      <th></th>\n      <th>user_id</th>\n      <th>movie_id</th>\n      <th>rating</th>\n    </tr>\n  </thead>\n  <tbody>\n    <tr>\n      <th>90249</th>\n      <td>819</td>\n      <td>248</td>\n      <td>5</td>\n    </tr>\n    <tr>\n      <th>75648</th>\n      <td>819</td>\n      <td>286</td>\n      <td>5</td>\n    </tr>\n    <tr>\n      <th>21521</th>\n      <td>819</td>\n      <td>346</td>\n      <td>5</td>\n    </tr>\n    <tr>\n      <th>75380</th>\n      <td>819</td>\n      <td>315</td>\n      <td>5</td>\n    </tr>\n    <tr>\n      <th>75129</th>\n      <td>819</td>\n      <td>302</td>\n      <td>5</td>\n    </tr>\n    <tr>\n      <th>30243</th>\n      <td>819</td>\n      <td>744</td>\n      <td>5</td>\n    </tr>\n    <tr>\n      <th>44121</th>\n      <td>819</td>\n      <td>147</td>\n      <td>5</td>\n    </tr>\n    <tr>\n      <th>46462</th>\n      <td>819</td>\n      <td>1537</td>\n      <td>5</td>\n    </tr>\n    <tr>\n      <th>70443</th>\n      <td>819</td>\n      <td>300</td>\n      <td>5</td>\n    </tr>\n    <tr>\n      <th>53149</th>\n      <td>819</td>\n      <td>340</td>\n      <td>5</td>\n    </tr>\n    <tr>\n      <th>456</th>\n      <td>819</td>\n      <td>304</td>\n      <td>4</td>\n    </tr>\n    <tr>\n      <th>62672</th>\n      <td>819</td>\n      <td>303</td>\n      <td>4</td>\n    </tr>\n    <tr>\n      <th>73564</th>\n      <td>819</td>\n      <td>321</td>\n      <td>4</td>\n    </tr>\n    <tr>\n      <th>67976</th>\n      <td>819</td>\n      <td>327</td>\n      <td>4</td>\n    </tr>\n    <tr>\n      <th>67430</th>\n      <td>819</td>\n      <td>177</td>\n      <td>4</td>\n    </tr>\n    <tr>\n      <th>65179</th>\n      <td>819</td>\n      <td>182</td>\n      <td>4</td>\n    </tr>\n    <tr>\n      <th>92735</th>\n      <td>819</td>\n      <td>246</td>\n      <td>4</td>\n    </tr>\n    <tr>\n      <th>61273</th>\n      <td>819</td>\n      <td>381</td>\n      <td>4</td>\n    </tr>\n    <tr>\n      <th>747</th>\n      <td>819</td>\n      <td>70</td>\n      <td>4</td>\n    </tr>\n    <tr>\n      <th>54445</th>\n      <td>819</td>\n      <td>345</td>\n      <td>4</td>\n    </tr>\n    <tr>\n      <th>25200</th>\n      <td>819</td>\n      <td>533</td>\n      <td>4</td>\n    </tr>\n    <tr>\n      <th>24338</th>\n      <td>819</td>\n      <td>1160</td>\n      <td>4</td>\n    </tr>\n    <tr>\n      <th>16144</th>\n      <td>819</td>\n      <td>319</td>\n      <td>4</td>\n    </tr>\n    <tr>\n      <th>13014</th>\n      <td>819</td>\n      <td>268</td>\n      <td>4</td>\n    </tr>\n    <tr>\n      <th>76899</th>\n      <td>819</td>\n      <td>245</td>\n      <td>3</td>\n    </tr>\n    <tr>\n      <th>45990</th>\n      <td>819</td>\n      <td>258</td>\n      <td>2</td>\n    </tr>\n    <tr>\n      <th>58099</th>\n      <td>819</td>\n      <td>862</td>\n      <td>2</td>\n    </tr>\n    <tr>\n      <th>47790</th>\n      <td>819</td>\n      <td>255</td>\n      <td>1</td>\n    </tr>\n  </tbody>\n</table>\n</div>"
     },
     "metadata": {},
     "execution_count": 62
    }
   ],
   "source": [
    "uid = 557\n",
    "print(\"User #{} has rated {} movies (avg. rating = {:.1f}):\".format(\n",
    "    uid, len(user_ratings), user_ratings['rating'].mean(),\n",
    "))\n",
    "cols = ['user_id', 'movie_id', 'rating']\n",
    "user_ratings.sort_values(by='rating', ascending=False)[cols]"
   ]
  },
  {
   "cell_type": "code",
   "execution_count": 63,
   "metadata": {},
   "outputs": [
    {
     "output_type": "execute_result",
     "data": {
      "text/plain": "    true_rating  predicted_rating     error\n6             1          3.552361  2.552361\n1             5          4.161126  0.838874\n10            5          4.275356  0.724644\n3             4          3.425429  0.574571\n4             3          3.477437  0.477437\n8             3          3.396739  0.396739\n0             4          4.382671  0.382671\n5             3          3.279621  0.279621\n9             4          3.778014  0.221986\n7             3          2.854178  0.145822\n2             4          3.876195  0.123805",
      "text/html": "<div>\n<style scoped>\n    .dataframe tbody tr th:only-of-type {\n        vertical-align: middle;\n    }\n\n    .dataframe tbody tr th {\n        vertical-align: top;\n    }\n\n    .dataframe thead th {\n        text-align: right;\n    }\n</style>\n<table border=\"1\" class=\"dataframe\">\n  <thead>\n    <tr style=\"text-align: right;\">\n      <th></th>\n      <th>true_rating</th>\n      <th>predicted_rating</th>\n      <th>error</th>\n    </tr>\n  </thead>\n  <tbody>\n    <tr>\n      <th>6</th>\n      <td>1</td>\n      <td>3.552361</td>\n      <td>2.552361</td>\n    </tr>\n    <tr>\n      <th>1</th>\n      <td>5</td>\n      <td>4.161126</td>\n      <td>0.838874</td>\n    </tr>\n    <tr>\n      <th>10</th>\n      <td>5</td>\n      <td>4.275356</td>\n      <td>0.724644</td>\n    </tr>\n    <tr>\n      <th>3</th>\n      <td>4</td>\n      <td>3.425429</td>\n      <td>0.574571</td>\n    </tr>\n    <tr>\n      <th>4</th>\n      <td>3</td>\n      <td>3.477437</td>\n      <td>0.477437</td>\n    </tr>\n    <tr>\n      <th>8</th>\n      <td>3</td>\n      <td>3.396739</td>\n      <td>0.396739</td>\n    </tr>\n    <tr>\n      <th>0</th>\n      <td>4</td>\n      <td>4.382671</td>\n      <td>0.382671</td>\n    </tr>\n    <tr>\n      <th>5</th>\n      <td>3</td>\n      <td>3.279621</td>\n      <td>0.279621</td>\n    </tr>\n    <tr>\n      <th>9</th>\n      <td>4</td>\n      <td>3.778014</td>\n      <td>0.221986</td>\n    </tr>\n    <tr>\n      <th>7</th>\n      <td>3</td>\n      <td>2.854178</td>\n      <td>0.145822</td>\n    </tr>\n    <tr>\n      <th>2</th>\n      <td>4</td>\n      <td>3.876195</td>\n      <td>0.123805</td>\n    </tr>\n  </tbody>\n</table>\n</div>"
     },
     "metadata": {},
     "execution_count": 63
    }
   ],
   "source": [
    "user_ratings_test = test[test.user_id == uid]\n",
    "# predicting for user uid movies from test set\n",
    "y_pred = model.predict([user_ratings_test.user_id, user_ratings_test.movie_id])\n",
    "y_true = user_ratings_test.rating\n",
    "result = pd.DataFrame()\n",
    "result['predicted_rating'] = np.squeeze(y_pred) + mean_rating_train\n",
    "result['true_rating'] = y_true.values \n",
    "result['error'] = abs(np.squeeze(y_pred) + mean_rating_train - np.squeeze(y_true.values))\n",
    "result.sort_values(by='error', ascending=False)[['true_rating', 'predicted_rating', 'error']]"
   ]
  },
  {
   "cell_type": "code",
   "execution_count": null,
   "metadata": {},
   "outputs": [],
   "source": []
  }
 ]
}