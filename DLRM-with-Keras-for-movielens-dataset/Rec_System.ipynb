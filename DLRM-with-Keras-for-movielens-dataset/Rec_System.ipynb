{
 "metadata": {
  "language_info": {
   "codemirror_mode": {
    "name": "ipython",
    "version": 3
   },
   "file_extension": ".py",
   "mimetype": "text/x-python",
   "name": "python",
   "nbconvert_exporter": "python",
   "pygments_lexer": "ipython3",
   "version": 3
  },
  "orig_nbformat": 2,
  "kernelspec": {
   "name": "python_defaultSpec_1596960812956",
   "display_name": "Python 3.6.9 64-bit ('DLRM-with-Keras-for-movielens-dataset': pipenv)"
  }
 },
 "nbformat": 4,
 "nbformat_minor": 2,
 "cells": [
  {
   "cell_type": "code",
   "execution_count": 1,
   "metadata": {},
   "outputs": [],
   "source": [
    "from keras.layers import Input, Embedding, Concatenate, Flatten, Dense, Dot, Add, Multiply, Subtract, Average, Reshape\n",
    "from keras.models import Model, Sequential\n",
    "from keras.callbacks import EarlyStopping"
   ]
  },
  {
   "cell_type": "code",
   "execution_count": 2,
   "metadata": {},
   "outputs": [],
   "source": [
    "import pandas as pd\n",
    "import numpy as np \n",
    "from sklearn.preprocessing import scale\n",
    "from sklearn.preprocessing import LabelEncoder\n",
    "from sklearn.preprocessing import MinMaxScaler\n",
    "from sklearn import metrics"
   ]
  },
  {
   "cell_type": "code",
   "execution_count": 3,
   "metadata": {},
   "outputs": [],
   "source": [
    "df=pd.read_pickle('/home/elena/Projects/DLRM-with-Keras-for-movielens-dataset/ratings_movie_info.pkl')"
   ]
  },
  {
   "cell_type": "code",
   "execution_count": 4,
   "metadata": {},
   "outputs": [
    {
     "output_type": "execute_result",
     "data": {
      "text/plain": "             user_id       movie_id         rating\ncount  100836.000000  100836.000000  100836.000000\nmean      326.127564   19435.295718       3.501557\nstd       182.618491   35530.987199       1.042529\nmin         1.000000       1.000000       0.500000\n25%       177.000000    1199.000000       3.000000\n50%       325.000000    2991.000000       3.500000\n75%       477.000000    8122.000000       4.000000\nmax       610.000000  193609.000000       5.000000",
      "text/html": "<div>\n<style scoped>\n    .dataframe tbody tr th:only-of-type {\n        vertical-align: middle;\n    }\n\n    .dataframe tbody tr th {\n        vertical-align: top;\n    }\n\n    .dataframe thead th {\n        text-align: right;\n    }\n</style>\n<table border=\"1\" class=\"dataframe\">\n  <thead>\n    <tr style=\"text-align: right;\">\n      <th></th>\n      <th>user_id</th>\n      <th>movie_id</th>\n      <th>rating</th>\n    </tr>\n  </thead>\n  <tbody>\n    <tr>\n      <th>count</th>\n      <td>100836.000000</td>\n      <td>100836.000000</td>\n      <td>100836.000000</td>\n    </tr>\n    <tr>\n      <th>mean</th>\n      <td>326.127564</td>\n      <td>19435.295718</td>\n      <td>3.501557</td>\n    </tr>\n    <tr>\n      <th>std</th>\n      <td>182.618491</td>\n      <td>35530.987199</td>\n      <td>1.042529</td>\n    </tr>\n    <tr>\n      <th>min</th>\n      <td>1.000000</td>\n      <td>1.000000</td>\n      <td>0.500000</td>\n    </tr>\n    <tr>\n      <th>25%</th>\n      <td>177.000000</td>\n      <td>1199.000000</td>\n      <td>3.000000</td>\n    </tr>\n    <tr>\n      <th>50%</th>\n      <td>325.000000</td>\n      <td>2991.000000</td>\n      <td>3.500000</td>\n    </tr>\n    <tr>\n      <th>75%</th>\n      <td>477.000000</td>\n      <td>8122.000000</td>\n      <td>4.000000</td>\n    </tr>\n    <tr>\n      <th>max</th>\n      <td>610.000000</td>\n      <td>193609.000000</td>\n      <td>5.000000</td>\n    </tr>\n  </tbody>\n</table>\n</div>"
     },
     "metadata": {},
     "execution_count": 4
    }
   ],
   "source": [
    "df.describe()"
   ]
  },
  {
   "cell_type": "code",
   "execution_count": 5,
   "metadata": {},
   "outputs": [
    {
     "output_type": "execute_result",
     "data": {
      "text/plain": "user_id             int64\nmovie_id            int64\nrating            float64\nunix_timestamp     object\ntitle              object\ngenre              object\ndtype: object"
     },
     "metadata": {},
     "execution_count": 5
    }
   ],
   "source": [
    "df.dtypes"
   ]
  },
  {
   "cell_type": "code",
   "execution_count": 6,
   "metadata": {},
   "outputs": [],
   "source": [
    "from sklearn.model_selection import train_test_split\n",
    "import math"
   ]
  },
  {
   "cell_type": "code",
   "execution_count": 18,
   "metadata": {},
   "outputs": [],
   "source": [
    "# train test split\n",
    "# Shuffle (reproducibly)\n",
    "df = df.sample(frac=1, random_state=1).reset_index(drop=True)\n",
    "\n",
    "# Partitioning train/val according to behaviour of keras.Model.fit() when called with\n",
    "# validation_split kwarg (which is to take validation data from the end as a contiguous\n",
    "# chunk)\n",
    "val_split = .15\n",
    "n_ratings = len(df)\n",
    "n_train = math.floor(n_ratings * (1-val_split))\n",
    "itrain = df.index[:n_train]\n",
    "ival = df.index[n_train:]\n",
    "train=df.loc[itrain]\n",
    "test=df.loc[ival]"
   ]
  },
  {
   "cell_type": "code",
   "execution_count": 19,
   "metadata": {},
   "outputs": [
    {
     "output_type": "execute_result",
     "data": {
      "text/plain": "((85710, 7), (15126, 7), 610, 609)"
     },
     "metadata": {},
     "execution_count": 19
    }
   ],
   "source": [
    "train.shape, test.shape, train.user_id.unique().shape[0], test.user_id.unique().shape[0]"
   ]
  },
  {
   "cell_type": "code",
   "execution_count": 20,
   "metadata": {},
   "outputs": [
    {
     "output_type": "execute_result",
     "data": {
      "text/plain": "(609, 0)"
     },
     "metadata": {},
     "execution_count": 20
    }
   ],
   "source": [
    "len(set(test.user_id.unique()).intersection(set(train.user_id.unique()))), len(set(test.user_id.unique()).difference(set(train.user_id.unique())))"
   ]
  },
  {
   "cell_type": "code",
   "execution_count": 21,
   "metadata": {},
   "outputs": [],
   "source": [
    "# center rating\n",
    "mean_rating_train =  df.loc[itrain, 'rating'].mean()\n",
    "df['y'] = df['rating'] -mean_rating_train"
   ]
  },
  {
   "cell_type": "code",
   "execution_count": 22,
   "metadata": {},
   "outputs": [
    {
     "output_type": "execute_result",
     "data": {
      "text/plain": "   user_id  movie_id  rating unix_timestamp                          title  \\\n0      275      1392     5.0     1049076638            Citizen Ruth (1996)   \n1      182      2841     4.0     1063284555          Stir of Echoes (1999)   \n2       89    167380     4.5     1520409150         A Dog's Purpose (2017)   \n3      369      1625     4.5     1237082077               Game, The (1997)   \n4      517       277     5.0     1487955694  Miracle on 34th Street (1994)   \n\n                     genre         y  \n0             Comedy|Drama  1.496897  \n1  Horror|Mystery|Thriller  0.496897  \n2             Comedy|Drama  0.996897  \n3   Drama|Mystery|Thriller  0.996897  \n4                    Drama  1.496897  ",
      "text/html": "<div>\n<style scoped>\n    .dataframe tbody tr th:only-of-type {\n        vertical-align: middle;\n    }\n\n    .dataframe tbody tr th {\n        vertical-align: top;\n    }\n\n    .dataframe thead th {\n        text-align: right;\n    }\n</style>\n<table border=\"1\" class=\"dataframe\">\n  <thead>\n    <tr style=\"text-align: right;\">\n      <th></th>\n      <th>user_id</th>\n      <th>movie_id</th>\n      <th>rating</th>\n      <th>unix_timestamp</th>\n      <th>title</th>\n      <th>genre</th>\n      <th>y</th>\n    </tr>\n  </thead>\n  <tbody>\n    <tr>\n      <th>0</th>\n      <td>275</td>\n      <td>1392</td>\n      <td>5.0</td>\n      <td>1049076638</td>\n      <td>Citizen Ruth (1996)</td>\n      <td>Comedy|Drama</td>\n      <td>1.496897</td>\n    </tr>\n    <tr>\n      <th>1</th>\n      <td>182</td>\n      <td>2841</td>\n      <td>4.0</td>\n      <td>1063284555</td>\n      <td>Stir of Echoes (1999)</td>\n      <td>Horror|Mystery|Thriller</td>\n      <td>0.496897</td>\n    </tr>\n    <tr>\n      <th>2</th>\n      <td>89</td>\n      <td>167380</td>\n      <td>4.5</td>\n      <td>1520409150</td>\n      <td>A Dog's Purpose (2017)</td>\n      <td>Comedy|Drama</td>\n      <td>0.996897</td>\n    </tr>\n    <tr>\n      <th>3</th>\n      <td>369</td>\n      <td>1625</td>\n      <td>4.5</td>\n      <td>1237082077</td>\n      <td>Game, The (1997)</td>\n      <td>Drama|Mystery|Thriller</td>\n      <td>0.996897</td>\n    </tr>\n    <tr>\n      <th>4</th>\n      <td>517</td>\n      <td>277</td>\n      <td>5.0</td>\n      <td>1487955694</td>\n      <td>Miracle on 34th Street (1994)</td>\n      <td>Drama</td>\n      <td>1.496897</td>\n    </tr>\n  </tbody>\n</table>\n</div>"
     },
     "metadata": {},
     "execution_count": 22
    }
   ],
   "source": [
    "df.head()"
   ]
  },
  {
   "cell_type": "code",
   "execution_count": 23,
   "metadata": {},
   "outputs": [],
   "source": [
    "train['y'] = train['rating']-mean_rating_train\n",
    "test['y'] = test['rating'] - mean_rating_train"
   ]
  },
  {
   "cell_type": "code",
   "execution_count": 24,
   "metadata": {},
   "outputs": [],
   "source": [
    "train.to_pickle('/home/elena/Projects/DLRM-with-Keras-for-movielens-dataset/ratings_movie_info_train.pkl')\n",
    "test.to_pickle('/home/elena/Projects/DLRM-with-Keras-for-movielens-dataset/ratings_movie_info_test.pkl')"
   ]
  },
  {
   "cell_type": "code",
   "execution_count": 25,
   "metadata": {
    "tags": []
   },
   "outputs": [],
   "source": [
    "movie_embedding_size = 8\n",
    "user_embedding_size = 8\n",
    "\n",
    "def embedding_model(df, user_embedding_size, movie_embedding_size):\n",
    "    hidden_units = (32,4)\n",
    "\n",
    "    # Each instance will consist of two inputs: a single user id, and a single movie id\n",
    "    user_id_input = Input(shape=(1,), name='user_id')\n",
    "    movie_id_input = Input(shape=(1,), name='movie_id')\n",
    "    user_embedded = Embedding(df.user_id.max()+1, user_embedding_size, \n",
    "                                       input_length=1, name='user_embedding')(user_id_input)\n",
    "    movie_embedded = Embedding(df.movie_id.max()+1, movie_embedding_size, \n",
    "                                        input_length=1, name='movie_embedding')(movie_id_input)\n",
    "    # Concatenate the embeddings (and remove the useless extra dimension)\n",
    "    concatenated = Concatenate()([user_embedded, movie_embedded])\n",
    "    out = Flatten()(concatenated)\n",
    "\n",
    "    # Add one or more hidden layers\n",
    "    for n_hidden in hidden_units:\n",
    "        out = Dense(n_hidden, activation='relu')(out)\n",
    "\n",
    "    # A single output: our predicted rating\n",
    "    out = Dense(1, activation='linear', name='prediction')(out)\n",
    "\n",
    "    model = Model(inputs = [user_id_input, movie_id_input],outputs = out)\n",
    "    #compile\n",
    "    model.compile(optimizer = 'Adam',loss='MSE',metrics=['MAE'])\n",
    "    return model\n"
   ]
  },
  {
   "cell_type": "code",
   "execution_count": 26,
   "metadata": {},
   "outputs": [],
   "source": [
    "model = embedding_model(df, 8,8)"
   ]
  },
  {
   "cell_type": "code",
   "execution_count": 28,
   "metadata": {
    "tags": []
   },
   "outputs": [
    {
     "output_type": "stream",
     "name": "stdout",
     "text": "Epoch 1/20\n172/172 [==============================] - 3s 16ms/step - loss: 0.6435 - MAE: 0.6101 - val_loss: 0.7100 - val_MAE: 0.6422\nEpoch 2/20\n172/172 [==============================] - 3s 16ms/step - loss: 0.6232 - MAE: 0.5996 - val_loss: 0.7020 - val_MAE: 0.6359\nEpoch 3/20\n172/172 [==============================] - 3s 16ms/step - loss: 0.6066 - MAE: 0.5903 - val_loss: 0.6962 - val_MAE: 0.6349\nEpoch 4/20\n172/172 [==============================] - 3s 16ms/step - loss: 0.5917 - MAE: 0.5817 - val_loss: 0.6943 - val_MAE: 0.6310\nEpoch 5/20\n172/172 [==============================] - 3s 16ms/step - loss: 0.5788 - MAE: 0.5743 - val_loss: 0.6944 - val_MAE: 0.6304\nEpoch 6/20\n172/172 [==============================] - 3s 16ms/step - loss: 0.5672 - MAE: 0.5676 - val_loss: 0.6949 - val_MAE: 0.6319\n"
    }
   ],
   "source": [
    "es=EarlyStopping(monitor='val_MAE', min_delta=0, patience=0, verbose=0, mode='min', baseline=None, restore_best_weights=False)\n",
    "history=model.fit(x=[df.user_id, df.movie_id], y=df.y, batch_size=500,epochs=20, verbose=1, validation_split = 0.15 , callbacks=[es])"
   ]
  },
  {
   "cell_type": "code",
   "execution_count": 29,
   "metadata": {
    "tags": []
   },
   "outputs": [
    {
     "output_type": "stream",
     "name": "stdout",
     "text": "Epoch 1/20\n172/172 [==============================] - 24s 137ms/step - loss: 0.9133 - MAE: 0.7405 - val_loss: 0.7789 - val_MAE: 0.6726\nEpoch 2/20\n172/172 [==============================] - 23s 133ms/step - loss: 0.7110 - MAE: 0.6445 - val_loss: 0.7397 - val_MAE: 0.6558\nEpoch 3/20\n172/172 [==============================] - 23s 137ms/step - loss: 0.6508 - MAE: 0.6140 - val_loss: 0.7336 - val_MAE: 0.6530\nEpoch 4/20\n172/172 [==============================] - 24s 140ms/step - loss: 0.6182 - MAE: 0.5956 - val_loss: 0.7339 - val_MAE: 0.6545\n"
    }
   ],
   "source": [
    "model2 = embedding_model(df, 50, 50)\n",
    "history2=model2.fit(x=[df.user_id, df.movie_id], y=df.y, batch_size=500,epochs=20, verbose=1, validation_split = 0.15 , callbacks=[es])"
   ]
  },
  {
   "cell_type": "code",
   "execution_count": 30,
   "metadata": {
    "tags": []
   },
   "outputs": [
    {
     "output_type": "stream",
     "name": "stdout",
     "text": "Epoch 1/20\n172/172 [==============================] - 23s 134ms/step - loss: 0.5907 - MAE: 0.5803 - val_loss: 0.7436 - val_MAE: 0.6600\nEpoch 2/20\n172/172 [==============================] - 24s 137ms/step - loss: 0.5637 - MAE: 0.5646 - val_loss: 0.7542 - val_MAE: 0.6600\nEpoch 3/20\n172/172 [==============================] - 24s 140ms/step - loss: 0.5338 - MAE: 0.5471 - val_loss: 0.7680 - val_MAE: 0.6671\n"
    }
   ],
   "source": [
    "model3 = embedding_model(df, 3, 3)\n",
    "history3=model2.fit(x=[df.user_id, df.movie_id], y=df.y, batch_size=500,epochs=20, verbose=1, validation_split = 0.15 , callbacks=[es])"
   ]
  },
  {
   "cell_type": "code",
   "execution_count": 31,
   "metadata": {
    "tags": []
   },
   "outputs": [
    {
     "output_type": "stream",
     "name": "stdout",
     "text": "Average rating in training set is 3.50 stars\nAlways predicting global average rating results in Mean Absolute Error=0.83, Mean Squared Error=1.09\nPredicting mean per movie results in Mean Absolute Error=0.75, Mean Squared Error=0.95\n"
    }
   ],
   "source": [
    "def get_metrics(y_true, y_pred):\n",
    "    return metrics.mean_absolute_error(y_true, y_pred), metrics.mean_squared_error(y_true, y_pred)\n",
    "\n",
    "mean_rating = train['rating'].mean()\n",
    "print(\"Average rating in training set is {:.2f} stars\".format(mean_rating))\n",
    "\n",
    "y_true = test['rating'].values\n",
    "always_mean = np.full(y_true.shape, mean_rating)\n",
    "\n",
    "mae, mse = get_metrics(y_true, always_mean)\n",
    "print(\"Always predicting global average rating results in Mean Absolute Error={:.2f}, Mean Squared Error={:.2f}\".format(\n",
    "    mae, mse))\n",
    "\n",
    "movies = df.copy().set_index('movie_id')\n",
    "mean_per_movie = train.groupby('movie_id')['rating'].mean()\n",
    "movies['mean_rating'] = mean_per_movie\n",
    "ratings_per_movie = train.groupby('movie_id').size()\n",
    "movies['n_ratings'] = ratings_per_movie\n",
    "# There are a few movies in the validation set not present in the training set. We'll just use the global\n",
    "# mean rating in their case.\n",
    "y_movie_mean = test.join(mean_per_movie, on='movie_id', rsuffix='mean')['ratingmean'].fillna(mean_rating).values\n",
    "\n",
    "mae, mse = get_metrics(y_true, y_movie_mean)\n",
    "print(\"Predicting mean per movie results in Mean Absolute Error={:.2f}, Mean Squared Error={:.2f}\".format(mae, mse))"
   ]
  },
  {
   "cell_type": "code",
   "execution_count": 32,
   "metadata": {},
   "outputs": [],
   "source": [
    "import matplotlib.pyplot as plt"
   ]
  },
  {
   "cell_type": "code",
   "execution_count": 33,
   "metadata": {},
   "outputs": [
    {
     "output_type": "display_data",
     "data": {
      "text/plain": "<Figure size 1440x720 with 1 Axes>",
      "image/svg+xml": "<?xml version=\"1.0\" encoding=\"utf-8\" standalone=\"no\"?>\n<!DOCTYPE svg PUBLIC \"-//W3C//DTD SVG 1.1//EN\"\n  \"http://www.w3.org/Graphics/SVG/1.1/DTD/svg11.dtd\">\n<!-- Created with matplotlib (https://matplotlib.org/) -->\n<svg height=\"669.75625pt\" version=\"1.1\" viewBox=\"0 0 1318.70625 669.75625\" width=\"1318.70625pt\" xmlns=\"http://www.w3.org/2000/svg\" xmlns:xlink=\"http://www.w3.org/1999/xlink\">\n <metadata>\n  <rdf:RDF xmlns:cc=\"http://creativecommons.org/ns#\" xmlns:dc=\"http://purl.org/dc/elements/1.1/\" xmlns:rdf=\"http://www.w3.org/1999/02/22-rdf-syntax-ns#\">\n   <cc:Work>\n    <dc:type rdf:resource=\"http://purl.org/dc/dcmitype/StillImage\"/>\n    <dc:date>2020-08-11T11:09:52.939388</dc:date>\n    <dc:format>image/svg+xml</dc:format>\n    <dc:creator>\n     <cc:Agent>\n      <dc:title>Matplotlib v3.3.0, https://matplotlib.org/</dc:title>\n     </cc:Agent>\n    </dc:creator>\n   </cc:Work>\n  </rdf:RDF>\n </metadata>\n <defs>\n  <style type=\"text/css\">*{stroke-linecap:butt;stroke-linejoin:round;}</style>\n </defs>\n <g id=\"figure_1\">\n  <g id=\"patch_1\">\n   <path d=\"M 0 669.75625 \nL 1318.70625 669.75625 \nL 1318.70625 0 \nL 0 0 \nz\n\" style=\"fill:none;\"/>\n  </g>\n  <g id=\"axes_1\">\n   <g id=\"patch_2\">\n    <path d=\"M 56.50625 632.2 \nL 1172.50625 632.2 \nL 1172.50625 88.6 \nL 56.50625 88.6 \nz\n\" style=\"fill:#ffffff;\"/>\n   </g>\n   <g id=\"matplotlib.axis_1\">\n    <g id=\"xtick_1\">\n     <g id=\"line2d_1\">\n      <path clip-path=\"url(#pea7e536471)\" d=\"M 56.50625 632.2 \nL 56.50625 88.6 \n\" style=\"fill:none;stroke:#b0b0b0;stroke-linecap:square;stroke-width:0.8;\"/>\n     </g>\n     <g id=\"line2d_2\">\n      <defs>\n       <path d=\"M 0 0 \nL 0 3.5 \n\" id=\"mc1593ad4d9\" style=\"stroke:#000000;stroke-width:0.8;\"/>\n      </defs>\n      <g>\n       <use style=\"stroke:#000000;stroke-width:0.8;\" x=\"56.50625\" xlink:href=\"#mc1593ad4d9\" y=\"632.2\"/>\n      </g>\n     </g>\n     <g id=\"text_1\">\n      <!-- 0 -->\n      <g transform=\"translate(53.325 646.798437)scale(0.1 -0.1)\">\n       <defs>\n        <path d=\"M 31.78125 66.40625 \nQ 24.171875 66.40625 20.328125 58.90625 \nQ 16.5 51.421875 16.5 36.375 \nQ 16.5 21.390625 20.328125 13.890625 \nQ 24.171875 6.390625 31.78125 6.390625 \nQ 39.453125 6.390625 43.28125 13.890625 \nQ 47.125 21.390625 47.125 36.375 \nQ 47.125 51.421875 43.28125 58.90625 \nQ 39.453125 66.40625 31.78125 66.40625 \nz\nM 31.78125 74.21875 \nQ 44.046875 74.21875 50.515625 64.515625 \nQ 56.984375 54.828125 56.984375 36.375 \nQ 56.984375 17.96875 50.515625 8.265625 \nQ 44.046875 -1.421875 31.78125 -1.421875 \nQ 19.53125 -1.421875 13.0625 8.265625 \nQ 6.59375 17.96875 6.59375 36.375 \nQ 6.59375 54.828125 13.0625 64.515625 \nQ 19.53125 74.21875 31.78125 74.21875 \nz\n\" id=\"DejaVuSans-48\"/>\n       </defs>\n       <use xlink:href=\"#DejaVuSans-48\"/>\n      </g>\n     </g>\n    </g>\n    <g id=\"xtick_2\">\n     <g id=\"line2d_3\">\n      <path clip-path=\"url(#pea7e536471)\" d=\"M 279.70625 632.2 \nL 279.70625 88.6 \n\" style=\"fill:none;stroke:#b0b0b0;stroke-linecap:square;stroke-width:0.8;\"/>\n     </g>\n     <g id=\"line2d_4\">\n      <g>\n       <use style=\"stroke:#000000;stroke-width:0.8;\" x=\"279.70625\" xlink:href=\"#mc1593ad4d9\" y=\"632.2\"/>\n      </g>\n     </g>\n     <g id=\"text_2\">\n      <!-- 1 -->\n      <g transform=\"translate(276.525 646.798437)scale(0.1 -0.1)\">\n       <defs>\n        <path d=\"M 12.40625 8.296875 \nL 28.515625 8.296875 \nL 28.515625 63.921875 \nL 10.984375 60.40625 \nL 10.984375 69.390625 \nL 28.421875 72.90625 \nL 38.28125 72.90625 \nL 38.28125 8.296875 \nL 54.390625 8.296875 \nL 54.390625 0 \nL 12.40625 0 \nz\n\" id=\"DejaVuSans-49\"/>\n       </defs>\n       <use xlink:href=\"#DejaVuSans-49\"/>\n      </g>\n     </g>\n    </g>\n    <g id=\"xtick_3\">\n     <g id=\"line2d_5\">\n      <path clip-path=\"url(#pea7e536471)\" d=\"M 502.90625 632.2 \nL 502.90625 88.6 \n\" style=\"fill:none;stroke:#b0b0b0;stroke-linecap:square;stroke-width:0.8;\"/>\n     </g>\n     <g id=\"line2d_6\">\n      <g>\n       <use style=\"stroke:#000000;stroke-width:0.8;\" x=\"502.90625\" xlink:href=\"#mc1593ad4d9\" y=\"632.2\"/>\n      </g>\n     </g>\n     <g id=\"text_3\">\n      <!-- 2 -->\n      <g transform=\"translate(499.725 646.798437)scale(0.1 -0.1)\">\n       <defs>\n        <path d=\"M 19.1875 8.296875 \nL 53.609375 8.296875 \nL 53.609375 0 \nL 7.328125 0 \nL 7.328125 8.296875 \nQ 12.9375 14.109375 22.625 23.890625 \nQ 32.328125 33.6875 34.8125 36.53125 \nQ 39.546875 41.84375 41.421875 45.53125 \nQ 43.3125 49.21875 43.3125 52.78125 \nQ 43.3125 58.59375 39.234375 62.25 \nQ 35.15625 65.921875 28.609375 65.921875 \nQ 23.96875 65.921875 18.8125 64.3125 \nQ 13.671875 62.703125 7.8125 59.421875 \nL 7.8125 69.390625 \nQ 13.765625 71.78125 18.9375 73 \nQ 24.125 74.21875 28.421875 74.21875 \nQ 39.75 74.21875 46.484375 68.546875 \nQ 53.21875 62.890625 53.21875 53.421875 \nQ 53.21875 48.921875 51.53125 44.890625 \nQ 49.859375 40.875 45.40625 35.40625 \nQ 44.1875 33.984375 37.640625 27.21875 \nQ 31.109375 20.453125 19.1875 8.296875 \nz\n\" id=\"DejaVuSans-50\"/>\n       </defs>\n       <use xlink:href=\"#DejaVuSans-50\"/>\n      </g>\n     </g>\n    </g>\n    <g id=\"xtick_4\">\n     <g id=\"line2d_7\">\n      <path clip-path=\"url(#pea7e536471)\" d=\"M 726.10625 632.2 \nL 726.10625 88.6 \n\" style=\"fill:none;stroke:#b0b0b0;stroke-linecap:square;stroke-width:0.8;\"/>\n     </g>\n     <g id=\"line2d_8\">\n      <g>\n       <use style=\"stroke:#000000;stroke-width:0.8;\" x=\"726.10625\" xlink:href=\"#mc1593ad4d9\" y=\"632.2\"/>\n      </g>\n     </g>\n     <g id=\"text_4\">\n      <!-- 3 -->\n      <g transform=\"translate(722.925 646.798437)scale(0.1 -0.1)\">\n       <defs>\n        <path d=\"M 40.578125 39.3125 \nQ 47.65625 37.796875 51.625 33 \nQ 55.609375 28.21875 55.609375 21.1875 \nQ 55.609375 10.40625 48.1875 4.484375 \nQ 40.765625 -1.421875 27.09375 -1.421875 \nQ 22.515625 -1.421875 17.65625 -0.515625 \nQ 12.796875 0.390625 7.625 2.203125 \nL 7.625 11.71875 \nQ 11.71875 9.328125 16.59375 8.109375 \nQ 21.484375 6.890625 26.8125 6.890625 \nQ 36.078125 6.890625 40.9375 10.546875 \nQ 45.796875 14.203125 45.796875 21.1875 \nQ 45.796875 27.640625 41.28125 31.265625 \nQ 36.765625 34.90625 28.71875 34.90625 \nL 20.21875 34.90625 \nL 20.21875 43.015625 \nL 29.109375 43.015625 \nQ 36.375 43.015625 40.234375 45.921875 \nQ 44.09375 48.828125 44.09375 54.296875 \nQ 44.09375 59.90625 40.109375 62.90625 \nQ 36.140625 65.921875 28.71875 65.921875 \nQ 24.65625 65.921875 20.015625 65.03125 \nQ 15.375 64.15625 9.8125 62.3125 \nL 9.8125 71.09375 \nQ 15.4375 72.65625 20.34375 73.4375 \nQ 25.25 74.21875 29.59375 74.21875 \nQ 40.828125 74.21875 47.359375 69.109375 \nQ 53.90625 64.015625 53.90625 55.328125 \nQ 53.90625 49.265625 50.4375 45.09375 \nQ 46.96875 40.921875 40.578125 39.3125 \nz\n\" id=\"DejaVuSans-51\"/>\n       </defs>\n       <use xlink:href=\"#DejaVuSans-51\"/>\n      </g>\n     </g>\n    </g>\n    <g id=\"xtick_5\">\n     <g id=\"line2d_9\">\n      <path clip-path=\"url(#pea7e536471)\" d=\"M 949.30625 632.2 \nL 949.30625 88.6 \n\" style=\"fill:none;stroke:#b0b0b0;stroke-linecap:square;stroke-width:0.8;\"/>\n     </g>\n     <g id=\"line2d_10\">\n      <g>\n       <use style=\"stroke:#000000;stroke-width:0.8;\" x=\"949.30625\" xlink:href=\"#mc1593ad4d9\" y=\"632.2\"/>\n      </g>\n     </g>\n     <g id=\"text_5\">\n      <!-- 4 -->\n      <g transform=\"translate(946.125 646.798437)scale(0.1 -0.1)\">\n       <defs>\n        <path d=\"M 37.796875 64.3125 \nL 12.890625 25.390625 \nL 37.796875 25.390625 \nz\nM 35.203125 72.90625 \nL 47.609375 72.90625 \nL 47.609375 25.390625 \nL 58.015625 25.390625 \nL 58.015625 17.1875 \nL 47.609375 17.1875 \nL 47.609375 0 \nL 37.796875 0 \nL 37.796875 17.1875 \nL 4.890625 17.1875 \nL 4.890625 26.703125 \nz\n\" id=\"DejaVuSans-52\"/>\n       </defs>\n       <use xlink:href=\"#DejaVuSans-52\"/>\n      </g>\n     </g>\n    </g>\n    <g id=\"xtick_6\">\n     <g id=\"line2d_11\">\n      <path clip-path=\"url(#pea7e536471)\" d=\"M 1172.50625 632.2 \nL 1172.50625 88.6 \n\" style=\"fill:none;stroke:#b0b0b0;stroke-linecap:square;stroke-width:0.8;\"/>\n     </g>\n     <g id=\"line2d_12\">\n      <g>\n       <use style=\"stroke:#000000;stroke-width:0.8;\" x=\"1172.50625\" xlink:href=\"#mc1593ad4d9\" y=\"632.2\"/>\n      </g>\n     </g>\n     <g id=\"text_6\">\n      <!-- 5 -->\n      <g transform=\"translate(1169.325 646.798437)scale(0.1 -0.1)\">\n       <defs>\n        <path d=\"M 10.796875 72.90625 \nL 49.515625 72.90625 \nL 49.515625 64.59375 \nL 19.828125 64.59375 \nL 19.828125 46.734375 \nQ 21.96875 47.46875 24.109375 47.828125 \nQ 26.265625 48.1875 28.421875 48.1875 \nQ 40.625 48.1875 47.75 41.5 \nQ 54.890625 34.8125 54.890625 23.390625 \nQ 54.890625 11.625 47.5625 5.09375 \nQ 40.234375 -1.421875 26.90625 -1.421875 \nQ 22.3125 -1.421875 17.546875 -0.640625 \nQ 12.796875 0.140625 7.71875 1.703125 \nL 7.71875 11.625 \nQ 12.109375 9.234375 16.796875 8.0625 \nQ 21.484375 6.890625 26.703125 6.890625 \nQ 35.15625 6.890625 40.078125 11.328125 \nQ 45.015625 15.765625 45.015625 23.390625 \nQ 45.015625 31 40.078125 35.4375 \nQ 35.15625 39.890625 26.703125 39.890625 \nQ 22.75 39.890625 18.8125 39.015625 \nQ 14.890625 38.140625 10.796875 36.28125 \nz\n\" id=\"DejaVuSans-53\"/>\n       </defs>\n       <use xlink:href=\"#DejaVuSans-53\"/>\n      </g>\n     </g>\n    </g>\n    <g id=\"text_7\">\n     <!-- Epoch -->\n     <g transform=\"translate(599.195312 660.476562)scale(0.1 -0.1)\">\n      <defs>\n       <path d=\"M 9.8125 72.90625 \nL 55.90625 72.90625 \nL 55.90625 64.59375 \nL 19.671875 64.59375 \nL 19.671875 43.015625 \nL 54.390625 43.015625 \nL 54.390625 34.71875 \nL 19.671875 34.71875 \nL 19.671875 8.296875 \nL 56.78125 8.296875 \nL 56.78125 0 \nL 9.8125 0 \nz\n\" id=\"DejaVuSans-69\"/>\n       <path d=\"M 18.109375 8.203125 \nL 18.109375 -20.796875 \nL 9.078125 -20.796875 \nL 9.078125 54.6875 \nL 18.109375 54.6875 \nL 18.109375 46.390625 \nQ 20.953125 51.265625 25.265625 53.625 \nQ 29.59375 56 35.59375 56 \nQ 45.5625 56 51.78125 48.09375 \nQ 58.015625 40.1875 58.015625 27.296875 \nQ 58.015625 14.40625 51.78125 6.484375 \nQ 45.5625 -1.421875 35.59375 -1.421875 \nQ 29.59375 -1.421875 25.265625 0.953125 \nQ 20.953125 3.328125 18.109375 8.203125 \nz\nM 48.6875 27.296875 \nQ 48.6875 37.203125 44.609375 42.84375 \nQ 40.53125 48.484375 33.40625 48.484375 \nQ 26.265625 48.484375 22.1875 42.84375 \nQ 18.109375 37.203125 18.109375 27.296875 \nQ 18.109375 17.390625 22.1875 11.75 \nQ 26.265625 6.109375 33.40625 6.109375 \nQ 40.53125 6.109375 44.609375 11.75 \nQ 48.6875 17.390625 48.6875 27.296875 \nz\n\" id=\"DejaVuSans-112\"/>\n       <path d=\"M 30.609375 48.390625 \nQ 23.390625 48.390625 19.1875 42.75 \nQ 14.984375 37.109375 14.984375 27.296875 \nQ 14.984375 17.484375 19.15625 11.84375 \nQ 23.34375 6.203125 30.609375 6.203125 \nQ 37.796875 6.203125 41.984375 11.859375 \nQ 46.1875 17.53125 46.1875 27.296875 \nQ 46.1875 37.015625 41.984375 42.703125 \nQ 37.796875 48.390625 30.609375 48.390625 \nz\nM 30.609375 56 \nQ 42.328125 56 49.015625 48.375 \nQ 55.71875 40.765625 55.71875 27.296875 \nQ 55.71875 13.875 49.015625 6.21875 \nQ 42.328125 -1.421875 30.609375 -1.421875 \nQ 18.84375 -1.421875 12.171875 6.21875 \nQ 5.515625 13.875 5.515625 27.296875 \nQ 5.515625 40.765625 12.171875 48.375 \nQ 18.84375 56 30.609375 56 \nz\n\" id=\"DejaVuSans-111\"/>\n       <path d=\"M 48.78125 52.59375 \nL 48.78125 44.1875 \nQ 44.96875 46.296875 41.140625 47.34375 \nQ 37.3125 48.390625 33.40625 48.390625 \nQ 24.65625 48.390625 19.8125 42.84375 \nQ 14.984375 37.3125 14.984375 27.296875 \nQ 14.984375 17.28125 19.8125 11.734375 \nQ 24.65625 6.203125 33.40625 6.203125 \nQ 37.3125 6.203125 41.140625 7.25 \nQ 44.96875 8.296875 48.78125 10.40625 \nL 48.78125 2.09375 \nQ 45.015625 0.34375 40.984375 -0.53125 \nQ 36.96875 -1.421875 32.421875 -1.421875 \nQ 20.0625 -1.421875 12.78125 6.34375 \nQ 5.515625 14.109375 5.515625 27.296875 \nQ 5.515625 40.671875 12.859375 48.328125 \nQ 20.21875 56 33.015625 56 \nQ 37.15625 56 41.109375 55.140625 \nQ 45.0625 54.296875 48.78125 52.59375 \nz\n\" id=\"DejaVuSans-99\"/>\n       <path d=\"M 54.890625 33.015625 \nL 54.890625 0 \nL 45.90625 0 \nL 45.90625 32.71875 \nQ 45.90625 40.484375 42.875 44.328125 \nQ 39.84375 48.1875 33.796875 48.1875 \nQ 26.515625 48.1875 22.3125 43.546875 \nQ 18.109375 38.921875 18.109375 30.90625 \nL 18.109375 0 \nL 9.078125 0 \nL 9.078125 75.984375 \nL 18.109375 75.984375 \nL 18.109375 46.1875 \nQ 21.34375 51.125 25.703125 53.5625 \nQ 30.078125 56 35.796875 56 \nQ 45.21875 56 50.046875 50.171875 \nQ 54.890625 44.34375 54.890625 33.015625 \nz\n\" id=\"DejaVuSans-104\"/>\n      </defs>\n      <use xlink:href=\"#DejaVuSans-69\"/>\n      <use x=\"63.183594\" xlink:href=\"#DejaVuSans-112\"/>\n      <use x=\"126.660156\" xlink:href=\"#DejaVuSans-111\"/>\n      <use x=\"187.841797\" xlink:href=\"#DejaVuSans-99\"/>\n      <use x=\"242.822266\" xlink:href=\"#DejaVuSans-104\"/>\n     </g>\n    </g>\n   </g>\n   <g id=\"matplotlib.axis_2\">\n    <g id=\"ytick_1\">\n     <g id=\"line2d_13\">\n      <path clip-path=\"url(#pea7e536471)\" d=\"M 56.50625 587.46173 \nL 1172.50625 587.46173 \n\" style=\"fill:none;stroke:#b0b0b0;stroke-linecap:square;stroke-width:0.8;\"/>\n     </g>\n     <g id=\"line2d_14\">\n      <defs>\n       <path d=\"M 0 0 \nL -3.5 0 \n\" id=\"m121cfac7a9\" style=\"stroke:#000000;stroke-width:0.8;\"/>\n      </defs>\n      <g>\n       <use style=\"stroke:#000000;stroke-width:0.8;\" x=\"56.50625\" xlink:href=\"#m121cfac7a9\" y=\"587.46173\"/>\n      </g>\n     </g>\n     <g id=\"text_8\">\n      <!-- 0.575 -->\n      <g transform=\"translate(20.878125 591.260948)scale(0.1 -0.1)\">\n       <defs>\n        <path d=\"M 10.6875 12.40625 \nL 21 12.40625 \nL 21 0 \nL 10.6875 0 \nz\n\" id=\"DejaVuSans-46\"/>\n        <path d=\"M 8.203125 72.90625 \nL 55.078125 72.90625 \nL 55.078125 68.703125 \nL 28.609375 0 \nL 18.3125 0 \nL 43.21875 64.59375 \nL 8.203125 64.59375 \nz\n\" id=\"DejaVuSans-55\"/>\n       </defs>\n       <use xlink:href=\"#DejaVuSans-48\"/>\n       <use x=\"63.623047\" xlink:href=\"#DejaVuSans-46\"/>\n       <use x=\"95.410156\" xlink:href=\"#DejaVuSans-53\"/>\n       <use x=\"159.033203\" xlink:href=\"#DejaVuSans-55\"/>\n       <use x=\"222.65625\" xlink:href=\"#DejaVuSans-53\"/>\n      </g>\n     </g>\n    </g>\n    <g id=\"ytick_2\">\n     <g id=\"line2d_15\">\n      <path clip-path=\"url(#pea7e536471)\" d=\"M 56.50625 519.725638 \nL 1172.50625 519.725638 \n\" style=\"fill:none;stroke:#b0b0b0;stroke-linecap:square;stroke-width:0.8;\"/>\n     </g>\n     <g id=\"line2d_16\">\n      <g>\n       <use style=\"stroke:#000000;stroke-width:0.8;\" x=\"56.50625\" xlink:href=\"#m121cfac7a9\" y=\"519.725638\"/>\n      </g>\n     </g>\n     <g id=\"text_9\">\n      <!-- 0.600 -->\n      <g transform=\"translate(20.878125 523.524857)scale(0.1 -0.1)\">\n       <defs>\n        <path d=\"M 33.015625 40.375 \nQ 26.375 40.375 22.484375 35.828125 \nQ 18.609375 31.296875 18.609375 23.390625 \nQ 18.609375 15.53125 22.484375 10.953125 \nQ 26.375 6.390625 33.015625 6.390625 \nQ 39.65625 6.390625 43.53125 10.953125 \nQ 47.40625 15.53125 47.40625 23.390625 \nQ 47.40625 31.296875 43.53125 35.828125 \nQ 39.65625 40.375 33.015625 40.375 \nz\nM 52.59375 71.296875 \nL 52.59375 62.3125 \nQ 48.875 64.0625 45.09375 64.984375 \nQ 41.3125 65.921875 37.59375 65.921875 \nQ 27.828125 65.921875 22.671875 59.328125 \nQ 17.53125 52.734375 16.796875 39.40625 \nQ 19.671875 43.65625 24.015625 45.921875 \nQ 28.375 48.1875 33.59375 48.1875 \nQ 44.578125 48.1875 50.953125 41.515625 \nQ 57.328125 34.859375 57.328125 23.390625 \nQ 57.328125 12.15625 50.6875 5.359375 \nQ 44.046875 -1.421875 33.015625 -1.421875 \nQ 20.359375 -1.421875 13.671875 8.265625 \nQ 6.984375 17.96875 6.984375 36.375 \nQ 6.984375 53.65625 15.1875 63.9375 \nQ 23.390625 74.21875 37.203125 74.21875 \nQ 40.921875 74.21875 44.703125 73.484375 \nQ 48.484375 72.75 52.59375 71.296875 \nz\n\" id=\"DejaVuSans-54\"/>\n       </defs>\n       <use xlink:href=\"#DejaVuSans-48\"/>\n       <use x=\"63.623047\" xlink:href=\"#DejaVuSans-46\"/>\n       <use x=\"95.410156\" xlink:href=\"#DejaVuSans-54\"/>\n       <use x=\"159.033203\" xlink:href=\"#DejaVuSans-48\"/>\n       <use x=\"222.65625\" xlink:href=\"#DejaVuSans-48\"/>\n      </g>\n     </g>\n    </g>\n    <g id=\"ytick_3\">\n     <g id=\"line2d_17\">\n      <path clip-path=\"url(#pea7e536471)\" d=\"M 56.50625 451.989547 \nL 1172.50625 451.989547 \n\" style=\"fill:none;stroke:#b0b0b0;stroke-linecap:square;stroke-width:0.8;\"/>\n     </g>\n     <g id=\"line2d_18\">\n      <g>\n       <use style=\"stroke:#000000;stroke-width:0.8;\" x=\"56.50625\" xlink:href=\"#m121cfac7a9\" y=\"451.989547\"/>\n      </g>\n     </g>\n     <g id=\"text_10\">\n      <!-- 0.625 -->\n      <g transform=\"translate(20.878125 455.788766)scale(0.1 -0.1)\">\n       <use xlink:href=\"#DejaVuSans-48\"/>\n       <use x=\"63.623047\" xlink:href=\"#DejaVuSans-46\"/>\n       <use x=\"95.410156\" xlink:href=\"#DejaVuSans-54\"/>\n       <use x=\"159.033203\" xlink:href=\"#DejaVuSans-50\"/>\n       <use x=\"222.65625\" xlink:href=\"#DejaVuSans-53\"/>\n      </g>\n     </g>\n    </g>\n    <g id=\"ytick_4\">\n     <g id=\"line2d_19\">\n      <path clip-path=\"url(#pea7e536471)\" d=\"M 56.50625 384.253456 \nL 1172.50625 384.253456 \n\" style=\"fill:none;stroke:#b0b0b0;stroke-linecap:square;stroke-width:0.8;\"/>\n     </g>\n     <g id=\"line2d_20\">\n      <g>\n       <use style=\"stroke:#000000;stroke-width:0.8;\" x=\"56.50625\" xlink:href=\"#m121cfac7a9\" y=\"384.253456\"/>\n      </g>\n     </g>\n     <g id=\"text_11\">\n      <!-- 0.650 -->\n      <g transform=\"translate(20.878125 388.052675)scale(0.1 -0.1)\">\n       <use xlink:href=\"#DejaVuSans-48\"/>\n       <use x=\"63.623047\" xlink:href=\"#DejaVuSans-46\"/>\n       <use x=\"95.410156\" xlink:href=\"#DejaVuSans-54\"/>\n       <use x=\"159.033203\" xlink:href=\"#DejaVuSans-53\"/>\n       <use x=\"222.65625\" xlink:href=\"#DejaVuSans-48\"/>\n      </g>\n     </g>\n    </g>\n    <g id=\"ytick_5\">\n     <g id=\"line2d_21\">\n      <path clip-path=\"url(#pea7e536471)\" d=\"M 56.50625 316.517365 \nL 1172.50625 316.517365 \n\" style=\"fill:none;stroke:#b0b0b0;stroke-linecap:square;stroke-width:0.8;\"/>\n     </g>\n     <g id=\"line2d_22\">\n      <g>\n       <use style=\"stroke:#000000;stroke-width:0.8;\" x=\"56.50625\" xlink:href=\"#m121cfac7a9\" y=\"316.517365\"/>\n      </g>\n     </g>\n     <g id=\"text_12\">\n      <!-- 0.675 -->\n      <g transform=\"translate(20.878125 320.316583)scale(0.1 -0.1)\">\n       <use xlink:href=\"#DejaVuSans-48\"/>\n       <use x=\"63.623047\" xlink:href=\"#DejaVuSans-46\"/>\n       <use x=\"95.410156\" xlink:href=\"#DejaVuSans-54\"/>\n       <use x=\"159.033203\" xlink:href=\"#DejaVuSans-55\"/>\n       <use x=\"222.65625\" xlink:href=\"#DejaVuSans-53\"/>\n      </g>\n     </g>\n    </g>\n    <g id=\"ytick_6\">\n     <g id=\"line2d_23\">\n      <path clip-path=\"url(#pea7e536471)\" d=\"M 56.50625 248.781273 \nL 1172.50625 248.781273 \n\" style=\"fill:none;stroke:#b0b0b0;stroke-linecap:square;stroke-width:0.8;\"/>\n     </g>\n     <g id=\"line2d_24\">\n      <g>\n       <use style=\"stroke:#000000;stroke-width:0.8;\" x=\"56.50625\" xlink:href=\"#m121cfac7a9\" y=\"248.781273\"/>\n      </g>\n     </g>\n     <g id=\"text_13\">\n      <!-- 0.700 -->\n      <g transform=\"translate(20.878125 252.580492)scale(0.1 -0.1)\">\n       <use xlink:href=\"#DejaVuSans-48\"/>\n       <use x=\"63.623047\" xlink:href=\"#DejaVuSans-46\"/>\n       <use x=\"95.410156\" xlink:href=\"#DejaVuSans-55\"/>\n       <use x=\"159.033203\" xlink:href=\"#DejaVuSans-48\"/>\n       <use x=\"222.65625\" xlink:href=\"#DejaVuSans-48\"/>\n      </g>\n     </g>\n    </g>\n    <g id=\"ytick_7\">\n     <g id=\"line2d_25\">\n      <path clip-path=\"url(#pea7e536471)\" d=\"M 56.50625 181.045182 \nL 1172.50625 181.045182 \n\" style=\"fill:none;stroke:#b0b0b0;stroke-linecap:square;stroke-width:0.8;\"/>\n     </g>\n     <g id=\"line2d_26\">\n      <g>\n       <use style=\"stroke:#000000;stroke-width:0.8;\" x=\"56.50625\" xlink:href=\"#m121cfac7a9\" y=\"181.045182\"/>\n      </g>\n     </g>\n     <g id=\"text_14\">\n      <!-- 0.725 -->\n      <g transform=\"translate(20.878125 184.844401)scale(0.1 -0.1)\">\n       <use xlink:href=\"#DejaVuSans-48\"/>\n       <use x=\"63.623047\" xlink:href=\"#DejaVuSans-46\"/>\n       <use x=\"95.410156\" xlink:href=\"#DejaVuSans-55\"/>\n       <use x=\"159.033203\" xlink:href=\"#DejaVuSans-50\"/>\n       <use x=\"222.65625\" xlink:href=\"#DejaVuSans-53\"/>\n      </g>\n     </g>\n    </g>\n    <g id=\"ytick_8\">\n     <g id=\"line2d_27\">\n      <path clip-path=\"url(#pea7e536471)\" d=\"M 56.50625 113.309091 \nL 1172.50625 113.309091 \n\" style=\"fill:none;stroke:#b0b0b0;stroke-linecap:square;stroke-width:0.8;\"/>\n     </g>\n     <g id=\"line2d_28\">\n      <g>\n       <use style=\"stroke:#000000;stroke-width:0.8;\" x=\"56.50625\" xlink:href=\"#m121cfac7a9\" y=\"113.309091\"/>\n      </g>\n     </g>\n     <g id=\"text_15\">\n      <!-- 0.750 -->\n      <g transform=\"translate(20.878125 117.10831)scale(0.1 -0.1)\">\n       <use xlink:href=\"#DejaVuSans-48\"/>\n       <use x=\"63.623047\" xlink:href=\"#DejaVuSans-46\"/>\n       <use x=\"95.410156\" xlink:href=\"#DejaVuSans-55\"/>\n       <use x=\"159.033203\" xlink:href=\"#DejaVuSans-53\"/>\n       <use x=\"222.65625\" xlink:href=\"#DejaVuSans-48\"/>\n      </g>\n     </g>\n    </g>\n    <g id=\"text_16\">\n     <!-- Mean Absolute Error -->\n     <g transform=\"translate(14.798438 411.239844)rotate(-90)scale(0.1 -0.1)\">\n      <defs>\n       <path d=\"M 9.8125 72.90625 \nL 24.515625 72.90625 \nL 43.109375 23.296875 \nL 61.8125 72.90625 \nL 76.515625 72.90625 \nL 76.515625 0 \nL 66.890625 0 \nL 66.890625 64.015625 \nL 48.09375 14.015625 \nL 38.1875 14.015625 \nL 19.390625 64.015625 \nL 19.390625 0 \nL 9.8125 0 \nz\n\" id=\"DejaVuSans-77\"/>\n       <path d=\"M 56.203125 29.59375 \nL 56.203125 25.203125 \nL 14.890625 25.203125 \nQ 15.484375 15.921875 20.484375 11.0625 \nQ 25.484375 6.203125 34.421875 6.203125 \nQ 39.59375 6.203125 44.453125 7.46875 \nQ 49.3125 8.734375 54.109375 11.28125 \nL 54.109375 2.78125 \nQ 49.265625 0.734375 44.1875 -0.34375 \nQ 39.109375 -1.421875 33.890625 -1.421875 \nQ 20.796875 -1.421875 13.15625 6.1875 \nQ 5.515625 13.8125 5.515625 26.8125 \nQ 5.515625 40.234375 12.765625 48.109375 \nQ 20.015625 56 32.328125 56 \nQ 43.359375 56 49.78125 48.890625 \nQ 56.203125 41.796875 56.203125 29.59375 \nz\nM 47.21875 32.234375 \nQ 47.125 39.59375 43.09375 43.984375 \nQ 39.0625 48.390625 32.421875 48.390625 \nQ 24.90625 48.390625 20.390625 44.140625 \nQ 15.875 39.890625 15.1875 32.171875 \nz\n\" id=\"DejaVuSans-101\"/>\n       <path d=\"M 34.28125 27.484375 \nQ 23.390625 27.484375 19.1875 25 \nQ 14.984375 22.515625 14.984375 16.5 \nQ 14.984375 11.71875 18.140625 8.90625 \nQ 21.296875 6.109375 26.703125 6.109375 \nQ 34.1875 6.109375 38.703125 11.40625 \nQ 43.21875 16.703125 43.21875 25.484375 \nL 43.21875 27.484375 \nz\nM 52.203125 31.203125 \nL 52.203125 0 \nL 43.21875 0 \nL 43.21875 8.296875 \nQ 40.140625 3.328125 35.546875 0.953125 \nQ 30.953125 -1.421875 24.3125 -1.421875 \nQ 15.921875 -1.421875 10.953125 3.296875 \nQ 6 8.015625 6 15.921875 \nQ 6 25.140625 12.171875 29.828125 \nQ 18.359375 34.515625 30.609375 34.515625 \nL 43.21875 34.515625 \nL 43.21875 35.40625 \nQ 43.21875 41.609375 39.140625 45 \nQ 35.0625 48.390625 27.6875 48.390625 \nQ 23 48.390625 18.546875 47.265625 \nQ 14.109375 46.140625 10.015625 43.890625 \nL 10.015625 52.203125 \nQ 14.9375 54.109375 19.578125 55.046875 \nQ 24.21875 56 28.609375 56 \nQ 40.484375 56 46.34375 49.84375 \nQ 52.203125 43.703125 52.203125 31.203125 \nz\n\" id=\"DejaVuSans-97\"/>\n       <path d=\"M 54.890625 33.015625 \nL 54.890625 0 \nL 45.90625 0 \nL 45.90625 32.71875 \nQ 45.90625 40.484375 42.875 44.328125 \nQ 39.84375 48.1875 33.796875 48.1875 \nQ 26.515625 48.1875 22.3125 43.546875 \nQ 18.109375 38.921875 18.109375 30.90625 \nL 18.109375 0 \nL 9.078125 0 \nL 9.078125 54.6875 \nL 18.109375 54.6875 \nL 18.109375 46.1875 \nQ 21.34375 51.125 25.703125 53.5625 \nQ 30.078125 56 35.796875 56 \nQ 45.21875 56 50.046875 50.171875 \nQ 54.890625 44.34375 54.890625 33.015625 \nz\n\" id=\"DejaVuSans-110\"/>\n       <path id=\"DejaVuSans-32\"/>\n       <path d=\"M 34.1875 63.1875 \nL 20.796875 26.90625 \nL 47.609375 26.90625 \nz\nM 28.609375 72.90625 \nL 39.796875 72.90625 \nL 67.578125 0 \nL 57.328125 0 \nL 50.6875 18.703125 \nL 17.828125 18.703125 \nL 11.1875 0 \nL 0.78125 0 \nz\n\" id=\"DejaVuSans-65\"/>\n       <path d=\"M 48.6875 27.296875 \nQ 48.6875 37.203125 44.609375 42.84375 \nQ 40.53125 48.484375 33.40625 48.484375 \nQ 26.265625 48.484375 22.1875 42.84375 \nQ 18.109375 37.203125 18.109375 27.296875 \nQ 18.109375 17.390625 22.1875 11.75 \nQ 26.265625 6.109375 33.40625 6.109375 \nQ 40.53125 6.109375 44.609375 11.75 \nQ 48.6875 17.390625 48.6875 27.296875 \nz\nM 18.109375 46.390625 \nQ 20.953125 51.265625 25.265625 53.625 \nQ 29.59375 56 35.59375 56 \nQ 45.5625 56 51.78125 48.09375 \nQ 58.015625 40.1875 58.015625 27.296875 \nQ 58.015625 14.40625 51.78125 6.484375 \nQ 45.5625 -1.421875 35.59375 -1.421875 \nQ 29.59375 -1.421875 25.265625 0.953125 \nQ 20.953125 3.328125 18.109375 8.203125 \nL 18.109375 0 \nL 9.078125 0 \nL 9.078125 75.984375 \nL 18.109375 75.984375 \nz\n\" id=\"DejaVuSans-98\"/>\n       <path d=\"M 44.28125 53.078125 \nL 44.28125 44.578125 \nQ 40.484375 46.53125 36.375 47.5 \nQ 32.28125 48.484375 27.875 48.484375 \nQ 21.1875 48.484375 17.84375 46.4375 \nQ 14.5 44.390625 14.5 40.28125 \nQ 14.5 37.15625 16.890625 35.375 \nQ 19.28125 33.59375 26.515625 31.984375 \nL 29.59375 31.296875 \nQ 39.15625 29.25 43.1875 25.515625 \nQ 47.21875 21.78125 47.21875 15.09375 \nQ 47.21875 7.46875 41.1875 3.015625 \nQ 35.15625 -1.421875 24.609375 -1.421875 \nQ 20.21875 -1.421875 15.453125 -0.5625 \nQ 10.6875 0.296875 5.421875 2 \nL 5.421875 11.28125 \nQ 10.40625 8.6875 15.234375 7.390625 \nQ 20.0625 6.109375 24.8125 6.109375 \nQ 31.15625 6.109375 34.5625 8.28125 \nQ 37.984375 10.453125 37.984375 14.40625 \nQ 37.984375 18.0625 35.515625 20.015625 \nQ 33.0625 21.96875 24.703125 23.78125 \nL 21.578125 24.515625 \nQ 13.234375 26.265625 9.515625 29.90625 \nQ 5.8125 33.546875 5.8125 39.890625 \nQ 5.8125 47.609375 11.28125 51.796875 \nQ 16.75 56 26.8125 56 \nQ 31.78125 56 36.171875 55.265625 \nQ 40.578125 54.546875 44.28125 53.078125 \nz\n\" id=\"DejaVuSans-115\"/>\n       <path d=\"M 9.421875 75.984375 \nL 18.40625 75.984375 \nL 18.40625 0 \nL 9.421875 0 \nz\n\" id=\"DejaVuSans-108\"/>\n       <path d=\"M 8.5 21.578125 \nL 8.5 54.6875 \nL 17.484375 54.6875 \nL 17.484375 21.921875 \nQ 17.484375 14.15625 20.5 10.265625 \nQ 23.53125 6.390625 29.59375 6.390625 \nQ 36.859375 6.390625 41.078125 11.03125 \nQ 45.3125 15.671875 45.3125 23.6875 \nL 45.3125 54.6875 \nL 54.296875 54.6875 \nL 54.296875 0 \nL 45.3125 0 \nL 45.3125 8.40625 \nQ 42.046875 3.421875 37.71875 1 \nQ 33.40625 -1.421875 27.6875 -1.421875 \nQ 18.265625 -1.421875 13.375 4.4375 \nQ 8.5 10.296875 8.5 21.578125 \nz\nM 31.109375 56 \nz\n\" id=\"DejaVuSans-117\"/>\n       <path d=\"M 18.3125 70.21875 \nL 18.3125 54.6875 \nL 36.8125 54.6875 \nL 36.8125 47.703125 \nL 18.3125 47.703125 \nL 18.3125 18.015625 \nQ 18.3125 11.328125 20.140625 9.421875 \nQ 21.96875 7.515625 27.59375 7.515625 \nL 36.8125 7.515625 \nL 36.8125 0 \nL 27.59375 0 \nQ 17.1875 0 13.234375 3.875 \nQ 9.28125 7.765625 9.28125 18.015625 \nL 9.28125 47.703125 \nL 2.6875 47.703125 \nL 2.6875 54.6875 \nL 9.28125 54.6875 \nL 9.28125 70.21875 \nz\n\" id=\"DejaVuSans-116\"/>\n       <path d=\"M 41.109375 46.296875 \nQ 39.59375 47.171875 37.8125 47.578125 \nQ 36.03125 48 33.890625 48 \nQ 26.265625 48 22.1875 43.046875 \nQ 18.109375 38.09375 18.109375 28.8125 \nL 18.109375 0 \nL 9.078125 0 \nL 9.078125 54.6875 \nL 18.109375 54.6875 \nL 18.109375 46.1875 \nQ 20.953125 51.171875 25.484375 53.578125 \nQ 30.03125 56 36.53125 56 \nQ 37.453125 56 38.578125 55.875 \nQ 39.703125 55.765625 41.0625 55.515625 \nz\n\" id=\"DejaVuSans-114\"/>\n      </defs>\n      <use xlink:href=\"#DejaVuSans-77\"/>\n      <use x=\"86.279297\" xlink:href=\"#DejaVuSans-101\"/>\n      <use x=\"147.802734\" xlink:href=\"#DejaVuSans-97\"/>\n      <use x=\"209.082031\" xlink:href=\"#DejaVuSans-110\"/>\n      <use x=\"272.460938\" xlink:href=\"#DejaVuSans-32\"/>\n      <use x=\"304.248047\" xlink:href=\"#DejaVuSans-65\"/>\n      <use x=\"372.65625\" xlink:href=\"#DejaVuSans-98\"/>\n      <use x=\"436.132812\" xlink:href=\"#DejaVuSans-115\"/>\n      <use x=\"488.232422\" xlink:href=\"#DejaVuSans-111\"/>\n      <use x=\"549.414062\" xlink:href=\"#DejaVuSans-108\"/>\n      <use x=\"577.197266\" xlink:href=\"#DejaVuSans-117\"/>\n      <use x=\"640.576172\" xlink:href=\"#DejaVuSans-116\"/>\n      <use x=\"679.785156\" xlink:href=\"#DejaVuSans-101\"/>\n      <use x=\"741.308594\" xlink:href=\"#DejaVuSans-32\"/>\n      <use x=\"773.095703\" xlink:href=\"#DejaVuSans-69\"/>\n      <use x=\"836.279297\" xlink:href=\"#DejaVuSans-114\"/>\n      <use x=\"875.642578\" xlink:href=\"#DejaVuSans-114\"/>\n      <use x=\"914.505859\" xlink:href=\"#DejaVuSans-111\"/>\n      <use x=\"975.6875\" xlink:href=\"#DejaVuSans-114\"/>\n     </g>\n    </g>\n   </g>\n   <g id=\"line2d_29\">\n    <path clip-path=\"url(#pea7e536471)\" d=\"M 56.50625 405.334487 \nL 279.70625 422.428778 \nL 502.90625 425.175331 \nL 726.10625 435.792202 \nL 949.30625 437.370981 \nL 1172.50625 433.355236 \n\" style=\"fill:none;stroke:#1f77b4;stroke-linecap:square;stroke-width:1.5;\"/>\n   </g>\n   <g id=\"line2d_30\">\n    <path clip-path=\"url(#pea7e536471)\" d=\"M 56.50625 492.359366 \nL 279.70625 520.685664 \nL 502.90625 546.049167 \nL 726.10625 569.224083 \nL 949.30625 589.23805 \nL 1172.50625 607.490909 \n\" style=\"fill:none;stroke:#ff7f0e;stroke-linecap:square;stroke-width:1.5;\"/>\n   </g>\n   <g id=\"line2d_31\">\n    <path clip-path=\"url(#pea7e536471)\" d=\"M 56.50625 113.309091 \nL 1172.50625 113.309091 \n\" style=\"fill:none;stroke:#002255;stroke-dasharray:5.55,2.4;stroke-dashoffset:0;stroke-opacity:0.5;stroke-width:1.5;\"/>\n   </g>\n   <g id=\"patch_3\">\n    <path d=\"M 56.50625 632.2 \nL 56.50625 88.6 \n\" style=\"fill:none;stroke:#000000;stroke-linecap:square;stroke-linejoin:miter;stroke-width:0.8;\"/>\n   </g>\n   <g id=\"patch_4\">\n    <path d=\"M 1172.50625 632.2 \nL 1172.50625 88.6 \n\" style=\"fill:none;stroke:#000000;stroke-linecap:square;stroke-linejoin:miter;stroke-width:0.8;\"/>\n   </g>\n   <g id=\"patch_5\">\n    <path d=\"M 56.50625 632.2 \nL 1172.50625 632.2 \n\" style=\"fill:none;stroke:#000000;stroke-linecap:square;stroke-linejoin:miter;stroke-width:0.8;\"/>\n   </g>\n   <g id=\"patch_6\">\n    <path d=\"M 56.50625 88.6 \nL 1172.50625 88.6 \n\" style=\"fill:none;stroke:#000000;stroke-linecap:square;stroke-linejoin:miter;stroke-width:0.8;\"/>\n   </g>\n  </g>\n  <g id=\"legend_1\">\n   <g id=\"patch_7\">\n    <path d=\"M 1215.289063 52.034375 \nL 1311.70625 52.034375 \nQ 1313.70625 52.034375 1313.70625 50.034375 \nL 1313.70625 7 \nQ 1313.70625 5 1311.70625 5 \nL 1215.289063 5 \nQ 1213.289063 5 1213.289063 7 \nL 1213.289063 50.034375 \nQ 1213.289063 52.034375 1215.289063 52.034375 \nz\n\" style=\"fill:#ffffff;opacity:0.8;stroke:#cccccc;stroke-linejoin:miter;\"/>\n   </g>\n   <g id=\"line2d_32\">\n    <path d=\"M 1217.289063 13.098437 \nL 1237.289063 13.098437 \n\" style=\"fill:none;stroke:#1f77b4;stroke-linecap:square;stroke-width:1.5;\"/>\n   </g>\n   <g id=\"line2d_33\"/>\n   <g id=\"text_17\">\n    <!-- Test MAE -->\n    <g transform=\"translate(1245.289063 16.598437)scale(0.1 -0.1)\">\n     <defs>\n      <path d=\"M -0.296875 72.90625 \nL 61.375 72.90625 \nL 61.375 64.59375 \nL 35.5 64.59375 \nL 35.5 0 \nL 25.59375 0 \nL 25.59375 64.59375 \nL -0.296875 64.59375 \nz\n\" id=\"DejaVuSans-84\"/>\n     </defs>\n     <use xlink:href=\"#DejaVuSans-84\"/>\n     <use x=\"44.083984\" xlink:href=\"#DejaVuSans-101\"/>\n     <use x=\"105.607422\" xlink:href=\"#DejaVuSans-115\"/>\n     <use x=\"157.707031\" xlink:href=\"#DejaVuSans-116\"/>\n     <use x=\"196.916016\" xlink:href=\"#DejaVuSans-32\"/>\n     <use x=\"228.703125\" xlink:href=\"#DejaVuSans-77\"/>\n     <use x=\"314.982422\" xlink:href=\"#DejaVuSans-65\"/>\n     <use x=\"383.390625\" xlink:href=\"#DejaVuSans-69\"/>\n    </g>\n   </g>\n   <g id=\"line2d_34\">\n    <path d=\"M 1217.289063 27.776562 \nL 1237.289063 27.776562 \n\" style=\"fill:none;stroke:#ff7f0e;stroke-linecap:square;stroke-width:1.5;\"/>\n   </g>\n   <g id=\"line2d_35\"/>\n   <g id=\"text_18\">\n    <!-- Training MAE -->\n    <g transform=\"translate(1245.289063 31.276562)scale(0.1 -0.1)\">\n     <defs>\n      <path d=\"M 9.421875 54.6875 \nL 18.40625 54.6875 \nL 18.40625 0 \nL 9.421875 0 \nz\nM 9.421875 75.984375 \nL 18.40625 75.984375 \nL 18.40625 64.59375 \nL 9.421875 64.59375 \nz\n\" id=\"DejaVuSans-105\"/>\n      <path d=\"M 45.40625 27.984375 \nQ 45.40625 37.75 41.375 43.109375 \nQ 37.359375 48.484375 30.078125 48.484375 \nQ 22.859375 48.484375 18.828125 43.109375 \nQ 14.796875 37.75 14.796875 27.984375 \nQ 14.796875 18.265625 18.828125 12.890625 \nQ 22.859375 7.515625 30.078125 7.515625 \nQ 37.359375 7.515625 41.375 12.890625 \nQ 45.40625 18.265625 45.40625 27.984375 \nz\nM 54.390625 6.78125 \nQ 54.390625 -7.171875 48.1875 -13.984375 \nQ 42 -20.796875 29.203125 -20.796875 \nQ 24.46875 -20.796875 20.265625 -20.09375 \nQ 16.0625 -19.390625 12.109375 -17.921875 \nL 12.109375 -9.1875 \nQ 16.0625 -11.328125 19.921875 -12.34375 \nQ 23.78125 -13.375 27.78125 -13.375 \nQ 36.625 -13.375 41.015625 -8.765625 \nQ 45.40625 -4.15625 45.40625 5.171875 \nL 45.40625 9.625 \nQ 42.625 4.78125 38.28125 2.390625 \nQ 33.9375 0 27.875 0 \nQ 17.828125 0 11.671875 7.65625 \nQ 5.515625 15.328125 5.515625 27.984375 \nQ 5.515625 40.671875 11.671875 48.328125 \nQ 17.828125 56 27.875 56 \nQ 33.9375 56 38.28125 53.609375 \nQ 42.625 51.21875 45.40625 46.390625 \nL 45.40625 54.6875 \nL 54.390625 54.6875 \nz\n\" id=\"DejaVuSans-103\"/>\n     </defs>\n     <use xlink:href=\"#DejaVuSans-84\"/>\n     <use x=\"46.333984\" xlink:href=\"#DejaVuSans-114\"/>\n     <use x=\"87.447266\" xlink:href=\"#DejaVuSans-97\"/>\n     <use x=\"148.726562\" xlink:href=\"#DejaVuSans-105\"/>\n     <use x=\"176.509766\" xlink:href=\"#DejaVuSans-110\"/>\n     <use x=\"239.888672\" xlink:href=\"#DejaVuSans-105\"/>\n     <use x=\"267.671875\" xlink:href=\"#DejaVuSans-110\"/>\n     <use x=\"331.050781\" xlink:href=\"#DejaVuSans-103\"/>\n     <use x=\"394.527344\" xlink:href=\"#DejaVuSans-32\"/>\n     <use x=\"426.314453\" xlink:href=\"#DejaVuSans-77\"/>\n     <use x=\"512.59375\" xlink:href=\"#DejaVuSans-65\"/>\n     <use x=\"581.001953\" xlink:href=\"#DejaVuSans-69\"/>\n    </g>\n   </g>\n   <g id=\"line2d_36\">\n    <path d=\"M 1217.289063 42.454687 \nL 1237.289063 42.454687 \n\" style=\"fill:none;stroke:#002255;stroke-dasharray:5.55,2.4;stroke-dashoffset:0;stroke-opacity:0.5;stroke-width:1.5;\"/>\n   </g>\n   <g id=\"line2d_37\"/>\n   <g id=\"text_19\">\n    <!-- Baseline -->\n    <g transform=\"translate(1245.289063 45.954687)scale(0.1 -0.1)\">\n     <defs>\n      <path d=\"M 19.671875 34.8125 \nL 19.671875 8.109375 \nL 35.5 8.109375 \nQ 43.453125 8.109375 47.28125 11.40625 \nQ 51.125 14.703125 51.125 21.484375 \nQ 51.125 28.328125 47.28125 31.5625 \nQ 43.453125 34.8125 35.5 34.8125 \nz\nM 19.671875 64.796875 \nL 19.671875 42.828125 \nL 34.28125 42.828125 \nQ 41.5 42.828125 45.03125 45.53125 \nQ 48.578125 48.25 48.578125 53.8125 \nQ 48.578125 59.328125 45.03125 62.0625 \nQ 41.5 64.796875 34.28125 64.796875 \nz\nM 9.8125 72.90625 \nL 35.015625 72.90625 \nQ 46.296875 72.90625 52.390625 68.21875 \nQ 58.5 63.53125 58.5 54.890625 \nQ 58.5 48.1875 55.375 44.234375 \nQ 52.25 40.28125 46.1875 39.3125 \nQ 53.46875 37.75 57.5 32.78125 \nQ 61.53125 27.828125 61.53125 20.40625 \nQ 61.53125 10.640625 54.890625 5.3125 \nQ 48.25 0 35.984375 0 \nL 9.8125 0 \nz\n\" id=\"DejaVuSans-66\"/>\n     </defs>\n     <use xlink:href=\"#DejaVuSans-66\"/>\n     <use x=\"68.603516\" xlink:href=\"#DejaVuSans-97\"/>\n     <use x=\"129.882812\" xlink:href=\"#DejaVuSans-115\"/>\n     <use x=\"181.982422\" xlink:href=\"#DejaVuSans-101\"/>\n     <use x=\"243.505859\" xlink:href=\"#DejaVuSans-108\"/>\n     <use x=\"271.289062\" xlink:href=\"#DejaVuSans-105\"/>\n     <use x=\"299.072266\" xlink:href=\"#DejaVuSans-110\"/>\n     <use x=\"362.451172\" xlink:href=\"#DejaVuSans-101\"/>\n    </g>\n   </g>\n  </g>\n </g>\n <defs>\n  <clipPath id=\"pea7e536471\">\n   <rect height=\"543.6\" width=\"1116\" x=\"56.50625\" y=\"88.6\"/>\n  </clipPath>\n </defs>\n</svg>\n",
      "image/png": "[encoded data removed]"
     },
     "metadata": {
      "needs_background": "light"
     }
    }
   ],
   "source": [
    "fig, ax = plt.subplots(figsize = (20,10))\n",
    "ax.plot(history.epoch, history.history['val_MAE'], label='Test MAE')\n",
    "ax.plot(history.epoch, history.history['MAE'], label='Training MAE')\n",
    "ax.set_xlabel('Epoch')\n",
    "ax.set_ylabel('Mean Absolute Error')\n",
    "ax.set_xlim(left=0, right=history.epoch[-1])\n",
    "baseline_mae = 0.75\n",
    "ax.axhline(baseline_mae, ls='--', label='Baseline', color='#002255', alpha=.5)\n",
    "ax.grid()\n",
    "fig.legend()\n",
    "plt.savefig('output.png', dpi=400, bbox_inches='tight')\n",
    "plt.show()"
   ]
  },
  {
   "cell_type": "code",
   "execution_count": 152,
   "metadata": {
    "tags": []
   },
   "outputs": [
    {
     "output_type": "stream",
     "name": "stdout",
     "text": "User #557 has rated 23 movies from the train dataset (avg. rating = 3.8):\n"
    },
    {
     "output_type": "execute_result",
     "data": {
      "text/plain": "       movie_id  rating                                              title  \\\n78293      5618     5.0  Spirited Away (Sen to Chihiro no kamikakushi) ...   \n41027       648     5.0                         Mission: Impossible (1996)   \n40411      1036     5.0                                    Die Hard (1988)   \n5035         10     4.5                                   GoldenEye (1995)   \n7201       2571     4.5                                 Matrix, The (1999)   \n77460      1485     4.5                                   Liar Liar (1997)   \n15640      2617     4.5                                  Mummy, The (1999)   \n24033      4896     4.5  Harry Potter and the Sorcerer's Stone (a.k.a. ...   \n52338       150     4.5                                   Apollo 13 (1995)   \n66997     60069     4.0                                      WALL·E (2008)   \n2898       1291     4.0          Indiana Jones and the Last Crusade (1989)   \n24463       527     4.0                            Schindler's List (1993)   \n9491        344     4.0                  Ace Ventura: Pet Detective (1994)   \n31197      1721     3.5                                     Titanic (1997)   \n39845      1198     3.5  Raiders of the Lost Ark (Indiana Jones and the...   \n60972      2028     3.5                         Saving Private Ryan (1998)   \n10122       231     3.5             Dumb & Dumber (Dumb and Dumber) (1994)   \n28954      1580     3.0                   Men in Black (a.k.a. MIB) (1997)   \n27861       260     3.0          Star Wars: Episode IV - A New Hope (1977)   \n73927      1196     3.0  Star Wars: Episode V - The Empire Strikes Back...   \n34163      1210     3.0  Star Wars: Episode VI - Return of the Jedi (1983)   \n55697      2628     2.0   Star Wars: Episode I - The Phantom Menace (1999)   \n62905      2700     0.5        South Park: Bigger, Longer and Uncut (1999)   \n\n                                                 genre  \n78293                      Adventure|Animation|Fantasy  \n41027                Action|Adventure|Mystery|Thriller  \n40411                            Action|Crime|Thriller  \n5035                         Action|Adventure|Thriller  \n7201                            Action|Sci-Fi|Thriller  \n77460                                           Comedy  \n15640  Action|Adventure|Comedy|Fantasy|Horror|Thriller  \n24033                       Adventure|Children|Fantasy  \n52338                             Adventure|Drama|IMAX  \n66997      Adventure|Animation|Children|Romance|Sci-Fi  \n2898                                  Action|Adventure  \n24463                                        Drama|War  \n9491                                            Comedy  \n31197                                    Drama|Romance  \n39845                                 Action|Adventure  \n60972                                 Action|Drama|War  \n10122                                 Adventure|Comedy  \n28954                             Action|Comedy|Sci-Fi  \n27861                          Action|Adventure|Sci-Fi  \n73927                          Action|Adventure|Sci-Fi  \n34163                          Action|Adventure|Sci-Fi  \n55697                          Action|Adventure|Sci-Fi  \n62905                         Animation|Comedy|Musical  ",
      "text/html": "<div>\n<style scoped>\n    .dataframe tbody tr th:only-of-type {\n        vertical-align: middle;\n    }\n\n    .dataframe tbody tr th {\n        vertical-align: top;\n    }\n\n    .dataframe thead th {\n        text-align: right;\n    }\n</style>\n<table border=\"1\" class=\"dataframe\">\n  <thead>\n    <tr style=\"text-align: right;\">\n      <th></th>\n      <th>movie_id</th>\n      <th>rating</th>\n      <th>title</th>\n      <th>genre</th>\n    </tr>\n  </thead>\n  <tbody>\n    <tr>\n      <th>78293</th>\n      <td>5618</td>\n      <td>5.0</td>\n      <td>Spirited Away (Sen to Chihiro no kamikakushi) ...</td>\n      <td>Adventure|Animation|Fantasy</td>\n    </tr>\n    <tr>\n      <th>41027</th>\n      <td>648</td>\n      <td>5.0</td>\n      <td>Mission: Impossible (1996)</td>\n      <td>Action|Adventure|Mystery|Thriller</td>\n    </tr>\n    <tr>\n      <th>40411</th>\n      <td>1036</td>\n      <td>5.0</td>\n      <td>Die Hard (1988)</td>\n      <td>Action|Crime|Thriller</td>\n    </tr>\n    <tr>\n      <th>5035</th>\n      <td>10</td>\n      <td>4.5</td>\n      <td>GoldenEye (1995)</td>\n      <td>Action|Adventure|Thriller</td>\n    </tr>\n    <tr>\n      <th>7201</th>\n      <td>2571</td>\n      <td>4.5</td>\n      <td>Matrix, The (1999)</td>\n      <td>Action|Sci-Fi|Thriller</td>\n    </tr>\n    <tr>\n      <th>77460</th>\n      <td>1485</td>\n      <td>4.5</td>\n      <td>Liar Liar (1997)</td>\n      <td>Comedy</td>\n    </tr>\n    <tr>\n      <th>15640</th>\n      <td>2617</td>\n      <td>4.5</td>\n      <td>Mummy, The (1999)</td>\n      <td>Action|Adventure|Comedy|Fantasy|Horror|Thriller</td>\n    </tr>\n    <tr>\n      <th>24033</th>\n      <td>4896</td>\n      <td>4.5</td>\n      <td>Harry Potter and the Sorcerer's Stone (a.k.a. ...</td>\n      <td>Adventure|Children|Fantasy</td>\n    </tr>\n    <tr>\n      <th>52338</th>\n      <td>150</td>\n      <td>4.5</td>\n      <td>Apollo 13 (1995)</td>\n      <td>Adventure|Drama|IMAX</td>\n    </tr>\n    <tr>\n      <th>66997</th>\n      <td>60069</td>\n      <td>4.0</td>\n      <td>WALL·E (2008)</td>\n      <td>Adventure|Animation|Children|Romance|Sci-Fi</td>\n    </tr>\n    <tr>\n      <th>2898</th>\n      <td>1291</td>\n      <td>4.0</td>\n      <td>Indiana Jones and the Last Crusade (1989)</td>\n      <td>Action|Adventure</td>\n    </tr>\n    <tr>\n      <th>24463</th>\n      <td>527</td>\n      <td>4.0</td>\n      <td>Schindler's List (1993)</td>\n      <td>Drama|War</td>\n    </tr>\n    <tr>\n      <th>9491</th>\n      <td>344</td>\n      <td>4.0</td>\n      <td>Ace Ventura: Pet Detective (1994)</td>\n      <td>Comedy</td>\n    </tr>\n    <tr>\n      <th>31197</th>\n      <td>1721</td>\n      <td>3.5</td>\n      <td>Titanic (1997)</td>\n      <td>Drama|Romance</td>\n    </tr>\n    <tr>\n      <th>39845</th>\n      <td>1198</td>\n      <td>3.5</td>\n      <td>Raiders of the Lost Ark (Indiana Jones and the...</td>\n      <td>Action|Adventure</td>\n    </tr>\n    <tr>\n      <th>60972</th>\n      <td>2028</td>\n      <td>3.5</td>\n      <td>Saving Private Ryan (1998)</td>\n      <td>Action|Drama|War</td>\n    </tr>\n    <tr>\n      <th>10122</th>\n      <td>231</td>\n      <td>3.5</td>\n      <td>Dumb &amp; Dumber (Dumb and Dumber) (1994)</td>\n      <td>Adventure|Comedy</td>\n    </tr>\n    <tr>\n      <th>28954</th>\n      <td>1580</td>\n      <td>3.0</td>\n      <td>Men in Black (a.k.a. MIB) (1997)</td>\n      <td>Action|Comedy|Sci-Fi</td>\n    </tr>\n    <tr>\n      <th>27861</th>\n      <td>260</td>\n      <td>3.0</td>\n      <td>Star Wars: Episode IV - A New Hope (1977)</td>\n      <td>Action|Adventure|Sci-Fi</td>\n    </tr>\n    <tr>\n      <th>73927</th>\n      <td>1196</td>\n      <td>3.0</td>\n      <td>Star Wars: Episode V - The Empire Strikes Back...</td>\n      <td>Action|Adventure|Sci-Fi</td>\n    </tr>\n    <tr>\n      <th>34163</th>\n      <td>1210</td>\n      <td>3.0</td>\n      <td>Star Wars: Episode VI - Return of the Jedi (1983)</td>\n      <td>Action|Adventure|Sci-Fi</td>\n    </tr>\n    <tr>\n      <th>55697</th>\n      <td>2628</td>\n      <td>2.0</td>\n      <td>Star Wars: Episode I - The Phantom Menace (1999)</td>\n      <td>Action|Adventure|Sci-Fi</td>\n    </tr>\n    <tr>\n      <th>62905</th>\n      <td>2700</td>\n      <td>0.5</td>\n      <td>South Park: Bigger, Longer and Uncut (1999)</td>\n      <td>Animation|Comedy|Musical</td>\n    </tr>\n  </tbody>\n</table>\n</div>"
     },
     "metadata": {},
     "execution_count": 152
    }
   ],
   "source": [
    "#Example predictions\n",
    "ratings_per_user = df.groupby('user_id').size()\n",
    "uid = ratings_per_user[ratings_per_user < 30].sample(1, random_state=1).index[0]\n",
    "user_ratings_train = train[train.user_id==uid]\n",
    "print(\"User #{} has rated {} movies from the train dataset (avg. rating = {:.1f}):\".format(\n",
    "    uid, len(user_ratings_train), user_ratings_train['rating'].mean(),\n",
    "))\n",
    "cols = ['user_id', 'movie_id', 'rating', 'title', 'genre']\n",
    "user_ratings_train.sort_values(by='rating', ascending=False)[['movie_id', 'rating','title','genre']]"
   ]
  },
  {
   "cell_type": "code",
   "execution_count": 79,
   "metadata": {},
   "outputs": [],
   "source": [
    "user_ratings_test = test[test.user_id == uid]"
   ]
  },
  {
   "cell_type": "code",
   "execution_count": 80,
   "metadata": {},
   "outputs": [
    {
     "output_type": "execute_result",
     "data": {
      "text/plain": "       user_id  movie_id  rating unix_timestamp  \\\n89235      557       165     5.0     1452797740   \n94849      557    134130     3.5     1452934442   \n95106      557       318     4.5     1452797268   \n99995      557      4306     4.5     1452797727   \n\n                                   title  \\\n89235  Die Hard: With a Vengeance (1995)   \n94849                 The Martian (2015)   \n95106   Shawshank Redemption, The (1994)   \n99995                       Shrek (2001)   \n\n                                                   genre         y  \n89235                              Action|Crime|Thriller  1.496897  \n94849                             Adventure|Drama|Sci-Fi -0.003103  \n95106                                        Crime|Drama  0.996897  \n99995  Adventure|Animation|Children|Comedy|Fantasy|Ro...  0.996897  ",
      "text/html": "<div>\n<style scoped>\n    .dataframe tbody tr th:only-of-type {\n        vertical-align: middle;\n    }\n\n    .dataframe tbody tr th {\n        vertical-align: top;\n    }\n\n    .dataframe thead th {\n        text-align: right;\n    }\n</style>\n<table border=\"1\" class=\"dataframe\">\n  <thead>\n    <tr style=\"text-align: right;\">\n      <th></th>\n      <th>user_id</th>\n      <th>movie_id</th>\n      <th>rating</th>\n      <th>unix_timestamp</th>\n      <th>title</th>\n      <th>genre</th>\n      <th>y</th>\n    </tr>\n  </thead>\n  <tbody>\n    <tr>\n      <th>89235</th>\n      <td>557</td>\n      <td>165</td>\n      <td>5.0</td>\n      <td>1452797740</td>\n      <td>Die Hard: With a Vengeance (1995)</td>\n      <td>Action|Crime|Thriller</td>\n      <td>1.496897</td>\n    </tr>\n    <tr>\n      <th>94849</th>\n      <td>557</td>\n      <td>134130</td>\n      <td>3.5</td>\n      <td>1452934442</td>\n      <td>The Martian (2015)</td>\n      <td>Adventure|Drama|Sci-Fi</td>\n      <td>-0.003103</td>\n    </tr>\n    <tr>\n      <th>95106</th>\n      <td>557</td>\n      <td>318</td>\n      <td>4.5</td>\n      <td>1452797268</td>\n      <td>Shawshank Redemption, The (1994)</td>\n      <td>Crime|Drama</td>\n      <td>0.996897</td>\n    </tr>\n    <tr>\n      <th>99995</th>\n      <td>557</td>\n      <td>4306</td>\n      <td>4.5</td>\n      <td>1452797727</td>\n      <td>Shrek (2001)</td>\n      <td>Adventure|Animation|Children|Comedy|Fantasy|Ro...</td>\n      <td>0.996897</td>\n    </tr>\n  </tbody>\n</table>\n</div>"
     },
     "metadata": {},
     "execution_count": 80
    }
   ],
   "source": [
    "user_ratings_test"
   ]
  },
  {
   "cell_type": "code",
   "execution_count": 81,
   "metadata": {},
   "outputs": [],
   "source": [
    "# predicting for user uid movies from test set\n",
    "y_pred = model.predict([user_ratings_test.user_id, user_ratings_test.movie_id])"
   ]
  },
  {
   "cell_type": "code",
   "execution_count": 82,
   "metadata": {},
   "outputs": [],
   "source": [
    "y_true = user_ratings_test.y"
   ]
  },
  {
   "cell_type": "code",
   "execution_count": 83,
   "metadata": {},
   "outputs": [],
   "source": [
    "y_delta = mean_rating"
   ]
  },
  {
   "cell_type": "code",
   "execution_count": 84,
   "metadata": {},
   "outputs": [
    {
     "output_type": "execute_result",
     "data": {
      "text/plain": "(4, 1)"
     },
     "metadata": {},
     "execution_count": 84
    }
   ],
   "source": [
    "y_pred.shape"
   ]
  },
  {
   "cell_type": "code",
   "execution_count": 85,
   "metadata": {},
   "outputs": [],
   "source": [
    "result = pd.DataFrame()\n",
    "result['predicted_rating'] = np.squeeze(y_pred) + y_delta"
   ]
  },
  {
   "cell_type": "code",
   "execution_count": 86,
   "metadata": {},
   "outputs": [],
   "source": [
    "result['true_rating'] = y_true.values + y_delta\n",
    "result['movie_id'] = user_ratings_test.movie_id.values"
   ]
  },
  {
   "cell_type": "code",
   "execution_count": 87,
   "metadata": {},
   "outputs": [
    {
     "output_type": "execute_result",
     "data": {
      "text/plain": "   movie_id  true_rating  predicted_rating     error\n1    134130          3.5          3.905294  0.405294\n2       318          4.5          4.035668  0.464332\n3      4306          4.5          4.001062  0.498938\n0       165          5.0          3.707034  1.292966",
      "text/html": "<div>\n<style scoped>\n    .dataframe tbody tr th:only-of-type {\n        vertical-align: middle;\n    }\n\n    .dataframe tbody tr th {\n        vertical-align: top;\n    }\n\n    .dataframe thead th {\n        text-align: right;\n    }\n</style>\n<table border=\"1\" class=\"dataframe\">\n  <thead>\n    <tr style=\"text-align: right;\">\n      <th></th>\n      <th>movie_id</th>\n      <th>true_rating</th>\n      <th>predicted_rating</th>\n      <th>error</th>\n    </tr>\n  </thead>\n  <tbody>\n    <tr>\n      <th>1</th>\n      <td>134130</td>\n      <td>3.5</td>\n      <td>3.905294</td>\n      <td>0.405294</td>\n    </tr>\n    <tr>\n      <th>2</th>\n      <td>318</td>\n      <td>4.5</td>\n      <td>4.035668</td>\n      <td>0.464332</td>\n    </tr>\n    <tr>\n      <th>3</th>\n      <td>4306</td>\n      <td>4.5</td>\n      <td>4.001062</td>\n      <td>0.498938</td>\n    </tr>\n    <tr>\n      <th>0</th>\n      <td>165</td>\n      <td>5.0</td>\n      <td>3.707034</td>\n      <td>1.292966</td>\n    </tr>\n  </tbody>\n</table>\n</div>"
     },
     "metadata": {},
     "execution_count": 87
    }
   ],
   "source": [
    "result['error'] = abs(np.squeeze(y_pred) - np.squeeze(y_true.values))\n",
    "result.sort_values(by='error', ascending=True)[['movie_id','true_rating', 'predicted_rating', 'error']]"
   ]
  },
  {
   "cell_type": "code",
   "execution_count": 88,
   "metadata": {},
   "outputs": [
    {
     "output_type": "execute_result",
     "data": {
      "text/plain": "0.6653824218497222"
     },
     "metadata": {},
     "execution_count": 88
    }
   ],
   "source": [
    "result.error.mean()"
   ]
  },
  {
   "cell_type": "code",
   "execution_count": 151,
   "metadata": {},
   "outputs": [
    {
     "output_type": "execute_result",
     "data": {
      "text/plain": "   true_rating  predicted_rating     error                              title  \\\n1          3.5          3.905294  0.405294                 The Martian (2015)   \n2          4.5          4.035668  0.464332   Shawshank Redemption, The (1994)   \n3          4.5          4.001062  0.498938                       Shrek (2001)   \n0          5.0          3.707034  1.292966  Die Hard: With a Vengeance (1995)   \n\n                                               genre  \n1                             Adventure|Drama|Sci-Fi  \n2                                        Crime|Drama  \n3  Adventure|Animation|Children|Comedy|Fantasy|Ro...  \n0                              Action|Crime|Thriller  ",
      "text/html": "<div>\n<style scoped>\n    .dataframe tbody tr th:only-of-type {\n        vertical-align: middle;\n    }\n\n    .dataframe tbody tr th {\n        vertical-align: top;\n    }\n\n    .dataframe thead th {\n        text-align: right;\n    }\n</style>\n<table border=\"1\" class=\"dataframe\">\n  <thead>\n    <tr style=\"text-align: right;\">\n      <th></th>\n      <th>true_rating</th>\n      <th>predicted_rating</th>\n      <th>error</th>\n      <th>title</th>\n      <th>genre</th>\n    </tr>\n  </thead>\n  <tbody>\n    <tr>\n      <th>1</th>\n      <td>3.5</td>\n      <td>3.905294</td>\n      <td>0.405294</td>\n      <td>The Martian (2015)</td>\n      <td>Adventure|Drama|Sci-Fi</td>\n    </tr>\n    <tr>\n      <th>2</th>\n      <td>4.5</td>\n      <td>4.035668</td>\n      <td>0.464332</td>\n      <td>Shawshank Redemption, The (1994)</td>\n      <td>Crime|Drama</td>\n    </tr>\n    <tr>\n      <th>3</th>\n      <td>4.5</td>\n      <td>4.001062</td>\n      <td>0.498938</td>\n      <td>Shrek (2001)</td>\n      <td>Adventure|Animation|Children|Comedy|Fantasy|Ro...</td>\n    </tr>\n    <tr>\n      <th>0</th>\n      <td>5.0</td>\n      <td>3.707034</td>\n      <td>1.292966</td>\n      <td>Die Hard: With a Vengeance (1995)</td>\n      <td>Action|Crime|Thriller</td>\n    </tr>\n  </tbody>\n</table>\n</div>"
     },
     "metadata": {},
     "execution_count": 151
    }
   ],
   "source": [
    "pd.merge(user_ratings_test, result, on='movie_id').sort_values(by='error', ascending=True)[['true_rating', 'predicted_rating', 'error','title', 'genre']]"
   ]
  },
  {
   "cell_type": "code",
   "execution_count": 156,
   "metadata": {},
   "outputs": [],
   "source": [
    "# die hard investigation\n",
    "diehard=df[(df.movie_id==165) | (df.movie_id==1036)]"
   ]
  },
  {
   "cell_type": "code",
   "execution_count": 158,
   "metadata": {},
   "outputs": [],
   "source": [
    "diehard_train=train[(train.movie_id==165) | (train.movie_id==1036)]\n",
    "diehard_test=test[(test.movie_id==165) | (test.movie_id==1036)]"
   ]
  },
  {
   "cell_type": "code",
   "execution_count": 159,
   "metadata": {},
   "outputs": [
    {
     "output_type": "execute_result",
     "data": {
      "text/plain": "movie_id\n165     3.555556\n1036    3.862069\nName: rating, dtype: float64"
     },
     "metadata": {},
     "execution_count": 159
    }
   ],
   "source": [
    "diehard.groupby('movie_id').mean()['rating']"
   ]
  },
  {
   "cell_type": "code",
   "execution_count": 160,
   "metadata": {},
   "outputs": [
    {
     "output_type": "execute_result",
     "data": {
      "text/plain": "movie_id\n165     3.500000\n1036    3.886179\nName: rating, dtype: float64"
     },
     "metadata": {},
     "execution_count": 160
    }
   ],
   "source": [
    "diehard_train.groupby('movie_id').mean()['rating']"
   ]
  },
  {
   "cell_type": "code",
   "execution_count": 161,
   "metadata": {},
   "outputs": [
    {
     "output_type": "execute_result",
     "data": {
      "text/plain": "movie_id\n165     3.785714\n1036    3.727273\nName: rating, dtype: float64"
     },
     "metadata": {},
     "execution_count": 161
    }
   ],
   "source": [
    "diehard_test.groupby('movie_id').mean()['rating']"
   ]
  },
  {
   "cell_type": "code",
   "execution_count": 131,
   "metadata": {},
   "outputs": [],
   "source": [
    "# Show top 10 movie recommendations to a user\n",
    "# Let us get a user and see the top recommendations.\n",
    "movies_watched_by_user = df[df.user_id == uid]\n",
    "movies_not_watched = list(set(df.movie_id.unique()).difference(set(movies_watched_by_user.movie_id.unique())))"
   ]
  },
  {
   "cell_type": "code",
   "execution_count": 116,
   "metadata": {},
   "outputs": [
    {
     "output_type": "execute_result",
     "data": {
      "text/plain": "list"
     },
     "metadata": {},
     "execution_count": 116
    }
   ],
   "source": [
    "type(movies_not_watched)"
   ]
  },
  {
   "cell_type": "code",
   "execution_count": 133,
   "metadata": {},
   "outputs": [],
   "source": [
    "movies_not_watched=pd.DataFrame(movies_not_watched, columns = ['movie_id'])"
   ]
  },
  {
   "cell_type": "code",
   "execution_count": 134,
   "metadata": {},
   "outputs": [
    {
     "output_type": "execute_result",
     "data": {
      "text/plain": "   movie_id  user_id\n0         1      557\n1         2      557\n2         3      557\n3         4      557\n4         5      557",
      "text/html": "<div>\n<style scoped>\n    .dataframe tbody tr th:only-of-type {\n        vertical-align: middle;\n    }\n\n    .dataframe tbody tr th {\n        vertical-align: top;\n    }\n\n    .dataframe thead th {\n        text-align: right;\n    }\n</style>\n<table border=\"1\" class=\"dataframe\">\n  <thead>\n    <tr style=\"text-align: right;\">\n      <th></th>\n      <th>movie_id</th>\n      <th>user_id</th>\n    </tr>\n  </thead>\n  <tbody>\n    <tr>\n      <th>0</th>\n      <td>1</td>\n      <td>557</td>\n    </tr>\n    <tr>\n      <th>1</th>\n      <td>2</td>\n      <td>557</td>\n    </tr>\n    <tr>\n      <th>2</th>\n      <td>3</td>\n      <td>557</td>\n    </tr>\n    <tr>\n      <th>3</th>\n      <td>4</td>\n      <td>557</td>\n    </tr>\n    <tr>\n      <th>4</th>\n      <td>5</td>\n      <td>557</td>\n    </tr>\n  </tbody>\n</table>\n</div>"
     },
     "metadata": {},
     "execution_count": 134
    }
   ],
   "source": [
    "movies_not_watched['user_id'] = uid\n",
    "movies_not_watched.head()"
   ]
  },
  {
   "cell_type": "code",
   "execution_count": 135,
   "metadata": {},
   "outputs": [],
   "source": [
    "ratings_user = model.predict([movies_not_watched.user_id, movies_not_watched.movie_id])\n"
   ]
  },
  {
   "cell_type": "code",
   "execution_count": 136,
   "metadata": {},
   "outputs": [],
   "source": [
    "movies_not_watched['predicted_ratings'] = ratings_user +y_delta"
   ]
  },
  {
   "cell_type": "code",
   "execution_count": 137,
   "metadata": {},
   "outputs": [],
   "source": [
    "movies_not_watched=movies_not_watched.sort_values(by='predicted_ratings', ascending=False)"
   ]
  },
  {
   "cell_type": "code",
   "execution_count": 138,
   "metadata": {},
   "outputs": [
    {
     "output_type": "execute_result",
     "data": {
      "text/plain": "      movie_id  user_id  predicted_ratings\n7031    177593      557           4.660729\n9488     64197      557           4.556700\n7254    113829      557           4.553651\n5574      7121      557           4.538522\n3480      4142      557           4.538311\n6658    142020      557           4.530828\n3984      4788      557           4.526130\n6595    164917      557           4.520685\n6515    107951      557           4.515440\n7662    117192      557           4.501959",
      "text/html": "<div>\n<style scoped>\n    .dataframe tbody tr th:only-of-type {\n        vertical-align: middle;\n    }\n\n    .dataframe tbody tr th {\n        vertical-align: top;\n    }\n\n    .dataframe thead th {\n        text-align: right;\n    }\n</style>\n<table border=\"1\" class=\"dataframe\">\n  <thead>\n    <tr style=\"text-align: right;\">\n      <th></th>\n      <th>movie_id</th>\n      <th>user_id</th>\n      <th>predicted_ratings</th>\n    </tr>\n  </thead>\n  <tbody>\n    <tr>\n      <th>7031</th>\n      <td>177593</td>\n      <td>557</td>\n      <td>4.660729</td>\n    </tr>\n    <tr>\n      <th>9488</th>\n      <td>64197</td>\n      <td>557</td>\n      <td>4.556700</td>\n    </tr>\n    <tr>\n      <th>7254</th>\n      <td>113829</td>\n      <td>557</td>\n      <td>4.553651</td>\n    </tr>\n    <tr>\n      <th>5574</th>\n      <td>7121</td>\n      <td>557</td>\n      <td>4.538522</td>\n    </tr>\n    <tr>\n      <th>3480</th>\n      <td>4142</td>\n      <td>557</td>\n      <td>4.538311</td>\n    </tr>\n    <tr>\n      <th>6658</th>\n      <td>142020</td>\n      <td>557</td>\n      <td>4.530828</td>\n    </tr>\n    <tr>\n      <th>3984</th>\n      <td>4788</td>\n      <td>557</td>\n      <td>4.526130</td>\n    </tr>\n    <tr>\n      <th>6595</th>\n      <td>164917</td>\n      <td>557</td>\n      <td>4.520685</td>\n    </tr>\n    <tr>\n      <th>6515</th>\n      <td>107951</td>\n      <td>557</td>\n      <td>4.515440</td>\n    </tr>\n    <tr>\n      <th>7662</th>\n      <td>117192</td>\n      <td>557</td>\n      <td>4.501959</td>\n    </tr>\n  </tbody>\n</table>\n</div>"
     },
     "metadata": {},
     "execution_count": 138
    }
   ],
   "source": [
    "movies_not_watched.head(10)"
   ]
  },
  {
   "cell_type": "code",
   "execution_count": 164,
   "metadata": {},
   "outputs": [
    {
     "output_type": "execute_result",
     "data": {
      "text/plain": "       user_id  movie_id  rating unix_timestamp  \\\n4866       598    113829     5.0     1430616765   \n11864      419     64197     5.0     1321853498   \n12489      380    117192     4.0     1494709303   \n15944      184    164917     4.5     1537108221   \n16206      212    177593     5.0     1527794935   \n\n                                                  title                 genre  \\\n4866                             One I Love, The (2014)  Comedy|Drama|Romance   \n11864                                     Hunger (2008)                 Drama   \n12489         Doctor Who: The Time of the Doctor (2013)       Adventure|Drama   \n15944                                       13th (2016)           Documentary   \n16206  Three Billboards Outside Ebbing, Missouri (2017)           Crime|Drama   \n\n              y  \n4866   1.496897  \n11864  1.496897  \n12489  0.496897  \n15944  0.996897  \n16206  1.496897  ",
      "text/html": "<div>\n<style scoped>\n    .dataframe tbody tr th:only-of-type {\n        vertical-align: middle;\n    }\n\n    .dataframe tbody tr th {\n        vertical-align: top;\n    }\n\n    .dataframe thead th {\n        text-align: right;\n    }\n</style>\n<table border=\"1\" class=\"dataframe\">\n  <thead>\n    <tr style=\"text-align: right;\">\n      <th></th>\n      <th>user_id</th>\n      <th>movie_id</th>\n      <th>rating</th>\n      <th>unix_timestamp</th>\n      <th>title</th>\n      <th>genre</th>\n      <th>y</th>\n    </tr>\n  </thead>\n  <tbody>\n    <tr>\n      <th>4866</th>\n      <td>598</td>\n      <td>113829</td>\n      <td>5.0</td>\n      <td>1430616765</td>\n      <td>One I Love, The (2014)</td>\n      <td>Comedy|Drama|Romance</td>\n      <td>1.496897</td>\n    </tr>\n    <tr>\n      <th>11864</th>\n      <td>419</td>\n      <td>64197</td>\n      <td>5.0</td>\n      <td>1321853498</td>\n      <td>Hunger (2008)</td>\n      <td>Drama</td>\n      <td>1.496897</td>\n    </tr>\n    <tr>\n      <th>12489</th>\n      <td>380</td>\n      <td>117192</td>\n      <td>4.0</td>\n      <td>1494709303</td>\n      <td>Doctor Who: The Time of the Doctor (2013)</td>\n      <td>Adventure|Drama</td>\n      <td>0.496897</td>\n    </tr>\n    <tr>\n      <th>15944</th>\n      <td>184</td>\n      <td>164917</td>\n      <td>4.5</td>\n      <td>1537108221</td>\n      <td>13th (2016)</td>\n      <td>Documentary</td>\n      <td>0.996897</td>\n    </tr>\n    <tr>\n      <th>16206</th>\n      <td>212</td>\n      <td>177593</td>\n      <td>5.0</td>\n      <td>1527794935</td>\n      <td>Three Billboards Outside Ebbing, Missouri (2017)</td>\n      <td>Crime|Drama</td>\n      <td>1.496897</td>\n    </tr>\n  </tbody>\n</table>\n</div>"
     },
     "metadata": {},
     "execution_count": 164
    }
   ],
   "source": [
    "df[df[\"movie_id\"].isin(top_movies_user)].head()"
   ]
  },
  {
   "cell_type": "code",
   "execution_count": 163,
   "metadata": {
    "tags": []
   },
   "outputs": [
    {
     "output_type": "stream",
     "name": "stdout",
     "text": "Showing recommendations for user: 557\n====================================\n--------------------------------\nTop 10 movie recommendations\n--------------------------------\nOne I Love, The (2014) : Comedy|Drama|Romance\nHunger (2008) : Drama\nDoctor Who: The Time of the Doctor (2013) : Adventure|Drama\n13th (2016) : Documentary\nThree Billboards Outside Ebbing, Missouri (2017) : Crime|Drama\nDoctor Who: The Time of the Doctor (2013) : Adventure|Drama\nDoctor Who: The Time of the Doctor (2013) : Adventure|Drama\nHunger (2008) : Drama\n13th (2016) : Documentary\nThree Billboards Outside Ebbing, Missouri (2017) : Crime|Drama\nThree Billboards Outside Ebbing, Missouri (2017) : Crime|Drama\nAdam's Rib (1949) : Comedy|Romance\nLeft Behind: The Movie (2000) : Action|Adventure|Drama|Thriller\nThree Billboards Outside Ebbing, Missouri (2017) : Crime|Drama\nHunting Elephants (2013) : Comedy|Crime\nAdam's Rib (1949) : Comedy|Romance\nThree Billboards Outside Ebbing, Missouri (2017) : Crime|Drama\nThree Billboards Outside Ebbing, Missouri (2017) : Crime|Drama\nOscar (1967) : Comedy\nAdam's Rib (1949) : Comedy|Romance\nMoscow Does Not Believe in Tears (Moskva slezam ne verit) (1979) : Drama|Romance\nAdam's Rib (1949) : Comedy|Romance\nLeft Behind: The Movie (2000) : Action|Adventure|Drama|Thriller\nThree Billboards Outside Ebbing, Missouri (2017) : Crime|Drama\nThree Billboards Outside Ebbing, Missouri (2017) : Crime|Drama\n"
    }
   ],
   "source": [
    "print(\"Showing recommendations for user: {}\".format(uid))\n",
    "print(\"====\" * 9)\n",
    "top_movies_user = movies_not_watched.head(10).movie_id.values\n",
    "\n",
    "print(\"----\" * 8)\n",
    "print(\"Top 10 movie recommendations\")\n",
    "print(\"----\" * 8)\n",
    "recommended_movies = df[df[\"movie_id\"].isin(top_movies_user)]\n",
    "recommended_movies = recommended_movies.drop_duplicates()\n",
    "for row in recommended_movies.itertuples():\n",
    "    print(row.title, \":\", row.genre)"
   ]
  },
  {
   "cell_type": "code",
   "execution_count": null,
   "metadata": {},
   "outputs": [],
   "source": []
  }
 ]
}