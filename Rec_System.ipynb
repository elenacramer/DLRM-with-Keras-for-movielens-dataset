{
 "metadata": {
  "language_info": {
   "codemirror_mode": {
    "name": "ipython",
    "version": 3
   },
   "file_extension": ".py",
   "mimetype": "text/x-python",
   "name": "python",
   "nbconvert_exporter": "python",
   "pygments_lexer": "ipython3",
   "version": 3
  },
  "orig_nbformat": 2,
  "kernelspec": {
   "name": "python_defaultSpec_1596568967140",
   "display_name": "Python 3.6.9 64-bit ('DLRM-with-Keras-for-movielens-dataset': pipenv)"
  }
 },
 "nbformat": 4,
 "nbformat_minor": 2,
 "cells": [
  {
   "cell_type": "code",
   "execution_count": 1,
   "metadata": {},
   "outputs": [],
   "source": [
    "from keras.layers import Input, Embedding, Concatenate, Flatten, Dense, Dot, Add, Multiply, Subtract, Average, Reshape\n",
    "from keras.models import Model, Sequential\n",
    "from keras.callbacks import EarlyStopping"
   ]
  },
  {
   "cell_type": "code",
   "execution_count": 2,
   "metadata": {},
   "outputs": [],
   "source": [
    "import pandas as pd\n",
    "import numpy as np \n",
    "from sklearn.preprocessing import scale\n",
    "from sklearn.preprocessing import LabelEncoder\n",
    "from sklearn.preprocessing import MinMaxScaler\n",
    "from sklearn import metrics"
   ]
  },
  {
   "cell_type": "code",
   "execution_count": 3,
   "metadata": {},
   "outputs": [],
   "source": [
    "df=pd.read_pickle('/home/elena/Projects/DLRM-with-Keras-for-movielens-dataset/ratings_movie_info.pkl')"
   ]
  },
  {
   "cell_type": "code",
   "execution_count": 4,
   "metadata": {},
   "outputs": [
    {
     "output_type": "execute_result",
     "data": {
      "text/plain": "             user_id       movie_id         rating\ncount  100836.000000  100836.000000  100836.000000\nmean      326.127564   19435.295718       3.501557\nstd       182.618491   35530.987199       1.042529\nmin         1.000000       1.000000       0.500000\n25%       177.000000    1199.000000       3.000000\n50%       325.000000    2991.000000       3.500000\n75%       477.000000    8122.000000       4.000000\nmax       610.000000  193609.000000       5.000000",
      "text/html": "<div>\n<style scoped>\n    .dataframe tbody tr th:only-of-type {\n        vertical-align: middle;\n    }\n\n    .dataframe tbody tr th {\n        vertical-align: top;\n    }\n\n    .dataframe thead th {\n        text-align: right;\n    }\n</style>\n<table border=\"1\" class=\"dataframe\">\n  <thead>\n    <tr style=\"text-align: right;\">\n      <th></th>\n      <th>user_id</th>\n      <th>movie_id</th>\n      <th>rating</th>\n    </tr>\n  </thead>\n  <tbody>\n    <tr>\n      <th>count</th>\n      <td>100836.000000</td>\n      <td>100836.000000</td>\n      <td>100836.000000</td>\n    </tr>\n    <tr>\n      <th>mean</th>\n      <td>326.127564</td>\n      <td>19435.295718</td>\n      <td>3.501557</td>\n    </tr>\n    <tr>\n      <th>std</th>\n      <td>182.618491</td>\n      <td>35530.987199</td>\n      <td>1.042529</td>\n    </tr>\n    <tr>\n      <th>min</th>\n      <td>1.000000</td>\n      <td>1.000000</td>\n      <td>0.500000</td>\n    </tr>\n    <tr>\n      <th>25%</th>\n      <td>177.000000</td>\n      <td>1199.000000</td>\n      <td>3.000000</td>\n    </tr>\n    <tr>\n      <th>50%</th>\n      <td>325.000000</td>\n      <td>2991.000000</td>\n      <td>3.500000</td>\n    </tr>\n    <tr>\n      <th>75%</th>\n      <td>477.000000</td>\n      <td>8122.000000</td>\n      <td>4.000000</td>\n    </tr>\n    <tr>\n      <th>max</th>\n      <td>610.000000</td>\n      <td>193609.000000</td>\n      <td>5.000000</td>\n    </tr>\n  </tbody>\n</table>\n</div>"
     },
     "metadata": {},
     "execution_count": 4
    }
   ],
   "source": [
    "df.describe()"
   ]
  },
  {
   "cell_type": "code",
   "execution_count": 5,
   "metadata": {},
   "outputs": [
    {
     "output_type": "execute_result",
     "data": {
      "text/plain": "user_id             int64\nmovie_id            int64\nrating            float64\nunix_timestamp     object\ntitle              object\ngenre              object\ndtype: object"
     },
     "metadata": {},
     "execution_count": 5
    }
   ],
   "source": [
    "df.dtypes"
   ]
  },
  {
   "cell_type": "code",
   "execution_count": 6,
   "metadata": {},
   "outputs": [],
   "source": [
    "from sklearn.model_selection import train_test_split\n",
    "import math"
   ]
  },
  {
   "cell_type": "code",
   "execution_count": 7,
   "metadata": {},
   "outputs": [],
   "source": [
    "# train test split\n",
    "# Shuffle (reproducibly)\n",
    "df = df.sample(frac=1, random_state=1).reset_index(drop=True)\n",
    "\n",
    "# Partitioning train/val according to behaviour of keras.Model.fit() when called with\n",
    "# validation_split kwarg (which is to take validation data from the end as a contiguous\n",
    "# chunk)\n",
    "val_split = .1\n",
    "n_ratings = len(df)\n",
    "n_train = math.floor(n_ratings * (1-val_split))\n",
    "itrain = df.index[:n_train]\n",
    "ival = df.index[n_train:]\n",
    "train=df.loc[itrain]\n",
    "test=df.loc[ival]"
   ]
  },
  {
   "cell_type": "code",
   "execution_count": 8,
   "metadata": {},
   "outputs": [
    {
     "output_type": "execute_result",
     "data": {
      "text/plain": "((90752, 6), (10084, 6), 610, 597)"
     },
     "metadata": {},
     "execution_count": 8
    }
   ],
   "source": [
    "train.shape, test.shape, train.user_id.unique().shape[0], test.user_id.unique().shape[0]"
   ]
  },
  {
   "cell_type": "code",
   "execution_count": 8,
   "metadata": {},
   "outputs": [
    {
     "output_type": "execute_result",
     "data": {
      "text/plain": "597"
     },
     "metadata": {},
     "execution_count": 8
    }
   ],
   "source": [
    "len(set(test.user_id.unique()).intersection(set(train.user_id.unique())))"
   ]
  },
  {
   "cell_type": "code",
   "execution_count": 9,
   "metadata": {},
   "outputs": [
    {
     "output_type": "execute_result",
     "data": {
      "text/plain": "0"
     },
     "metadata": {},
     "execution_count": 9
    }
   ],
   "source": [
    "len(set(test.user_id.unique()).difference(set(train.user_id.unique())))"
   ]
  },
  {
   "cell_type": "code",
   "execution_count": 10,
   "metadata": {},
   "outputs": [],
   "source": [
    "# center rating\n",
    "mean_rating_train =  df.loc[itrain, 'rating'].mean()\n",
    "df['y'] = df['rating'] -mean_rating_train"
   ]
  },
  {
   "cell_type": "code",
   "execution_count": 11,
   "metadata": {},
   "outputs": [
    {
     "output_type": "execute_result",
     "data": {
      "text/plain": "   user_id  movie_id  rating unix_timestamp  \\\n0      600       587     3.0     1237715109   \n1       68      6193     3.5     1240093148   \n2       63       357     4.0     1443201224   \n3      139      8368     3.0     1453924202   \n4      483      1479     4.5     1181495506   \n\n                                             title  \\\n0                                     Ghost (1990)   \n1                          Poolhall Junkies (2002)   \n2               Four Weddings and a Funeral (1994)   \n3  Harry Potter and the Prisoner of Azkaban (2004)   \n4                                Saint, The (1997)   \n\n                                   genre         y  \n0  Comedy|Drama|Fantasy|Romance|Thriller -0.503344  \n1                  Comedy|Drama|Thriller -0.003344  \n2                         Comedy|Romance  0.496656  \n3                 Adventure|Fantasy|IMAX -0.503344  \n4         Action|Romance|Sci-Fi|Thriller  0.996656  ",
      "text/html": "<div>\n<style scoped>\n    .dataframe tbody tr th:only-of-type {\n        vertical-align: middle;\n    }\n\n    .dataframe tbody tr th {\n        vertical-align: top;\n    }\n\n    .dataframe thead th {\n        text-align: right;\n    }\n</style>\n<table border=\"1\" class=\"dataframe\">\n  <thead>\n    <tr style=\"text-align: right;\">\n      <th></th>\n      <th>user_id</th>\n      <th>movie_id</th>\n      <th>rating</th>\n      <th>unix_timestamp</th>\n      <th>title</th>\n      <th>genre</th>\n      <th>y</th>\n    </tr>\n  </thead>\n  <tbody>\n    <tr>\n      <th>0</th>\n      <td>600</td>\n      <td>587</td>\n      <td>3.0</td>\n      <td>1237715109</td>\n      <td>Ghost (1990)</td>\n      <td>Comedy|Drama|Fantasy|Romance|Thriller</td>\n      <td>-0.503344</td>\n    </tr>\n    <tr>\n      <th>1</th>\n      <td>68</td>\n      <td>6193</td>\n      <td>3.5</td>\n      <td>1240093148</td>\n      <td>Poolhall Junkies (2002)</td>\n      <td>Comedy|Drama|Thriller</td>\n      <td>-0.003344</td>\n    </tr>\n    <tr>\n      <th>2</th>\n      <td>63</td>\n      <td>357</td>\n      <td>4.0</td>\n      <td>1443201224</td>\n      <td>Four Weddings and a Funeral (1994)</td>\n      <td>Comedy|Romance</td>\n      <td>0.496656</td>\n    </tr>\n    <tr>\n      <th>3</th>\n      <td>139</td>\n      <td>8368</td>\n      <td>3.0</td>\n      <td>1453924202</td>\n      <td>Harry Potter and the Prisoner of Azkaban (2004)</td>\n      <td>Adventure|Fantasy|IMAX</td>\n      <td>-0.503344</td>\n    </tr>\n    <tr>\n      <th>4</th>\n      <td>483</td>\n      <td>1479</td>\n      <td>4.5</td>\n      <td>1181495506</td>\n      <td>Saint, The (1997)</td>\n      <td>Action|Romance|Sci-Fi|Thriller</td>\n      <td>0.996656</td>\n    </tr>\n  </tbody>\n</table>\n</div>"
     },
     "metadata": {},
     "execution_count": 11
    }
   ],
   "source": [
    "df.head()"
   ]
  },
  {
   "cell_type": "code",
   "execution_count": 12,
   "metadata": {
    "tags": []
   },
   "outputs": [
    {
     "output_type": "stream",
     "name": "stdout",
     "text": "Model: \"functional_1\"\n________________________________________________________________________________________\nLayer (type)                 Output Shape       Param #   Connected to                  \n========================================================================================\nuser_id (InputLayer)         [(None, 1)]        0                                       \n________________________________________________________________________________________\nmovie_id (InputLayer)        [(None, 1)]        0                                       \n________________________________________________________________________________________\nuser_embedding (Embedding)   (None, 1, 8)       4888      user_id[0][0]                 \n________________________________________________________________________________________\nmovie_embedding (Embedding)  (None, 1, 8)       1548880   movie_id[0][0]                \n________________________________________________________________________________________\nconcatenate (Concatenate)    (None, 1, 16)      0         user_embedding[0][0]          \n                                                          movie_embedding[0][0]         \n________________________________________________________________________________________\nflatten (Flatten)            (None, 16)         0         concatenate[0][0]             \n________________________________________________________________________________________\ndense (Dense)                (None, 32)         544       flatten[0][0]                 \n________________________________________________________________________________________\ndense_1 (Dense)              (None, 4)          132       dense[0][0]                   \n________________________________________________________________________________________\nprediction (Dense)           (None, 1)          5         dense_1[0][0]                 \n========================================================================================\nTotal params: 1,554,449\nTrainable params: 1,554,449\nNon-trainable params: 0\n________________________________________________________________________________________\n"
    }
   ],
   "source": [
    "hidden_units = (32,4)\n",
    "movie_embedding_size = 8\n",
    "user_embedding_size = 8\n",
    "\n",
    "# Each instance will consist of two inputs: a single user id, and a single movie id\n",
    "user_id_input = Input(shape=(1,), name='user_id')\n",
    "movie_id_input = Input(shape=(1,), name='movie_id')\n",
    "user_embedded = Embedding(df.user_id.max()+1, user_embedding_size, \n",
    "                                       input_length=1, name='user_embedding')(user_id_input)\n",
    "movie_embedded = Embedding(df.movie_id.max()+1, movie_embedding_size, \n",
    "                                        input_length=1, name='movie_embedding')(movie_id_input)\n",
    "# Concatenate the embeddings (and remove the useless extra dimension)\n",
    "concatenated = Concatenate()([user_embedded, movie_embedded])\n",
    "out = Flatten()(concatenated)\n",
    "\n",
    "# Add one or more hidden layers\n",
    "for n_hidden in hidden_units:\n",
    "    out = Dense(n_hidden, activation='relu')(out)\n",
    "\n",
    "# A single output: our predicted rating\n",
    "out = Dense(1, activation='linear', name='prediction')(out)\n",
    "\n",
    "model = Model(inputs = [user_id_input, movie_id_input],outputs = out)\n",
    "model.summary(line_length=88)"
   ]
  },
  {
   "cell_type": "code",
   "execution_count": 13,
   "metadata": {},
   "outputs": [],
   "source": [
    "model.compile(optimizer = 'Adam',loss='MSE',metrics=['MAE'])"
   ]
  },
  {
   "cell_type": "code",
   "execution_count": 14,
   "metadata": {},
   "outputs": [],
   "source": [
    "es=EarlyStopping(monitor='val_MAE', min_delta=0, patience=0, verbose=0, mode='min', baseline=None, restore_best_weights=False)"
   ]
  },
  {
   "cell_type": "code",
   "execution_count": 15,
   "metadata": {
    "tags": []
   },
   "outputs": [
    {
     "output_type": "stream",
     "name": "stdout",
     "text": "Epoch 1/20\n172/172 [==============================] - 3s 17ms/step - loss: 0.9525 - MAE: 0.7617 - val_loss: 0.8046 - val_MAE: 0.6890\nEpoch 2/20\n172/172 [==============================] - 3s 16ms/step - loss: 0.7384 - MAE: 0.6583 - val_loss: 0.7522 - val_MAE: 0.6662\nEpoch 3/20\n172/172 [==============================] - 2s 14ms/step - loss: 0.6833 - MAE: 0.6307 - val_loss: 0.7430 - val_MAE: 0.6599\nEpoch 4/20\n172/172 [==============================] - 3s 15ms/step - loss: 0.6578 - MAE: 0.6177 - val_loss: 0.7359 - val_MAE: 0.6579\nEpoch 5/20\n172/172 [==============================] - 3s 15ms/step - loss: 0.6397 - MAE: 0.6075 - val_loss: 0.7336 - val_MAE: 0.6535\nEpoch 6/20\n172/172 [==============================] - 3s 15ms/step - loss: 0.6272 - MAE: 0.6009 - val_loss: 0.7335 - val_MAE: 0.6522\nEpoch 7/20\n172/172 [==============================] - 3s 15ms/step - loss: 0.6174 - MAE: 0.5953 - val_loss: 0.7307 - val_MAE: 0.6521\nEpoch 8/20\n172/172 [==============================] - 3s 15ms/step - loss: 0.6097 - MAE: 0.5909 - val_loss: 0.7309 - val_MAE: 0.6519\nEpoch 9/20\n172/172 [==============================] - 3s 15ms/step - loss: 0.6005 - MAE: 0.5860 - val_loss: 0.7326 - val_MAE: 0.6541\n"
    }
   ],
   "source": [
    "history=model.fit(x=[df.user_id, df.movie_id], y=df.y, batch_size=500,epochs=20, verbose=1, validation_split=0.15, callbacks=[es])"
   ]
  },
  {
   "cell_type": "code",
   "execution_count": 16,
   "metadata": {
    "tags": []
   },
   "outputs": [
    {
     "output_type": "stream",
     "name": "stdout",
     "text": "Average rating in training set is 3.50 stars\nAlways predicting global average rating results in Mean Absolute Error=0.83, Mean Squared Error=1.10\nPredicting mean per movie results in Mean Absolute Error=0.76, Mean Squared Error=0.96\n"
    }
   ],
   "source": [
    "def get_metrics(y_true, y_pred):\n",
    "    return metrics.mean_absolute_error(y_true, y_pred), metrics.mean_squared_error(y_true, y_pred)\n",
    "\n",
    "mean_rating = train['rating'].mean()\n",
    "print(\"Average rating in training set is {:.2f} stars\".format(mean_rating))\n",
    "\n",
    "y_true = test['rating'].values\n",
    "always_mean = np.full(y_true.shape, mean_rating)\n",
    "\n",
    "mae, mse = get_metrics(y_true, always_mean)\n",
    "print(\"Always predicting global average rating results in Mean Absolute Error={:.2f}, Mean Squared Error={:.2f}\".format(\n",
    "    mae, mse))\n",
    "\n",
    "movies = df.copy().set_index('movie_id')\n",
    "mean_per_movie = train.groupby('movie_id')['rating'].mean()\n",
    "movies['mean_rating'] = mean_per_movie\n",
    "ratings_per_movie = train.groupby('movie_id').size()\n",
    "movies['n_ratings'] = ratings_per_movie\n",
    "# There are a few movies in the validation set not present in the training set. We'll just use the global\n",
    "# mean rating in their case.\n",
    "y_movie_mean = test.join(mean_per_movie, on='movie_id', rsuffix='mean')['ratingmean'].fillna(mean_rating).values\n",
    "\n",
    "mae, mse = get_metrics(y_true, y_movie_mean)\n",
    "print(\"Predicting mean per movie results in Mean Absolute Error={:.2f}, Mean Squared Error={:.2f}\".format(mae, mse))"
   ]
  },
  {
   "cell_type": "code",
   "execution_count": 17,
   "metadata": {},
   "outputs": [],
   "source": [
    "import matplotlib.pyplot as plt"
   ]
  },
  {
   "cell_type": "code",
   "execution_count": 18,
   "metadata": {},
   "outputs": [
    {
     "output_type": "display_data",
     "data": {
      "text/plain": "<Figure size 1080x432 with 1 Axes>",
      "image/svg+xml": "<?xml version=\"1.0\" encoding=\"utf-8\" standalone=\"no\"?>\n<!DOCTYPE svg PUBLIC \"-//W3C//DTD SVG 1.1//EN\"\n  \"http://www.w3.org/Graphics/SVG/1.1/DTD/svg11.dtd\">\n<!-- Created with matplotlib (https://matplotlib.org/) -->\n<svg height=\"417.75625pt\" version=\"1.1\" viewBox=\"0 0 1003.70625 417.75625\" width=\"1003.70625pt\" xmlns=\"http://www.w3.org/2000/svg\" xmlns:xlink=\"http://www.w3.org/1999/xlink\">\n <metadata>\n  <rdf:RDF xmlns:cc=\"http://creativecommons.org/ns#\" xmlns:dc=\"http://purl.org/dc/elements/1.1/\" xmlns:rdf=\"http://www.w3.org/1999/02/22-rdf-syntax-ns#\">\n   <cc:Work>\n    <dc:type rdf:resource=\"http://purl.org/dc/dcmitype/StillImage\"/>\n    <dc:date>2020-08-05T11:57:42.278347</dc:date>\n    <dc:format>image/svg+xml</dc:format>\n    <dc:creator>\n     <cc:Agent>\n      <dc:title>Matplotlib v3.3.0, https://matplotlib.org/</dc:title>\n     </cc:Agent>\n    </dc:creator>\n   </cc:Work>\n  </rdf:RDF>\n </metadata>\n <defs>\n  <style type=\"text/css\">*{stroke-linecap:butt;stroke-linejoin:round;}</style>\n </defs>\n <g id=\"figure_1\">\n  <g id=\"patch_1\">\n   <path d=\"M 0 417.75625 \nL 1003.70625 417.75625 \nL 1003.70625 -0 \nL 0 -0 \nz\n\" style=\"fill:none;\"/>\n  </g>\n  <g id=\"axes_1\">\n   <g id=\"patch_2\">\n    <path d=\"M 56.50625 380.2 \nL 893.50625 380.2 \nL 893.50625 54.04 \nL 56.50625 54.04 \nz\n\" style=\"fill:#ffffff;\"/>\n   </g>\n   <g id=\"matplotlib.axis_1\">\n    <g id=\"xtick_1\">\n     <g id=\"line2d_1\">\n      <path clip-path=\"url(#p7008f6503f)\" d=\"M 56.50625 380.2 \nL 56.50625 54.04 \n\" style=\"fill:none;stroke:#b0b0b0;stroke-linecap:square;stroke-width:0.8;\"/>\n     </g>\n     <g id=\"line2d_2\">\n      <defs>\n       <path d=\"M 0 0 \nL 0 3.5 \n\" id=\"m33a18b155f\" style=\"stroke:#000000;stroke-width:0.8;\"/>\n      </defs>\n      <g>\n       <use style=\"stroke:#000000;stroke-width:0.8;\" x=\"56.50625\" xlink:href=\"#m33a18b155f\" y=\"380.2\"/>\n      </g>\n     </g>\n     <g id=\"text_1\">\n      <!-- 0 -->\n      <g transform=\"translate(53.325 394.798437)scale(0.1 -0.1)\">\n       <defs>\n        <path d=\"M 31.78125 66.40625 \nQ 24.171875 66.40625 20.328125 58.90625 \nQ 16.5 51.421875 16.5 36.375 \nQ 16.5 21.390625 20.328125 13.890625 \nQ 24.171875 6.390625 31.78125 6.390625 \nQ 39.453125 6.390625 43.28125 13.890625 \nQ 47.125 21.390625 47.125 36.375 \nQ 47.125 51.421875 43.28125 58.90625 \nQ 39.453125 66.40625 31.78125 66.40625 \nz\nM 31.78125 74.21875 \nQ 44.046875 74.21875 50.515625 64.515625 \nQ 56.984375 54.828125 56.984375 36.375 \nQ 56.984375 17.96875 50.515625 8.265625 \nQ 44.046875 -1.421875 31.78125 -1.421875 \nQ 19.53125 -1.421875 13.0625 8.265625 \nQ 6.59375 17.96875 6.59375 36.375 \nQ 6.59375 54.828125 13.0625 64.515625 \nQ 19.53125 74.21875 31.78125 74.21875 \nz\n\" id=\"DejaVuSans-48\"/>\n       </defs>\n       <use xlink:href=\"#DejaVuSans-48\"/>\n      </g>\n     </g>\n    </g>\n    <g id=\"xtick_2\">\n     <g id=\"line2d_3\">\n      <path clip-path=\"url(#p7008f6503f)\" d=\"M 161.13125 380.2 \nL 161.13125 54.04 \n\" style=\"fill:none;stroke:#b0b0b0;stroke-linecap:square;stroke-width:0.8;\"/>\n     </g>\n     <g id=\"line2d_4\">\n      <g>\n       <use style=\"stroke:#000000;stroke-width:0.8;\" x=\"161.13125\" xlink:href=\"#m33a18b155f\" y=\"380.2\"/>\n      </g>\n     </g>\n     <g id=\"text_2\">\n      <!-- 1 -->\n      <g transform=\"translate(157.95 394.798437)scale(0.1 -0.1)\">\n       <defs>\n        <path d=\"M 12.40625 8.296875 \nL 28.515625 8.296875 \nL 28.515625 63.921875 \nL 10.984375 60.40625 \nL 10.984375 69.390625 \nL 28.421875 72.90625 \nL 38.28125 72.90625 \nL 38.28125 8.296875 \nL 54.390625 8.296875 \nL 54.390625 0 \nL 12.40625 0 \nz\n\" id=\"DejaVuSans-49\"/>\n       </defs>\n       <use xlink:href=\"#DejaVuSans-49\"/>\n      </g>\n     </g>\n    </g>\n    <g id=\"xtick_3\">\n     <g id=\"line2d_5\">\n      <path clip-path=\"url(#p7008f6503f)\" d=\"M 265.75625 380.2 \nL 265.75625 54.04 \n\" style=\"fill:none;stroke:#b0b0b0;stroke-linecap:square;stroke-width:0.8;\"/>\n     </g>\n     <g id=\"line2d_6\">\n      <g>\n       <use style=\"stroke:#000000;stroke-width:0.8;\" x=\"265.75625\" xlink:href=\"#m33a18b155f\" y=\"380.2\"/>\n      </g>\n     </g>\n     <g id=\"text_3\">\n      <!-- 2 -->\n      <g transform=\"translate(262.575 394.798437)scale(0.1 -0.1)\">\n       <defs>\n        <path d=\"M 19.1875 8.296875 \nL 53.609375 8.296875 \nL 53.609375 0 \nL 7.328125 0 \nL 7.328125 8.296875 \nQ 12.9375 14.109375 22.625 23.890625 \nQ 32.328125 33.6875 34.8125 36.53125 \nQ 39.546875 41.84375 41.421875 45.53125 \nQ 43.3125 49.21875 43.3125 52.78125 \nQ 43.3125 58.59375 39.234375 62.25 \nQ 35.15625 65.921875 28.609375 65.921875 \nQ 23.96875 65.921875 18.8125 64.3125 \nQ 13.671875 62.703125 7.8125 59.421875 \nL 7.8125 69.390625 \nQ 13.765625 71.78125 18.9375 73 \nQ 24.125 74.21875 28.421875 74.21875 \nQ 39.75 74.21875 46.484375 68.546875 \nQ 53.21875 62.890625 53.21875 53.421875 \nQ 53.21875 48.921875 51.53125 44.890625 \nQ 49.859375 40.875 45.40625 35.40625 \nQ 44.1875 33.984375 37.640625 27.21875 \nQ 31.109375 20.453125 19.1875 8.296875 \nz\n\" id=\"DejaVuSans-50\"/>\n       </defs>\n       <use xlink:href=\"#DejaVuSans-50\"/>\n      </g>\n     </g>\n    </g>\n    <g id=\"xtick_4\">\n     <g id=\"line2d_7\">\n      <path clip-path=\"url(#p7008f6503f)\" d=\"M 370.38125 380.2 \nL 370.38125 54.04 \n\" style=\"fill:none;stroke:#b0b0b0;stroke-linecap:square;stroke-width:0.8;\"/>\n     </g>\n     <g id=\"line2d_8\">\n      <g>\n       <use style=\"stroke:#000000;stroke-width:0.8;\" x=\"370.38125\" xlink:href=\"#m33a18b155f\" y=\"380.2\"/>\n      </g>\n     </g>\n     <g id=\"text_4\">\n      <!-- 3 -->\n      <g transform=\"translate(367.2 394.798437)scale(0.1 -0.1)\">\n       <defs>\n        <path d=\"M 40.578125 39.3125 \nQ 47.65625 37.796875 51.625 33 \nQ 55.609375 28.21875 55.609375 21.1875 \nQ 55.609375 10.40625 48.1875 4.484375 \nQ 40.765625 -1.421875 27.09375 -1.421875 \nQ 22.515625 -1.421875 17.65625 -0.515625 \nQ 12.796875 0.390625 7.625 2.203125 \nL 7.625 11.71875 \nQ 11.71875 9.328125 16.59375 8.109375 \nQ 21.484375 6.890625 26.8125 6.890625 \nQ 36.078125 6.890625 40.9375 10.546875 \nQ 45.796875 14.203125 45.796875 21.1875 \nQ 45.796875 27.640625 41.28125 31.265625 \nQ 36.765625 34.90625 28.71875 34.90625 \nL 20.21875 34.90625 \nL 20.21875 43.015625 \nL 29.109375 43.015625 \nQ 36.375 43.015625 40.234375 45.921875 \nQ 44.09375 48.828125 44.09375 54.296875 \nQ 44.09375 59.90625 40.109375 62.90625 \nQ 36.140625 65.921875 28.71875 65.921875 \nQ 24.65625 65.921875 20.015625 65.03125 \nQ 15.375 64.15625 9.8125 62.3125 \nL 9.8125 71.09375 \nQ 15.4375 72.65625 20.34375 73.4375 \nQ 25.25 74.21875 29.59375 74.21875 \nQ 40.828125 74.21875 47.359375 69.109375 \nQ 53.90625 64.015625 53.90625 55.328125 \nQ 53.90625 49.265625 50.4375 45.09375 \nQ 46.96875 40.921875 40.578125 39.3125 \nz\n\" id=\"DejaVuSans-51\"/>\n       </defs>\n       <use xlink:href=\"#DejaVuSans-51\"/>\n      </g>\n     </g>\n    </g>\n    <g id=\"xtick_5\">\n     <g id=\"line2d_9\">\n      <path clip-path=\"url(#p7008f6503f)\" d=\"M 475.00625 380.2 \nL 475.00625 54.04 \n\" style=\"fill:none;stroke:#b0b0b0;stroke-linecap:square;stroke-width:0.8;\"/>\n     </g>\n     <g id=\"line2d_10\">\n      <g>\n       <use style=\"stroke:#000000;stroke-width:0.8;\" x=\"475.00625\" xlink:href=\"#m33a18b155f\" y=\"380.2\"/>\n      </g>\n     </g>\n     <g id=\"text_5\">\n      <!-- 4 -->\n      <g transform=\"translate(471.825 394.798437)scale(0.1 -0.1)\">\n       <defs>\n        <path d=\"M 37.796875 64.3125 \nL 12.890625 25.390625 \nL 37.796875 25.390625 \nz\nM 35.203125 72.90625 \nL 47.609375 72.90625 \nL 47.609375 25.390625 \nL 58.015625 25.390625 \nL 58.015625 17.1875 \nL 47.609375 17.1875 \nL 47.609375 0 \nL 37.796875 0 \nL 37.796875 17.1875 \nL 4.890625 17.1875 \nL 4.890625 26.703125 \nz\n\" id=\"DejaVuSans-52\"/>\n       </defs>\n       <use xlink:href=\"#DejaVuSans-52\"/>\n      </g>\n     </g>\n    </g>\n    <g id=\"xtick_6\">\n     <g id=\"line2d_11\">\n      <path clip-path=\"url(#p7008f6503f)\" d=\"M 579.63125 380.2 \nL 579.63125 54.04 \n\" style=\"fill:none;stroke:#b0b0b0;stroke-linecap:square;stroke-width:0.8;\"/>\n     </g>\n     <g id=\"line2d_12\">\n      <g>\n       <use style=\"stroke:#000000;stroke-width:0.8;\" x=\"579.63125\" xlink:href=\"#m33a18b155f\" y=\"380.2\"/>\n      </g>\n     </g>\n     <g id=\"text_6\">\n      <!-- 5 -->\n      <g transform=\"translate(576.45 394.798437)scale(0.1 -0.1)\">\n       <defs>\n        <path d=\"M 10.796875 72.90625 \nL 49.515625 72.90625 \nL 49.515625 64.59375 \nL 19.828125 64.59375 \nL 19.828125 46.734375 \nQ 21.96875 47.46875 24.109375 47.828125 \nQ 26.265625 48.1875 28.421875 48.1875 \nQ 40.625 48.1875 47.75 41.5 \nQ 54.890625 34.8125 54.890625 23.390625 \nQ 54.890625 11.625 47.5625 5.09375 \nQ 40.234375 -1.421875 26.90625 -1.421875 \nQ 22.3125 -1.421875 17.546875 -0.640625 \nQ 12.796875 0.140625 7.71875 1.703125 \nL 7.71875 11.625 \nQ 12.109375 9.234375 16.796875 8.0625 \nQ 21.484375 6.890625 26.703125 6.890625 \nQ 35.15625 6.890625 40.078125 11.328125 \nQ 45.015625 15.765625 45.015625 23.390625 \nQ 45.015625 31 40.078125 35.4375 \nQ 35.15625 39.890625 26.703125 39.890625 \nQ 22.75 39.890625 18.8125 39.015625 \nQ 14.890625 38.140625 10.796875 36.28125 \nz\n\" id=\"DejaVuSans-53\"/>\n       </defs>\n       <use xlink:href=\"#DejaVuSans-53\"/>\n      </g>\n     </g>\n    </g>\n    <g id=\"xtick_7\">\n     <g id=\"line2d_13\">\n      <path clip-path=\"url(#p7008f6503f)\" d=\"M 684.25625 380.2 \nL 684.25625 54.04 \n\" style=\"fill:none;stroke:#b0b0b0;stroke-linecap:square;stroke-width:0.8;\"/>\n     </g>\n     <g id=\"line2d_14\">\n      <g>\n       <use style=\"stroke:#000000;stroke-width:0.8;\" x=\"684.25625\" xlink:href=\"#m33a18b155f\" y=\"380.2\"/>\n      </g>\n     </g>\n     <g id=\"text_7\">\n      <!-- 6 -->\n      <g transform=\"translate(681.075 394.798437)scale(0.1 -0.1)\">\n       <defs>\n        <path d=\"M 33.015625 40.375 \nQ 26.375 40.375 22.484375 35.828125 \nQ 18.609375 31.296875 18.609375 23.390625 \nQ 18.609375 15.53125 22.484375 10.953125 \nQ 26.375 6.390625 33.015625 6.390625 \nQ 39.65625 6.390625 43.53125 10.953125 \nQ 47.40625 15.53125 47.40625 23.390625 \nQ 47.40625 31.296875 43.53125 35.828125 \nQ 39.65625 40.375 33.015625 40.375 \nz\nM 52.59375 71.296875 \nL 52.59375 62.3125 \nQ 48.875 64.0625 45.09375 64.984375 \nQ 41.3125 65.921875 37.59375 65.921875 \nQ 27.828125 65.921875 22.671875 59.328125 \nQ 17.53125 52.734375 16.796875 39.40625 \nQ 19.671875 43.65625 24.015625 45.921875 \nQ 28.375 48.1875 33.59375 48.1875 \nQ 44.578125 48.1875 50.953125 41.515625 \nQ 57.328125 34.859375 57.328125 23.390625 \nQ 57.328125 12.15625 50.6875 5.359375 \nQ 44.046875 -1.421875 33.015625 -1.421875 \nQ 20.359375 -1.421875 13.671875 8.265625 \nQ 6.984375 17.96875 6.984375 36.375 \nQ 6.984375 53.65625 15.1875 63.9375 \nQ 23.390625 74.21875 37.203125 74.21875 \nQ 40.921875 74.21875 44.703125 73.484375 \nQ 48.484375 72.75 52.59375 71.296875 \nz\n\" id=\"DejaVuSans-54\"/>\n       </defs>\n       <use xlink:href=\"#DejaVuSans-54\"/>\n      </g>\n     </g>\n    </g>\n    <g id=\"xtick_8\">\n     <g id=\"line2d_15\">\n      <path clip-path=\"url(#p7008f6503f)\" d=\"M 788.88125 380.2 \nL 788.88125 54.04 \n\" style=\"fill:none;stroke:#b0b0b0;stroke-linecap:square;stroke-width:0.8;\"/>\n     </g>\n     <g id=\"line2d_16\">\n      <g>\n       <use style=\"stroke:#000000;stroke-width:0.8;\" x=\"788.88125\" xlink:href=\"#m33a18b155f\" y=\"380.2\"/>\n      </g>\n     </g>\n     <g id=\"text_8\">\n      <!-- 7 -->\n      <g transform=\"translate(785.7 394.798437)scale(0.1 -0.1)\">\n       <defs>\n        <path d=\"M 8.203125 72.90625 \nL 55.078125 72.90625 \nL 55.078125 68.703125 \nL 28.609375 0 \nL 18.3125 0 \nL 43.21875 64.59375 \nL 8.203125 64.59375 \nz\n\" id=\"DejaVuSans-55\"/>\n       </defs>\n       <use xlink:href=\"#DejaVuSans-55\"/>\n      </g>\n     </g>\n    </g>\n    <g id=\"xtick_9\">\n     <g id=\"line2d_17\">\n      <path clip-path=\"url(#p7008f6503f)\" d=\"M 893.50625 380.2 \nL 893.50625 54.04 \n\" style=\"fill:none;stroke:#b0b0b0;stroke-linecap:square;stroke-width:0.8;\"/>\n     </g>\n     <g id=\"line2d_18\">\n      <g>\n       <use style=\"stroke:#000000;stroke-width:0.8;\" x=\"893.50625\" xlink:href=\"#m33a18b155f\" y=\"380.2\"/>\n      </g>\n     </g>\n     <g id=\"text_9\">\n      <!-- 8 -->\n      <g transform=\"translate(890.325 394.798437)scale(0.1 -0.1)\">\n       <defs>\n        <path d=\"M 31.78125 34.625 \nQ 24.75 34.625 20.71875 30.859375 \nQ 16.703125 27.09375 16.703125 20.515625 \nQ 16.703125 13.921875 20.71875 10.15625 \nQ 24.75 6.390625 31.78125 6.390625 \nQ 38.8125 6.390625 42.859375 10.171875 \nQ 46.921875 13.96875 46.921875 20.515625 \nQ 46.921875 27.09375 42.890625 30.859375 \nQ 38.875 34.625 31.78125 34.625 \nz\nM 21.921875 38.8125 \nQ 15.578125 40.375 12.03125 44.71875 \nQ 8.5 49.078125 8.5 55.328125 \nQ 8.5 64.0625 14.71875 69.140625 \nQ 20.953125 74.21875 31.78125 74.21875 \nQ 42.671875 74.21875 48.875 69.140625 \nQ 55.078125 64.0625 55.078125 55.328125 \nQ 55.078125 49.078125 51.53125 44.71875 \nQ 48 40.375 41.703125 38.8125 \nQ 48.828125 37.15625 52.796875 32.3125 \nQ 56.78125 27.484375 56.78125 20.515625 \nQ 56.78125 9.90625 50.3125 4.234375 \nQ 43.84375 -1.421875 31.78125 -1.421875 \nQ 19.734375 -1.421875 13.25 4.234375 \nQ 6.78125 9.90625 6.78125 20.515625 \nQ 6.78125 27.484375 10.78125 32.3125 \nQ 14.796875 37.15625 21.921875 38.8125 \nz\nM 18.3125 54.390625 \nQ 18.3125 48.734375 21.84375 45.5625 \nQ 25.390625 42.390625 31.78125 42.390625 \nQ 38.140625 42.390625 41.71875 45.5625 \nQ 45.3125 48.734375 45.3125 54.390625 \nQ 45.3125 60.0625 41.71875 63.234375 \nQ 38.140625 66.40625 31.78125 66.40625 \nQ 25.390625 66.40625 21.84375 63.234375 \nQ 18.3125 60.0625 18.3125 54.390625 \nz\n\" id=\"DejaVuSans-56\"/>\n       </defs>\n       <use xlink:href=\"#DejaVuSans-56\"/>\n      </g>\n     </g>\n    </g>\n    <g id=\"text_10\">\n     <!-- Epoch -->\n     <g transform=\"translate(459.695312 408.476562)scale(0.1 -0.1)\">\n      <defs>\n       <path d=\"M 9.8125 72.90625 \nL 55.90625 72.90625 \nL 55.90625 64.59375 \nL 19.671875 64.59375 \nL 19.671875 43.015625 \nL 54.390625 43.015625 \nL 54.390625 34.71875 \nL 19.671875 34.71875 \nL 19.671875 8.296875 \nL 56.78125 8.296875 \nL 56.78125 0 \nL 9.8125 0 \nz\n\" id=\"DejaVuSans-69\"/>\n       <path d=\"M 18.109375 8.203125 \nL 18.109375 -20.796875 \nL 9.078125 -20.796875 \nL 9.078125 54.6875 \nL 18.109375 54.6875 \nL 18.109375 46.390625 \nQ 20.953125 51.265625 25.265625 53.625 \nQ 29.59375 56 35.59375 56 \nQ 45.5625 56 51.78125 48.09375 \nQ 58.015625 40.1875 58.015625 27.296875 \nQ 58.015625 14.40625 51.78125 6.484375 \nQ 45.5625 -1.421875 35.59375 -1.421875 \nQ 29.59375 -1.421875 25.265625 0.953125 \nQ 20.953125 3.328125 18.109375 8.203125 \nz\nM 48.6875 27.296875 \nQ 48.6875 37.203125 44.609375 42.84375 \nQ 40.53125 48.484375 33.40625 48.484375 \nQ 26.265625 48.484375 22.1875 42.84375 \nQ 18.109375 37.203125 18.109375 27.296875 \nQ 18.109375 17.390625 22.1875 11.75 \nQ 26.265625 6.109375 33.40625 6.109375 \nQ 40.53125 6.109375 44.609375 11.75 \nQ 48.6875 17.390625 48.6875 27.296875 \nz\n\" id=\"DejaVuSans-112\"/>\n       <path d=\"M 30.609375 48.390625 \nQ 23.390625 48.390625 19.1875 42.75 \nQ 14.984375 37.109375 14.984375 27.296875 \nQ 14.984375 17.484375 19.15625 11.84375 \nQ 23.34375 6.203125 30.609375 6.203125 \nQ 37.796875 6.203125 41.984375 11.859375 \nQ 46.1875 17.53125 46.1875 27.296875 \nQ 46.1875 37.015625 41.984375 42.703125 \nQ 37.796875 48.390625 30.609375 48.390625 \nz\nM 30.609375 56 \nQ 42.328125 56 49.015625 48.375 \nQ 55.71875 40.765625 55.71875 27.296875 \nQ 55.71875 13.875 49.015625 6.21875 \nQ 42.328125 -1.421875 30.609375 -1.421875 \nQ 18.84375 -1.421875 12.171875 6.21875 \nQ 5.515625 13.875 5.515625 27.296875 \nQ 5.515625 40.765625 12.171875 48.375 \nQ 18.84375 56 30.609375 56 \nz\n\" id=\"DejaVuSans-111\"/>\n       <path d=\"M 48.78125 52.59375 \nL 48.78125 44.1875 \nQ 44.96875 46.296875 41.140625 47.34375 \nQ 37.3125 48.390625 33.40625 48.390625 \nQ 24.65625 48.390625 19.8125 42.84375 \nQ 14.984375 37.3125 14.984375 27.296875 \nQ 14.984375 17.28125 19.8125 11.734375 \nQ 24.65625 6.203125 33.40625 6.203125 \nQ 37.3125 6.203125 41.140625 7.25 \nQ 44.96875 8.296875 48.78125 10.40625 \nL 48.78125 2.09375 \nQ 45.015625 0.34375 40.984375 -0.53125 \nQ 36.96875 -1.421875 32.421875 -1.421875 \nQ 20.0625 -1.421875 12.78125 6.34375 \nQ 5.515625 14.109375 5.515625 27.296875 \nQ 5.515625 40.671875 12.859375 48.328125 \nQ 20.21875 56 33.015625 56 \nQ 37.15625 56 41.109375 55.140625 \nQ 45.0625 54.296875 48.78125 52.59375 \nz\n\" id=\"DejaVuSans-99\"/>\n       <path d=\"M 54.890625 33.015625 \nL 54.890625 0 \nL 45.90625 0 \nL 45.90625 32.71875 \nQ 45.90625 40.484375 42.875 44.328125 \nQ 39.84375 48.1875 33.796875 48.1875 \nQ 26.515625 48.1875 22.3125 43.546875 \nQ 18.109375 38.921875 18.109375 30.90625 \nL 18.109375 0 \nL 9.078125 0 \nL 9.078125 75.984375 \nL 18.109375 75.984375 \nL 18.109375 46.1875 \nQ 21.34375 51.125 25.703125 53.5625 \nQ 30.078125 56 35.796875 56 \nQ 45.21875 56 50.046875 50.171875 \nQ 54.890625 44.34375 54.890625 33.015625 \nz\n\" id=\"DejaVuSans-104\"/>\n      </defs>\n      <use xlink:href=\"#DejaVuSans-69\"/>\n      <use x=\"63.183594\" xlink:href=\"#DejaVuSans-112\"/>\n      <use x=\"126.660156\" xlink:href=\"#DejaVuSans-111\"/>\n      <use x=\"187.841797\" xlink:href=\"#DejaVuSans-99\"/>\n      <use x=\"242.822266\" xlink:href=\"#DejaVuSans-104\"/>\n     </g>\n    </g>\n   </g>\n   <g id=\"matplotlib.axis_2\">\n    <g id=\"ytick_1\">\n     <g id=\"line2d_19\">\n      <path clip-path=\"url(#p7008f6503f)\" d=\"M 56.50625 341.6911 \nL 893.50625 341.6911 \n\" style=\"fill:none;stroke:#b0b0b0;stroke-linecap:square;stroke-width:0.8;\"/>\n     </g>\n     <g id=\"line2d_20\">\n      <defs>\n       <path d=\"M 0 0 \nL -3.5 0 \n\" id=\"md287d827c3\" style=\"stroke:#000000;stroke-width:0.8;\"/>\n      </defs>\n      <g>\n       <use style=\"stroke:#000000;stroke-width:0.8;\" x=\"56.50625\" xlink:href=\"#md287d827c3\" y=\"341.6911\"/>\n      </g>\n     </g>\n     <g id=\"text_11\">\n      <!-- 0.600 -->\n      <g transform=\"translate(20.878125 345.490319)scale(0.1 -0.1)\">\n       <defs>\n        <path d=\"M 10.6875 12.40625 \nL 21 12.40625 \nL 21 0 \nL 10.6875 0 \nz\n\" id=\"DejaVuSans-46\"/>\n       </defs>\n       <use xlink:href=\"#DejaVuSans-48\"/>\n       <use x=\"63.623047\" xlink:href=\"#DejaVuSans-46\"/>\n       <use x=\"95.410156\" xlink:href=\"#DejaVuSans-54\"/>\n       <use x=\"159.033203\" xlink:href=\"#DejaVuSans-48\"/>\n       <use x=\"222.65625\" xlink:href=\"#DejaVuSans-48\"/>\n      </g>\n     </g>\n    </g>\n    <g id=\"ytick_2\">\n     <g id=\"line2d_21\">\n      <path clip-path=\"url(#p7008f6503f)\" d=\"M 56.50625 299.50172 \nL 893.50625 299.50172 \n\" style=\"fill:none;stroke:#b0b0b0;stroke-linecap:square;stroke-width:0.8;\"/>\n     </g>\n     <g id=\"line2d_22\">\n      <g>\n       <use style=\"stroke:#000000;stroke-width:0.8;\" x=\"56.50625\" xlink:href=\"#md287d827c3\" y=\"299.50172\"/>\n      </g>\n     </g>\n     <g id=\"text_12\">\n      <!-- 0.625 -->\n      <g transform=\"translate(20.878125 303.300938)scale(0.1 -0.1)\">\n       <use xlink:href=\"#DejaVuSans-48\"/>\n       <use x=\"63.623047\" xlink:href=\"#DejaVuSans-46\"/>\n       <use x=\"95.410156\" xlink:href=\"#DejaVuSans-54\"/>\n       <use x=\"159.033203\" xlink:href=\"#DejaVuSans-50\"/>\n       <use x=\"222.65625\" xlink:href=\"#DejaVuSans-53\"/>\n      </g>\n     </g>\n    </g>\n    <g id=\"ytick_3\">\n     <g id=\"line2d_23\">\n      <path clip-path=\"url(#p7008f6503f)\" d=\"M 56.50625 257.31234 \nL 893.50625 257.31234 \n\" style=\"fill:none;stroke:#b0b0b0;stroke-linecap:square;stroke-width:0.8;\"/>\n     </g>\n     <g id=\"line2d_24\">\n      <g>\n       <use style=\"stroke:#000000;stroke-width:0.8;\" x=\"56.50625\" xlink:href=\"#md287d827c3\" y=\"257.31234\"/>\n      </g>\n     </g>\n     <g id=\"text_13\">\n      <!-- 0.650 -->\n      <g transform=\"translate(20.878125 261.111558)scale(0.1 -0.1)\">\n       <use xlink:href=\"#DejaVuSans-48\"/>\n       <use x=\"63.623047\" xlink:href=\"#DejaVuSans-46\"/>\n       <use x=\"95.410156\" xlink:href=\"#DejaVuSans-54\"/>\n       <use x=\"159.033203\" xlink:href=\"#DejaVuSans-53\"/>\n       <use x=\"222.65625\" xlink:href=\"#DejaVuSans-48\"/>\n      </g>\n     </g>\n    </g>\n    <g id=\"ytick_4\">\n     <g id=\"line2d_25\">\n      <path clip-path=\"url(#p7008f6503f)\" d=\"M 56.50625 215.122959 \nL 893.50625 215.122959 \n\" style=\"fill:none;stroke:#b0b0b0;stroke-linecap:square;stroke-width:0.8;\"/>\n     </g>\n     <g id=\"line2d_26\">\n      <g>\n       <use style=\"stroke:#000000;stroke-width:0.8;\" x=\"56.50625\" xlink:href=\"#md287d827c3\" y=\"215.122959\"/>\n      </g>\n     </g>\n     <g id=\"text_14\">\n      <!-- 0.675 -->\n      <g transform=\"translate(20.878125 218.922178)scale(0.1 -0.1)\">\n       <use xlink:href=\"#DejaVuSans-48\"/>\n       <use x=\"63.623047\" xlink:href=\"#DejaVuSans-46\"/>\n       <use x=\"95.410156\" xlink:href=\"#DejaVuSans-54\"/>\n       <use x=\"159.033203\" xlink:href=\"#DejaVuSans-55\"/>\n       <use x=\"222.65625\" xlink:href=\"#DejaVuSans-53\"/>\n      </g>\n     </g>\n    </g>\n    <g id=\"ytick_5\">\n     <g id=\"line2d_27\">\n      <path clip-path=\"url(#p7008f6503f)\" d=\"M 56.50625 172.933579 \nL 893.50625 172.933579 \n\" style=\"fill:none;stroke:#b0b0b0;stroke-linecap:square;stroke-width:0.8;\"/>\n     </g>\n     <g id=\"line2d_28\">\n      <g>\n       <use style=\"stroke:#000000;stroke-width:0.8;\" x=\"56.50625\" xlink:href=\"#md287d827c3\" y=\"172.933579\"/>\n      </g>\n     </g>\n     <g id=\"text_15\">\n      <!-- 0.700 -->\n      <g transform=\"translate(20.878125 176.732798)scale(0.1 -0.1)\">\n       <use xlink:href=\"#DejaVuSans-48\"/>\n       <use x=\"63.623047\" xlink:href=\"#DejaVuSans-46\"/>\n       <use x=\"95.410156\" xlink:href=\"#DejaVuSans-55\"/>\n       <use x=\"159.033203\" xlink:href=\"#DejaVuSans-48\"/>\n       <use x=\"222.65625\" xlink:href=\"#DejaVuSans-48\"/>\n      </g>\n     </g>\n    </g>\n    <g id=\"ytick_6\">\n     <g id=\"line2d_29\">\n      <path clip-path=\"url(#p7008f6503f)\" d=\"M 56.50625 130.744199 \nL 893.50625 130.744199 \n\" style=\"fill:none;stroke:#b0b0b0;stroke-linecap:square;stroke-width:0.8;\"/>\n     </g>\n     <g id=\"line2d_30\">\n      <g>\n       <use style=\"stroke:#000000;stroke-width:0.8;\" x=\"56.50625\" xlink:href=\"#md287d827c3\" y=\"130.744199\"/>\n      </g>\n     </g>\n     <g id=\"text_16\">\n      <!-- 0.725 -->\n      <g transform=\"translate(20.878125 134.543418)scale(0.1 -0.1)\">\n       <use xlink:href=\"#DejaVuSans-48\"/>\n       <use x=\"63.623047\" xlink:href=\"#DejaVuSans-46\"/>\n       <use x=\"95.410156\" xlink:href=\"#DejaVuSans-55\"/>\n       <use x=\"159.033203\" xlink:href=\"#DejaVuSans-50\"/>\n       <use x=\"222.65625\" xlink:href=\"#DejaVuSans-53\"/>\n      </g>\n     </g>\n    </g>\n    <g id=\"ytick_7\">\n     <g id=\"line2d_31\">\n      <path clip-path=\"url(#p7008f6503f)\" d=\"M 56.50625 88.554819 \nL 893.50625 88.554819 \n\" style=\"fill:none;stroke:#b0b0b0;stroke-linecap:square;stroke-width:0.8;\"/>\n     </g>\n     <g id=\"line2d_32\">\n      <g>\n       <use style=\"stroke:#000000;stroke-width:0.8;\" x=\"56.50625\" xlink:href=\"#md287d827c3\" y=\"88.554819\"/>\n      </g>\n     </g>\n     <g id=\"text_17\">\n      <!-- 0.750 -->\n      <g transform=\"translate(20.878125 92.354038)scale(0.1 -0.1)\">\n       <use xlink:href=\"#DejaVuSans-48\"/>\n       <use x=\"63.623047\" xlink:href=\"#DejaVuSans-46\"/>\n       <use x=\"95.410156\" xlink:href=\"#DejaVuSans-55\"/>\n       <use x=\"159.033203\" xlink:href=\"#DejaVuSans-53\"/>\n       <use x=\"222.65625\" xlink:href=\"#DejaVuSans-48\"/>\n      </g>\n     </g>\n    </g>\n    <g id=\"text_18\">\n     <!-- Mean Absolute Error -->\n     <g transform=\"translate(14.798438 267.959844)rotate(-90)scale(0.1 -0.1)\">\n      <defs>\n       <path d=\"M 9.8125 72.90625 \nL 24.515625 72.90625 \nL 43.109375 23.296875 \nL 61.8125 72.90625 \nL 76.515625 72.90625 \nL 76.515625 0 \nL 66.890625 0 \nL 66.890625 64.015625 \nL 48.09375 14.015625 \nL 38.1875 14.015625 \nL 19.390625 64.015625 \nL 19.390625 0 \nL 9.8125 0 \nz\n\" id=\"DejaVuSans-77\"/>\n       <path d=\"M 56.203125 29.59375 \nL 56.203125 25.203125 \nL 14.890625 25.203125 \nQ 15.484375 15.921875 20.484375 11.0625 \nQ 25.484375 6.203125 34.421875 6.203125 \nQ 39.59375 6.203125 44.453125 7.46875 \nQ 49.3125 8.734375 54.109375 11.28125 \nL 54.109375 2.78125 \nQ 49.265625 0.734375 44.1875 -0.34375 \nQ 39.109375 -1.421875 33.890625 -1.421875 \nQ 20.796875 -1.421875 13.15625 6.1875 \nQ 5.515625 13.8125 5.515625 26.8125 \nQ 5.515625 40.234375 12.765625 48.109375 \nQ 20.015625 56 32.328125 56 \nQ 43.359375 56 49.78125 48.890625 \nQ 56.203125 41.796875 56.203125 29.59375 \nz\nM 47.21875 32.234375 \nQ 47.125 39.59375 43.09375 43.984375 \nQ 39.0625 48.390625 32.421875 48.390625 \nQ 24.90625 48.390625 20.390625 44.140625 \nQ 15.875 39.890625 15.1875 32.171875 \nz\n\" id=\"DejaVuSans-101\"/>\n       <path d=\"M 34.28125 27.484375 \nQ 23.390625 27.484375 19.1875 25 \nQ 14.984375 22.515625 14.984375 16.5 \nQ 14.984375 11.71875 18.140625 8.90625 \nQ 21.296875 6.109375 26.703125 6.109375 \nQ 34.1875 6.109375 38.703125 11.40625 \nQ 43.21875 16.703125 43.21875 25.484375 \nL 43.21875 27.484375 \nz\nM 52.203125 31.203125 \nL 52.203125 0 \nL 43.21875 0 \nL 43.21875 8.296875 \nQ 40.140625 3.328125 35.546875 0.953125 \nQ 30.953125 -1.421875 24.3125 -1.421875 \nQ 15.921875 -1.421875 10.953125 3.296875 \nQ 6 8.015625 6 15.921875 \nQ 6 25.140625 12.171875 29.828125 \nQ 18.359375 34.515625 30.609375 34.515625 \nL 43.21875 34.515625 \nL 43.21875 35.40625 \nQ 43.21875 41.609375 39.140625 45 \nQ 35.0625 48.390625 27.6875 48.390625 \nQ 23 48.390625 18.546875 47.265625 \nQ 14.109375 46.140625 10.015625 43.890625 \nL 10.015625 52.203125 \nQ 14.9375 54.109375 19.578125 55.046875 \nQ 24.21875 56 28.609375 56 \nQ 40.484375 56 46.34375 49.84375 \nQ 52.203125 43.703125 52.203125 31.203125 \nz\n\" id=\"DejaVuSans-97\"/>\n       <path d=\"M 54.890625 33.015625 \nL 54.890625 0 \nL 45.90625 0 \nL 45.90625 32.71875 \nQ 45.90625 40.484375 42.875 44.328125 \nQ 39.84375 48.1875 33.796875 48.1875 \nQ 26.515625 48.1875 22.3125 43.546875 \nQ 18.109375 38.921875 18.109375 30.90625 \nL 18.109375 0 \nL 9.078125 0 \nL 9.078125 54.6875 \nL 18.109375 54.6875 \nL 18.109375 46.1875 \nQ 21.34375 51.125 25.703125 53.5625 \nQ 30.078125 56 35.796875 56 \nQ 45.21875 56 50.046875 50.171875 \nQ 54.890625 44.34375 54.890625 33.015625 \nz\n\" id=\"DejaVuSans-110\"/>\n       <path id=\"DejaVuSans-32\"/>\n       <path d=\"M 34.1875 63.1875 \nL 20.796875 26.90625 \nL 47.609375 26.90625 \nz\nM 28.609375 72.90625 \nL 39.796875 72.90625 \nL 67.578125 0 \nL 57.328125 0 \nL 50.6875 18.703125 \nL 17.828125 18.703125 \nL 11.1875 0 \nL 0.78125 0 \nz\n\" id=\"DejaVuSans-65\"/>\n       <path d=\"M 48.6875 27.296875 \nQ 48.6875 37.203125 44.609375 42.84375 \nQ 40.53125 48.484375 33.40625 48.484375 \nQ 26.265625 48.484375 22.1875 42.84375 \nQ 18.109375 37.203125 18.109375 27.296875 \nQ 18.109375 17.390625 22.1875 11.75 \nQ 26.265625 6.109375 33.40625 6.109375 \nQ 40.53125 6.109375 44.609375 11.75 \nQ 48.6875 17.390625 48.6875 27.296875 \nz\nM 18.109375 46.390625 \nQ 20.953125 51.265625 25.265625 53.625 \nQ 29.59375 56 35.59375 56 \nQ 45.5625 56 51.78125 48.09375 \nQ 58.015625 40.1875 58.015625 27.296875 \nQ 58.015625 14.40625 51.78125 6.484375 \nQ 45.5625 -1.421875 35.59375 -1.421875 \nQ 29.59375 -1.421875 25.265625 0.953125 \nQ 20.953125 3.328125 18.109375 8.203125 \nL 18.109375 0 \nL 9.078125 0 \nL 9.078125 75.984375 \nL 18.109375 75.984375 \nz\n\" id=\"DejaVuSans-98\"/>\n       <path d=\"M 44.28125 53.078125 \nL 44.28125 44.578125 \nQ 40.484375 46.53125 36.375 47.5 \nQ 32.28125 48.484375 27.875 48.484375 \nQ 21.1875 48.484375 17.84375 46.4375 \nQ 14.5 44.390625 14.5 40.28125 \nQ 14.5 37.15625 16.890625 35.375 \nQ 19.28125 33.59375 26.515625 31.984375 \nL 29.59375 31.296875 \nQ 39.15625 29.25 43.1875 25.515625 \nQ 47.21875 21.78125 47.21875 15.09375 \nQ 47.21875 7.46875 41.1875 3.015625 \nQ 35.15625 -1.421875 24.609375 -1.421875 \nQ 20.21875 -1.421875 15.453125 -0.5625 \nQ 10.6875 0.296875 5.421875 2 \nL 5.421875 11.28125 \nQ 10.40625 8.6875 15.234375 7.390625 \nQ 20.0625 6.109375 24.8125 6.109375 \nQ 31.15625 6.109375 34.5625 8.28125 \nQ 37.984375 10.453125 37.984375 14.40625 \nQ 37.984375 18.0625 35.515625 20.015625 \nQ 33.0625 21.96875 24.703125 23.78125 \nL 21.578125 24.515625 \nQ 13.234375 26.265625 9.515625 29.90625 \nQ 5.8125 33.546875 5.8125 39.890625 \nQ 5.8125 47.609375 11.28125 51.796875 \nQ 16.75 56 26.8125 56 \nQ 31.78125 56 36.171875 55.265625 \nQ 40.578125 54.546875 44.28125 53.078125 \nz\n\" id=\"DejaVuSans-115\"/>\n       <path d=\"M 9.421875 75.984375 \nL 18.40625 75.984375 \nL 18.40625 0 \nL 9.421875 0 \nz\n\" id=\"DejaVuSans-108\"/>\n       <path d=\"M 8.5 21.578125 \nL 8.5 54.6875 \nL 17.484375 54.6875 \nL 17.484375 21.921875 \nQ 17.484375 14.15625 20.5 10.265625 \nQ 23.53125 6.390625 29.59375 6.390625 \nQ 36.859375 6.390625 41.078125 11.03125 \nQ 45.3125 15.671875 45.3125 23.6875 \nL 45.3125 54.6875 \nL 54.296875 54.6875 \nL 54.296875 0 \nL 45.3125 0 \nL 45.3125 8.40625 \nQ 42.046875 3.421875 37.71875 1 \nQ 33.40625 -1.421875 27.6875 -1.421875 \nQ 18.265625 -1.421875 13.375 4.4375 \nQ 8.5 10.296875 8.5 21.578125 \nz\nM 31.109375 56 \nz\n\" id=\"DejaVuSans-117\"/>\n       <path d=\"M 18.3125 70.21875 \nL 18.3125 54.6875 \nL 36.8125 54.6875 \nL 36.8125 47.703125 \nL 18.3125 47.703125 \nL 18.3125 18.015625 \nQ 18.3125 11.328125 20.140625 9.421875 \nQ 21.96875 7.515625 27.59375 7.515625 \nL 36.8125 7.515625 \nL 36.8125 0 \nL 27.59375 0 \nQ 17.1875 0 13.234375 3.875 \nQ 9.28125 7.765625 9.28125 18.015625 \nL 9.28125 47.703125 \nL 2.6875 47.703125 \nL 2.6875 54.6875 \nL 9.28125 54.6875 \nL 9.28125 70.21875 \nz\n\" id=\"DejaVuSans-116\"/>\n       <path d=\"M 41.109375 46.296875 \nQ 39.59375 47.171875 37.8125 47.578125 \nQ 36.03125 48 33.890625 48 \nQ 26.265625 48 22.1875 43.046875 \nQ 18.109375 38.09375 18.109375 28.8125 \nL 18.109375 0 \nL 9.078125 0 \nL 9.078125 54.6875 \nL 18.109375 54.6875 \nL 18.109375 46.1875 \nQ 20.953125 51.171875 25.484375 53.578125 \nQ 30.03125 56 36.53125 56 \nQ 37.453125 56 38.578125 55.875 \nQ 39.703125 55.765625 41.0625 55.515625 \nz\n\" id=\"DejaVuSans-114\"/>\n      </defs>\n      <use xlink:href=\"#DejaVuSans-77\"/>\n      <use x=\"86.279297\" xlink:href=\"#DejaVuSans-101\"/>\n      <use x=\"147.802734\" xlink:href=\"#DejaVuSans-97\"/>\n      <use x=\"209.082031\" xlink:href=\"#DejaVuSans-110\"/>\n      <use x=\"272.460938\" xlink:href=\"#DejaVuSans-32\"/>\n      <use x=\"304.248047\" xlink:href=\"#DejaVuSans-65\"/>\n      <use x=\"372.65625\" xlink:href=\"#DejaVuSans-98\"/>\n      <use x=\"436.132812\" xlink:href=\"#DejaVuSans-115\"/>\n      <use x=\"488.232422\" xlink:href=\"#DejaVuSans-111\"/>\n      <use x=\"549.414062\" xlink:href=\"#DejaVuSans-108\"/>\n      <use x=\"577.197266\" xlink:href=\"#DejaVuSans-117\"/>\n      <use x=\"640.576172\" xlink:href=\"#DejaVuSans-116\"/>\n      <use x=\"679.785156\" xlink:href=\"#DejaVuSans-101\"/>\n      <use x=\"741.308594\" xlink:href=\"#DejaVuSans-32\"/>\n      <use x=\"773.095703\" xlink:href=\"#DejaVuSans-69\"/>\n      <use x=\"836.279297\" xlink:href=\"#DejaVuSans-114\"/>\n      <use x=\"875.642578\" xlink:href=\"#DejaVuSans-114\"/>\n      <use x=\"914.505859\" xlink:href=\"#DejaVuSans-111\"/>\n      <use x=\"975.6875\" xlink:href=\"#DejaVuSans-114\"/>\n     </g>\n    </g>\n   </g>\n   <g id=\"line2d_33\">\n    <path clip-path=\"url(#p7008f6503f)\" d=\"M 56.50625 191.500711 \nL 161.13125 229.930097 \nL 265.75625 240.62786 \nL 370.38125 244.051953 \nL 475.00625 251.385976 \nL 579.63125 253.677959 \nL 684.25625 253.700893 \nL 788.88125 254.10465 \nL 893.50625 250.44981 \n\" style=\"fill:none;stroke:#1f77b4;stroke-linecap:square;stroke-width:1.5;\"/>\n   </g>\n   <g id=\"line2d_34\">\n    <path clip-path=\"url(#p7008f6503f)\" d=\"M 56.50625 68.865455 \nL 161.13125 243.23609 \nL 265.75625 289.839905 \nL 370.38125 311.837447 \nL 475.00625 329.026714 \nL 579.63125 340.229928 \nL 684.25625 349.697006 \nL 788.88125 357.094197 \nL 893.50625 365.374545 \n\" style=\"fill:none;stroke:#ff7f0e;stroke-linecap:square;stroke-width:1.5;\"/>\n   </g>\n   <g id=\"line2d_35\">\n    <path clip-path=\"url(#p7008f6503f)\" d=\"M 56.50625 122.306323 \nL 893.50625 122.306323 \n\" style=\"fill:none;stroke:#002255;stroke-dasharray:5.55,2.4;stroke-dashoffset:0;stroke-opacity:0.5;stroke-width:1.5;\"/>\n   </g>\n   <g id=\"patch_3\">\n    <path d=\"M 56.50625 380.2 \nL 56.50625 54.04 \n\" style=\"fill:none;stroke:#000000;stroke-linecap:square;stroke-linejoin:miter;stroke-width:0.8;\"/>\n   </g>\n   <g id=\"patch_4\">\n    <path d=\"M 893.50625 380.2 \nL 893.50625 54.04 \n\" style=\"fill:none;stroke:#000000;stroke-linecap:square;stroke-linejoin:miter;stroke-width:0.8;\"/>\n   </g>\n   <g id=\"patch_5\">\n    <path d=\"M 56.50625 380.2 \nL 893.50625 380.2 \n\" style=\"fill:none;stroke:#000000;stroke-linecap:square;stroke-linejoin:miter;stroke-width:0.8;\"/>\n   </g>\n   <g id=\"patch_6\">\n    <path d=\"M 56.50625 54.04 \nL 893.50625 54.04 \n\" style=\"fill:none;stroke:#000000;stroke-linecap:square;stroke-linejoin:miter;stroke-width:0.8;\"/>\n   </g>\n  </g>\n  <g id=\"legend_1\">\n   <g id=\"patch_7\">\n    <path d=\"M 900.289062 52.034375 \nL 996.70625 52.034375 \nQ 998.70625 52.034375 998.70625 50.034375 \nL 998.70625 7 \nQ 998.70625 5 996.70625 5 \nL 900.289062 5 \nQ 898.289062 5 898.289062 7 \nL 898.289062 50.034375 \nQ 898.289062 52.034375 900.289062 52.034375 \nz\n\" style=\"fill:#ffffff;opacity:0.8;stroke:#cccccc;stroke-linejoin:miter;\"/>\n   </g>\n   <g id=\"line2d_36\">\n    <path d=\"M 902.289062 13.098437 \nL 922.289062 13.098437 \n\" style=\"fill:none;stroke:#1f77b4;stroke-linecap:square;stroke-width:1.5;\"/>\n   </g>\n   <g id=\"line2d_37\"/>\n   <g id=\"text_19\">\n    <!-- Test MAE -->\n    <g transform=\"translate(930.289062 16.598437)scale(0.1 -0.1)\">\n     <defs>\n      <path d=\"M -0.296875 72.90625 \nL 61.375 72.90625 \nL 61.375 64.59375 \nL 35.5 64.59375 \nL 35.5 0 \nL 25.59375 0 \nL 25.59375 64.59375 \nL -0.296875 64.59375 \nz\n\" id=\"DejaVuSans-84\"/>\n     </defs>\n     <use xlink:href=\"#DejaVuSans-84\"/>\n     <use x=\"44.083984\" xlink:href=\"#DejaVuSans-101\"/>\n     <use x=\"105.607422\" xlink:href=\"#DejaVuSans-115\"/>\n     <use x=\"157.707031\" xlink:href=\"#DejaVuSans-116\"/>\n     <use x=\"196.916016\" xlink:href=\"#DejaVuSans-32\"/>\n     <use x=\"228.703125\" xlink:href=\"#DejaVuSans-77\"/>\n     <use x=\"314.982422\" xlink:href=\"#DejaVuSans-65\"/>\n     <use x=\"383.390625\" xlink:href=\"#DejaVuSans-69\"/>\n    </g>\n   </g>\n   <g id=\"line2d_38\">\n    <path d=\"M 902.289062 27.776563 \nL 922.289062 27.776563 \n\" style=\"fill:none;stroke:#ff7f0e;stroke-linecap:square;stroke-width:1.5;\"/>\n   </g>\n   <g id=\"line2d_39\"/>\n   <g id=\"text_20\">\n    <!-- Training MAE -->\n    <g transform=\"translate(930.289062 31.276563)scale(0.1 -0.1)\">\n     <defs>\n      <path d=\"M 9.421875 54.6875 \nL 18.40625 54.6875 \nL 18.40625 0 \nL 9.421875 0 \nz\nM 9.421875 75.984375 \nL 18.40625 75.984375 \nL 18.40625 64.59375 \nL 9.421875 64.59375 \nz\n\" id=\"DejaVuSans-105\"/>\n      <path d=\"M 45.40625 27.984375 \nQ 45.40625 37.75 41.375 43.109375 \nQ 37.359375 48.484375 30.078125 48.484375 \nQ 22.859375 48.484375 18.828125 43.109375 \nQ 14.796875 37.75 14.796875 27.984375 \nQ 14.796875 18.265625 18.828125 12.890625 \nQ 22.859375 7.515625 30.078125 7.515625 \nQ 37.359375 7.515625 41.375 12.890625 \nQ 45.40625 18.265625 45.40625 27.984375 \nz\nM 54.390625 6.78125 \nQ 54.390625 -7.171875 48.1875 -13.984375 \nQ 42 -20.796875 29.203125 -20.796875 \nQ 24.46875 -20.796875 20.265625 -20.09375 \nQ 16.0625 -19.390625 12.109375 -17.921875 \nL 12.109375 -9.1875 \nQ 16.0625 -11.328125 19.921875 -12.34375 \nQ 23.78125 -13.375 27.78125 -13.375 \nQ 36.625 -13.375 41.015625 -8.765625 \nQ 45.40625 -4.15625 45.40625 5.171875 \nL 45.40625 9.625 \nQ 42.625 4.78125 38.28125 2.390625 \nQ 33.9375 0 27.875 0 \nQ 17.828125 0 11.671875 7.65625 \nQ 5.515625 15.328125 5.515625 27.984375 \nQ 5.515625 40.671875 11.671875 48.328125 \nQ 17.828125 56 27.875 56 \nQ 33.9375 56 38.28125 53.609375 \nQ 42.625 51.21875 45.40625 46.390625 \nL 45.40625 54.6875 \nL 54.390625 54.6875 \nz\n\" id=\"DejaVuSans-103\"/>\n     </defs>\n     <use xlink:href=\"#DejaVuSans-84\"/>\n     <use x=\"46.333984\" xlink:href=\"#DejaVuSans-114\"/>\n     <use x=\"87.447266\" xlink:href=\"#DejaVuSans-97\"/>\n     <use x=\"148.726562\" xlink:href=\"#DejaVuSans-105\"/>\n     <use x=\"176.509766\" xlink:href=\"#DejaVuSans-110\"/>\n     <use x=\"239.888672\" xlink:href=\"#DejaVuSans-105\"/>\n     <use x=\"267.671875\" xlink:href=\"#DejaVuSans-110\"/>\n     <use x=\"331.050781\" xlink:href=\"#DejaVuSans-103\"/>\n     <use x=\"394.527344\" xlink:href=\"#DejaVuSans-32\"/>\n     <use x=\"426.314453\" xlink:href=\"#DejaVuSans-77\"/>\n     <use x=\"512.59375\" xlink:href=\"#DejaVuSans-65\"/>\n     <use x=\"581.001953\" xlink:href=\"#DejaVuSans-69\"/>\n    </g>\n   </g>\n   <g id=\"line2d_40\">\n    <path d=\"M 902.289062 42.454687 \nL 922.289062 42.454687 \n\" style=\"fill:none;stroke:#002255;stroke-dasharray:5.55,2.4;stroke-dashoffset:0;stroke-opacity:0.5;stroke-width:1.5;\"/>\n   </g>\n   <g id=\"line2d_41\"/>\n   <g id=\"text_21\">\n    <!-- Baseline -->\n    <g transform=\"translate(930.289062 45.954687)scale(0.1 -0.1)\">\n     <defs>\n      <path d=\"M 19.671875 34.8125 \nL 19.671875 8.109375 \nL 35.5 8.109375 \nQ 43.453125 8.109375 47.28125 11.40625 \nQ 51.125 14.703125 51.125 21.484375 \nQ 51.125 28.328125 47.28125 31.5625 \nQ 43.453125 34.8125 35.5 34.8125 \nz\nM 19.671875 64.796875 \nL 19.671875 42.828125 \nL 34.28125 42.828125 \nQ 41.5 42.828125 45.03125 45.53125 \nQ 48.578125 48.25 48.578125 53.8125 \nQ 48.578125 59.328125 45.03125 62.0625 \nQ 41.5 64.796875 34.28125 64.796875 \nz\nM 9.8125 72.90625 \nL 35.015625 72.90625 \nQ 46.296875 72.90625 52.390625 68.21875 \nQ 58.5 63.53125 58.5 54.890625 \nQ 58.5 48.1875 55.375 44.234375 \nQ 52.25 40.28125 46.1875 39.3125 \nQ 53.46875 37.75 57.5 32.78125 \nQ 61.53125 27.828125 61.53125 20.40625 \nQ 61.53125 10.640625 54.890625 5.3125 \nQ 48.25 0 35.984375 0 \nL 9.8125 0 \nz\n\" id=\"DejaVuSans-66\"/>\n     </defs>\n     <use xlink:href=\"#DejaVuSans-66\"/>\n     <use x=\"68.603516\" xlink:href=\"#DejaVuSans-97\"/>\n     <use x=\"129.882812\" xlink:href=\"#DejaVuSans-115\"/>\n     <use x=\"181.982422\" xlink:href=\"#DejaVuSans-101\"/>\n     <use x=\"243.505859\" xlink:href=\"#DejaVuSans-108\"/>\n     <use x=\"271.289062\" xlink:href=\"#DejaVuSans-105\"/>\n     <use x=\"299.072266\" xlink:href=\"#DejaVuSans-110\"/>\n     <use x=\"362.451172\" xlink:href=\"#DejaVuSans-101\"/>\n    </g>\n   </g>\n  </g>\n </g>\n <defs>\n  <clipPath id=\"p7008f6503f\">\n   <rect height=\"326.16\" width=\"837\" x=\"56.50625\" y=\"54.04\"/>\n  </clipPath>\n </defs>\n</svg>\n",
      "image/png": "[encoded data removed]"
     },
     "metadata": {
      "needs_background": "light"
     }
    }
   ],
   "source": [
    "fig, ax = plt.subplots(figsize=(15, 6))\n",
    "ax.plot(history.epoch, history.history['val_MAE'], label='Test MAE')\n",
    "ax.plot(history.epoch, history.history['MAE'], label='Training MAE')\n",
    "ax.set_xlabel('Epoch')\n",
    "ax.set_ylabel('Mean Absolute Error')\n",
    "ax.set_xlim(left=0, right=history.epoch[-1])\n",
    "baseline_mae = 0.73\n",
    "ax.axhline(baseline_mae, ls='--', label='Baseline', color='#002255', alpha=.5)\n",
    "ax.grid()\n",
    "fig.legend();"
   ]
  },
  {
   "cell_type": "code",
   "execution_count": 19,
   "metadata": {
    "tags": []
   },
   "outputs": [
    {
     "output_type": "stream",
     "name": "stdout",
     "text": "User #557 has rated 27 movies (avg. rating = 3.9):\n"
    },
    {
     "output_type": "execute_result",
     "data": {
      "text/plain": "       user_id  movie_id  rating  \\\n87002      557      5618     5.0   \n15710      557      1036     5.0   \n17227      557       165     5.0   \n60899      557       648     5.0   \n1465       557      2617     4.5   \n42863      557      1485     4.5   \n73123      557        10     4.5   \n71576      557       318     4.5   \n47020      557      2571     4.5   \n94918      557      4896     4.5   \n4994       557      4306     4.5   \n5152       557       150     4.5   \n50446      557       344     4.0   \n33592      557     60069     4.0   \n21975      557      1291     4.0   \n4723       557       527     4.0   \n55543      557      2028     3.5   \n45224      557      1721     3.5   \n76023      557    134130     3.5   \n45102      557       231     3.5   \n93152      557      1198     3.5   \n7262       557      1196     3.0   \n73190      557      1580     3.0   \n91139      557       260     3.0   \n41068      557      1210     3.0   \n58400      557      2628     2.0   \n53452      557      2700     0.5   \n\n                                                   title  \\\n87002  Spirited Away (Sen to Chihiro no kamikakushi) ...   \n15710                                    Die Hard (1988)   \n17227                  Die Hard: With a Vengeance (1995)   \n60899                         Mission: Impossible (1996)   \n1465                                   Mummy, The (1999)   \n42863                                   Liar Liar (1997)   \n73123                                   GoldenEye (1995)   \n71576                   Shawshank Redemption, The (1994)   \n47020                                 Matrix, The (1999)   \n94918  Harry Potter and the Sorcerer's Stone (a.k.a. ...   \n4994                                        Shrek (2001)   \n5152                                    Apollo 13 (1995)   \n50446                  Ace Ventura: Pet Detective (1994)   \n33592                                      WALL·E (2008)   \n21975          Indiana Jones and the Last Crusade (1989)   \n4723                             Schindler's List (1993)   \n55543                         Saving Private Ryan (1998)   \n45224                                     Titanic (1997)   \n76023                                 The Martian (2015)   \n45102             Dumb & Dumber (Dumb and Dumber) (1994)   \n93152  Raiders of the Lost Ark (Indiana Jones and the...   \n7262   Star Wars: Episode V - The Empire Strikes Back...   \n73190                   Men in Black (a.k.a. MIB) (1997)   \n91139          Star Wars: Episode IV - A New Hope (1977)   \n41068  Star Wars: Episode VI - Return of the Jedi (1983)   \n58400   Star Wars: Episode I - The Phantom Menace (1999)   \n53452        South Park: Bigger, Longer and Uncut (1999)   \n\n                                                   genre  \n87002                        Adventure|Animation|Fantasy  \n15710                              Action|Crime|Thriller  \n17227                              Action|Crime|Thriller  \n60899                  Action|Adventure|Mystery|Thriller  \n1465     Action|Adventure|Comedy|Fantasy|Horror|Thriller  \n42863                                             Comedy  \n73123                          Action|Adventure|Thriller  \n71576                                        Crime|Drama  \n47020                             Action|Sci-Fi|Thriller  \n94918                         Adventure|Children|Fantasy  \n4994   Adventure|Animation|Children|Comedy|Fantasy|Ro...  \n5152                                Adventure|Drama|IMAX  \n50446                                             Comedy  \n33592        Adventure|Animation|Children|Romance|Sci-Fi  \n21975                                   Action|Adventure  \n4723                                           Drama|War  \n55543                                   Action|Drama|War  \n45224                                      Drama|Romance  \n76023                             Adventure|Drama|Sci-Fi  \n45102                                   Adventure|Comedy  \n93152                                   Action|Adventure  \n7262                             Action|Adventure|Sci-Fi  \n73190                               Action|Comedy|Sci-Fi  \n91139                            Action|Adventure|Sci-Fi  \n41068                            Action|Adventure|Sci-Fi  \n58400                            Action|Adventure|Sci-Fi  \n53452                           Animation|Comedy|Musical  ",
      "text/html": "<div>\n<style scoped>\n    .dataframe tbody tr th:only-of-type {\n        vertical-align: middle;\n    }\n\n    .dataframe tbody tr th {\n        vertical-align: top;\n    }\n\n    .dataframe thead th {\n        text-align: right;\n    }\n</style>\n<table border=\"1\" class=\"dataframe\">\n  <thead>\n    <tr style=\"text-align: right;\">\n      <th></th>\n      <th>user_id</th>\n      <th>movie_id</th>\n      <th>rating</th>\n      <th>title</th>\n      <th>genre</th>\n    </tr>\n  </thead>\n  <tbody>\n    <tr>\n      <th>87002</th>\n      <td>557</td>\n      <td>5618</td>\n      <td>5.0</td>\n      <td>Spirited Away (Sen to Chihiro no kamikakushi) ...</td>\n      <td>Adventure|Animation|Fantasy</td>\n    </tr>\n    <tr>\n      <th>15710</th>\n      <td>557</td>\n      <td>1036</td>\n      <td>5.0</td>\n      <td>Die Hard (1988)</td>\n      <td>Action|Crime|Thriller</td>\n    </tr>\n    <tr>\n      <th>17227</th>\n      <td>557</td>\n      <td>165</td>\n      <td>5.0</td>\n      <td>Die Hard: With a Vengeance (1995)</td>\n      <td>Action|Crime|Thriller</td>\n    </tr>\n    <tr>\n      <th>60899</th>\n      <td>557</td>\n      <td>648</td>\n      <td>5.0</td>\n      <td>Mission: Impossible (1996)</td>\n      <td>Action|Adventure|Mystery|Thriller</td>\n    </tr>\n    <tr>\n      <th>1465</th>\n      <td>557</td>\n      <td>2617</td>\n      <td>4.5</td>\n      <td>Mummy, The (1999)</td>\n      <td>Action|Adventure|Comedy|Fantasy|Horror|Thriller</td>\n    </tr>\n    <tr>\n      <th>42863</th>\n      <td>557</td>\n      <td>1485</td>\n      <td>4.5</td>\n      <td>Liar Liar (1997)</td>\n      <td>Comedy</td>\n    </tr>\n    <tr>\n      <th>73123</th>\n      <td>557</td>\n      <td>10</td>\n      <td>4.5</td>\n      <td>GoldenEye (1995)</td>\n      <td>Action|Adventure|Thriller</td>\n    </tr>\n    <tr>\n      <th>71576</th>\n      <td>557</td>\n      <td>318</td>\n      <td>4.5</td>\n      <td>Shawshank Redemption, The (1994)</td>\n      <td>Crime|Drama</td>\n    </tr>\n    <tr>\n      <th>47020</th>\n      <td>557</td>\n      <td>2571</td>\n      <td>4.5</td>\n      <td>Matrix, The (1999)</td>\n      <td>Action|Sci-Fi|Thriller</td>\n    </tr>\n    <tr>\n      <th>94918</th>\n      <td>557</td>\n      <td>4896</td>\n      <td>4.5</td>\n      <td>Harry Potter and the Sorcerer's Stone (a.k.a. ...</td>\n      <td>Adventure|Children|Fantasy</td>\n    </tr>\n    <tr>\n      <th>4994</th>\n      <td>557</td>\n      <td>4306</td>\n      <td>4.5</td>\n      <td>Shrek (2001)</td>\n      <td>Adventure|Animation|Children|Comedy|Fantasy|Ro...</td>\n    </tr>\n    <tr>\n      <th>5152</th>\n      <td>557</td>\n      <td>150</td>\n      <td>4.5</td>\n      <td>Apollo 13 (1995)</td>\n      <td>Adventure|Drama|IMAX</td>\n    </tr>\n    <tr>\n      <th>50446</th>\n      <td>557</td>\n      <td>344</td>\n      <td>4.0</td>\n      <td>Ace Ventura: Pet Detective (1994)</td>\n      <td>Comedy</td>\n    </tr>\n    <tr>\n      <th>33592</th>\n      <td>557</td>\n      <td>60069</td>\n      <td>4.0</td>\n      <td>WALL·E (2008)</td>\n      <td>Adventure|Animation|Children|Romance|Sci-Fi</td>\n    </tr>\n    <tr>\n      <th>21975</th>\n      <td>557</td>\n      <td>1291</td>\n      <td>4.0</td>\n      <td>Indiana Jones and the Last Crusade (1989)</td>\n      <td>Action|Adventure</td>\n    </tr>\n    <tr>\n      <th>4723</th>\n      <td>557</td>\n      <td>527</td>\n      <td>4.0</td>\n      <td>Schindler's List (1993)</td>\n      <td>Drama|War</td>\n    </tr>\n    <tr>\n      <th>55543</th>\n      <td>557</td>\n      <td>2028</td>\n      <td>3.5</td>\n      <td>Saving Private Ryan (1998)</td>\n      <td>Action|Drama|War</td>\n    </tr>\n    <tr>\n      <th>45224</th>\n      <td>557</td>\n      <td>1721</td>\n      <td>3.5</td>\n      <td>Titanic (1997)</td>\n      <td>Drama|Romance</td>\n    </tr>\n    <tr>\n      <th>76023</th>\n      <td>557</td>\n      <td>134130</td>\n      <td>3.5</td>\n      <td>The Martian (2015)</td>\n      <td>Adventure|Drama|Sci-Fi</td>\n    </tr>\n    <tr>\n      <th>45102</th>\n      <td>557</td>\n      <td>231</td>\n      <td>3.5</td>\n      <td>Dumb &amp; Dumber (Dumb and Dumber) (1994)</td>\n      <td>Adventure|Comedy</td>\n    </tr>\n    <tr>\n      <th>93152</th>\n      <td>557</td>\n      <td>1198</td>\n      <td>3.5</td>\n      <td>Raiders of the Lost Ark (Indiana Jones and the...</td>\n      <td>Action|Adventure</td>\n    </tr>\n    <tr>\n      <th>7262</th>\n      <td>557</td>\n      <td>1196</td>\n      <td>3.0</td>\n      <td>Star Wars: Episode V - The Empire Strikes Back...</td>\n      <td>Action|Adventure|Sci-Fi</td>\n    </tr>\n    <tr>\n      <th>73190</th>\n      <td>557</td>\n      <td>1580</td>\n      <td>3.0</td>\n      <td>Men in Black (a.k.a. MIB) (1997)</td>\n      <td>Action|Comedy|Sci-Fi</td>\n    </tr>\n    <tr>\n      <th>91139</th>\n      <td>557</td>\n      <td>260</td>\n      <td>3.0</td>\n      <td>Star Wars: Episode IV - A New Hope (1977)</td>\n      <td>Action|Adventure|Sci-Fi</td>\n    </tr>\n    <tr>\n      <th>41068</th>\n      <td>557</td>\n      <td>1210</td>\n      <td>3.0</td>\n      <td>Star Wars: Episode VI - Return of the Jedi (1983)</td>\n      <td>Action|Adventure|Sci-Fi</td>\n    </tr>\n    <tr>\n      <th>58400</th>\n      <td>557</td>\n      <td>2628</td>\n      <td>2.0</td>\n      <td>Star Wars: Episode I - The Phantom Menace (1999)</td>\n      <td>Action|Adventure|Sci-Fi</td>\n    </tr>\n    <tr>\n      <th>53452</th>\n      <td>557</td>\n      <td>2700</td>\n      <td>0.5</td>\n      <td>South Park: Bigger, Longer and Uncut (1999)</td>\n      <td>Animation|Comedy|Musical</td>\n    </tr>\n  </tbody>\n</table>\n</div>"
     },
     "metadata": {},
     "execution_count": 19
    }
   ],
   "source": [
    "#Example predictions\n",
    "ratings_per_user = df.groupby('user_id').size()\n",
    "uid = ratings_per_user[ratings_per_user < 30].sample(1, random_state=1).index[0]\n",
    "user_ratings = df[df.user_id==uid]\n",
    "print(\"User #{} has rated {} movies (avg. rating = {:.1f}):\".format(\n",
    "    uid, len(user_ratings), user_ratings['rating'].mean(),\n",
    "))\n",
    "cols = ['user_id', 'movie_id', 'rating', 'title', 'genre']\n",
    "user_ratings.sort_values(by='rating', ascending=False)[cols]"
   ]
  },
  {
   "cell_type": "code",
   "execution_count": 33,
   "metadata": {},
   "outputs": [],
   "source": [
    "candidate_movies = df[(df.genre.str.contains('Action')) & (df.genre.str.contains('Thriller')) & (df.genre.str.contains('Crime')) & (df.genre.str.contains('Adventure')) ].copy()"
   ]
  },
  {
   "cell_type": "code",
   "execution_count": 73,
   "metadata": {},
   "outputs": [],
   "source": [
    "best_ratings = candidate_movies.groupby('title').mean().sort_values(by='rating', ascending=False)[:4]"
   ]
  },
  {
   "cell_type": "code",
   "execution_count": 74,
   "metadata": {},
   "outputs": [
    {
     "output_type": "execute_result",
     "data": {
      "text/plain": "                                              user_id  movie_id    rating  \\\ntitle                                                                       \nCity of God (Cidade de Deus) (2002)        313.066667    6016.0  4.146667   \nWarriors, The (1979)                       279.875000    7802.0  3.937500   \nBlood Diamond (2006)                       339.207547   49530.0  3.764151   \nSherlock Holmes: A Game of Shadows (2011)  297.578947   91542.0  3.763158   \n\n                                                  y  \ntitle                                                \nCity of God (Cidade de Deus) (2002)        0.643322  \nWarriors, The (1979)                       0.434156  \nBlood Diamond (2006)                       0.260807  \nSherlock Holmes: A Game of Shadows (2011)  0.259814  ",
      "text/html": "<div>\n<style scoped>\n    .dataframe tbody tr th:only-of-type {\n        vertical-align: middle;\n    }\n\n    .dataframe tbody tr th {\n        vertical-align: top;\n    }\n\n    .dataframe thead th {\n        text-align: right;\n    }\n</style>\n<table border=\"1\" class=\"dataframe\">\n  <thead>\n    <tr style=\"text-align: right;\">\n      <th></th>\n      <th>user_id</th>\n      <th>movie_id</th>\n      <th>rating</th>\n      <th>y</th>\n    </tr>\n    <tr>\n      <th>title</th>\n      <th></th>\n      <th></th>\n      <th></th>\n      <th></th>\n    </tr>\n  </thead>\n  <tbody>\n    <tr>\n      <th>City of God (Cidade de Deus) (2002)</th>\n      <td>313.066667</td>\n      <td>6016.0</td>\n      <td>4.146667</td>\n      <td>0.643322</td>\n    </tr>\n    <tr>\n      <th>Warriors, The (1979)</th>\n      <td>279.875000</td>\n      <td>7802.0</td>\n      <td>3.937500</td>\n      <td>0.434156</td>\n    </tr>\n    <tr>\n      <th>Blood Diamond (2006)</th>\n      <td>339.207547</td>\n      <td>49530.0</td>\n      <td>3.764151</td>\n      <td>0.260807</td>\n    </tr>\n    <tr>\n      <th>Sherlock Holmes: A Game of Shadows (2011)</th>\n      <td>297.578947</td>\n      <td>91542.0</td>\n      <td>3.763158</td>\n      <td>0.259814</td>\n    </tr>\n  </tbody>\n</table>\n</div>"
     },
     "metadata": {},
     "execution_count": 74
    }
   ],
   "source": [
    "best_ratings"
   ]
  },
  {
   "cell_type": "code",
   "execution_count": 107,
   "metadata": {},
   "outputs": [],
   "source": [
    "result = pd.DataFrame()\n",
    "result['title'] = best_ratings.index \n",
    "result['mean_rating'] = best_ratings.rating.values"
   ]
  },
  {
   "cell_type": "code",
   "execution_count": 108,
   "metadata": {},
   "outputs": [
    {
     "output_type": "execute_result",
     "data": {
      "text/plain": "                                       title  mean_rating\n0        City of God (Cidade de Deus) (2002)     4.146667\n1                       Warriors, The (1979)     3.937500\n2                       Blood Diamond (2006)     3.764151\n3  Sherlock Holmes: A Game of Shadows (2011)     3.763158",
      "text/html": "<div>\n<style scoped>\n    .dataframe tbody tr th:only-of-type {\n        vertical-align: middle;\n    }\n\n    .dataframe tbody tr th {\n        vertical-align: top;\n    }\n\n    .dataframe thead th {\n        text-align: right;\n    }\n</style>\n<table border=\"1\" class=\"dataframe\">\n  <thead>\n    <tr style=\"text-align: right;\">\n      <th></th>\n      <th>title</th>\n      <th>mean_rating</th>\n    </tr>\n  </thead>\n  <tbody>\n    <tr>\n      <th>0</th>\n      <td>City of God (Cidade de Deus) (2002)</td>\n      <td>4.146667</td>\n    </tr>\n    <tr>\n      <th>1</th>\n      <td>Warriors, The (1979)</td>\n      <td>3.937500</td>\n    </tr>\n    <tr>\n      <th>2</th>\n      <td>Blood Diamond (2006)</td>\n      <td>3.764151</td>\n    </tr>\n    <tr>\n      <th>3</th>\n      <td>Sherlock Holmes: A Game of Shadows (2011)</td>\n      <td>3.763158</td>\n    </tr>\n  </tbody>\n</table>\n</div>"
     },
     "metadata": {},
     "execution_count": 108
    }
   ],
   "source": [
    "# we need the movie ids\n",
    "result"
   ]
  },
  {
   "cell_type": "code",
   "execution_count": 109,
   "metadata": {},
   "outputs": [],
   "source": [
    "movies_filter =  df['title'].isin(list(best_ratings.index[:4]))"
   ]
  },
  {
   "cell_type": "code",
   "execution_count": 110,
   "metadata": {},
   "outputs": [],
   "source": [
    "movies=df[movies_filter]"
   ]
  },
  {
   "cell_type": "code",
   "execution_count": 111,
   "metadata": {},
   "outputs": [],
   "source": [
    "movies = movies[['title','movie_id']]\n",
    "movies = movies.drop_duplicates()"
   ]
  },
  {
   "cell_type": "code",
   "execution_count": 112,
   "metadata": {},
   "outputs": [
    {
     "output_type": "execute_result",
     "data": {
      "text/plain": "                                           title  movie_id\n108                         Blood Diamond (2006)     49530\n714          City of God (Cidade de Deus) (2002)      6016\n4216   Sherlock Holmes: A Game of Shadows (2011)     91542\n13261                       Warriors, The (1979)      7802",
      "text/html": "<div>\n<style scoped>\n    .dataframe tbody tr th:only-of-type {\n        vertical-align: middle;\n    }\n\n    .dataframe tbody tr th {\n        vertical-align: top;\n    }\n\n    .dataframe thead th {\n        text-align: right;\n    }\n</style>\n<table border=\"1\" class=\"dataframe\">\n  <thead>\n    <tr style=\"text-align: right;\">\n      <th></th>\n      <th>title</th>\n      <th>movie_id</th>\n    </tr>\n  </thead>\n  <tbody>\n    <tr>\n      <th>108</th>\n      <td>Blood Diamond (2006)</td>\n      <td>49530</td>\n    </tr>\n    <tr>\n      <th>714</th>\n      <td>City of God (Cidade de Deus) (2002)</td>\n      <td>6016</td>\n    </tr>\n    <tr>\n      <th>4216</th>\n      <td>Sherlock Holmes: A Game of Shadows (2011)</td>\n      <td>91542</td>\n    </tr>\n    <tr>\n      <th>13261</th>\n      <td>Warriors, The (1979)</td>\n      <td>7802</td>\n    </tr>\n  </tbody>\n</table>\n</div>"
     },
     "metadata": {},
     "execution_count": 112
    }
   ],
   "source": [
    "movies"
   ]
  },
  {
   "cell_type": "code",
   "execution_count": 116,
   "metadata": {},
   "outputs": [],
   "source": [
    "reuslt2 = pd.merge(result, movies, on='title')"
   ]
  },
  {
   "cell_type": "code",
   "execution_count": 117,
   "metadata": {},
   "outputs": [
    {
     "output_type": "execute_result",
     "data": {
      "text/plain": "                                       title  mean_rating  movie_id\n0        City of God (Cidade de Deus) (2002)     4.146667      6016\n1                       Warriors, The (1979)     3.937500      7802\n2                       Blood Diamond (2006)     3.764151     49530\n3  Sherlock Holmes: A Game of Shadows (2011)     3.763158     91542",
      "text/html": "<div>\n<style scoped>\n    .dataframe tbody tr th:only-of-type {\n        vertical-align: middle;\n    }\n\n    .dataframe tbody tr th {\n        vertical-align: top;\n    }\n\n    .dataframe thead th {\n        text-align: right;\n    }\n</style>\n<table border=\"1\" class=\"dataframe\">\n  <thead>\n    <tr style=\"text-align: right;\">\n      <th></th>\n      <th>title</th>\n      <th>mean_rating</th>\n      <th>movie_id</th>\n    </tr>\n  </thead>\n  <tbody>\n    <tr>\n      <th>0</th>\n      <td>City of God (Cidade de Deus) (2002)</td>\n      <td>4.146667</td>\n      <td>6016</td>\n    </tr>\n    <tr>\n      <th>1</th>\n      <td>Warriors, The (1979)</td>\n      <td>3.937500</td>\n      <td>7802</td>\n    </tr>\n    <tr>\n      <th>2</th>\n      <td>Blood Diamond (2006)</td>\n      <td>3.764151</td>\n      <td>49530</td>\n    </tr>\n    <tr>\n      <th>3</th>\n      <td>Sherlock Holmes: A Game of Shadows (2011)</td>\n      <td>3.763158</td>\n      <td>91542</td>\n    </tr>\n  </tbody>\n</table>\n</div>"
     },
     "metadata": {},
     "execution_count": 117
    }
   ],
   "source": [
    "reuslt2"
   ]
  },
  {
   "cell_type": "code",
   "execution_count": 119,
   "metadata": {},
   "outputs": [],
   "source": [
    "reuslt2['user'] = uid"
   ]
  },
  {
   "cell_type": "code",
   "execution_count": 120,
   "metadata": {},
   "outputs": [
    {
     "output_type": "execute_result",
     "data": {
      "text/plain": "                                       title  mean_rating  movie_id  user\n0        City of God (Cidade de Deus) (2002)     4.146667      6016   557\n1                       Warriors, The (1979)     3.937500      7802   557\n2                       Blood Diamond (2006)     3.764151     49530   557\n3  Sherlock Holmes: A Game of Shadows (2011)     3.763158     91542   557",
      "text/html": "<div>\n<style scoped>\n    .dataframe tbody tr th:only-of-type {\n        vertical-align: middle;\n    }\n\n    .dataframe tbody tr th {\n        vertical-align: top;\n    }\n\n    .dataframe thead th {\n        text-align: right;\n    }\n</style>\n<table border=\"1\" class=\"dataframe\">\n  <thead>\n    <tr style=\"text-align: right;\">\n      <th></th>\n      <th>title</th>\n      <th>mean_rating</th>\n      <th>movie_id</th>\n      <th>user</th>\n    </tr>\n  </thead>\n  <tbody>\n    <tr>\n      <th>0</th>\n      <td>City of God (Cidade de Deus) (2002)</td>\n      <td>4.146667</td>\n      <td>6016</td>\n      <td>557</td>\n    </tr>\n    <tr>\n      <th>1</th>\n      <td>Warriors, The (1979)</td>\n      <td>3.937500</td>\n      <td>7802</td>\n      <td>557</td>\n    </tr>\n    <tr>\n      <th>2</th>\n      <td>Blood Diamond (2006)</td>\n      <td>3.764151</td>\n      <td>49530</td>\n      <td>557</td>\n    </tr>\n    <tr>\n      <th>3</th>\n      <td>Sherlock Holmes: A Game of Shadows (2011)</td>\n      <td>3.763158</td>\n      <td>91542</td>\n      <td>557</td>\n    </tr>\n  </tbody>\n</table>\n</div>"
     },
     "metadata": {},
     "execution_count": 120
    }
   ],
   "source": [
    "reuslt2"
   ]
  },
  {
   "cell_type": "code",
   "execution_count": 121,
   "metadata": {},
   "outputs": [],
   "source": [
    "preds=model.predict([reuslt2.user, reuslt2.movie_id])"
   ]
  },
  {
   "cell_type": "code",
   "execution_count": 122,
   "metadata": {},
   "outputs": [],
   "source": [
    "row = df.iloc[2] # The difference between rating and y will be the same for all rows, so we can just use the third\n",
    "y_delta = row.rating - row.y"
   ]
  },
  {
   "cell_type": "code",
   "execution_count": 123,
   "metadata": {},
   "outputs": [
    {
     "output_type": "execute_result",
     "data": {
      "text/plain": "3.5033442789139633"
     },
     "metadata": {},
     "execution_count": 123
    }
   ],
   "source": [
    "y_delta"
   ]
  },
  {
   "cell_type": "code",
   "execution_count": 125,
   "metadata": {},
   "outputs": [
    {
     "output_type": "execute_result",
     "data": {
      "text/plain": "                                       title  mean_rating  movie_id  user  \\\n2                       Blood Diamond (2006)     3.764151     49530   557   \n3  Sherlock Holmes: A Game of Shadows (2011)     3.763158     91542   557   \n0        City of God (Cidade de Deus) (2002)     4.146667      6016   557   \n1                       Warriors, The (1979)     3.937500      7802   557   \n\n   predicted_rating     delta  \n2          3.746433 -0.017718  \n3          3.704993 -0.058165  \n0          4.083444 -0.063223  \n1          3.865303 -0.072197  ",
      "text/html": "<div>\n<style scoped>\n    .dataframe tbody tr th:only-of-type {\n        vertical-align: middle;\n    }\n\n    .dataframe tbody tr th {\n        vertical-align: top;\n    }\n\n    .dataframe thead th {\n        text-align: right;\n    }\n</style>\n<table border=\"1\" class=\"dataframe\">\n  <thead>\n    <tr style=\"text-align: right;\">\n      <th></th>\n      <th>title</th>\n      <th>mean_rating</th>\n      <th>movie_id</th>\n      <th>user</th>\n      <th>predicted_rating</th>\n      <th>delta</th>\n    </tr>\n  </thead>\n  <tbody>\n    <tr>\n      <th>2</th>\n      <td>Blood Diamond (2006)</td>\n      <td>3.764151</td>\n      <td>49530</td>\n      <td>557</td>\n      <td>3.746433</td>\n      <td>-0.017718</td>\n    </tr>\n    <tr>\n      <th>3</th>\n      <td>Sherlock Holmes: A Game of Shadows (2011)</td>\n      <td>3.763158</td>\n      <td>91542</td>\n      <td>557</td>\n      <td>3.704993</td>\n      <td>-0.058165</td>\n    </tr>\n    <tr>\n      <th>0</th>\n      <td>City of God (Cidade de Deus) (2002)</td>\n      <td>4.146667</td>\n      <td>6016</td>\n      <td>557</td>\n      <td>4.083444</td>\n      <td>-0.063223</td>\n    </tr>\n    <tr>\n      <th>1</th>\n      <td>Warriors, The (1979)</td>\n      <td>3.937500</td>\n      <td>7802</td>\n      <td>557</td>\n      <td>3.865303</td>\n      <td>-0.072197</td>\n    </tr>\n  </tbody>\n</table>\n</div>"
     },
     "metadata": {},
     "execution_count": 125
    }
   ],
   "source": [
    "reuslt2['predicted_rating'] = preds + y_delta\n",
    "# Add a column with the difference between our predicted rating (for this user) and the movie's\n",
    "# overall average rating across all users in the dataset.\n",
    "reuslt2['delta'] = reuslt2['predicted_rating'] - reuslt2['mean_rating']\n",
    "reuslt2.sort_values(by='delta', ascending=False)"
   ]
  },
  {
   "cell_type": "code",
   "execution_count": null,
   "metadata": {},
   "outputs": [],
   "source": []
  }
 ]
}