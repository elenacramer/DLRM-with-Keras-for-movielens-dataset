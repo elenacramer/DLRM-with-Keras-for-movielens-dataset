{
 "nbformat": 4,
 "nbformat_minor": 2,
 "metadata": {
  "language_info": {
   "name": "python",
   "codemirror_mode": {
    "name": "ipython",
    "version": 3
   },
   "version": "3.6.9-final"
  },
  "orig_nbformat": 2,
  "file_extension": ".py",
  "mimetype": "text/x-python",
  "name": "python",
  "npconvert_exporter": "python",
  "pygments_lexer": "ipython3",
  "version": 3,
  "kernelspec": {
   "name": "python36964bitkagglenewpipenv345dfe1713484c20b6863d1100cfe670",
   "display_name": "Python 3.6.9 64-bit ('kaggle_new': pipenv)"
  }
 },
 "cells": [
  {
   "cell_type": "code",
   "execution_count": 39,
   "metadata": {},
   "outputs": [],
   "source": [
    "# training a model using all possible features\n",
    "# questions arises if we should encode before or after splitting the data\n",
    "# after some research on the internet, most recommend doing the encoding on the training data, and \n",
    "# repeating the steps on for the test data\n",
    "# most exercises on kaggle did the encoding on the whole dataset, then split it\n",
    "# I think there is a possibility of data leackage when encoding on the whole data set!\n",
    "# usind data preperation as in the pytorch example"
   ]
  },
  {
   "cell_type": "code",
   "execution_count": 41,
   "metadata": {},
   "outputs": [],
   "source": [
    "# reading the data ml-latest-small\n",
    "import pandas as pd\n",
    "import zipfile\n",
    "import numpy as np \n",
    "zf = zipfile.ZipFile('/home/elena/Downloads/ml-latest-small.zip')\n",
    "# reading ratings file:\n",
    "r_cols = ['user_id', 'movie_id', 'rating', 'unix_timestamp']\n",
    "ratings = pd.read_csv(zf.open('ml-latest-small/ratings.csv'), names=r_cols)\n",
    "m_cols=['movie_id', 'title', 'genre']\n",
    "movies = pd.read_csv(zf.open('ml-latest-small/movies.csv'), names=m_cols)\n",
    "# merging ratings and movies\n",
    "data=pd.merge(ratings,movies,on='movie_id')"
   ]
  },
  {
   "cell_type": "code",
   "execution_count": 42,
   "metadata": {},
   "outputs": [
    {
     "data": {
      "text/html": "<div>\n<style scoped>\n    .dataframe tbody tr th:only-of-type {\n        vertical-align: middle;\n    }\n\n    .dataframe tbody tr th {\n        vertical-align: top;\n    }\n\n    .dataframe thead th {\n        text-align: right;\n    }\n</style>\n<table border=\"1\" class=\"dataframe\">\n  <thead>\n    <tr style=\"text-align: right;\">\n      <th></th>\n      <th>user_id</th>\n      <th>age</th>\n      <th>sex</th>\n      <th>occupation</th>\n      <th>zip_code</th>\n      <th>movie_id</th>\n      <th>rating</th>\n      <th>unix_timestamp</th>\n      <th>title</th>\n      <th>genre</th>\n    </tr>\n  </thead>\n  <tbody>\n    <tr>\n      <th>0</th>\n      <td>1</td>\n      <td>24</td>\n      <td>M</td>\n      <td>technician</td>\n      <td>85711</td>\n      <td>1</td>\n      <td>4.0</td>\n      <td>964982703</td>\n      <td>Toy Story (1995)</td>\n      <td>Adventure|Animation|Children|Comedy|Fantasy</td>\n    </tr>\n    <tr>\n      <th>1</th>\n      <td>1</td>\n      <td>24</td>\n      <td>M</td>\n      <td>technician</td>\n      <td>85711</td>\n      <td>3</td>\n      <td>4.0</td>\n      <td>964981247</td>\n      <td>Grumpier Old Men (1995)</td>\n      <td>Comedy|Romance</td>\n    </tr>\n    <tr>\n      <th>2</th>\n      <td>1</td>\n      <td>24</td>\n      <td>M</td>\n      <td>technician</td>\n      <td>85711</td>\n      <td>6</td>\n      <td>4.0</td>\n      <td>964982224</td>\n      <td>Heat (1995)</td>\n      <td>Action|Crime|Thriller</td>\n    </tr>\n    <tr>\n      <th>3</th>\n      <td>1</td>\n      <td>24</td>\n      <td>M</td>\n      <td>technician</td>\n      <td>85711</td>\n      <td>47</td>\n      <td>5.0</td>\n      <td>964983815</td>\n      <td>Seven (a.k.a. Se7en) (1995)</td>\n      <td>Mystery|Thriller</td>\n    </tr>\n    <tr>\n      <th>4</th>\n      <td>1</td>\n      <td>24</td>\n      <td>M</td>\n      <td>technician</td>\n      <td>85711</td>\n      <td>50</td>\n      <td>5.0</td>\n      <td>964982931</td>\n      <td>Usual Suspects, The (1995)</td>\n      <td>Crime|Mystery|Thriller</td>\n    </tr>\n  </tbody>\n</table>\n</div>",
      "text/plain": "   user_id  age sex  occupation zip_code  movie_id  rating  unix_timestamp  \\\n0        1   24   M  technician    85711         1     4.0       964982703   \n1        1   24   M  technician    85711         3     4.0       964981247   \n2        1   24   M  technician    85711         6     4.0       964982224   \n3        1   24   M  technician    85711        47     5.0       964983815   \n4        1   24   M  technician    85711        50     5.0       964982931   \n\n                         title                                        genre  \n0             Toy Story (1995)  Adventure|Animation|Children|Comedy|Fantasy  \n1      Grumpier Old Men (1995)                               Comedy|Romance  \n2                  Heat (1995)                        Action|Crime|Thriller  \n3  Seven (a.k.a. Se7en) (1995)                             Mystery|Thriller  \n4   Usual Suspects, The (1995)                       Crime|Mystery|Thriller  "
     },
     "execution_count": 42,
     "metadata": {},
     "output_type": "execute_result"
    }
   ],
   "source": [
    "zz = zipfile.ZipFile('/home/elena/Downloads/ml-100k.zip')\n",
    "# reading users file:\n",
    "u_cols = ['user_id', 'age', 'sex', 'occupation', 'zip_code']\n",
    "users = pd.read_csv(zz.open('ml-100k/u.user'), sep='|', names=u_cols,encoding='latin-1')\n",
    "data=pd.merge(users,data, on='user_id')\n",
    "data.head()"
   ]
  },
  {
   "cell_type": "code",
   "execution_count": 43,
   "metadata": {},
   "outputs": [
    {
     "data": {
      "text/plain": "user_id             int64\nage                 int64\nsex                object\noccupation         object\nzip_code           object\nmovie_id            int64\nrating            float64\nunix_timestamp      int64\ntitle              object\ngenre              object\ndtype: object"
     },
     "execution_count": 43,
     "metadata": {},
     "output_type": "execute_result"
    }
   ],
   "source": [
    "cat_features=['sex','occupation','zip_code','genre' ]\n",
    "num_features=['user_id','age','movie_id','rating','unix_timestamp','movie_index']\n",
    "data.dtypes\n",
    "# we can remove title when training the model, since it will not effect the outcome; it's just a name \n",
    "# assigned to each movie_id"
   ]
  },
  {
   "cell_type": "code",
   "execution_count": 44,
   "metadata": {},
   "outputs": [
    {
     "data": {
      "text/plain": "(1, 193609, 9724)"
     },
     "execution_count": 44,
     "metadata": {},
     "output_type": "execute_result"
    }
   ],
   "source": [
    "unique_movies=data.movie_id.unique()\n",
    "unique_movies.min(),unique_movies.max(), len(unique_movies)\n",
    "# movie_id's are numbers, but they have a bigger range then the actual amount of unique movies!\n",
    "# lets start with indexing the movie_id"
   ]
  },
  {
   "cell_type": "code",
   "execution_count": 45,
   "metadata": {},
   "outputs": [
    {
     "data": {
      "text/html": "<div>\n<style scoped>\n    .dataframe tbody tr th:only-of-type {\n        vertical-align: middle;\n    }\n\n    .dataframe tbody tr th {\n        vertical-align: top;\n    }\n\n    .dataframe thead th {\n        text-align: right;\n    }\n</style>\n<table border=\"1\" class=\"dataframe\">\n  <thead>\n    <tr style=\"text-align: right;\">\n      <th></th>\n      <th>user_id</th>\n      <th>age</th>\n      <th>sex</th>\n      <th>occupation</th>\n      <th>zip_code</th>\n      <th>movie_id</th>\n      <th>rating</th>\n      <th>unix_timestamp</th>\n      <th>title</th>\n      <th>genre</th>\n      <th>movie_index</th>\n    </tr>\n  </thead>\n  <tbody>\n    <tr>\n      <th>0</th>\n      <td>1</td>\n      <td>24</td>\n      <td>M</td>\n      <td>technician</td>\n      <td>85711</td>\n      <td>1</td>\n      <td>4.0</td>\n      <td>964982703</td>\n      <td>Toy Story (1995)</td>\n      <td>Adventure|Animation|Children|Comedy|Fantasy</td>\n      <td>0</td>\n    </tr>\n    <tr>\n      <th>1</th>\n      <td>1</td>\n      <td>24</td>\n      <td>M</td>\n      <td>technician</td>\n      <td>85711</td>\n      <td>3</td>\n      <td>4.0</td>\n      <td>964981247</td>\n      <td>Grumpier Old Men (1995)</td>\n      <td>Comedy|Romance</td>\n      <td>1</td>\n    </tr>\n    <tr>\n      <th>2</th>\n      <td>1</td>\n      <td>24</td>\n      <td>M</td>\n      <td>technician</td>\n      <td>85711</td>\n      <td>6</td>\n      <td>4.0</td>\n      <td>964982224</td>\n      <td>Heat (1995)</td>\n      <td>Action|Crime|Thriller</td>\n      <td>2</td>\n    </tr>\n    <tr>\n      <th>3</th>\n      <td>1</td>\n      <td>24</td>\n      <td>M</td>\n      <td>technician</td>\n      <td>85711</td>\n      <td>47</td>\n      <td>5.0</td>\n      <td>964983815</td>\n      <td>Seven (a.k.a. Se7en) (1995)</td>\n      <td>Mystery|Thriller</td>\n      <td>3</td>\n    </tr>\n    <tr>\n      <th>4</th>\n      <td>1</td>\n      <td>24</td>\n      <td>M</td>\n      <td>technician</td>\n      <td>85711</td>\n      <td>50</td>\n      <td>5.0</td>\n      <td>964982931</td>\n      <td>Usual Suspects, The (1995)</td>\n      <td>Crime|Mystery|Thriller</td>\n      <td>4</td>\n    </tr>\n  </tbody>\n</table>\n</div>",
      "text/plain": "   user_id  age sex  occupation zip_code  movie_id  rating  unix_timestamp  \\\n0        1   24   M  technician    85711         1     4.0       964982703   \n1        1   24   M  technician    85711         3     4.0       964981247   \n2        1   24   M  technician    85711         6     4.0       964982224   \n3        1   24   M  technician    85711        47     5.0       964983815   \n4        1   24   M  technician    85711        50     5.0       964982931   \n\n                         title                                        genre  \\\n0             Toy Story (1995)  Adventure|Animation|Children|Comedy|Fantasy   \n1      Grumpier Old Men (1995)                               Comedy|Romance   \n2                  Heat (1995)                        Action|Crime|Thriller   \n3  Seven (a.k.a. Se7en) (1995)                             Mystery|Thriller   \n4   Usual Suspects, The (1995)                       Crime|Mystery|Thriller   \n\n   movie_index  \n0            0  \n1            1  \n2            2  \n3            3  \n4            4  "
     },
     "execution_count": 45,
     "metadata": {},
     "output_type": "execute_result"
    }
   ],
   "source": [
    "unique_movies = data.movie_id.unique() # returns a np array\n",
    "movie_to_index = {old: new for new, old in enumerate(unique_movies)} # indexing movie_id, tart at 0\n",
    "index_to_movie = {idx: movie for movie, idx in movie_to_index.items()}\n",
    "new_movies = data.movie_id.map(movie_to_index) # replaces movie_id with coresp. index\n",
    "data['movie_index']=new_movies\n",
    "data.head()"
   ]
  },
  {
   "cell_type": "code",
   "execution_count": 46,
   "metadata": {},
   "outputs": [
    {
     "data": {
      "text/html": "<div>\n<style scoped>\n    .dataframe tbody tr th:only-of-type {\n        vertical-align: middle;\n    }\n\n    .dataframe tbody tr th {\n        vertical-align: top;\n    }\n\n    .dataframe thead th {\n        text-align: right;\n    }\n</style>\n<table border=\"1\" class=\"dataframe\">\n  <thead>\n    <tr style=\"text-align: right;\">\n      <th></th>\n      <th>user_id</th>\n      <th>movie_id</th>\n      <th>movie_index</th>\n      <th>rating</th>\n      <th>old_movie_id</th>\n    </tr>\n  </thead>\n  <tbody>\n    <tr>\n      <th>100831</th>\n      <td>610</td>\n      <td>160341</td>\n      <td>9719</td>\n      <td>2.5</td>\n      <td>160341</td>\n    </tr>\n    <tr>\n      <th>100832</th>\n      <td>610</td>\n      <td>160527</td>\n      <td>9720</td>\n      <td>4.5</td>\n      <td>160527</td>\n    </tr>\n    <tr>\n      <th>100833</th>\n      <td>610</td>\n      <td>160836</td>\n      <td>9721</td>\n      <td>3.0</td>\n      <td>160836</td>\n    </tr>\n    <tr>\n      <th>100834</th>\n      <td>610</td>\n      <td>163937</td>\n      <td>9722</td>\n      <td>3.5</td>\n      <td>163937</td>\n    </tr>\n    <tr>\n      <th>100835</th>\n      <td>610</td>\n      <td>163981</td>\n      <td>9723</td>\n      <td>3.5</td>\n      <td>163981</td>\n    </tr>\n  </tbody>\n</table>\n</div>",
      "text/plain": "        user_id  movie_id  movie_index  rating  old_movie_id\n100831      610    160341         9719     2.5        160341\n100832      610    160527         9720     4.5        160527\n100833      610    160836         9721     3.0        160836\n100834      610    163937         9722     3.5        163937\n100835      610    163981         9723     3.5        163981"
     },
     "execution_count": 46,
     "metadata": {},
     "output_type": "execute_result"
    }
   ],
   "source": [
    "# to be sure that we have done it right, lets compare\n",
    "compare_data=data[['user_id', 'movie_id', 'movie_index','rating']]\n",
    "compare_data['old_movie_id']=compare_data.movie_index.map(index_to_movie)\n",
    "compare_data.tail() # looks good"
   ]
  },
  {
   "cell_type": "code",
   "execution_count": 49,
   "metadata": {},
   "outputs": [
    {
     "data": {
      "text/plain": "(610, 1, 610)"
     },
     "execution_count": 49,
     "metadata": {},
     "output_type": "execute_result"
    }
   ],
   "source": [
    "data.user_id.unique().shape[0], data.user_id.min(), data.user_id.max(), \n",
    "# we have as many users as we have id's for them"
   ]
  },
  {
   "cell_type": "code",
   "execution_count": 50,
   "metadata": {},
   "outputs": [
    {
     "data": {
      "text/plain": "(21, 541, 951)"
     },
     "execution_count": 50,
     "metadata": {},
     "output_type": "execute_result"
    }
   ],
   "source": [
    "data.occupation.unique().shape[0], data.zip_code.unique().shape[0], data.genre.unique().shape[0]"
   ]
  },
  {
   "cell_type": "code",
   "execution_count": 51,
   "metadata": {},
   "outputs": [],
   "source": [
    "# we have several categorical features; 'sex','occupation','zip_code','genre'\n",
    "# age is the only numerical feature where the number has a 'meaning'\n",
    "# there a 2 ways how to handle cat. features: encoding (different ways to do so) and embeddings\n",
    "#  first approach will be to use embeddings\n",
    "# note: 1 embedding layer is required for each categorical feature, and the embedding expects the \n",
    "# categories to be ordinal encoded, although no relationship between the categories is assumed \n",
    "# (statement from kaggle)"
   ]
  },
  {
   "cell_type": "code",
   "execution_count": 52,
   "metadata": {},
   "outputs": [],
   "source": [
    "# splitting into train and test data\n",
    "# data was split and safed! \n",
    "train=pd.read_pickle('/home/elena/Downloads/traindata.pkl')\n",
    "test=pd.read_pickle('/home/elena/Downloads/testdata.pkl')"
   ]
  },
  {
   "cell_type": "code",
   "execution_count": 58,
   "metadata": {},
   "outputs": [],
   "source": [
    "# we need to add movie_index to train and test data\n",
    "train['movie_index']=train.movie_id.map(movie_to_index)\n",
    "test['movie_index']=test.movie_id.map(movie_to_index)"
   ]
  },
  {
   "cell_type": "code",
   "execution_count": 59,
   "metadata": {},
   "outputs": [
    {
     "data": {
      "text/html": "<div>\n<style scoped>\n    .dataframe tbody tr th:only-of-type {\n        vertical-align: middle;\n    }\n\n    .dataframe tbody tr th {\n        vertical-align: top;\n    }\n\n    .dataframe thead th {\n        text-align: right;\n    }\n</style>\n<table border=\"1\" class=\"dataframe\">\n  <thead>\n    <tr style=\"text-align: right;\">\n      <th></th>\n      <th>user_id</th>\n      <th>age</th>\n      <th>sex</th>\n      <th>occupation</th>\n      <th>zip_code</th>\n      <th>movie_id</th>\n      <th>rating</th>\n      <th>unix_timestamp</th>\n      <th>title</th>\n      <th>genre</th>\n      <th>movie_index</th>\n    </tr>\n  </thead>\n  <tbody>\n    <tr>\n      <th>97717</th>\n      <td>606</td>\n      <td>28</td>\n      <td>M</td>\n      <td>programmer</td>\n      <td>63044</td>\n      <td>3462</td>\n      <td>4.0</td>\n      <td>1171501099</td>\n      <td>Modern Times (1936)</td>\n      <td>Comedy|Drama|Romance</td>\n      <td>1185</td>\n    </tr>\n    <tr>\n      <th>100124</th>\n      <td>610</td>\n      <td>22</td>\n      <td>M</td>\n      <td>student</td>\n      <td>21227</td>\n      <td>8914</td>\n      <td>4.0</td>\n      <td>1493845360</td>\n      <td>Primer (2004)</td>\n      <td>Drama|Sci-Fi</td>\n      <td>2266</td>\n    </tr>\n    <tr>\n      <th>25952</th>\n      <td>180</td>\n      <td>22</td>\n      <td>F</td>\n      <td>administrator</td>\n      <td>60202</td>\n      <td>1196</td>\n      <td>4.0</td>\n      <td>1270237862</td>\n      <td>Star Wars: Episode V - The Empire Strikes Back...</td>\n      <td>Action|Adventure|Sci-Fi</td>\n      <td>68</td>\n    </tr>\n    <tr>\n      <th>25871</th>\n      <td>178</td>\n      <td>26</td>\n      <td>M</td>\n      <td>other</td>\n      <td>49512</td>\n      <td>2231</td>\n      <td>4.5</td>\n      <td>1163673637</td>\n      <td>Rounders (1998)</td>\n      <td>Drama</td>\n      <td>2183</td>\n    </tr>\n    <tr>\n      <th>97255</th>\n      <td>605</td>\n      <td>33</td>\n      <td>M</td>\n      <td>engineer</td>\n      <td>33716</td>\n      <td>1588</td>\n      <td>4.0</td>\n      <td>1277094877</td>\n      <td>George of the Jungle (1997)</td>\n      <td>Children|Comedy</td>\n      <td>1495</td>\n    </tr>\n  </tbody>\n</table>\n</div>",
      "text/plain": "        user_id  age sex     occupation zip_code  movie_id  rating  \\\n97717       606   28   M     programmer    63044      3462     4.0   \n100124      610   22   M        student    21227      8914     4.0   \n25952       180   22   F  administrator    60202      1196     4.0   \n25871       178   26   M          other    49512      2231     4.5   \n97255       605   33   M       engineer    33716      1588     4.0   \n\n        unix_timestamp                                              title  \\\n97717       1171501099                                Modern Times (1936)   \n100124      1493845360                                      Primer (2004)   \n25952       1270237862  Star Wars: Episode V - The Empire Strikes Back...   \n25871       1163673637                                    Rounders (1998)   \n97255       1277094877                        George of the Jungle (1997)   \n\n                          genre  movie_index  \n97717      Comedy|Drama|Romance         1185  \n100124             Drama|Sci-Fi         2266  \n25952   Action|Adventure|Sci-Fi           68  \n25871                     Drama         2183  \n97255           Children|Comedy         1495  "
     },
     "execution_count": 59,
     "metadata": {},
     "output_type": "execute_result"
    }
   ],
   "source": [
    "train.head()"
   ]
  },
  {
   "cell_type": "code",
   "execution_count": 60,
   "metadata": {},
   "outputs": [
    {
     "data": {
      "text/plain": "1185"
     },
     "execution_count": 60,
     "metadata": {},
     "output_type": "execute_result"
    }
   ],
   "source": [
    "movie_to_index[3462]"
   ]
  },
  {
   "cell_type": "code",
   "execution_count": 62,
   "metadata": {},
   "outputs": [],
   "source": [
    "y_train=train.rating\n",
    "y_test=test.rating\n",
    "X_train=train.drop('rating',axis=1)\n",
    "X_test=test.drop('rating', axis=1)"
   ]
  },
  {
   "cell_type": "code",
   "execution_count": 64,
   "metadata": {},
   "outputs": [
    {
     "data": {
      "text/plain": "(75627, 10)"
     },
     "execution_count": 64,
     "metadata": {},
     "output_type": "execute_result"
    }
   ],
   "source": [
    "X_train.shape"
   ]
  },
  {
   "cell_type": "code",
   "execution_count": 65,
   "metadata": {},
   "outputs": [],
   "source": [
    "# Encoding and getting data ready\n",
    "from sklearn.preprocessing import LabelEncoder\n",
    "# 1. approach: we fit on the training data, and transform the encoding to train and test datat \n",
    "# we got an error, because e.g. we have genre which are in test data but not in train!\n",
    "# thus, we use encoding seperately\n",
    "# Make copy to avoid changing original data \n",
    "X_train_label = X_train.copy()\n",
    "X_test_label = X_test.copy()\n",
    "\n",
    "cat_features=['unix_timestamp','sex','occupation','zip_code','genre']\n",
    "# Apply label encoder to each column with categorical data\n",
    "label_encoder = LabelEncoder()\n",
    "for col in cat_features:\n",
    "    X_train_label[col+'_label'] = label_encoder.fit_transform(X_train[col])\n",
    "    X_test_label[col+'_label'] = label_encoder.fit_transform(X_test[col])"
   ]
  },
  {
   "cell_type": "code",
   "execution_count": 66,
   "metadata": {},
   "outputs": [
    {
     "data": {
      "text/html": "<div>\n<style scoped>\n    .dataframe tbody tr th:only-of-type {\n        vertical-align: middle;\n    }\n\n    .dataframe tbody tr th {\n        vertical-align: top;\n    }\n\n    .dataframe thead th {\n        text-align: right;\n    }\n</style>\n<table border=\"1\" class=\"dataframe\">\n  <thead>\n    <tr style=\"text-align: right;\">\n      <th></th>\n      <th>user_id</th>\n      <th>age</th>\n      <th>sex</th>\n      <th>occupation</th>\n      <th>zip_code</th>\n      <th>movie_id</th>\n      <th>unix_timestamp</th>\n      <th>title</th>\n      <th>genre</th>\n      <th>movie_index</th>\n      <th>unix_timestamp_label</th>\n      <th>sex_label</th>\n      <th>occupation_label</th>\n      <th>zip_code_label</th>\n      <th>genre_label</th>\n    </tr>\n  </thead>\n  <tbody>\n    <tr>\n      <th>97717</th>\n      <td>606</td>\n      <td>28</td>\n      <td>M</td>\n      <td>programmer</td>\n      <td>63044</td>\n      <td>3462</td>\n      <td>1171501099</td>\n      <td>Modern Times (1936)</td>\n      <td>Comedy|Drama|Romance</td>\n      <td>1185</td>\n      <td>25146</td>\n      <td>1</td>\n      <td>14</td>\n      <td>342</td>\n      <td>661</td>\n    </tr>\n    <tr>\n      <th>100124</th>\n      <td>610</td>\n      <td>22</td>\n      <td>M</td>\n      <td>student</td>\n      <td>21227</td>\n      <td>8914</td>\n      <td>1493845360</td>\n      <td>Primer (2004)</td>\n      <td>Drama|Sci-Fi</td>\n      <td>2266</td>\n      <td>56337</td>\n      <td>1</td>\n      <td>18</td>\n      <td>138</td>\n      <td>842</td>\n    </tr>\n    <tr>\n      <th>25952</th>\n      <td>180</td>\n      <td>22</td>\n      <td>F</td>\n      <td>administrator</td>\n      <td>60202</td>\n      <td>1196</td>\n      <td>1270237862</td>\n      <td>Star Wars: Episode V - The Empire Strikes Back...</td>\n      <td>Action|Adventure|Sci-Fi</td>\n      <td>68</td>\n      <td>36514</td>\n      <td>0</td>\n      <td>0</td>\n      <td>325</td>\n      <td>120</td>\n    </tr>\n    <tr>\n      <th>25871</th>\n      <td>178</td>\n      <td>26</td>\n      <td>M</td>\n      <td>other</td>\n      <td>49512</td>\n      <td>2231</td>\n      <td>1163673637</td>\n      <td>Rounders (1998)</td>\n      <td>Drama</td>\n      <td>2183</td>\n      <td>23751</td>\n      <td>1</td>\n      <td>13</td>\n      <td>257</td>\n      <td>779</td>\n    </tr>\n    <tr>\n      <th>97255</th>\n      <td>605</td>\n      <td>33</td>\n      <td>M</td>\n      <td>engineer</td>\n      <td>33716</td>\n      <td>1588</td>\n      <td>1277094877</td>\n      <td>George of the Jungle (1997)</td>\n      <td>Children|Comedy</td>\n      <td>1495</td>\n      <td>36920</td>\n      <td>1</td>\n      <td>4</td>\n      <td>198</td>\n      <td>574</td>\n    </tr>\n  </tbody>\n</table>\n</div>",
      "text/plain": "        user_id  age sex     occupation zip_code  movie_id  unix_timestamp  \\\n97717       606   28   M     programmer    63044      3462      1171501099   \n100124      610   22   M        student    21227      8914      1493845360   \n25952       180   22   F  administrator    60202      1196      1270237862   \n25871       178   26   M          other    49512      2231      1163673637   \n97255       605   33   M       engineer    33716      1588      1277094877   \n\n                                                    title  \\\n97717                                 Modern Times (1936)   \n100124                                      Primer (2004)   \n25952   Star Wars: Episode V - The Empire Strikes Back...   \n25871                                     Rounders (1998)   \n97255                         George of the Jungle (1997)   \n\n                          genre  movie_index  unix_timestamp_label  sex_label  \\\n97717      Comedy|Drama|Romance         1185                 25146          1   \n100124             Drama|Sci-Fi         2266                 56337          1   \n25952   Action|Adventure|Sci-Fi           68                 36514          0   \n25871                     Drama         2183                 23751          1   \n97255           Children|Comedy         1495                 36920          1   \n\n        occupation_label  zip_code_label  genre_label  \n97717                 14             342          661  \n100124                18             138          842  \n25952                  0             325          120  \n25871                 13             257          779  \n97255                  4             198          574  "
     },
     "execution_count": 66,
     "metadata": {},
     "output_type": "execute_result"
    }
   ],
   "source": [
    "X_train_label.head()"
   ]
  },
  {
   "cell_type": "code",
   "execution_count": 67,
   "metadata": {},
   "outputs": [],
   "source": [
    "col_embedding=['user_id', 'movie_index', 'unix_timestamp_label', 'sex_label', 'occupation_label', 'zip_code_label', 'genre_label']\n",
    "# I left the feature age out, not sure how to handle it\n",
    "X_train_emb=X_train_label[col_embedding]\n",
    "X_test_emb=X_test_label[col_embedding]"
   ]
  },
  {
   "cell_type": "code",
   "execution_count": 68,
   "metadata": {},
   "outputs": [],
   "source": [
    "# Implementation \n",
    "from keras.layers import Input, Embedding, Concatenate, Flatten, Dense, Dot, Add, Multiply, Subtract, Average, Reshape\n",
    "from keras.models import Model\n",
    "from keras.callbacks import EarlyStopping"
   ]
  },
  {
   "cell_type": "code",
   "execution_count": 69,
   "metadata": {},
   "outputs": [],
   "source": [
    "# all features as embedding inputs"
   ]
  },
  {
   "cell_type": "code",
   "execution_count": 70,
   "metadata": {},
   "outputs": [
    {
     "data": {
      "text/plain": "(915, 761)"
     },
     "execution_count": 70,
     "metadata": {},
     "output_type": "execute_result"
    }
   ],
   "source": [
    "X_train_label.sex_label.max(), X_test_label.sex_label.max(),\n",
    "X_train_label.occupation_label.max(), X_test_label.occupation_label.max(),\n",
    "X_train_label.zip_code_label.max(), X_test_label.zip_code_label.max(),\n",
    "X_train_label.genre_label.max(), X_test_label.genre_label.max() # difference !"
   ]
  },
  {
   "cell_type": "code",
   "execution_count": 71,
   "metadata": {},
   "outputs": [],
   "source": [
    "def embedding_model(hidden_units, embedding_dim, merging_method):\n",
    "    # Each instance will consist of 7 inputs:\n",
    "    # col_embedding=['user_id', 'movie_index', 'unix_timestamp', 'sex_label', 'occupation_label', 'zip_code_label', 'genre_label']\n",
    "\n",
    "    user_id_input = Input(shape=(1,), name='user_id')\n",
    "    movie_index_input = Input(shape=(1,), name='movie_index')\n",
    "    unix_timestamp_input = Input(shape=(1,), name='unix_timestamp')\n",
    "    sex_input = Input(shape=(1,), name='sex')\n",
    "    occupation_input=Input(shape=(1,), name='occupation')\n",
    "    zip_code_input=Input(shape=(1,), name='zip_code')\n",
    "    genre_input=Input(shape=(1,), name='genre')\n",
    "\n",
    "    # Embeddings\n",
    "    user_embedded = Embedding(data.movie_id.max()+1, embedding_dim, \n",
    "                                       input_length=1, name='user_embedding')(user_id_input)\n",
    "    movie_embedded = Embedding(data.movie_index.max()+1, embedding_dim, \n",
    "                                        input_length=1, name='movie_embedding')(movie_index_input)\n",
    "    unix_timestamp_embedded = Embedding(X_train_label.unix_timestamp_label.max()+1, embedding_dim, \n",
    "                                        input_length=1, name='unix_timestamp_embedding')(unix_timestamp_input)\n",
    "    sex_embedded = Embedding(X_train_label.sex_label.max()+1, embedding_dim, \n",
    "                                        input_length=1, name='sex_embedding')(sex_input)\n",
    "    occupation_embedded= Embedding(X_train_label.occupation_label.max()+1, embedding_dim, \n",
    "                                        input_length=1, name='occupation_embedding')(occupation_input)\n",
    "    zipe_code_embedded = Embedding(X_train_label.zip_code_label.max()+1, embedding_dim, \n",
    "                                        input_length=1, name='zip_code_embedding')(zip_code_input)\n",
    "    genre_embedded = Embedding(X_train_label.genre_label.max()+1, embedding_dim, \n",
    "                                        input_length=1, name='genre_embedding')(genre_input)\n",
    "    # merging the embeddings\n",
    "    embeddings_cols=[user_embedded, movie_embedded,  unix_timestamp_embedded, zipe_code_embedded, occupation_embedded, genre_embedded]\n",
    "\n",
    "    if merging_method=='concatenate':\n",
    "        merged = Concatenate()(embeddings_cols)\n",
    "    if merging_method=='dot_product':\n",
    "        merged =Dot(name = 'dot_product', normalize = True, axes = 2)(embeddings_cols)\n",
    "    if merging_method=='add':\n",
    "        merged =Add()(embeddings_cols)\n",
    "    if merging_method=='substract':\n",
    "        merged=Subtract()(embeddings_cols)\n",
    "    if merging_method=='multiply':\n",
    "        merged=Multiply()(embeddings_cols)\n",
    "    if merging_method=='average':\n",
    "        merged=Average()(embeddings_cols)\n",
    "    out = Flatten()(merged)\n",
    "\n",
    "    # Add one or more hidden layers\n",
    "    for n_hidden in hidden_units:\n",
    "        out = Dense(n_hidden, activation='relu')(out)\n",
    "\n",
    "    # A single output: our predicted rating\n",
    "    out = Dense(1, activation='linear', name='prediction')(out)\n",
    "    model=Model(inputs = [user_id_input, movie_index_input, unix_timestamp_input, sex_input, occupation_input, zip_code_input, genre_input],outputs = out)\n",
    "    model.compile(optimizer = 'Adam',loss='MSE',metrics=['MAE'])\n",
    "    return model"
   ]
  },
  {
   "cell_type": "code",
   "execution_count": 72,
   "metadata": {},
   "outputs": [],
   "source": [
    "hidden_units = (100,50) #same as in pytorch model\n",
    "embedding_dim = 50 #same as in pytorch model\n",
    "es=EarlyStopping(monitor='val_MAE', min_delta=0, patience=0, verbose=0, mode='min', baseline=None, restore_best_weights=False)\n",
    "# col_embedding=['user_id', 'movie_index', 'unix_timestamp', 'sex_label', 'occupation_label', #'zip_code_label', 'genre_label']\n",
    "\n",
    "inputs=[X_train_label.user_id,X_train_label.movie_index,X_train_label.unix_timestamp_label,X_train_label.sex_label, X_train_label.occupation_label, X_train_label.zip_code_label, X_train_label.genre_label]\n",
    "inputs_test=[X_test_label.user_id,X_test_label.movie_index,X_test_label.unix_timestamp_label,X_test_label.sex_label, X_test_label.occupation_label, X_test_label.zip_code_label, X_test_label.genre_label]"
   ]
  },
  {
   "cell_type": "code",
   "execution_count": 73,
   "metadata": {},
   "outputs": [
    {
     "name": "stdout",
     "output_type": "stream",
     "text": "Model: \"model_3\"\n________________________________________________________________________________________\nLayer (type)                 Output Shape       Param #   Connected to                  \n========================================================================================\nuser_id (InputLayer)         (None, 1)          0                                       \n________________________________________________________________________________________\nmovie_index (InputLayer)     (None, 1)          0                                       \n________________________________________________________________________________________\nunix_timestamp (InputLayer)  (None, 1)          0                                       \n________________________________________________________________________________________\nzip_code (InputLayer)        (None, 1)          0                                       \n________________________________________________________________________________________\noccupation (InputLayer)      (None, 1)          0                                       \n________________________________________________________________________________________\ngenre (InputLayer)           (None, 1)          0                                       \n________________________________________________________________________________________\nuser_embedding (Embedding)   (None, 1, 50)      9680500   user_id[0][0]                 \n________________________________________________________________________________________\nmovie_embedding (Embedding)  (None, 1, 50)      486200    movie_index[0][0]             \n________________________________________________________________________________________\nunix_timestamp_embedding (Em (None, 1, 50)      3270550   unix_timestamp[0][0]          \n________________________________________________________________________________________\nzip_code_embedding (Embeddin (None, 1, 50)      27050     zip_code[0][0]                \n________________________________________________________________________________________\noccupation_embedding (Embedd (None, 1, 50)      1050      occupation[0][0]              \n________________________________________________________________________________________\ngenre_embedding (Embedding)  (None, 1, 50)      45800     genre[0][0]                   \n________________________________________________________________________________________\nconcatenate_2 (Concatenate)  (None, 1, 300)     0         user_embedding[0][0]          \n                                                          movie_embedding[0][0]         \n                                                          unix_timestamp_embedding[0][0]\n                                                          zip_code_embedding[0][0]      \n                                                          occupation_embedding[0][0]    \n                                                          genre_embedding[0][0]         \n________________________________________________________________________________________\nflatten_3 (Flatten)          (None, 300)        0         concatenate_2[0][0]           \n________________________________________________________________________________________\ndense_7 (Dense)              (None, 100)        30100     flatten_3[0][0]               \n________________________________________________________________________________________\ndense_8 (Dense)              (None, 50)         5050      dense_7[0][0]                 \n________________________________________________________________________________________\nprediction (Dense)           (None, 1)          51        dense_8[0][0]                 \n========================================================================================\nTotal params: 13,546,351\nTrainable params: 13,546,351\nNon-trainable params: 0\n________________________________________________________________________________________\n"
    }
   ],
   "source": [
    "model_concatenate=embedding_model(hidden_units,embedding_dim, merging_method='concatenate')\n",
    "#model_concatenate.summary(line_length=88)"
   ]
  },
  {
   "cell_type": "code",
   "execution_count": 74,
   "metadata": {},
   "outputs": [
    {
     "name": "stdout",
     "output_type": "stream",
     "text": "Train on 75627 samples, validate on 25209 samples\nEpoch 1/10\n - 59s - loss: 2.7993 - MAE: 1.2041 - val_loss: 0.9161 - val_MAE: 0.7632\nEpoch 2/10\n - 58s - loss: 0.5755 - MAE: 0.5678 - val_loss: 1.2143 - val_MAE: 0.8771\n"
    }
   ],
   "source": [
    "trained_model_concatenate= model_concatenate.fit(x=inputs, y=y_train, batch_size=500,epochs=10, verbose=2, validation_data=[inputs_test,y_test], callbacks=[es])"
   ]
  },
  {
   "cell_type": "code",
   "execution_count": 77,
   "metadata": {},
   "outputs": [
    {
     "name": "stdout",
     "output_type": "stream",
     "text": "Train on 75627 samples, validate on 25209 samples\nEpoch 1/10\n - 57s - loss: 2.5122 - MAE: 1.1424 - val_loss: 0.9363 - val_MAE: 0.7647\nEpoch 2/10\n - 57s - loss: 0.5650 - MAE: 0.5582 - val_loss: 1.0178 - val_MAE: 0.7992\n"
    }
   ],
   "source": [
    "model_add=embedding_model(hidden_units,embedding_dim, merging_method='add')\n",
    "trained_model_add= model_add.fit(x=inputs, y=y_train, batch_size=500,epochs=10, verbose=2, validation_data=[inputs_test,y_test], callbacks=[es])"
   ]
  },
  {
   "cell_type": "code",
   "execution_count": 80,
   "metadata": {},
   "outputs": [
    {
     "name": "stdout",
     "output_type": "stream",
     "text": "Train on 75627 samples, validate on 25209 samples\nEpoch 1/10\n - 59s - loss: 5.3430 - MAE: 1.8775 - val_loss: 1.0830 - val_MAE: 0.8286\nEpoch 2/10\n - 60s - loss: 1.0885 - MAE: 0.8292 - val_loss: 1.0823 - val_MAE: 0.8254\nEpoch 3/10\n - 59s - loss: 1.0887 - MAE: 0.8293 - val_loss: 1.0825 - val_MAE: 0.8262\n"
    }
   ],
   "source": [
    "model_multiply=embedding_model(hidden_units,embedding_dim, merging_method='multiply')\n",
    "trained_model_multiply= model_multiply.fit(x=inputs, y=y_train, batch_size=500,epochs=10, verbose=2, validation_data=[inputs_test,y_test], callbacks=[es])"
   ]
  },
  {
   "cell_type": "code",
   "execution_count": null,
   "metadata": {},
   "outputs": [],
   "source": []
  }
 ]
}